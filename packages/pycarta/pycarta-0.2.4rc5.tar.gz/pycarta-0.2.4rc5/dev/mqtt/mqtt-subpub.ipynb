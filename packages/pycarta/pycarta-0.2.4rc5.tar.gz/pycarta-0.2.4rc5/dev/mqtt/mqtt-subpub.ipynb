{
 "cells": [
  {
   "cell_type": "markdown",
   "metadata": {},
   "source": [
    "# MQTT Subscribe-Publish Testing Environment\n",
    "\n",
    "## INTRODUCTION\n",
    "\n",
    "This notebook demonstrates the functionality of `publish` and `subscribe` using:\n",
    "- Local Mosquitto MQTT broker\n",
    "- The `publish` decorator to send messages in **synchronous** mode\n",
    "- The `subscribe` decorator to process messages in **synchronous** mode\n",
    "\n",
    "Currently, `async_publish` and `async_subscribe` are also implemented, but **not thoroughly tested**.\n",
    "\n",
    "### Prerequisites\n",
    "1. Ensure Mosquitto is installed and running:\n",
    "   ```bash\n",
    "   brew install mosquitto\n",
    "   mosquitto\n",
    "   ```\n",
    "2. Ensure `pycarta` is installed in editable mode (`pip install -e .`) from the root directory of the project.\n",
    "3. A mosquitto subscriber can be set up as follows for testing purposes:\n",
    "   ```bash\n",
    "   mosquitto_sub -t test\n",
    "   ```"
   ]
  },
  {
   "cell_type": "markdown",
   "metadata": {},
   "source": [
    "---\n",
    "## SECTION 1: Synchronous Mode"
   ]
  },
  {
   "cell_type": "code",
   "execution_count": null,
   "metadata": {},
   "outputs": [],
   "source": [
    "import logging\n",
    "import os\n",
    "from dotenv import load_dotenv\n",
    "logging.basicConfig(\n",
    "    level=logging.DEBUG, \n",
    "    format='%(asctime)s - %(levelname)s - %(message)s'\n",
    ")\n",
    "load_dotenv(override=True)\n",
    "print(f\"POLLING_TIMEOUT: {os.getenv('POLLING_TIMEOUT')}\")\n",
    "print(f\"POLLING_INTERVAL: {os.getenv('POLLING_INTERVAL')}\")\n"
   ]
  },
  {
   "cell_type": "markdown",
   "metadata": {},
   "source": [
    "### Example 1.1: Publish Results of a Function\n",
    "This example demonstrates publishing results to a topic using the `publish` decorator."
   ]
  },
  {
   "cell_type": "code",
   "execution_count": null,
   "metadata": {},
   "outputs": [],
   "source": [
    "import time\n",
    "from pycarta.mqtt.publisher import publish\n",
    "from pycarta.mqtt.subscriber import subscribe\n",
    "\n",
    "# Use the publish decorator on a simple function\n",
    "@publish(\"test\")\n",
    "def add(lhs, rhs):\n",
    "    return lhs + rhs"
   ]
  },
  {
   "cell_type": "code",
   "execution_count": null,
   "metadata": {},
   "outputs": [],
   "source": [
    "# Publish results\n",
    "add(12, 34)  # Publishes 46"
   ]
  },
  {
   "cell_type": "code",
   "execution_count": 4,
   "metadata": {},
   "outputs": [],
   "source": [
    "# Clean up\n",
    "del add"
   ]
  },
  {
   "cell_type": "markdown",
   "metadata": {},
   "source": [
    "### Example 1.2: Subscribe to a Topic and Process Messages\n",
    "This example demonstrates subscribing to the topic and processing messages using the `subscribe` decorator."
   ]
  },
  {
   "cell_type": "code",
   "execution_count": null,
   "metadata": {},
   "outputs": [],
   "source": [
    "@subscribe(\"test\")\n",
    "def double(x):\n",
    "    return x * 2\n",
    "\n",
    "# Single message processing (simulate publisher: mosquitto_pub -t test -m 25)\n",
    "# The subscriber will stop if:\n",
    "# 1. Receive a published message\n",
    "# 2. Timeout (TimeoutException after certain amount of time)\n",
    "# 3. Canceled (KeyboardInterrupt)\n",
    "double()"
   ]
  },
  {
   "cell_type": "markdown",
   "metadata": {},
   "source": [
    "### Example 1.3: Subscribe and Process Multiple Messages\n",
    "This example shows how to process multiple messages until a `KeyboardInterrupt` or polling timeout occurs."
   ]
  },
  {
   "cell_type": "code",
   "execution_count": null,
   "metadata": {},
   "outputs": [],
   "source": [
    "# Process messages until KeyboardInterrupt or timeout (default: 30 seconds)\n",
    "[x for x in double]"
   ]
  },
  {
   "cell_type": "markdown",
   "metadata": {},
   "source": [
    "#"
   ]
  },
  {
   "cell_type": "markdown",
   "metadata": {},
   "source": [
    "---\n",
    "## SECTION 2: Asynchronous Mode"
   ]
  },
  {
   "cell_type": "code",
   "execution_count": null,
   "metadata": {},
   "outputs": [],
   "source": [
    "import logging\n",
    "import os\n",
    "from dotenv import load_dotenv\n",
    "logging.basicConfig(\n",
    "    level=logging.DEBUG, \n",
    "    format='%(asctime)s - %(levelname)s - %(message)s'\n",
    ")\n",
    "load_dotenv(override=True)\n",
    "print(f\"POLLING_TIMEOUT: {os.getenv('POLLING_TIMEOUT')}\")\n",
    "print(f\"POLLING_INTERVAL: {os.getenv('POLLING_INTERVAL')}\")"
   ]
  },
  {
   "cell_type": "code",
   "execution_count": 8,
   "metadata": {},
   "outputs": [],
   "source": [
    "import asyncio\n",
    "from pycarta.mqtt.publisher import async_publish\n",
    "from pycarta.mqtt.subscriber import async_subscribe\n",
    "\n",
    "# Define the asynchronous publisher and subscriber functions\n",
    "@async_publish(\"test\")\n",
    "async def add(lhs, rhs):\n",
    "    return lhs + rhs\n",
    "\n",
    "# Define the asynchronous subscriber function to yield\n",
    "@async_subscribe(\"test\")\n",
    "async def double(x):\n",
    "    return x * 2"
   ]
  },
  {
   "cell_type": "code",
   "execution_count": null,
   "metadata": {},
   "outputs": [],
   "source": [
    "# Start the subscriber asynchronously in the background.\n",
    "# The subscriber will stop if:\n",
    "# 1. Receive a published message\n",
    "# 2. Timeout\n",
    "# 3. Canceled (see below)\n",
    "subscriber_task = asyncio.create_task(double())"
   ]
  },
  {
   "cell_type": "code",
   "execution_count": null,
   "metadata": {},
   "outputs": [],
   "source": [
    "# Stop the subscriber\n",
    "# Case 1: While the subscriber is running, you can stop it by cancelling the task, you will receive a returned value of `True`\n",
    "# Case 2: While the subscriber is not running, you will receive a returned value of `False`\n",
    "subscriber_task.cancel()"
   ]
  },
  {
   "cell_type": "code",
   "execution_count": null,
   "metadata": {},
   "outputs": [],
   "source": [
    "# This will actually run the asynchronous publisher in synchronous mode in JN\n",
    "await double()"
   ]
  },
  {
   "cell_type": "code",
   "execution_count": null,
   "metadata": {},
   "outputs": [],
   "source": [
    "# This will run the asynchronous publisher in non-blocking mode in JN\n",
    "[message async for message in double]"
   ]
  },
  {
   "cell_type": "markdown",
   "metadata": {},
   "source": [
    "### Example 2.1: Asynchronous Calculation Publish and Subscribe\n",
    "\n",
    "#### Overview\n",
    "This script demonstrates an asynchronous MQTT-based publish and subscribe system for simple calculations, leveraging Python's `asyncio` for efficient, non-blocking execution.\n",
    "\n",
    "#### Process\n",
    "- **Publish**:\n",
    "  - Asynchronously calculates the sum of two numbers.\n",
    "  - Publishes the result to the MQTT topic `test`.\n",
    "  - Sends multiple messages sequentially with a delay between each.\n",
    "\n",
    "- **Subscribe**:\n",
    "  - Asynchronously listens to the `test` topic for incoming messages.\n",
    "  - Processes each message by doubling its value and printing the result.\n",
    "  - Stops automatically when a processed value exceeds 20, demonstrating event-driven control.\n"
   ]
  },
  {
   "cell_type": "code",
   "execution_count": null,
   "metadata": {},
   "outputs": [],
   "source": [
    "import asyncio\n",
    "from pycarta.mqtt.publisher import async_publish\n",
    "from pycarta.mqtt.subscriber import async_subscribe\n",
    "\n",
    "# Define the asynchronous publisher and subscriber functions\n",
    "@async_publish(\"test\")\n",
    "async def add(lhs, rhs):\n",
    "    return lhs + rhs\n",
    "\n",
    "# Define the asynchronous subscriber function to yield\n",
    "@async_subscribe(\"test\")\n",
    "async def double(x):\n",
    "    print(f\"[Subscriber] Received message: {x}\")\n",
    "    result = int(x) * 2\n",
    "    print(f\"[Subscriber] Doubled value: {result}\")\n",
    "    return result\n",
    "\n",
    "async def main():\n",
    "    print(\"[Main] Starting MQTT subscription to 'test' topic...\")\n",
    "    \n",
    "    # Initialize a list to store received messages\n",
    "    received_messages = []\n",
    "    \n",
    "    # Start the publisher as a background task\n",
    "    publisher_task = asyncio.create_task(publish_messages())\n",
    "    print(\"[Main] Publisher task started in the background. Subscriber will process the delayed incoming messages.\")\n",
    "    \n",
    "    # Process incoming messages from the subscriber using async for\n",
    "    async for message in double:\n",
    "        if message is not None:\n",
    "            print(f\"[Main] Processed message result: {message}\")\n",
    "            # Append each received message to the list\n",
    "            received_messages.append(message)\n",
    "            # Exit condition for demonstration purposes\n",
    "            if message > 20:\n",
    "                print(\"[Main] Received a message greater than 20. Exiting.\")\n",
    "                break\n",
    "    \n",
    "    # Await the publisher task to ensure all messages are published\n",
    "    await publisher_task\n",
    "    \n",
    "    print(\"[Main] Subscription ended.\")\n",
    "    \n",
    "    # Access the list of received messages after exiting the loop\n",
    "    print(f\"[Main] All received messages: {received_messages}\")\n",
    "\n",
    "async def publish_messages():\n",
    "    # List of values to publish\n",
    "    test_values = [0, 5, 10, 15, 20]\n",
    "    \n",
    "    # Publish messages sequentially\n",
    "    for value in test_values:\n",
    "        await add(value, value)  # For example, publish lhs + rhs\n",
    "        await asyncio.sleep(3)   # Short delay between publishes\n",
    "    \n",
    "    print(\"[Publisher] Published all messages.\")\n",
    "\n",
    "# Execute the main coroutine\n",
    "await main()"
   ]
  },
  {
   "cell_type": "code",
   "execution_count": null,
   "metadata": {},
   "outputs": [],
   "source": [
    "# NOTE: If you run the previous cell, any message published after the subscriber is stopped will remain unprocessed in the queue. As a result, when the subscriber is resumed, the stale messages will still be processed. For example, if the subscriber processes numbers and the previously processed results are [60, 80, 2, 4, 6], newly published numbers 1, 2, 3 in separate publishing events would unexpectedly append their processed results to the old results, leading to [60, 80, 2, 4, 6] instead of the expected [2, 4, 6].\n",
    "\n",
    "# To address this issue, you must clear the queue explicitly using one of the following approaches before resuming or stopping the subscriber:\n",
    "\n",
    "# 1. Clear the queue explicitly:\n",
    "await double.clear_queue()\n",
    "\n",
    "# 2. Disconnect the subscriber and clear the queue simultaneously:\n",
    "# await double.disconnect_async(clear_queue=True)\n",
    "\n",
    "# Simply disconnecting the subscriber without clearing the queue will not remove the residual messages, and they will persist:\n",
    "# await double.disconnect_async()\n",
    "\n",
    "# To confirm the contents of the queue at any point, you can inspect it directly:\n",
    "list(double.result_queue._queue)"
   ]
  },
  {
   "cell_type": "code",
   "execution_count": null,
   "metadata": {},
   "outputs": [],
   "source": [
    "# After running the cleanup method, the result queue should be empty before new subscriber is launched, and the result should be [2, 4, 6] as expected now.\n",
    "await double()\n",
    "# [message async for message in double]"
   ]
  },
  {
   "cell_type": "markdown",
   "metadata": {},
   "source": [
    "### Example 2.2: Asynchronous Sensor Monitoring and Control\n",
    "\n",
    "#### Overview\n",
    "This script demonstrates an asynchronous MQTT-based system for monitoring sensor values and triggering control actions based on predefined thresholds.\n",
    "\n",
    "#### Process\n",
    "- **Publish**:\n",
    "  - Sends simulated sensor values to the MQTT topic **`machine/sensor`**.\n",
    "  - Calculates and publishes the sum of two numbers as the sensor value.\n",
    "  - Provides error (`STOP`) or no-error (`CONTINUE`) status messages based on thresholds.\n",
    "\n",
    "- **Subscribe**:\n",
    "  - Listens to the **`machine/sensor`** topic for sensor values.\n",
    "  - Processes incoming messages and evaluates them against defined thresholds.\n",
    "  - Publishes a **`STOP`** action if the value is out of bounds, halting further processing.\n",
    "  - Publishes a **`CONTINUE`** action if the value is within bounds, allowing normal operation.\n",
    "\n",
    "- **Main**:\n",
    "  - Manages asynchronous publishing and subscribing with `asyncio`.\n",
    "  - Ensures sensor values are monitored in real-time and appropriate control actions are taken.\n",
    "  - Ends the subscription after an out-of-bound value triggers a **`STOP`** action.\n",
    "  "
   ]
  },
  {
   "cell_type": "code",
   "execution_count": null,
   "metadata": {},
   "outputs": [],
   "source": [
    "import asyncio\n",
    "import json\n",
    "from pycarta.mqtt.publisher import async_publish\n",
    "from pycarta.mqtt.subscriber import async_subscribe\n",
    "\n",
    "# Define expected value and variance\n",
    "mu = 12.34\n",
    "sigma = 3.45\n",
    "lower_bound, upper_bound = (mu - 2.0 * sigma, mu + 2.0 * sigma)\n",
    "\n",
    "# Define the asynchronous publisher functions\n",
    "@async_publish(topic=\"machine/sensor\")\n",
    "async def add(lhs, rhs):\n",
    "    return lhs + rhs\n",
    "\n",
    "@async_publish(topic=\"machine/sensor\")\n",
    "async def on_error():\n",
    "    return \"STOP\"\n",
    "\n",
    "@async_publish(topic=\"machine/sensor\")\n",
    "async def no_error():\n",
    "    return \"CONTINUE\"\n",
    "\n",
    "# Define the asynchronous subscriber function to yield sensor value\n",
    "@async_subscribe(\"machine/sensor\")\n",
    "async def get_sensor_value(x):\n",
    "    return x\n",
    "\n",
    "# Define the main coroutine\n",
    "async def main():\n",
    "    print(\"[Main] Starting MQTT subscription to 'machine/sensor' topic...\")\n",
    "    \n",
    "    # Initialize a list to store received messages\n",
    "    received_messages = []\n",
    "    \n",
    "    # Start the publisher as a background task\n",
    "    publisher_task = asyncio.create_task(publish_messages())\n",
    "    print(\"[Main] Publisher task started in the background. Subscriber will process the incoming messages.\")\n",
    "    \n",
    "    # Process incoming messages from the subscriber using async for\n",
    "    async for x in get_sensor_value:\n",
    "        if x is not None:\n",
    "            print(f\"[Main] Received sensor value: {x}\")\n",
    "            \n",
    "            # Check if x can be converted to a number\n",
    "            try:\n",
    "                x_float = float(x)\n",
    "                received_messages.append(x)  # Append each received message to the list\n",
    "            except ValueError:\n",
    "                print(f\"[Main] Received non-numeric sensor value: {x}. Ignoring.\")\n",
    "                continue\n",
    "\n",
    "            # Check error condition\n",
    "            if not lower_bound < x < upper_bound:\n",
    "                await on_error()\n",
    "                print(f\"[Main] Published 'STOP' action: value out of bounds [{lower_bound:.2f}, {upper_bound:.2f}]. \")\n",
    "                break\n",
    "            else:\n",
    "                await no_error()\n",
    "                print(\"[Main] Published 'CONTINUE' action.\")\n",
    "    \n",
    "    # Await the publisher task to ensure all messages are published\n",
    "    await publisher_task\n",
    "    \n",
    "    print(\"[Main] Subscription ended.\")\n",
    "    \n",
    "    # Access the list of received messages after exiting the loop\n",
    "    print(f\"[Main] All received messages: {received_messages}\")\n",
    "\n",
    "# Define the publisher coroutine\n",
    "async def publish_messages():\n",
    "    # List of values to publish\n",
    "    test_values = [7, 9, 11, 13]\n",
    "    \n",
    "    # Publish messages sequentially with a 3-second delay between publishes\n",
    "    for value in test_values:\n",
    "        result = value + value  # Example: publish lhs + rhs (e.g., 5 + 5 = 10)\n",
    "        await add(value, value)  # Publish the result to 'machine/sensor'\n",
    "        print(f\"[Publisher] Published sensor value: {result}\")\n",
    "        await asyncio.sleep(3)   # Short delay between publishes\n",
    "    \n",
    "    print(\"[Publisher] Published all messages.\")\n",
    "\n",
    "# Execute the main coroutine\n",
    "await main()\n"
   ]
  }
 ],
 "metadata": {
  "kernelspec": {
   "display_name": "venv",
   "language": "python",
   "name": "python3"
  },
  "language_info": {
   "codemirror_mode": {
    "name": "ipython",
    "version": 3
   },
   "file_extension": ".py",
   "mimetype": "text/x-python",
   "name": "python",
   "nbconvert_exporter": "python",
   "pygments_lexer": "ipython3",
   "version": "3.12.8"
  }
 },
 "nbformat": 4,
 "nbformat_minor": 4
}
