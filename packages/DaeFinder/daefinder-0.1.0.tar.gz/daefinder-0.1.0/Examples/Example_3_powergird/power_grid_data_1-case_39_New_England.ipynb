{
 "cells": [
  {
   "cell_type": "markdown",
   "id": "1abe5c50-a144-4b8b-a7b6-a718718221e2",
   "metadata": {},
   "source": [
    "# Power grid example case 39: New England\n"
   ]
  },
  {
   "cell_type": "markdown",
   "id": "c5d327e2-72e2-40a0-80ca-ca6e4a2e172e",
   "metadata": {},
   "source": [
    "$\\Gamma = 0$,\n",
    "\n",
    "__case-39 New England__\n",
    "\n",
    "Node configuration: 10 Generators + 10 Terminals + 29 Loads\n",
    "\n",
    "Perburbations = large\n",
    "\n",
    "Splitting time-series according to perturbation points"
   ]
  },
  {
   "cell_type": "markdown",
   "id": "eabf5e9f-06fd-4cbd-b993-9575b851952b",
   "metadata": {},
   "source": [
    "$\\Gamma = 0$,\n",
    "\n",
    "Perburbations = large\n",
    "\n",
    "Splitting time-series according to perturbation points"
   ]
  },
  {
   "cell_type": "code",
   "execution_count": 1,
   "id": "2f352add-6385-4885-8a9e-6d29c23137db",
   "metadata": {
    "ExecuteTime": {
     "end_time": "2024-05-30T22:31:49.014891Z",
     "start_time": "2024-05-30T22:31:48.570618Z"
    }
   },
   "source": [
    "import numpy as np\n",
    "from scipy.integrate import odeint\n",
    "import pandas as pd\n",
    "import warnings\n",
    "pd.set_option('display.float_format', '{:0.8f}'.format)\n",
    "import operator\n",
    "\n",
    "import numpy as np\n",
    "import matplotlib.pyplot as plt\n",
    "from scipy.integrate import solve_ivp\n",
    "from scipy.sparse import coo_array\n",
    "\n",
    "from os import path"
   ],
   "outputs": []
  },
  {
   "cell_type": "markdown",
   "id": "c323906f-ab1b-4b2d-b62c-361ca68e2d03",
   "metadata": {},
   "source": [
    "## Loading data"
   ]
  },
  {
   "cell_type": "code",
   "execution_count": 2,
   "id": "1b39a748-9771-4ddb-856f-12774aa62b29",
   "metadata": {},
   "source": [
    "folder_name = \"case_39bus10gen_newengland\"\n",
    "folder_location = path.join(\"powergrid\",\"Datasets\", folder_name)"
   ],
   "outputs": []
  },
  {
   "cell_type": "markdown",
   "id": "f62191c6-5c17-486d-8149-c2ed8654e496",
   "metadata": {},
   "source": [
    "#### Reading time series data and skipping rows to sub sample"
   ]
  },
  {
   "cell_type": "code",
   "execution_count": 3,
   "id": "0713be27-3217-4d8f-bb57-4bfd3a8042b1",
   "metadata": {
    "ExecuteTime": {
     "end_time": "2024-05-30T22:31:49.964639Z",
     "start_time": "2024-05-30T22:31:49.962899Z"
    }
   },
   "source": [
    "# #Trimming original time series to reduce the number of data points\n",
    "# data_matrix_df_orig = pd.read_csv(path.join(folder_location, \"{}_timeseries.csv\".format(folder_name)))\n",
    "# skip_n_rows_btw = 100\n",
    "# rows_to_keep = np.arange(0, len(data_matrix_df_orig), skip_n_rows_btw)\n",
    "\n",
    "# data_matrix_df = data_matrix_df_orig.iloc[rows_to_keep].reset_index(drop=True)\n",
    "\n",
    "# data_matrix_df.to_csv(path.join(folder_location, \"{}_trimmed_time_series.csv\".format(folder_name)), index=False)"
   ],
   "outputs": []
  },
  {
   "cell_type": "code",
   "execution_count": 4,
   "id": "65d80870-445b-4526-b93c-a3445cb3c40a",
   "metadata": {},
   "source": [
    "data_matrix_df = pd.read_csv(path.join(folder_location, \"{}_trimmed_time_series.csv\".format(folder_name)))"
   ],
   "outputs": []
  },
  {
   "cell_type": "code",
   "execution_count": 5,
   "id": "e7808cae-7e9f-4473-9c8b-443e3537189f",
   "metadata": {},
   "source": [
    "data_matrix_df"
   ],
   "outputs": []
  },
  {
   "cell_type": "code",
   "execution_count": 6,
   "id": "f9cbb662-e7c5-4ff7-97dd-239cb49093c1",
   "metadata": {},
   "source": [
    "def get_node_index(label):\n",
    "    if len(label) >0 and label[-1].isnumeric():\n",
    "        return get_node_index(label[:-1]) + label[-1]\n",
    "    else:\n",
    "        return \"\"\n",
    "\n",
    "def node_label_changer(column_label):\n",
    "    node_index = get_node_index(column_label)\n",
    "    if \"PhaseGenTerm\" in column_label:\n",
    "        new_label = \"Phi_T_{}\".format(node_index)\n",
    "    elif \"PhaseGen\" in column_label:\n",
    "        new_label = \"Phi_G_{}\".format(node_index)\n",
    "    elif \"PhaseLoad\" in column_label:\n",
    "        new_label = \"Phi_L_{}\".format(node_index)\n",
    "    elif \"FreqGenTerm\" in column_label:\n",
    "        new_label = \"om_T_{}\".format(node_index)\n",
    "    elif \"FreqGen\" in column_label:\n",
    "        new_label = \"om_G_{}\".format(node_index)\n",
    "    elif \"FreqLoad\" in column_label:\n",
    "        new_label = \"om_L_{}\".format(node_index)\n",
    "    elif \"ActivePowerGenTerm\" in column_label:\n",
    "        new_label = \"P_T_{}\".format(node_index)\n",
    "    elif \"ActivePowerGen\" in column_label:\n",
    "        new_label = \"P_G_{}\".format(node_index)\n",
    "    elif \"ActivePowerLoad\" in column_label:\n",
    "        new_label = \"P_L_{}\".format(node_index)\n",
    "    elif \"ReactivePowerGenTerm\" in column_label:\n",
    "        new_label = \"Q_T_{}\".format(node_index)\n",
    "    elif \"ReactivePowerGen\" in column_label:\n",
    "        new_label = \"Q_G_{}\".format(node_index)\n",
    "    elif \"ReactivePowerLoad\" in column_label:\n",
    "        new_label = \"Q_L_{}\".format(node_index)\n",
    "    else:\n",
    "        new_label = column_label\n",
    "    return new_label"
   ],
   "outputs": []
  },
  {
   "cell_type": "code",
   "execution_count": 7,
   "id": "ddaa8da3-45f7-4ee6-8bb6-bbea9ac00ffb",
   "metadata": {
    "scrolled": true
   },
   "source": [
    "column_label_dict = {column: node_label_changer(column) for column in data_matrix_df.columns}\n",
    "column_label_dict"
   ],
   "outputs": []
  },
  {
   "cell_type": "code",
   "execution_count": 8,
   "id": "e15bd61b-1676-4164-b2b4-5392fbeede8a",
   "metadata": {
    "ExecuteTime": {
     "end_time": "2024-05-30T22:31:50.447131Z",
     "start_time": "2024-05-30T22:31:50.444874Z"
    }
   },
   "source": [
    "# new_column_names = [\"time\", \"Phi_0\", \"Phi_1\", \"Phi_2\", \"Phi_3\", \"Phi_4\", \"Phi_5\",\n",
    "#                    \"om_0\", \"om_1\", \"om_2\", \"om_3\",\"om_4\", \"om_5\", \"P_0\", \"P_1\", \"P_2\", \"P_3\", \"P_4\", \"P_5\",\n",
    "#                    \"Q_0\", \"Q_1\", \"Q_2\", \"Q_3\", \"Q_4\", \"Q_5\"]\n",
    "\n",
    "#Renaming the state variables for compactness\n",
    "data_matrix_df.rename(columns= column_label_dict, inplace=True)"
   ],
   "outputs": []
  },
  {
   "cell_type": "code",
   "execution_count": 9,
   "id": "9839e044-1698-4a26-ba1e-95b06984dc4e",
   "metadata": {},
   "source": [
    "power_features = [feature for feature in data_matrix_df.columns if \"P_\" in feature]\n",
    "freq_features = [feature for feature in data_matrix_df.columns if \"om_\" in feature]\n",
    "phase_features = [feature for feature in data_matrix_df.columns if \"Phi_\" in feature]\n",
    "\n",
    "K_features = [feature[2:] for feature in power_features]"
   ],
   "outputs": []
  },
  {
   "cell_type": "code",
   "execution_count": 10,
   "id": "4388b675-0df5-4841-9e86-b95e7b0d5251",
   "metadata": {},
   "source": [
    "#Removing Reactive power from the timeseries they are not needed for fitting \n",
    "non_reactive_columns = [column for column in data_matrix_df.columns if \"Q\" not in column]\n",
    "\n",
    "data_matrix_df = data_matrix_df[non_reactive_columns]"
   ],
   "outputs": []
  },
  {
   "cell_type": "code",
   "execution_count": 11,
   "id": "e989a098-dd2d-4835-baa5-162598a678d5",
   "metadata": {
    "ExecuteTime": {
     "end_time": "2024-05-30T22:31:50.887374Z",
     "start_time": "2024-05-30T22:31:50.882078Z"
    }
   },
   "source": [
    "data_matrix_df"
   ],
   "outputs": []
  },
  {
   "cell_type": "code",
   "execution_count": 12,
   "id": "1c96bf78-88f5-4469-934e-636c093df268",
   "metadata": {},
   "source": [
    "final_time = 20"
   ],
   "outputs": []
  },
  {
   "cell_type": "code",
   "execution_count": 13,
   "id": "4cfbdc40-1b22-4ddc-ad72-d41057baf4af",
   "metadata": {},
   "source": [
    "data_matrix_df = data_matrix_df[data_matrix_df[\"time\"] <= final_time]"
   ],
   "outputs": []
  },
  {
   "cell_type": "code",
   "execution_count": 14,
   "id": "594386b5-ce7a-4b67-b113-110bd1e4ba63",
   "metadata": {
    "scrolled": true
   },
   "source": [
    "data_matrix_df[phase_features].plot()"
   ],
   "outputs": []
  },
  {
   "cell_type": "code",
   "execution_count": 15,
   "id": "8b2b368c-6977-4148-aaee-d58769f1c54a",
   "metadata": {},
   "source": [
    "data_matrix_df"
   ],
   "outputs": []
  },
  {
   "cell_type": "code",
   "execution_count": 16,
   "id": "7cbdf708-7e9d-4bc5-b836-0f40e3fcb6e8",
   "metadata": {},
   "source": [
    "data_matrix_df[power_features].sum(axis=1).plot()"
   ],
   "outputs": []
  },
  {
   "cell_type": "markdown",
   "id": "7b1497d2-b440-4e11-a09d-daa20dafef2a",
   "metadata": {},
   "source": [
    "### Reading gamma values "
   ]
  },
  {
   "cell_type": "code",
   "execution_count": 17,
   "id": "1153bb86-8ebf-479c-ab3a-58398f3c2ef4",
   "metadata": {
    "ExecuteTime": {
     "end_time": "2024-05-30T22:31:49.153647Z",
     "start_time": "2024-05-30T22:31:49.150654Z"
    }
   },
   "source": [
    "gamma_df = pd.read_csv(path.join(folder_location, \"{}_gamma.csv\".format(folder_name)), names=K_features)"
   ],
   "outputs": []
  },
  {
   "cell_type": "code",
   "execution_count": 18,
   "id": "fc2dc60a-d4f8-4ea7-9e66-6df83692d8d0",
   "metadata": {
    "ExecuteTime": {
     "end_time": "2024-05-30T22:31:49.420792Z",
     "start_time": "2024-05-30T22:31:49.415082Z"
    }
   },
   "source": [
    "gamma_df"
   ],
   "outputs": []
  },
  {
   "cell_type": "markdown",
   "id": "69ed3553-0ca5-4d7a-84c9-bc409fea966c",
   "metadata": {},
   "source": [
    "### Splitting the time-series with respect to the perturbation points"
   ]
  },
  {
   "cell_type": "code",
   "execution_count": 19,
   "id": "a0d32bb3-0779-448c-a306-bf2c88dfb9f4",
   "metadata": {},
   "source": [
    "#Getting perturbations time points\n",
    "perturbation_points_df = pd.read_csv(path.join(folder_location, \"{}_timepoints.csv\".format(folder_name)))\n",
    "\n",
    "perturbation_points_df = perturbation_points_df[perturbation_points_df[\"Perturbation timepoints\"] <= final_time]"
   ],
   "outputs": []
  },
  {
   "cell_type": "code",
   "execution_count": 20,
   "id": "d82fdc71-6a05-4747-951d-6c66c239f57b",
   "metadata": {},
   "source": [
    "perturbation_time_point_list = perturbation_points_df[\"Perturbation timepoints\"]\n",
    "# perturbation_time_point_list"
   ],
   "outputs": []
  },
  {
   "cell_type": "code",
   "execution_count": 21,
   "id": "1bf37e0a-2601-448c-a4a6-eafc79d050ec",
   "metadata": {},
   "source": [
    "perturbation_time_point_list"
   ],
   "outputs": []
  },
  {
   "cell_type": "code",
   "execution_count": 22,
   "id": "9316366b-c754-4311-b2e6-aaf09c75f317",
   "metadata": {},
   "source": [
    "#Splitting the data_matrix with the timeseries into a list of timeseries dataframes based on where the perturbation is introduced\n",
    "#The purpose of this step is to smoothen each of perturbation segment independently using splines and find the derivaties\n",
    "#This will avoid jumps in the derivative due to the discontinuity at the perturbanc time point\n",
    "\n",
    "data_matrix_df_list =[data_matrix_df[(ind_i < data_matrix_df[\"time\"]) & (data_matrix_df[\"time\"] < ind_j) ] \n",
    "                       for ind_i, ind_j in zip(perturbation_time_point_list[:-1], perturbation_time_point_list[1:])]\n",
    "\n",
    "\n",
    "data_matrix_df_appended = pd.concat(data_matrix_df_list, ignore_index=True)\n",
    "\n",
    "data_matrix_df_appended"
   ],
   "outputs": []
  },
  {
   "cell_type": "markdown",
   "id": "c606f395-3002-4f8b-b44c-ba99519c07da",
   "metadata": {},
   "source": [
    "#### Loading admittance matrix, Y"
   ]
  },
  {
   "cell_type": "code",
   "execution_count": 23,
   "id": "ec506723-7da2-46ee-86ee-203e439e6fc7",
   "metadata": {
    "ExecuteTime": {
     "end_time": "2024-05-30T22:31:51.471174Z",
     "start_time": "2024-05-30T22:31:51.467172Z"
    }
   },
   "source": [
    "admittance_Y_df = pd.read_csv(path.join(folder_location, \"{}_Y.csv\".format(folder_name)), names=K_features)\n",
    "admittance_Y_df.set_index(pd.Index(K_features), inplace=True)\n",
    "for column in admittance_Y_df.columns:\n",
    "    admittance_Y_df[column] = admittance_Y_df[column].apply(lambda x: x.replace('i', 'j'))"
   ],
   "outputs": []
  },
  {
   "cell_type": "code",
   "execution_count": 24,
   "id": "cc827ee4-4571-4ede-903a-87ab46bb51f5",
   "metadata": {
    "ExecuteTime": {
     "end_time": "2024-05-30T22:31:51.777250Z",
     "start_time": "2024-05-30T22:31:51.773600Z"
    },
    "scrolled": true
   },
   "source": [
    "admittance_Y_df"
   ],
   "outputs": []
  },
  {
   "cell_type": "markdown",
   "id": "12d5f012-c31e-4cf2-a518-a17bfbb34689",
   "metadata": {},
   "source": [
    "#### Loading static parameters"
   ]
  },
  {
   "cell_type": "code",
   "execution_count": 25,
   "id": "625b67d4-3372-48d3-b16e-204372fbd547",
   "metadata": {
    "ExecuteTime": {
     "end_time": "2024-05-30T22:31:55.658106Z",
     "start_time": "2024-05-30T22:31:55.655099Z"
    }
   },
   "source": [
    "static_param_df = pd.read_csv(path.join(folder_location, \"{}_staticparams.csv\".format(folder_name)))"
   ],
   "outputs": []
  },
  {
   "cell_type": "code",
   "execution_count": 26,
   "id": "08ecfcb6-d166-4fa9-97d1-27c3a69fb2ee",
   "metadata": {
    "ExecuteTime": {
     "end_time": "2024-05-30T22:31:55.937733Z",
     "start_time": "2024-05-30T22:31:55.934524Z"
    },
    "scrolled": true
   },
   "source": [
    "static_param_df"
   ],
   "outputs": []
  },
  {
   "cell_type": "markdown",
   "id": "72c4ce9d-c681-44c6-b885-cf0a2542dd98",
   "metadata": {},
   "source": [
    "#### Loading coupling matrix, K"
   ]
  },
  {
   "cell_type": "code",
   "execution_count": 27,
   "id": "0c4032f8-283c-4a7a-bd52-d16f452b0145",
   "metadata": {
    "ExecuteTime": {
     "end_time": "2024-05-30T22:31:56.295085Z",
     "start_time": "2024-05-30T22:31:56.292230Z"
    }
   },
   "source": [
    "coupling_K_df = pd.read_csv(path.join(folder_location, \"{}_K.csv\".format(folder_name)), names=K_features)\n",
    "coupling_K_df.set_index(pd.Index(K_features), inplace=True)"
   ],
   "outputs": []
  },
  {
   "cell_type": "code",
   "execution_count": 28,
   "id": "67088f1d-e806-4e40-bd72-30dba405b9b9",
   "metadata": {
    "ExecuteTime": {
     "end_time": "2024-05-30T22:31:59.092352Z",
     "start_time": "2024-05-30T22:31:59.088198Z"
    },
    "scrolled": true
   },
   "source": [
    "coupling_K_df"
   ],
   "outputs": []
  },
  {
   "cell_type": "code",
   "execution_count": 29,
   "id": "d489a169-502b-4fa4-86a1-f44dfaa7a500",
   "metadata": {},
   "source": [
    "coupling_matrix_true = coupling_K_df .to_numpy()\n",
    "coupling_matrix_true"
   ],
   "outputs": []
  },
  {
   "cell_type": "markdown",
   "id": "babb38d5-94cd-447b-a64a-5ef4119ee20e",
   "metadata": {},
   "source": [
    "## Forming candidate library for powersystems"
   ]
  },
  {
   "cell_type": "code",
   "execution_count": 30,
   "id": "70022649-a469-45e9-8f7b-ce591f99df9d",
   "metadata": {
    "ExecuteTime": {
     "end_time": "2024-05-30T22:31:59.815472Z",
     "start_time": "2024-05-30T22:31:59.812024Z"
    }
   },
   "source": [
    "gamma_df"
   ],
   "outputs": []
  },
  {
   "cell_type": "code",
   "execution_count": 31,
   "id": "b59a4e39-9793-4229-9f0a-e8df90f21a6b",
   "metadata": {
    "ExecuteTime": {
     "end_time": "2024-05-30T22:32:00.086926Z",
     "start_time": "2024-05-30T22:32:00.084304Z"
    }
   },
   "source": [
    "gamma_matrix = gamma_df.to_numpy()\n",
    "admittance_Y_matrix = admittance_Y_df.to_numpy()\n",
    "\n",
    "gamma_matrix"
   ],
   "outputs": []
  },
  {
   "cell_type": "code",
   "execution_count": 32,
   "id": "0cb182e2-72e3-4220-bcab-088b1788f957",
   "metadata": {
    "ExecuteTime": {
     "end_time": "2024-05-30T22:32:00.279271Z",
     "start_time": "2024-05-30T22:32:00.274523Z"
    }
   },
   "source": [
    "coupling_matrix_init = np.ones(admittance_Y_matrix.shape)\n",
    "# coupling_matrix_init = np.zeros(admittance_Y_matrix.shape)\n",
    "# coupling_matrix_init[3,:] = 1\n",
    "\n",
    "coupling_matrix_init = np.triu(coupling_matrix_init, 0)\n",
    "coupling_matrix_init\n",
    "sparse_coupling_matrix_init = coo_array(coupling_matrix_init)\n",
    "sparse_coupling_matrix_init.toarray()"
   ],
   "outputs": []
  },
  {
   "cell_type": "markdown",
   "id": "7c956671-f542-4dd5-b845-efc51d3275c0",
   "metadata": {},
   "source": [
    "### Defining the sin interaction terms "
   ]
  },
  {
   "cell_type": "code",
   "execution_count": 33,
   "id": "7780a30a-b490-497a-9f4e-6860e798ca29",
   "metadata": {
    "ExecuteTime": {
     "end_time": "2024-05-30T22:32:01.208284Z",
     "start_time": "2024-05-30T22:32:00.757260Z"
    }
   },
   "source": [
    "from dae_finder import FeatureCouplingTransformer\n",
    "\n",
    "def coup_fun_sin_diff(x,y,i,j,gam_matrix):\n",
    "    return np.sin(x-y- gam_matrix[i,j])\n",
    "\n",
    "def coup_namer_sin_diff(x,y,i,j,gam_matrix=None):\n",
    "    return \"sin( {}-{} -gamma_{},{} )\".format(x,y,i,j)\n",
    "\n",
    "\n",
    "# def coup_fun_diff(x,y,i,j,gam_matrix):\n",
    "#     return x-y- gam_matrix[i,j]\n",
    "\n",
    "# def coup_namer_diff(x,y,i,j,gam_matrix):\n",
    "#     return \"{}-{} -gamma_{},{}\".format(x,y,i,j)\n",
    "\n",
    "transfomrer_sin_diff = FeatureCouplingTransformer(sparse_coupling_matrix_init,\n",
    "                                           coupling_func= coup_fun_sin_diff,\n",
    "                                           coupling_namer= coup_namer_sin_diff,\n",
    "                                           coupling_func_args={\"gam_matrix\":gamma_matrix},\n",
    "                                              return_df=True)\n",
    "\n",
    "# transformer_diff = FeatureCouplingTransformer(sparse_coupling_matrix_init,\n",
    "#                                            coupling_func= coup_fun_diff,\n",
    "#                                            coupling_namer= coup_namer_diff,\n",
    "#                                            coupling_func_args={\"gam_matrix\":gamma_matrix},\n",
    "#                                               return_df=True)"
   ],
   "outputs": []
  },
  {
   "cell_type": "code",
   "execution_count": 34,
   "id": "51edd95d-31b9-4266-92c3-9a6c69fcef53",
   "metadata": {
    "ExecuteTime": {
     "end_time": "2024-05-30T22:32:01.212445Z",
     "start_time": "2024-05-30T22:32:01.209289Z"
    }
   },
   "source": [
    "#Creating library with sin(load angle difference)\n",
    "sin_diff_library = transfomrer_sin_diff.fit_transform(data_matrix_df_appended.drop([\"time\"], axis=1))\n",
    "# sin_diff_library = transfomrer_sin_diff.fit_transform(data_matrix_df.drop([\"time\"], axis=1))\n",
    "\n",
    "cop_ind = transfomrer_sin_diff.coupled_indices_list\n",
    "\n",
    "# #Creating library with load angle difference\n",
    "# diff_library = transformer_diff.fit_transform(data_matrix_df.drop([\"time\"], axis=1))\n"
   ],
   "outputs": []
  },
  {
   "cell_type": "code",
   "execution_count": 35,
   "id": "9bc7be7b-d7b7-44aa-9535-52cee8374187",
   "metadata": {
    "ExecuteTime": {
     "end_time": "2024-05-30T22:32:01.234788Z",
     "start_time": "2024-05-30T22:32:01.228599Z"
    }
   },
   "source": [
    "sin_diff_library"
   ],
   "outputs": []
  },
  {
   "cell_type": "code",
   "execution_count": 36,
   "id": "8124e21d-d9c4-4ed4-8d3b-d3c3f0bb6041",
   "metadata": {
    "ExecuteTime": {
     "end_time": "2024-05-30T22:32:04.895746Z",
     "start_time": "2024-05-30T22:32:04.893135Z"
    }
   },
   "source": [
    "# candidate_lib = pd.concat([data_matrix_df.drop(\"time\", axis=1), sin_diff_library], axis=1)\n",
    "\n",
    "candidate_lib = pd.concat([data_matrix_df_appended.drop(\"time\", axis=1), sin_diff_library], axis=1)"
   ],
   "outputs": []
  },
  {
   "cell_type": "code",
   "execution_count": 37,
   "id": "0c7e11f0-9702-4397-abac-4276c073b7a9",
   "metadata": {
    "ExecuteTime": {
     "end_time": "2024-05-30T22:32:05.128036Z",
     "start_time": "2024-05-30T22:32:05.122354Z"
    }
   },
   "source": [
    "candidate_lib"
   ],
   "outputs": []
  },
  {
   "cell_type": "markdown",
   "id": "e247c7faab479777",
   "metadata": {},
   "source": [
    "### Removing zero features"
   ]
  },
  {
   "cell_type": "code",
   "execution_count": 38,
   "id": "83a3c1c58c0abd78",
   "metadata": {
    "ExecuteTime": {
     "end_time": "2024-05-30T22:32:05.513681Z",
     "start_time": "2024-05-30T22:32:05.510436Z"
    }
   },
   "source": [
    "non_zero_column_series = (candidate_lib**2).sum() > 0.00001\n",
    "non_zero_column_series\n",
    "non_columns = [column for column in candidate_lib if non_zero_column_series[column]]\n",
    "\n",
    "candidate_lib = candidate_lib[non_columns]"
   ],
   "outputs": []
  },
  {
   "cell_type": "markdown",
   "id": "bddf153f-996c-42c7-a822-7ffde1f3f231",
   "metadata": {},
   "source": [
    "## Smoothening data and finding derivatives using splines"
   ]
  },
  {
   "cell_type": "code",
   "execution_count": 39,
   "id": "20c13d25-6232-4434-b886-f1378b0b16c8",
   "metadata": {
    "scrolled": true
   },
   "source": [
    "from dae_finder import add_noise_to_df\n",
    "\n",
    "noise_perc = 0\n",
    "# data_matrix_df_list = [data_matrix_df]\n",
    "num_time_points = len(data_matrix_df_list[0])\n",
    "data_matrix_features = data_matrix_df_list[0].columns\n",
    "for ind, data_matrix_ in enumerate(data_matrix_df_list):\n",
    "    t_exact = data_matrix_[\"time\"]\n",
    "    noisy_data_df = add_noise_to_df(data_matrix_, noise_perc=noise_perc, random_seed=111)\n",
    "    noisy_data_df[\"time\"] = t_exact\n",
    "    data_matrix_df_list[ind] = noisy_data_df"
   ],
   "outputs": []
  },
  {
   "cell_type": "code",
   "execution_count": 41,
   "id": "10a97d10-4cd7-4474-9a71-083f865ec6d8",
   "metadata": {
    "scrolled": true
   },
   "source": [
    "from dae_finder import smooth_data\n",
    "\n",
    "# Calling the smoothening function\n",
    "data_matrix_smooth_df_list = [smooth_data(data_matrix, domain_var=\"time\", derr_order=1, noise_perc=noise_perc) for\n",
    "                              data_matrix in data_matrix_df_list]\n",
    "\n",
    "if len(data_matrix_df_list) > 1:\n",
    "    data_matrix_df_smooth_appended = pd.concat(data_matrix_smooth_df_list, ignore_index=True)\n",
    "else:\n",
    "    data_matrix_df_smooth_appended = data_matrix_smooth_df_list[0]\n",
    "\n",
    "data_matrix_df_smooth = data_matrix_df_smooth_appended[data_matrix_features]\n",
    "# if \"time\" in data_matrix_df_smooth:\n",
    "#     data_matrix_df_smooth = data_matrix_df_smooth.drop(\"time\", axis=1)"
   ],
   "outputs": []
  },
  {
   "cell_type": "code",
   "execution_count": 42,
   "id": "fb057228-9a3f-4fed-9d96-038ddb56ca2a",
   "metadata": {},
   "source": [
    "(data_matrix_df_smooth - data_matrix_df_appended).sum()"
   ],
   "outputs": []
  },
  {
   "cell_type": "code",
   "execution_count": 43,
   "id": "fc59cff4-c1ae-41f3-978d-45cc699faa18",
   "metadata": {},
   "source": [
    "ind = 3\n",
    "feature_ = \"Phi_L_4\"\n",
    "\n",
    "plt.figure()\n",
    "# plt.plot(data_matrix_df_list[1][\"t\"], data_matrix_df_list[1][\"x\"], \"x\", t_eval_new, x_new,\n",
    "#         data_matrix_df[50:100][\"t\"], data_matrix_df[50:100][\"x\"], \"o\")\n",
    "\n",
    "plt.plot(data_matrix_df_list[ind][\"time\"], data_matrix_df_list[ind][feature_], \".\",\n",
    "         data_matrix_smooth_df_list[ind][\"time\"],\n",
    "         data_matrix_smooth_df_list[ind][feature_], \".\",\n",
    "         data_matrix_df_list[ind][ind * num_time_points:(ind + 1) * num_time_points][\"time\"],\n",
    "         data_matrix_df_list[ind][ind * num_time_points:(ind + 1) * num_time_points][feature_], \".\")\n",
    "plt.legend(['Noisy', 'Cubic Spline', 'True'])\n",
    "# plt.axis([-0.05, 6.33, -1.05, 1.05])\n",
    "plt.title('Cubic-spline interpolation of {} - Noise: {}%'.format(feature_, noise_perc))\n",
    "plt.show()"
   ],
   "outputs": []
  },
  {
   "cell_type": "markdown",
   "id": "d8e562e7-2a23-4d88-9ce2-eb417570d84a",
   "metadata": {},
   "source": [
    "## Finding Algebraic relationship"
   ]
  },
  {
   "cell_type": "markdown",
   "id": "1c2ff3e7-6c16-4cc0-aac2-a1c2ad8cab4e",
   "metadata": {},
   "source": [
    "### Using sympy to find factors of redundant feature and refine the library"
   ]
  },
  {
   "cell_type": "code",
   "execution_count": 44,
   "id": "74d45159-ccac-4259-a221-a2990bbef246",
   "metadata": {},
   "source": [
    "import sympy\n",
    "\n",
    "from dae_finder import get_refined_lib, remove_paranth_from_feat\n",
    "\n",
    "# Adding the state variables as scipy symbols\n",
    "feat_list = list(data_matrix_df_appended.columns)\n",
    "feat_list_str = \", \".join(remove_paranth_from_feat(data_matrix_df_appended.columns))\n",
    "exec(feat_list_str+ \"= sympy.symbols(\"+str(feat_list)+\")\")"
   ],
   "outputs": []
  },
  {
   "cell_type": "code",
   "execution_count": 45,
   "id": "9345108f-60e2-41b7-9d0c-55f6d8b2427d",
   "metadata": {},
   "source": [
    "data_matrix_df_smooth_appended.columns"
   ],
   "outputs": []
  },
  {
   "cell_type": "code",
   "execution_count": 46,
   "id": "e14185d5-a777-4a86-96f4-7e28a0858cfc",
   "metadata": {},
   "source": [
    "data_matrix_features"
   ],
   "outputs": []
  },
  {
   "cell_type": "code",
   "execution_count": 47,
   "id": "6583a8f6-8bc1-4b34-8682-00d7c13482ef",
   "metadata": {
    "scrolled": true
   },
   "source": [
    "feature_list = list(data_matrix_features)\n",
    "feature_list.remove('time')\n",
    "\n",
    "feature_list"
   ],
   "outputs": []
  },
  {
   "cell_type": "code",
   "execution_count": 48,
   "id": "5841262c-0506-4969-ac09-a4ec6f9d1ec2",
   "metadata": {},
   "source": [
    "refined_candid_lib = data_matrix_df_smooth_appended[feature_list]"
   ],
   "outputs": []
  },
  {
   "cell_type": "code",
   "execution_count": 49,
   "id": "e05a66ab-fcf6-484b-89b2-8c56cd5f9796",
   "metadata": {},
   "source": [
    "from sklearn.preprocessing import StandardScaler\n",
    "\n",
    "s_scaler = StandardScaler(with_std=True, with_mean=False)\n",
    "scaled_refined_lib = pd.DataFrame(s_scaler.fit_transform(refined_candid_lib), columns=s_scaler.feature_names_in_)\n",
    "scaled_cand_lib = pd.DataFrame(s_scaler.fit_transform(candidate_lib), columns=s_scaler.feature_names_in_)"
   ],
   "outputs": []
  },
  {
   "cell_type": "code",
   "execution_count": 50,
   "id": "d63347d1-f663-432e-a6f9-7013be790185",
   "metadata": {},
   "source": [
    "candidate_lib"
   ],
   "outputs": []
  },
  {
   "cell_type": "markdown",
   "id": "ebb7f087-1d0e-469f-8721-bdd8c2855bbb",
   "metadata": {},
   "source": [
    "# Using Lasso"
   ]
  },
  {
   "cell_type": "markdown",
   "id": "7f222300-aebe-4a68-8140-6a86b8453fce",
   "metadata": {},
   "source": [
    "## Finding the conservation laws"
   ]
  },
  {
   "cell_type": "code",
   "execution_count": 51,
   "id": "f941add7-f0db-4c35-87e1-e5191e1be874",
   "metadata": {},
   "source": [
    "from dae_finder import sequentialThLin, AlgModelFinder\n",
    "algebraic_model_lasso = AlgModelFinder(model_id='lasso',\n",
    "                                       alpha=0.3,\n",
    "                                       fit_intercept=True)"
   ],
   "outputs": []
  },
  {
   "cell_type": "code",
   "execution_count": 52,
   "id": "7b2d0868-9f24-42c5-a8f2-b2d538e2725d",
   "metadata": {},
   "source": [
    "# features_to_fit_ = [\"Phi_0\", \"Phi_1\", \"Phi_2\", \"Phi_3\", \"Phi_4\", \"Phi_5\",\n",
    "#                     \"P_0\", \"P_1\", \"P_2\", \"P_3\", \"P_4\", \"P_5\"]\n",
    "# features_to_fit_ = [\"P_0\", \"P_1\", \"P_2\", \"P_3\", \"P_4\", \"P_5\"]\n",
    "# num_nodes = 6\n",
    "# power_features = [\"P_{}\".format(ind) for ind in range(num_nodes)]\n",
    "\n",
    "# Mapping each power feature to possible expressions in the algebraic relationship. This is done by taking the power features and frequency\n",
    "# feature from the candidate library\n",
    "feature_to_libr_map = {power_feat: candidate_lib.columns.drop(power_features+freq_features) for power_feat in power_features}\n",
    "\n",
    "algebraic_model_lasso.fit(candidate_lib, scale_columns=True,\n",
    "                          features_to_fit=power_features,\n",
    "                          feature_to_library_map=feature_to_libr_map)\n"
   ],
   "outputs": []
  },
  {
   "cell_type": "code",
   "execution_count": 67,
   "id": "17dc19b2-49e5-4ee0-a9da-43455593f595",
   "metadata": {},
   "source": [
    "# special_scaled_lib = scaled_cand_lib.drop(power_features, axis=1)\n",
    "# special_scaled_lib = pd.concat((special_scaled_lib, candidate_lib[power_features]), axis=1)"
   ],
   "outputs": []
  },
  {
   "cell_type": "code",
   "execution_count": 68,
   "id": "28faa701-3f81-4e82-828c-4151663e40d5",
   "metadata": {},
   "source": [
    "# # features_to_fit_ = [\"Phi_0\", \"Phi_1\", \"Phi_2\", \"Phi_3\", \"Phi_4\", \"Phi_5\",\n",
    "# #                     \"P_0\", \"P_1\", \"P_2\", \"P_3\", \"P_4\", \"P_5\"]\n",
    "# # features_to_fit_ = [\"P_0\", \"P_1\", \"P_2\", \"P_3\", \"P_4\", \"P_5\"]\n",
    "# # num_nodes = 6\n",
    "# # power_features = [\"P_{}\".format(ind) for ind in range(num_nodes)]\n",
    "\n",
    "# # Mapping each power feature to possible expressions in the algebraic relationship. This is done by taking the power features and frequency\n",
    "# # feature from the candidate library\n",
    "\n",
    "# seq_th_model = sequentialThLin(model_id=\"lasso\", alpha=0.3, coef_threshold=0.1, fit_intercept=True)\n",
    "\n",
    "\n",
    "# algebraic_model_lasso = AlgModelFinder(custom_model=True, custom_model_ob=seq_th_model)\n",
    "\n",
    "# # dynamic_model_th.fit(X=refined_candid_lib_appended,\n",
    "# #                      scale_columns=False,\n",
    "# #                      features_to_fit=dynamic_feat_to_fit,\n",
    "# #                      feature_to_library_map=dynamic_feature_to_libr_map)\n",
    "# feature_to_libr_map = {power_feat: candidate_lib.columns.drop(power_features+freq_features) for power_feat in power_features}\n",
    "\n",
    "# algebraic_model_lasso.fit(X=candidate_lib,\n",
    "#                                   scale_columns=True,\n",
    "#                                   features_to_fit=power_features,\n",
    "#                                   feature_to_library_map=feature_to_libr_map)\n"
   ],
   "outputs": []
  },
  {
   "cell_type": "code",
   "execution_count": 69,
   "id": "fe401449-ec66-47ad-91a7-c5ab33eb4db5",
   "metadata": {
    "scrolled": true
   },
   "source": [
    "algebraic_model_lasso.best_models()"
   ],
   "outputs": []
  },
  {
   "cell_type": "code",
   "execution_count": 70,
   "id": "db0d4e37-96c7-4b97-ad7b-fdbb9e5b86cd",
   "metadata": {},
   "source": [
    "for feat in power_features:\n",
    "    print(feat)\n",
    "    print(algebraic_model_lasso.best_models()[feat][abs(algebraic_model_lasso.best_models()[feat])>0.1])"
   ],
   "outputs": []
  },
  {
   "cell_type": "markdown",
   "id": "27f73d5b-e602-45d4-b500-dd2f8a05923a",
   "metadata": {},
   "source": [
    "### Checking model accuracy"
   ]
  },
  {
   "cell_type": "markdown",
   "id": "538eeb52-f26e-477a-ab5d-7d81ac097d4c",
   "metadata": {},
   "source": [
    "### Extracting true models from the true coupling matrix"
   ]
  },
  {
   "cell_type": "code",
   "execution_count": 71,
   "id": "83d8525d-3cbf-45e7-97d6-6240aaff1545",
   "metadata": {},
   "source": [
    "fitted_models = algebraic_model_lasso.best_models()[:-1]"
   ],
   "outputs": []
  },
  {
   "cell_type": "code",
   "execution_count": 75,
   "id": "1da010a4-b74e-4700-ad8a-241981e57244",
   "metadata": {},
   "source": [
    "true_models = pd.DataFrame(columns=fitted_models.columns, index=fitted_models.index)\n",
    "true_models.fillna(0, inplace=True)\n",
    "for ind_i, power_feat in enumerate(power_features):\n",
    "    for ind_j in range(len(power_features)):\n",
    "        if abs(coupling_matrix_true[ind_i, ind_j]) > 0.1:\n",
    "            # true_models.loc[feat_name, power_feat] = coupling_matrix_true[ind_i, ind_j]\n",
    "            low_ind = min(ind_i, ind_j)\n",
    "            up_ind = max(ind_i, ind_j)\n",
    "            feat_name = coup_namer_sin_diff(phase_features[low_ind], phase_features[up_ind],\n",
    "                                        low_ind, up_ind)\n",
    "            # print(feat_name)\n",
    "            true_models.loc[feat_name, power_feat] = 20.0\n",
    "            \n",
    "            # print(ind_i, ind_j, coupling_matrix_true[ind_i, ind_j])\n",
    "        # true_models[power_feat][feat_name] = \"haha\"\n",
    "        # print(ind_i, ind_j, feat_name)\n",
    "        # print(true_models[power_feat])"
   ],
   "outputs": []
  },
  {
   "cell_type": "code",
   "execution_count": 76,
   "id": "b6a2aa67-f6a6-4413-832e-e7ec96e2f0ac",
   "metadata": {},
   "source": [
    "# def compare_models(models_df_1, models_df_2, tol=1.e-5):\n",
    "#     assert models_df_1.shape == models_df_2.shape, \"both model dataframes should be of the same shape\"\n",
    "#     assert all(models_df_1.columns == models_df_2.columns) and all(models_df_1.index == models_df_2.index)\n",
    "\n",
    "#     models_df_1[abs(models_df_1) > tol] = 1\n",
    "#     models_df_1[abs(models_df_1) <= tol] = 0\n",
    "\n",
    "#     models_df_2[abs(models_df_2) > tol] = 1\n",
    "#     models_df_2[abs(models_df_2) <= tol] = 0\n",
    "\n",
    "#     model_diff_df = models_df_1 - models_df_2\n",
    "\n",
    "#     model_diff_df.loc[\"# incosistent terms\"] = abs(model_diff_df).sum()\n",
    "\n",
    "#     return model_diff_df"
   ],
   "outputs": []
  },
  {
   "cell_type": "code",
   "execution_count": 77,
   "id": "bfcb604f-774d-4dc4-83d8-8458f0d92029",
   "metadata": {},
   "source": [
    "from dae_finder import compare_models_\n",
    "\n",
    "compare_models_(true_models, fitted_models)"
   ],
   "outputs": []
  },
  {
   "cell_type": "markdown",
   "id": "85cc124d-9115-4115-9699-8c047dac4266",
   "metadata": {},
   "source": [
    "## Finding the dynamic equation for generators"
   ]
  },
  {
   "cell_type": "markdown",
   "id": "b07fa0db-7694-42a0-b7b4-7c514fbc9f92",
   "metadata": {},
   "source": [
    "### Refined candidate library is able to find the model "
   ]
  },
  {
   "cell_type": "code",
   "execution_count": 64,
   "id": "bb3eefce-bbd6-45b6-aa71-b539c9c96e60",
   "metadata": {},
   "source": [
    "from sklearn.linear_model import Lasso\n",
    "\n",
    "alg_lasso = Lasso(fit_intercept=True, alpha=0.3)\n",
    "alg_lasso.fit(X=scaled_refined_lib, y=data_matrix_df_smooth_appended['d(om_0) /dt'])\n",
    "alg_lasso.score(X=scaled_refined_lib, y=data_matrix_df_smooth_appended['d(om_0) /dt'])"
   ],
   "outputs": []
  },
  {
   "cell_type": "code",
   "execution_count": 66,
   "id": "24c78584-534b-4614-bdad-a6528728d714",
   "metadata": {},
   "source": [
    "coef_dict = dict(zip(alg_lasso.feature_names_in_, alg_lasso.coef_))\n",
    "coef_dict"
   ],
   "outputs": []
  },
  {
   "cell_type": "code",
   "execution_count": 67,
   "id": "d570e108-1195-4a03-b287-d289a1786b3d",
   "metadata": {},
   "source": [
    "seq_th_model.intercept_"
   ],
   "outputs": []
  },
  {
   "cell_type": "code",
   "execution_count": 68,
   "id": "2856a1e9-f785-4a29-8044-f7032e7d43d5",
   "metadata": {},
   "source": [
    "non_zero_feat = [feat for feat, coef in coef_dict.items() if abs(coef) > 0.01]\n",
    "non_zero_feat"
   ],
   "outputs": []
  },
  {
   "cell_type": "code",
   "execution_count": 69,
   "id": "ca7a7c1d-59e0-46d4-9687-05f09fd19446",
   "metadata": {},
   "source": [
    "from sklearn.linear_model import LinearRegression\n",
    "\n",
    "lin_model = LinearRegression(fit_intercept=True)\n",
    "lin_model.fit(X=scaled_refined_lib[non_zero_feat], y=data_matrix_df_smooth_appended['d(om_0) /dt'])\n",
    "lin_model.score(X=scaled_refined_lib[non_zero_feat], y=data_matrix_df_smooth_appended['d(om_0) /dt'])"
   ],
   "outputs": []
  },
  {
   "cell_type": "code",
   "execution_count": 70,
   "id": "45791577-6609-4d5e-91c5-8d0b00138955",
   "metadata": {},
   "source": [
    "dict(zip(lin_model.feature_names_in_, lin_model.coef_))"
   ],
   "outputs": []
  },
  {
   "cell_type": "markdown",
   "id": "6c64003d-9578-4363-ad6f-0b83fc0ae5bc",
   "metadata": {},
   "source": [
    "### Full candidate library is unable to find the model "
   ]
  },
  {
   "cell_type": "code",
   "execution_count": 42,
   "id": "6f2745d0-96bc-49ed-b9a0-15ce53b2627c",
   "metadata": {},
   "source": [
    "alg_lasso.fit(X=scaled_cand_lib, y=data_matrix_df_smooth_appended['d(om_0) /dt'])\n",
    "alg_lasso.score(X=scaled_cand_lib, y=data_matrix_df_smooth_appended['d(om_0) /dt'])"
   ],
   "outputs": []
  },
  {
   "cell_type": "code",
   "execution_count": 43,
   "id": "a64206e3-99b9-413c-a151-c009c65687f7",
   "metadata": {},
   "source": [
    "dict(zip(alg_lasso.feature_names_in_, alg_lasso.coef_))"
   ],
   "outputs": []
  },
  {
   "cell_type": "markdown",
   "id": "64ba6d03-0601-4f04-aaa4-00b4e07d4de8",
   "metadata": {},
   "source": [
    "# Using Sequential Thresholding"
   ]
  },
  {
   "cell_type": "markdown",
   "id": "b0d238f5-e0b9-47f3-ba94-fe1795f298d1",
   "metadata": {},
   "source": [
    "## Finding the conservation laws"
   ]
  },
  {
   "cell_type": "code",
   "execution_count": 78,
   "id": "ae9f8667-acc2-4c66-9b1d-3846be8388ec",
   "metadata": {},
   "source": [
    "from dae_finder import sequentialThLin, AlgModelFinder\n",
    "from sklearn.linear_model import LinearRegression\n",
    "\n",
    "lin_reg_model = LinearRegression\n",
    "lin_reg_model_arg = {\"fit_intercept\": True}\n",
    "seq_th_model = sequentialThLin(custom_model=True,\n",
    "                               custom_model_ob = lin_reg_model,\n",
    "                               custom_model_arg= lin_reg_model_arg,\n",
    "                              coef_threshold=0.1)\n",
    "# seq_th_model = sequentialThLin(coef_threshold=0.1, alpha=0.1, fit_intercept=True)\n",
    "\n",
    "algebraic_model_th = AlgModelFinder(custom_model=True, custom_model_ob=seq_th_model)"
   ],
   "outputs": []
  },
  {
   "cell_type": "code",
   "execution_count": 79,
   "id": "ac9d9d25-a7e4-4a93-a17f-9fca0614422a",
   "metadata": {},
   "source": [
    "feature_to_libr_map = {power_feat: candidate_lib.columns.drop(power_features+freq_features) for power_feat in power_features}\n",
    "\n",
    "algebraic_model_th.fit(candidate_lib, scale_columns=False,\n",
    "                       features_to_fit=power_features,\n",
    "                       feature_to_library_map=feature_to_libr_map)\n"
   ],
   "outputs": []
  },
  {
   "cell_type": "code",
   "execution_count": 80,
   "id": "1fba14e1-b15e-495d-8687-22d817ee347f",
   "metadata": {},
   "source": [
    "freq_features"
   ],
   "outputs": []
  },
  {
   "cell_type": "code",
   "execution_count": 80,
   "id": "5391732c-2250-4fd7-9d75-b26aa9b1dd71",
   "metadata": {
    "scrolled": true
   },
   "source": [
    "#Best 10 models using R2 metrix\n",
    "algebraic_model_th.best_models()"
   ],
   "outputs": []
  },
  {
   "cell_type": "code",
   "execution_count": null,
   "id": "b22e3a4d-bf6a-4a30-b1de-042c5dca45c7",
   "metadata": {},
   "source": [],
   "outputs": []
  },
  {
   "cell_type": "code",
   "execution_count": 81,
   "id": "404a887d-cca9-4187-844e-ef617106bc9c",
   "metadata": {},
   "source": [
    "algebraic_model_th.get_fitted_intercepts()"
   ],
   "outputs": []
  },
  {
   "cell_type": "code",
   "execution_count": 83,
   "id": "98b4e9fd-9285-4e1f-b4f6-81cb5ba30896",
   "metadata": {},
   "source": [
    "for feat in power_features:\n",
    "    print(feat)\n",
    "    print(algebraic_model_th.best_models()[feat][abs(algebraic_model_th.best_models()[feat])>0.1])"
   ],
   "outputs": []
  },
  {
   "cell_type": "markdown",
   "id": "14cc5356-ecb8-43bf-9321-c2bad811f609",
   "metadata": {},
   "source": [
    "### Checking model accuracy"
   ]
  },
  {
   "cell_type": "markdown",
   "id": "1176dae9-dc16-49bc-a646-50ff0402cca0",
   "metadata": {},
   "source": [
    "### Extracting true models from the true coupling matrix"
   ]
  },
  {
   "cell_type": "code",
   "execution_count": 82,
   "id": "b9a451f9-3409-4142-aeb6-c976dcf4c445",
   "metadata": {},
   "source": [
    "fitted_models = algebraic_model_th.best_models()[:-1]"
   ],
   "outputs": []
  },
  {
   "cell_type": "code",
   "execution_count": 83,
   "id": "ec328917-ea24-4028-a75b-e130492f70eb",
   "metadata": {},
   "source": [
    "true_models = pd.DataFrame(columns=fitted_models.columns, index=fitted_models.index)\n",
    "true_models.fillna(0, inplace=True)\n",
    "for ind_i, power_feat in enumerate(power_features):\n",
    "    for ind_j in range(len(power_features)):\n",
    "        if abs(coupling_matrix_true[ind_i, ind_j]) > 0.1:\n",
    "            # true_models.loc[feat_name, power_feat] = coupling_matrix_true[ind_i, ind_j]\n",
    "            low_ind = min(ind_i, ind_j)\n",
    "            up_ind = max(ind_i, ind_j)\n",
    "            feat_name = coup_namer_sin_diff(phase_features[low_ind], phase_features[up_ind],\n",
    "                                        low_ind, up_ind)\n",
    "            # print(feat_name)\n",
    "            true_models.loc[feat_name, power_feat] = 20.0\n",
    "            \n",
    "            # print(ind_i, ind_j, coupling_matrix_true[ind_i, ind_j])\n",
    "        # true_models[power_feat][feat_name] = \"haha\"\n",
    "        # print(ind_i, ind_j, feat_name)\n",
    "        # print(true_models[power_feat])"
   ],
   "outputs": []
  },
  {
   "cell_type": "code",
   "execution_count": 84,
   "id": "57f7169a-105b-4a89-979a-520ff9173b5d",
   "metadata": {},
   "source": [
    "# def compare_models(models_df_1, models_df_2, tol=1.e-5):\n",
    "#     assert models_df_1.shape == models_df_2.shape, \"both model dataframes should be of the same shape\"\n",
    "#     assert all(models_df_1.columns == models_df_2.columns) and all(models_df_1.index == models_df_2.index)\n",
    "\n",
    "#     models_df_1[abs(models_df_1) > tol] = 1\n",
    "#     models_df_1[abs(models_df_1) <= tol] = 0\n",
    "\n",
    "#     models_df_2[abs(models_df_2) > tol] = 1\n",
    "#     models_df_2[abs(models_df_2) <= tol] = 0\n",
    "\n",
    "#     model_diff_df = models_df_1 - models_df_2\n",
    "\n",
    "#     model_diff_df.loc[\"# incosistent terms\"] = abs(model_diff_df).sum()\n",
    "\n",
    "#     return model_diff_df"
   ],
   "outputs": []
  },
  {
   "cell_type": "code",
   "execution_count": 85,
   "id": "34147c35-6068-4157-be42-f56576389c01",
   "metadata": {},
   "source": [
    "from dae_finder import compare_models_\n",
    "\n",
    "compare_models_(true_models, fitted_models)"
   ],
   "outputs": []
  },
  {
   "cell_type": "code",
   "execution_count": 86,
   "id": "c556340a-4a23-4754-9986-5ca4cd4784b7",
   "metadata": {},
   "source": [
    "compare_model_output = compare_models_(true_models, fitted_models)"
   ],
   "outputs": []
  },
  {
   "cell_type": "code",
   "execution_count": 87,
   "id": "3f06f171-32b5-4f57-92b3-41bb97952cff",
   "metadata": {},
   "source": [
    "compare_model_output.loc[\"# incosistent terms\"]"
   ],
   "outputs": []
  },
  {
   "cell_type": "code",
   "execution_count": null,
   "id": "7eed5ef0-4bdb-4516-88d7-5b49dde13803",
   "metadata": {},
   "source": [],
   "outputs": []
  },
  {
   "cell_type": "markdown",
   "id": "248424c8-83c5-457e-b240-b275c864dc96",
   "metadata": {},
   "source": [
    "## Finding the dynamic equation for generators"
   ]
  },
  {
   "cell_type": "markdown",
   "id": "d39963c1-2244-45d5-a4d3-c5f50411d8e2",
   "metadata": {},
   "source": [
    "### Refined candidate library is able to find the model "
   ]
  },
  {
   "cell_type": "code",
   "execution_count": 88,
   "id": "8d08691a-e3c9-4bb3-aea8-8eb423cc0031",
   "metadata": {},
   "source": [
    "data_matrix_df_smooth_appended[['d(Phi_G_1) /dt', 'om_G_1']].plot()"
   ],
   "outputs": []
  },
  {
   "cell_type": "code",
   "execution_count": 89,
   "id": "3799918d-2f6b-4137-81bd-84d47c5687d8",
   "metadata": {},
   "source": [
    "ind = \"L_2\"\n",
    "data_matrix_df_smooth_appended[['d(Phi_{}) /dt'.format(ind), 'om_{}'.format(ind)]].plot()\n"
   ],
   "outputs": []
  },
  {
   "cell_type": "code",
   "execution_count": 90,
   "id": "5e76f3e6-7cc3-4b5e-bb50-5c4e8261659e",
   "metadata": {},
   "source": [
    "ind = \"L_2\"\n",
    "\n",
    "\n",
    "(abs(data_matrix_df_smooth_appended['d(Phi_{}) /dt'.format(ind)] - data_matrix_df_smooth_appended['om_{}'.format(ind)])).sum()\n"
   ],
   "outputs": []
  },
  {
   "cell_type": "code",
   "execution_count": 91,
   "id": "aa6b5dcf-487d-4b41-8a65-b20700731f30",
   "metadata": {},
   "source": [
    "abs(data_matrix_df_smooth_appended['d(Phi_{}) /dt'.format(ind)]).sum()"
   ],
   "outputs": []
  },
  {
   "cell_type": "code",
   "execution_count": 92,
   "id": "2eeda1a9-63dc-4331-97e1-457947a9a12f",
   "metadata": {},
   "source": [
    "scaled_refined_lib[power_features + freq_features]"
   ],
   "outputs": []
  },
  {
   "cell_type": "code",
   "execution_count": 93,
   "id": "d341dcc2-e076-43d8-80eb-e3f51a4180f6",
   "metadata": {},
   "source": [
    "from dae_finder import sequentialThLin, AlgModelFinder\n",
    "from sklearn.linear_model import LinearRegression\n",
    "\n",
    "# lin_reg_model = LinearRegression\n",
    "# lin_reg_model_arg = {\"fit_intercept\": True}\n",
    "# seq_th_model = sequentialThLin(custom_model=True,\n",
    "#                                custom_model_ob = lin_reg_model,\n",
    "#                                custom_model_arg= lin_reg_model_arg,\n",
    "#                               coef_threshold=0.1)\n",
    "\n",
    "\n",
    "ind = \"L_2\"\n",
    "seq_th_model = sequentialThLin(model_id=\"lasso\", alpha=0.3, coef_threshold=0.1, fit_intercept=True)\n",
    "# seq_th_model = sequentialThLin(model_id=\"RR\", alpha=0.3, coef_threshold=0.1, fit_intercept=True)\n",
    "\n",
    "\n",
    "seq_th_model.fit(X=scaled_refined_lib[power_features + phase_features+ freq_features], y=data_matrix_df_smooth_appended['om_{}'.format(ind)])\n",
    "seq_th_model.score(X=scaled_refined_lib[power_features + phase_features+freq_features], y=data_matrix_df_smooth_appended['om_{}'.format(ind)])\n",
    "\n",
    "# seq_th_model.fit(X=scaled_refined_lib[power_features + phase_features+ freq_features], y=data_matrix_df_smooth_appended['d(om_{}) /dt'.format(ind)])\n",
    "# seq_th_model.score(X=scaled_refined_lib[power_features + phase_features+freq_features], y=data_matrix_df_smooth_appended['d(om_{}) /dt'.format(ind)])"
   ],
   "outputs": []
  },
  {
   "cell_type": "code",
   "execution_count": 94,
   "id": "ac59dd46-63b3-48eb-aa00-8553712830fd",
   "metadata": {},
   "source": [
    "coef_dict = dict(zip(seq_th_model.feature_names_in_, seq_th_model.coef_))\n",
    "coef_dict"
   ],
   "outputs": []
  },
  {
   "cell_type": "markdown",
   "id": "b622a35f-11ca-4b66-b1c3-4d090a562ed0",
   "metadata": {},
   "source": [
    "### Discovering all dynamic equations\n",
    "\n",
    "- Note that frequencies need to be discovered only for non-generator nodes\n",
    "- Time derivative of frequencies need to be discovered for generators"
   ]
  },
  {
   "cell_type": "code",
   "execution_count": 95,
   "id": "8c209663-b5a6-4e4c-bb6a-28bfbed73fdc",
   "metadata": {},
   "source": [
    "#Collecting the feature names to fit: This will be d/dt(omega) for generators and omega for non-generator nodes\n",
    "\n",
    "d_omega_gen_features = [feat for feat in data_matrix_df_smooth_appended.columns if \"d(om_G\" in feat]\n",
    "freq_non_gen_features = [feat for feat in freq_features if \"G\" not in feat]\n",
    "\n",
    "dynamic_feat_to_fit = d_omega_gen_features + freq_non_gen_features\n",
    "dynamic_feat_to_fit"
   ],
   "outputs": []
  },
  {
   "cell_type": "code",
   "execution_count": 96,
   "id": "7c79512e-0834-4e85-96b2-f1aad3041055",
   "metadata": {},
   "source": [
    "combined_features = power_features + phase_features+ freq_features\n",
    "\n",
    "dynamic_feature_to_libr_map = {feat: [comb_feat for comb_feat in combined_features if feat != comb_feat]\n",
    "                              for feat in dynamic_feat_to_fit}"
   ],
   "outputs": []
  },
  {
   "cell_type": "code",
   "execution_count": 97,
   "id": "c492cd9c-aeff-48ed-9d11-08b7f407d443",
   "metadata": {},
   "source": [
    "scaled_refined_lib[power_features + phase_features+ freq_features]"
   ],
   "outputs": []
  },
  {
   "cell_type": "code",
   "execution_count": 98,
   "id": "51671b3b-63a8-4672-b639-07cc4d994531",
   "metadata": {},
   "source": [
    "data_matrix_df_smooth_appended[d_omega_gen_features]"
   ],
   "outputs": []
  },
  {
   "cell_type": "code",
   "execution_count": 99,
   "id": "5c4df507-3095-4f7c-bc7e-7997fe694c14",
   "metadata": {},
   "source": [
    "refined_candid_lib_appended = pd.concat((scaled_refined_lib, data_matrix_df_smooth_appended[d_omega_gen_features]), axis=1)\n",
    "\n",
    "refined_candid_lib_appended"
   ],
   "outputs": []
  },
  {
   "cell_type": "code",
   "execution_count": 100,
   "id": "a68dc409-acc0-4bb2-8649-3fce5b1a3553",
   "metadata": {},
   "source": [
    "from dae_finder import sequentialThLin, AlgModelFinder\n",
    "# from sklearn.linear_model import LinearRegression\n",
    "\n",
    "# lin_reg_model = LinearRegression\n",
    "# lin_reg_model_arg = {\"fit_intercept\": True}\n",
    "# seq_th_model = sequentialThLin(custom_model=True,\n",
    "#                                custom_model_ob = lin_reg_model,\n",
    "#                                custom_model_arg= lin_reg_model_arg,\n",
    "#                               coef_threshold=0.1)\n",
    "# seq_th_model = sequentialThLin(coef_threshold=0.1, alpha=0.1, fit_intercept=True)\n",
    "seq_th_model = sequentialThLin(model_id=\"lasso\", alpha=0.3, coef_threshold=0.1, fit_intercept=True)\n",
    "\n",
    "\n",
    "dynamic_model_th = AlgModelFinder(custom_model=True, custom_model_ob=seq_th_model)\n",
    "\n",
    "dynamic_model_th.fit(X=refined_candid_lib_appended,\n",
    "                     scale_columns=False,\n",
    "                     features_to_fit=dynamic_feat_to_fit,\n",
    "                     feature_to_library_map=dynamic_feature_to_libr_map)"
   ],
   "outputs": []
  },
  {
   "cell_type": "code",
   "execution_count": 101,
   "id": "a61b4816-85dd-4f28-831c-cd34a0764d9c",
   "metadata": {},
   "source": [
    "dynamic_model_th.best_models()"
   ],
   "outputs": []
  },
  {
   "cell_type": "code",
   "execution_count": 111,
   "id": "d52096b8-0675-4154-8cec-fc1548e84207",
   "metadata": {},
   "source": [
    "fitted_dynamic_models = dynamic_model_th.best_models()"
   ],
   "outputs": []
  },
  {
   "cell_type": "code",
   "execution_count": 112,
   "id": "78585d47-42be-426d-9395-3ea1cadcef68",
   "metadata": {},
   "source": [
    "for ind in range(1,11):\n",
    "    print(fitted_dynamic_models[\"d(om_G_{}) /dt\".format(ind)][abs(fitted_dynamic_models[\"d(om_G_{}) /dt\".format(ind)]) > 0.1])"
   ],
   "outputs": []
  },
  {
   "cell_type": "code",
   "execution_count": 116,
   "id": "1bba6495-027e-4f0e-ae78-31b03a9bba3b",
   "metadata": {},
   "source": [
    "for ind in range(1,11):\n",
    "    print(fitted_dynamic_models[\"om_T_{}\".format(ind)][abs(fitted_dynamic_models[\"om_T_{}\".format(ind)]) > 0.1])"
   ],
   "outputs": []
  },
  {
   "cell_type": "code",
   "execution_count": 115,
   "id": "49677175-3850-4a7a-b758-25bb3264e985",
   "metadata": {},
   "source": [
    "for ind in range(1,30):\n",
    "    print(fitted_dynamic_models[\"om_L_{}\".format(ind)][abs(fitted_dynamic_models[\"om_L_{}\".format(ind)]) > 0.1])"
   ],
   "outputs": []
  },
  {
   "cell_type": "code",
   "execution_count": null,
   "id": "2a6935ad-dac1-4a7b-a064-26d2c0a3845c",
   "metadata": {},
   "source": [],
   "outputs": []
  },
  {
   "cell_type": "code",
   "execution_count": null,
   "id": "7550a705-d3de-4205-82b0-36212bd2966b",
   "metadata": {},
   "source": [],
   "outputs": []
  },
  {
   "cell_type": "code",
   "execution_count": null,
   "id": "ee5a2655-8b0c-4497-99e8-e05732dd861d",
   "metadata": {},
   "source": [],
   "outputs": []
  },
  {
   "cell_type": "code",
   "execution_count": 168,
   "id": "adcb5865-ace6-459f-b820-49dab829600f",
   "metadata": {},
   "source": [
    "data_matrix_df_smooth_appended['d(om_{}) /dt'.format(ind)].describe()"
   ],
   "outputs": []
  },
  {
   "cell_type": "code",
   "execution_count": null,
   "id": "a07eaa6c-84da-4dd2-a768-8a961ab2141d",
   "metadata": {},
   "source": [],
   "outputs": []
  },
  {
   "cell_type": "code",
   "execution_count": 151,
   "id": "e6adf50a-cb4b-4da6-bc92-067e7355d61c",
   "metadata": {},
   "source": [
    "from dae_finder import sequentialThLin, AlgModelFinder\n",
    "from sklearn.linear_model import LinearRegression\n",
    "\n",
    "# lin_reg_model = LinearRegression\n",
    "# lin_reg_model_arg = {\"fit_intercept\": True}\n",
    "# seq_th_model = sequentialThLin(custom_model=True,\n",
    "#                                custom_model_ob = lin_reg_model,\n",
    "#                                custom_model_arg= lin_reg_model_arg,\n",
    "#                               coef_threshold=0.1)\n",
    "\n",
    "\n",
    "ind = \"G_3\"\n",
    "seq_th_model = sequentialThLin(model_id=\"lasso\", alpha=0.3, coef_threshold=0.1, fit_intercept=True)\n",
    "# seq_th_model = sequentialThLin(model_id=\"RR\", alpha=0.3, coef_threshold=0.1, fit_intercept=True)\n",
    "\n",
    "\n",
    "# seq_th_model.fit(X=scaled_refined_lib[power_features + phase_features+ freq_features], y=data_matrix_df_smooth_appended['om_{}'.format(ind)])\n",
    "# seq_th_model.score(X=scaled_refined_lib[power_features + phase_features+freq_features], y=data_matrix_df_smooth_appended['om_{}'.format(ind)])\n",
    "\n",
    "seq_th_model.fit(X=scaled_refined_lib[power_features + phase_features+ freq_features], y=data_matrix_df_smooth_appended['d(om_{}) /dt'.format(ind)])\n",
    "seq_th_model.score(X=scaled_refined_lib[power_features + phase_features+freq_features], y=data_matrix_df_smooth_appended['d(om_{}) /dt'.format(ind)])"
   ],
   "outputs": []
  },
  {
   "cell_type": "code",
   "execution_count": 152,
   "id": "ffd87968-849a-4094-abfd-5912bac85c49",
   "metadata": {},
   "source": [
    "coef_dict = dict(zip(seq_th_model.feature_names_in_, seq_th_model.coef_))\n",
    "coef_dict"
   ],
   "outputs": []
  },
  {
   "cell_type": "code",
   "execution_count": null,
   "id": "d4e93147-80e1-4f51-bf8f-1561a931eb5c",
   "metadata": {},
   "source": [],
   "outputs": []
  },
  {
   "cell_type": "code",
   "execution_count": null,
   "id": "18f0d968-8464-40c5-bb98-f17714bbc89d",
   "metadata": {},
   "source": [],
   "outputs": []
  },
  {
   "cell_type": "code",
   "execution_count": 253,
   "id": "7c9b6bdc-2018-4077-a56e-318ec8fda9c4",
   "metadata": {},
   "source": [
    "seq_th_model.intercept_"
   ],
   "outputs": []
  },
  {
   "cell_type": "code",
   "execution_count": 231,
   "id": "70188141-823b-44fa-a86d-c75e5109540d",
   "metadata": {},
   "source": [
    "non_zero_feat = [feat for feat, coef in coef_dict.items() if abs(coef) > 0.01]\n",
    "non_zero_feat"
   ],
   "outputs": []
  },
  {
   "cell_type": "code",
   "execution_count": 232,
   "id": "b6d5f41e-f289-4b71-90e6-3d2d6b1ae567",
   "metadata": {},
   "source": [
    "from sklearn.linear_model import LinearRegression\n",
    "\n",
    "lin_model = LinearRegression(fit_intercept=True)\n",
    "lin_model.fit(X=scaled_refined_lib[non_zero_feat], y=data_matrix_df_smooth_appended['d(om_{}) /dt'.format(ind)])\n",
    "lin_model.score(X=scaled_refined_lib[non_zero_feat], y=data_matrix_df_smooth_appended['d(om_{}) /dt'.format(ind)])"
   ],
   "outputs": []
  },
  {
   "cell_type": "code",
   "execution_count": 233,
   "id": "136433ed-a179-4fb8-8f0e-52ec9c58ed44",
   "metadata": {},
   "source": [
    "dict(zip(lin_model.feature_names_in_, lin_model.coef_))"
   ],
   "outputs": []
  },
  {
   "cell_type": "code",
   "execution_count": 234,
   "id": "58ab8916-1641-4cca-a6c2-07e8f347ed60",
   "metadata": {},
   "source": [
    "scaled_refined_lib[non_zero_feat]"
   ],
   "outputs": []
  },
  {
   "cell_type": "code",
   "execution_count": 244,
   "id": "e0a6c202-2815-4f23-8339-34cfba3927ed",
   "metadata": {},
   "source": [
    "from sklearn import decomposition\n",
    "pca_1 = decomposition.PCA()\n",
    "\n",
    "refined_features = [\"Phi_{}\".format(ind), \"P_{}\".format(ind), \"om_{}\".format(ind)]\n",
    "pca_1.fit(scaled_refined_lib[refined_features])\n",
    "\n",
    "var_expl_ratio = pca_1.explained_variance_ratio_\n",
    "var_expl_ratio"
   ],
   "outputs": []
  },
  {
   "cell_type": "code",
   "execution_count": 245,
   "id": "d37fcdbc-0d64-4a9b-9d78-37365261759d",
   "metadata": {},
   "source": [
    "pca_1.components_"
   ],
   "outputs": []
  },
  {
   "cell_type": "code",
   "execution_count": 246,
   "id": "5cd4fd01-19e9-433b-aa44-fef8bb082139",
   "metadata": {},
   "source": [
    "scaled_refined_lib[refined_features].corr()"
   ],
   "outputs": []
  },
  {
   "cell_type": "code",
   "execution_count": 243,
   "id": "93a314c6-c364-4d2c-a581-d0ddc9d728b1",
   "metadata": {},
   "source": [
    "scaled_refined_lib[]"
   ],
   "outputs": []
  },
  {
   "cell_type": "code",
   "execution_count": 224,
   "id": "59eddb04-ae88-4aa6-8721-7009926acb2c",
   "metadata": {},
   "source": [
    "from numpy import linalg"
   ],
   "outputs": []
  },
  {
   "cell_type": "code",
   "execution_count": 225,
   "id": "2fdcc730-066f-4f18-8b7b-bfeab4dca5ff",
   "metadata": {},
   "source": [
    "linalg.cond(scaled_refined_lib[non_zero_feat])"
   ],
   "outputs": []
  },
  {
   "cell_type": "code",
   "execution_count": 247,
   "id": "849b3421-5f12-40f0-b9d7-f94b849bebb4",
   "metadata": {},
   "source": [
    "linalg.cond(sin_diff_library)"
   ],
   "outputs": []
  },
  {
   "cell_type": "code",
   "execution_count": 248,
   "id": "906b546b-52e5-49bc-90f7-26457723fa42",
   "metadata": {},
   "source": [
    "feature_to_libr_map"
   ],
   "outputs": []
  },
  {
   "cell_type": "code",
   "execution_count": null,
   "id": "c58e1375-ed2c-435d-9bc8-1dcab94c4111",
   "metadata": {},
   "source": [],
   "outputs": []
  },
  {
   "cell_type": "markdown",
   "id": "e4cd398c-b7f4-4261-b2b5-693779ad92a7",
   "metadata": {},
   "source": [
    "### Full candidate library is unable to find the model "
   ]
  },
  {
   "cell_type": "code",
   "execution_count": 62,
   "id": "f42cff25-3602-4096-82a8-efece9553dd8",
   "metadata": {},
   "source": [
    "seq_th_model.fit(X=scaled_cand_lib, y=data_matrix_df_smooth_appended['d(om_0) /dt'])\n",
    "seq_th_model.score(X=scaled_cand_lib, y=data_matrix_df_smooth_appended['d(om_0) /dt'])"
   ],
   "outputs": []
  },
  {
   "cell_type": "code",
   "execution_count": 63,
   "id": "386b4e33-59ad-4800-a8b7-046d693bb451",
   "metadata": {},
   "source": [
    "dict(zip(seq_th_model.feature_names_in_, seq_th_model.coef_))"
   ],
   "outputs": []
  },
  {
   "cell_type": "code",
   "execution_count": null,
   "id": "3d85c36e-465c-4038-b8cd-dfec3e8a8d6b",
   "metadata": {},
   "source": [],
   "outputs": []
  }
 ],
 "metadata": {
  "kernelspec": {
   "display_name": "Python 3 (ipykernel)",
   "language": "python",
   "name": "python3"
  },
  "language_info": {
   "codemirror_mode": {
    "name": "ipython",
    "version": 3
   },
   "file_extension": ".py",
   "mimetype": "text/x-python",
   "name": "python",
   "nbconvert_exporter": "python",
   "pygments_lexer": "ipython3",
   "version": "3.12.3"
  }
 },
 "nbformat": 4,
 "nbformat_minor": 5
}
