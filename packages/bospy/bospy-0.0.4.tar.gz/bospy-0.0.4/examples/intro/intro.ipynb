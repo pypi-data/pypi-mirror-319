{
 "cells": [
  {
   "cell_type": "markdown",
   "metadata": {},
   "source": [
    "# Exploring the sysmod\n",
    "\n",
    "The system model (sysmod) is the knowledge graph used to represent a building and all its points.\n",
    "\n",
    "System models are conventionally built up using Brick Schema, ASHRAE 223P, and Real Estate Core, though use can you any RDF schema you want (e.g., Haystack 4 is fine.)\n",
    "\n",
    "The `sysmod` service runs by default on port 2821 (0xB05) of your local machine.\n",
    "\n",
    "To get started import the `bospy` package.\n",
    "\n",
    "If you don't have it run:\n",
    "``` shell \n",
    "pip install -i https://test.pypi.org/simple/ bospy\n",
    "```"
   ]
  },
  {
   "cell_type": "code",
   "execution_count": 1,
   "metadata": {},
   "outputs": [
    {
     "name": "stdout",
     "output_type": "stream",
     "text": [
      "0.0.4\n"
     ]
    }
   ],
   "source": [
    "import bospy.bos as bos\n",
    "print(bos.VERSION)"
   ]
  },
  {
   "cell_type": "markdown",
   "metadata": {},
   "source": [
    "## Getting all Points\n",
    "\n",
    "To see all the points in the sysmod we can call `QueryPoints()` with no arguments."
   ]
  },
  {
   "cell_type": "code",
   "execution_count": null,
   "metadata": {},
   "outputs": [],
   "source": [
    "all_pts = bos.QueryPoints()\n",
    "print(\"There are {} points in the sysmod:\".format(len(all_pts)))\n",
    "print(all_pts)\n"
   ]
  },
  {
   "cell_type": "markdown",
   "metadata": {},
   "source": [
    "In the bos's internal namespace points are tracked by unique URI. These URIs are not meant to be interacted with directly. Instead it's assumed they'll be passed directly to other functions. \n",
    "\n",
    "For example, maybe we want to the *names* of all our points. We can view them like this:"
   ]
  },
  {
   "cell_type": "code",
   "execution_count": null,
   "metadata": {},
   "outputs": [],
   "source": [
    "print(\"There are {} points in the sysmod. Their names are:\".format(len(all_pts)))\n",
    "for p in all_pts:\n",
    "    name = bos.PointToName(p)\n",
    "    print(\"   \", name)"
   ]
  },
  {
   "cell_type": "markdown",
   "metadata": {},
   "source": [
    "People familiar with building automation systems (BASs) are likely to used to accessing points by name. We can get a point's uri by name with `NameToPoint()`."
   ]
  },
  {
   "cell_type": "code",
   "execution_count": null,
   "metadata": {},
   "outputs": [],
   "source": [
    "name = 'voltage'\n",
    "pt = bos.NameToPoint(name)\n",
    "print('the point named {} is accessed via {}'.format(name, pt))"
   ]
  },
  {
   "cell_type": "markdown",
   "metadata": {},
   "source": [
    "## Getting and Setting Values\n",
    "\n",
    "If you're exploring the sysmod chances are you are looking for some points to read or write. We can read a point with `Get()` and write it with `Set()`.\n",
    "\n",
    "`Get()` and `Set()` make use of a service called `devctrl` (device control).\n",
    "\n",
    "By default `devctrl` is runs at `localhost:2822`."
   ]
  },
  {
   "cell_type": "code",
   "execution_count": null,
   "metadata": {},
   "outputs": [],
   "source": [
    "name = 'voltage'\n",
    "pt = bos.NameToPoint(name)\n",
    "value = bos.Get(pt)\n",
    "print(name, \"=\", value[pt])"
   ]
  },
  {
   "cell_type": "markdown",
   "metadata": {},
   "source": [
    "`Get()` also accepts list of points. It returns a map of point uris and their current values. As we've seen we can swap those uris for names with `PointToName()`."
   ]
  },
  {
   "cell_type": "code",
   "execution_count": null,
   "metadata": {},
   "outputs": [],
   "source": [
    "values = bos.Get(all_pts[:3])\n",
    "for p, v in values.items():\n",
    "    name = bos.PointToName(p)\n",
    "    print(name, \"=\", v)"
   ]
  },
  {
   "cell_type": "markdown",
   "metadata": {},
   "source": [
    "We can set values with `Set()` by passing one point and one value like this."
   ]
  },
  {
   "cell_type": "code",
   "execution_count": null,
   "metadata": {},
   "outputs": [],
   "source": [
    "# check the value of 'air_temp_setpoint'\n",
    "name = 'air_temp_setpoint'\n",
    "pt = bos.NameToPoint(name)\n",
    "values = bos.Get(pt)\n",
    "print(\"t=0\",name, \"=\", values[pt])\n",
    "\n",
    "# change the setpoint\n",
    "new_value = 18.5\n",
    "ok = bos.Set(pt, new_value)\n",
    "if ok:\n",
    "    print(\"t=1\", name, \"<-\", new_value, \"(success)\")\n",
    "else:\n",
    "    print(\"t=1\", name, \"not set (error)\")\n",
    "\n",
    "# confirm it was set correctly\n",
    "values = bos.Get(pt)\n",
    "print(\"t=2\", name, \"=\", values[pt])"
   ]
  }
 ],
 "metadata": {
  "kernelspec": {
   "display_name": "bos",
   "language": "python",
   "name": "python3"
  },
  "language_info": {
   "codemirror_mode": {
    "name": "ipython",
    "version": 3
   },
   "file_extension": ".py",
   "mimetype": "text/x-python",
   "name": "python",
   "nbconvert_exporter": "python",
   "pygments_lexer": "ipython3",
   "version": "3.12.4"
  }
 },
 "nbformat": 4,
 "nbformat_minor": 2
}
