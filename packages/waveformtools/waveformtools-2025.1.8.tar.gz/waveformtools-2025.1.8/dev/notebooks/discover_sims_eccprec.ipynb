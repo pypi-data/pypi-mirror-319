{
 "cells": [
  {
   "cell_type": "code",
   "execution_count": 20,
   "metadata": {},
   "outputs": [],
   "source": [
    "import numpy as np\n",
    "import os\n",
    "from pathlib import Path\n",
    "import config"
   ]
  },
  {
   "cell_type": "code",
   "execution_count": null,
   "metadata": {},
   "outputs": [],
   "source": []
  },
  {
   "cell_type": "code",
   "execution_count": 21,
   "metadata": {},
   "outputs": [],
   "source": [
    "if config.print_verbosity < 3:\n",
    "    from config.verbosity import levels\n",
    "\n",
    "    vl = levels()\n",
    "    vl.set_print_verbosity(3)"
   ]
  },
  {
   "cell_type": "code",
   "execution_count": null,
   "metadata": {},
   "outputs": [],
   "source": []
  },
  {
   "cell_type": "code",
   "execution_count": 22,
   "metadata": {},
   "outputs": [],
   "source": [
    "from waveformtools.sxs.discover_sims import SimulationExplorer"
   ]
  },
  {
   "cell_type": "code",
   "execution_count": 23,
   "metadata": {},
   "outputs": [],
   "source": [
    "list_of_search_dirs = [\n",
    "    \"/mnt/pfs/vaishak.p/sims/SpEC/gcc/bfi/EccContPrecDiff\",\n",
    "    \"/mnt/pfs/vaishak.p/sims/SpEC/gcc/bfi/EccPrecDiff\",\n",
    "    \"/mnt/pfs/vaishak.p/sims/SpEC/gcc\",\n",
    "]"
   ]
  },
  {
   "cell_type": "code",
   "execution_count": 24,
   "metadata": {},
   "outputs": [],
   "source": [
    "se = SimulationExplorer(search_dir=list_of_search_dirs[1])"
   ]
  },
  {
   "cell_type": "code",
   "execution_count": 25,
   "metadata": {},
   "outputs": [
    {
     "data": {
      "text/plain": [
       "PosixPath('/mnt/pfs/vaishak.p/sims/SpEC/gcc/bfi/EccPrecDiff')"
      ]
     },
     "execution_count": 25,
     "metadata": {},
     "output_type": "execute_result"
    }
   ],
   "source": [
    "se.search_dir"
   ]
  },
  {
   "cell_type": "code",
   "execution_count": 26,
   "metadata": {},
   "outputs": [
    {
     "name": "stdout",
     "output_type": "stream",
     "text": [
      "Searching in /mnt/pfs/vaishak.p/sims/SpEC/gcc/bfi/EccPrecDiff\n",
      "All subdirs ['eccprecrun4b', 'EccPrecDiff002', 'EccPrecDiff003', 'Errors000.txt', 'EccPrecDiff001', 'EccPrecDiff003a', 'EccPrecDiff004']\n",
      "\tSearching in /mnt/pfs/vaishak.p/sims/SpEC/gcc/bfi/EccPrecDiff/eccprecrun4b\n",
      "Checking /mnt/pfs/vaishak.p/sims/SpEC/gcc/bfi/EccPrecDiff/eccprecrun4b\n",
      "\t /mnt/pfs/vaishak.p/sims/SpEC/gcc/bfi/EccPrecDiff/eccprecrun4b is a simulation directory\n",
      "\tSearching in /mnt/pfs/vaishak.p/sims/SpEC/gcc/bfi/EccPrecDiff/EccPrecDiff002\n",
      "Checking /mnt/pfs/vaishak.p/sims/SpEC/gcc/bfi/EccPrecDiff/EccPrecDiff002\n",
      "\t /mnt/pfs/vaishak.p/sims/SpEC/gcc/bfi/EccPrecDiff/EccPrecDiff002 is a simulation directory\n",
      "\tSearching in /mnt/pfs/vaishak.p/sims/SpEC/gcc/bfi/EccPrecDiff/EccPrecDiff003\n",
      "Checking /mnt/pfs/vaishak.p/sims/SpEC/gcc/bfi/EccPrecDiff/EccPrecDiff003\n",
      "\t /mnt/pfs/vaishak.p/sims/SpEC/gcc/bfi/EccPrecDiff/EccPrecDiff003 is a simulation directory\n",
      "\tSearching in /mnt/pfs/vaishak.p/sims/SpEC/gcc/bfi/EccPrecDiff/Errors000.txt\n",
      "Checking /mnt/pfs/vaishak.p/sims/SpEC/gcc/bfi/EccPrecDiff/Errors000.txt\n",
      "/mnt/pfs/vaishak.p/sims/SpEC/gcc/bfi/EccPrecDiff/Errors000.txt is not a directory\n",
      "\tSearching in /mnt/pfs/vaishak.p/sims/SpEC/gcc/bfi/EccPrecDiff/EccPrecDiff001\n",
      "Checking /mnt/pfs/vaishak.p/sims/SpEC/gcc/bfi/EccPrecDiff/EccPrecDiff001\n",
      "\t /mnt/pfs/vaishak.p/sims/SpEC/gcc/bfi/EccPrecDiff/EccPrecDiff001 is a simulation directory\n",
      "\tSearching in /mnt/pfs/vaishak.p/sims/SpEC/gcc/bfi/EccPrecDiff/EccPrecDiff003a\n",
      "Checking /mnt/pfs/vaishak.p/sims/SpEC/gcc/bfi/EccPrecDiff/EccPrecDiff003a\n",
      "\t /mnt/pfs/vaishak.p/sims/SpEC/gcc/bfi/EccPrecDiff/EccPrecDiff003a is a simulation directory\n",
      "\tSearching in /mnt/pfs/vaishak.p/sims/SpEC/gcc/bfi/EccPrecDiff/EccPrecDiff004\n",
      "Checking /mnt/pfs/vaishak.p/sims/SpEC/gcc/bfi/EccPrecDiff/EccPrecDiff004\n",
      "\t /mnt/pfs/vaishak.p/sims/SpEC/gcc/bfi/EccPrecDiff/EccPrecDiff004 is a simulation directory\n"
     ]
    }
   ],
   "source": [
    "se.search_simulations()"
   ]
  },
  {
   "cell_type": "code",
   "execution_count": 27,
   "metadata": {},
   "outputs": [
    {
     "data": {
      "text/plain": [
       "{'eccprecrun4b': PosixPath('/mnt/pfs/vaishak.p/sims/SpEC/gcc/bfi/EccPrecDiff/eccprecrun4b'),\n",
       " 'EccPrecDiff002': PosixPath('/mnt/pfs/vaishak.p/sims/SpEC/gcc/bfi/EccPrecDiff/EccPrecDiff002'),\n",
       " 'EccPrecDiff003': PosixPath('/mnt/pfs/vaishak.p/sims/SpEC/gcc/bfi/EccPrecDiff/EccPrecDiff003'),\n",
       " 'EccPrecDiff001': PosixPath('/mnt/pfs/vaishak.p/sims/SpEC/gcc/bfi/EccPrecDiff/EccPrecDiff001'),\n",
       " 'EccPrecDiff003a': PosixPath('/mnt/pfs/vaishak.p/sims/SpEC/gcc/bfi/EccPrecDiff/EccPrecDiff003a'),\n",
       " 'EccPrecDiff004': PosixPath('/mnt/pfs/vaishak.p/sims/SpEC/gcc/bfi/EccPrecDiff/EccPrecDiff004')}"
      ]
     },
     "execution_count": 27,
     "metadata": {},
     "output_type": "execute_result"
    }
   ],
   "source": [
    "se.found_sim_paths"
   ]
  },
  {
   "cell_type": "code",
   "execution_count": 28,
   "metadata": {},
   "outputs": [
    {
     "data": {
      "text/plain": [
       "['eccprecrun4b',\n",
       " 'EccPrecDiff002',\n",
       " 'EccPrecDiff003',\n",
       " 'EccPrecDiff001',\n",
       " 'EccPrecDiff003a',\n",
       " 'EccPrecDiff004']"
      ]
     },
     "execution_count": 28,
     "metadata": {},
     "output_type": "execute_result"
    }
   ],
   "source": [
    "se.found_sim_names"
   ]
  },
  {
   "cell_type": "code",
   "execution_count": 29,
   "metadata": {},
   "outputs": [],
   "source": [
    "se.find_highest_ecc_dirs()"
   ]
  },
  {
   "cell_type": "code",
   "execution_count": 30,
   "metadata": {},
   "outputs": [
    {
     "data": {
      "text/plain": [
       "{'eccprecrun4b': 0,\n",
       " 'EccPrecDiff002': 0,\n",
       " 'EccPrecDiff003': 0,\n",
       " 'EccPrecDiff001': 0,\n",
       " 'EccPrecDiff003a': 0,\n",
       " 'EccPrecDiff004': 0}"
      ]
     },
     "execution_count": 30,
     "metadata": {},
     "output_type": "execute_result"
    }
   ],
   "source": [
    "se.highest_ecc_nums"
   ]
  },
  {
   "cell_type": "code",
   "execution_count": 31,
   "metadata": {},
   "outputs": [
    {
     "name": "stdout",
     "output_type": "stream",
     "text": [
      "Parsing simulation parameters.input file for /mnt/pfs/vaishak.p/sims/SpEC/gcc/bfi/EccPrecDiff/eccprecrun4b/Ecc0/Params.input\n",
      "Parsing simulation parameters.input file for /mnt/pfs/vaishak.p/sims/SpEC/gcc/bfi/EccPrecDiff/EccPrecDiff002/Ecc0/Params.input\n",
      "Parsing simulation parameters.input file for /mnt/pfs/vaishak.p/sims/SpEC/gcc/bfi/EccPrecDiff/EccPrecDiff003/Ecc0/Params.input\n",
      "Parsing simulation parameters.input file for /mnt/pfs/vaishak.p/sims/SpEC/gcc/bfi/EccPrecDiff/EccPrecDiff001/Ecc0/Params.input\n",
      "Parsing simulation parameters.input file for /mnt/pfs/vaishak.p/sims/SpEC/gcc/bfi/EccPrecDiff/EccPrecDiff003a/Ecc0/Params.input\n",
      "Parsing simulation parameters.input file for /mnt/pfs/vaishak.p/sims/SpEC/gcc/bfi/EccPrecDiff/EccPrecDiff004/Ecc0/Params.input\n"
     ]
    }
   ],
   "source": [
    "se.fetch_sim_params()"
   ]
  },
  {
   "cell_type": "code",
   "execution_count": 32,
   "metadata": {},
   "outputs": [],
   "source": [
    "se.compute_chi_eff()"
   ]
  },
  {
   "cell_type": "code",
   "execution_count": 33,
   "metadata": {},
   "outputs": [],
   "source": [
    "se.compute_chi_prec()"
   ]
  },
  {
   "cell_type": "code",
   "execution_count": 34,
   "metadata": {},
   "outputs": [
    {
     "data": {
      "text/plain": [
       "{'eccprecrun4b': {'Omega0': 0.019060222959237264,\n",
       "  'adot0': 0.0,\n",
       "  'D0': 14.399999999999999,\n",
       "  'MassRatio': 2.0,\n",
       "  'ChiA': (0.1, 0.1, 0.2),\n",
       "  'ChiB': (0.3, 0.0, 0.3),\n",
       "  'IDType': 'SHK',\n",
       "  'ChiEff': 0.26666666666666666,\n",
       "  'ChiPrec': 0.14142135623730953},\n",
       " 'EccPrecDiff002': {'Omega0': 0.0145988589216,\n",
       "  'adot0': -3.14159265,\n",
       "  'D0': 18.0,\n",
       "  'MassRatio': 1.0,\n",
       "  'ChiA': (0.0, 0.2, 0.2),\n",
       "  'ChiB': (0.2, 0.0, 0.2),\n",
       "  'IDType': 'SHK',\n",
       "  'ChiEff': 0.2,\n",
       "  'ChiPrec': 0.2},\n",
       " 'EccPrecDiff003': {'Omega0': 0.019060222959237264,\n",
       "  'adot0': 0.0,\n",
       "  'D0': 11.0,\n",
       "  'MassRatio': 2.0,\n",
       "  'ChiA': (0.1, 0.1, 0.2),\n",
       "  'ChiB': (0.3, 0.0, 0.3),\n",
       "  'IDType': 'SHK',\n",
       "  'ChiEff': 0.26666666666666666,\n",
       "  'ChiPrec': 0.14142135623730953},\n",
       " 'EccPrecDiff001': {'Omega0': 0.0145988589216,\n",
       "  'adot0': -3.14159265,\n",
       "  'D0': 18.0,\n",
       "  'MassRatio': 1.0,\n",
       "  'ChiA': (0.0, 0.2, 0.2),\n",
       "  'ChiB': (0.2, 0.0, 0.2),\n",
       "  'IDType': 'SHK',\n",
       "  'ChiEff': 0.2,\n",
       "  'ChiPrec': 0.2},\n",
       " 'EccPrecDiff003a': {'Omega0': 0.019060222959237264,\n",
       "  'adot0': 0.0,\n",
       "  'D0': 11.0,\n",
       "  'MassRatio': 2.0,\n",
       "  'ChiA': (0.1, 0.1, 0.2),\n",
       "  'ChiB': (0.3, 0.0, 0.3),\n",
       "  'IDType': 'SHK',\n",
       "  'ChiEff': 0.26666666666666666,\n",
       "  'ChiPrec': 0.14142135623730953},\n",
       " 'EccPrecDiff004': {'Omega0': 0.019060222959237264,\n",
       "  'adot0': 0.0,\n",
       "  'D0': 18.0,\n",
       "  'MassRatio': 2.0,\n",
       "  'ChiA': (0.1, 0.1, 0.2),\n",
       "  'ChiB': (0.3, 0.0, 0.3),\n",
       "  'IDType': 'SHK',\n",
       "  'ChiEff': 0.26666666666666666,\n",
       "  'ChiPrec': 0.14142135623730953}}"
      ]
     },
     "execution_count": 34,
     "metadata": {},
     "output_type": "execute_result"
    }
   ],
   "source": [
    "se.all_sim_params"
   ]
  },
  {
   "cell_type": "code",
   "execution_count": 38,
   "metadata": {},
   "outputs": [],
   "source": [
    "import pandas as pd"
   ]
  },
  {
   "cell_type": "code",
   "execution_count": 36,
   "metadata": {},
   "outputs": [],
   "source": [
    "import pickle"
   ]
  },
  {
   "cell_type": "code",
   "execution_count": 19,
   "metadata": {},
   "outputs": [],
   "source": [
    "with open(\"EccContPrec.pkl\", \"wb\") as handle:\n",
    "    pickle.dump(se.all_sim_params, handle, protocol=pickle.HIGHEST_PROTOCOL)"
   ]
  },
  {
   "cell_type": "code",
   "execution_count": 37,
   "metadata": {},
   "outputs": [],
   "source": [
    "with open(\"EccPrec.pkl\", \"wb\") as handle:\n",
    "    pickle.dump(se.all_sim_params, handle, protocol=pickle.HIGHEST_PROTOCOL)"
   ]
  },
  {
   "cell_type": "code",
   "execution_count": 39,
   "metadata": {},
   "outputs": [],
   "source": [
    "pdf = pd.DataFrame(se.all_sim_params)"
   ]
  },
  {
   "cell_type": "code",
   "execution_count": 40,
   "metadata": {},
   "outputs": [],
   "source": [
    "pdf2 = pdf.transpose()"
   ]
  },
  {
   "cell_type": "code",
   "execution_count": 41,
   "metadata": {},
   "outputs": [
    {
     "data": {
      "text/html": [
       "<div>\n",
       "<style scoped>\n",
       "    .dataframe tbody tr th:only-of-type {\n",
       "        vertical-align: middle;\n",
       "    }\n",
       "\n",
       "    .dataframe tbody tr th {\n",
       "        vertical-align: top;\n",
       "    }\n",
       "\n",
       "    .dataframe thead th {\n",
       "        text-align: right;\n",
       "    }\n",
       "</style>\n",
       "<table border=\"1\" class=\"dataframe\">\n",
       "  <thead>\n",
       "    <tr style=\"text-align: right;\">\n",
       "      <th></th>\n",
       "      <th>Omega0</th>\n",
       "      <th>adot0</th>\n",
       "      <th>D0</th>\n",
       "      <th>MassRatio</th>\n",
       "      <th>ChiA</th>\n",
       "      <th>ChiB</th>\n",
       "      <th>IDType</th>\n",
       "      <th>ChiEff</th>\n",
       "      <th>ChiPrec</th>\n",
       "    </tr>\n",
       "  </thead>\n",
       "  <tbody>\n",
       "    <tr>\n",
       "      <th>eccprecrun4b</th>\n",
       "      <td>0.01906</td>\n",
       "      <td>0.0</td>\n",
       "      <td>14.4</td>\n",
       "      <td>2.0</td>\n",
       "      <td>(0.1, 0.1, 0.2)</td>\n",
       "      <td>(0.3, 0.0, 0.3)</td>\n",
       "      <td>SHK</td>\n",
       "      <td>0.266667</td>\n",
       "      <td>0.141421</td>\n",
       "    </tr>\n",
       "    <tr>\n",
       "      <th>EccPrecDiff002</th>\n",
       "      <td>0.014599</td>\n",
       "      <td>-3.141593</td>\n",
       "      <td>18.0</td>\n",
       "      <td>1.0</td>\n",
       "      <td>(0.0, 0.2, 0.2)</td>\n",
       "      <td>(0.2, 0.0, 0.2)</td>\n",
       "      <td>SHK</td>\n",
       "      <td>0.2</td>\n",
       "      <td>0.2</td>\n",
       "    </tr>\n",
       "    <tr>\n",
       "      <th>EccPrecDiff003</th>\n",
       "      <td>0.01906</td>\n",
       "      <td>0.0</td>\n",
       "      <td>11.0</td>\n",
       "      <td>2.0</td>\n",
       "      <td>(0.1, 0.1, 0.2)</td>\n",
       "      <td>(0.3, 0.0, 0.3)</td>\n",
       "      <td>SHK</td>\n",
       "      <td>0.266667</td>\n",
       "      <td>0.141421</td>\n",
       "    </tr>\n",
       "    <tr>\n",
       "      <th>EccPrecDiff001</th>\n",
       "      <td>0.014599</td>\n",
       "      <td>-3.141593</td>\n",
       "      <td>18.0</td>\n",
       "      <td>1.0</td>\n",
       "      <td>(0.0, 0.2, 0.2)</td>\n",
       "      <td>(0.2, 0.0, 0.2)</td>\n",
       "      <td>SHK</td>\n",
       "      <td>0.2</td>\n",
       "      <td>0.2</td>\n",
       "    </tr>\n",
       "    <tr>\n",
       "      <th>EccPrecDiff003a</th>\n",
       "      <td>0.01906</td>\n",
       "      <td>0.0</td>\n",
       "      <td>11.0</td>\n",
       "      <td>2.0</td>\n",
       "      <td>(0.1, 0.1, 0.2)</td>\n",
       "      <td>(0.3, 0.0, 0.3)</td>\n",
       "      <td>SHK</td>\n",
       "      <td>0.266667</td>\n",
       "      <td>0.141421</td>\n",
       "    </tr>\n",
       "    <tr>\n",
       "      <th>EccPrecDiff004</th>\n",
       "      <td>0.01906</td>\n",
       "      <td>0.0</td>\n",
       "      <td>18.0</td>\n",
       "      <td>2.0</td>\n",
       "      <td>(0.1, 0.1, 0.2)</td>\n",
       "      <td>(0.3, 0.0, 0.3)</td>\n",
       "      <td>SHK</td>\n",
       "      <td>0.266667</td>\n",
       "      <td>0.141421</td>\n",
       "    </tr>\n",
       "  </tbody>\n",
       "</table>\n",
       "</div>"
      ],
      "text/plain": [
       "                   Omega0     adot0    D0 MassRatio             ChiA  \\\n",
       "eccprecrun4b      0.01906       0.0  14.4       2.0  (0.1, 0.1, 0.2)   \n",
       "EccPrecDiff002   0.014599 -3.141593  18.0       1.0  (0.0, 0.2, 0.2)   \n",
       "EccPrecDiff003    0.01906       0.0  11.0       2.0  (0.1, 0.1, 0.2)   \n",
       "EccPrecDiff001   0.014599 -3.141593  18.0       1.0  (0.0, 0.2, 0.2)   \n",
       "EccPrecDiff003a   0.01906       0.0  11.0       2.0  (0.1, 0.1, 0.2)   \n",
       "EccPrecDiff004    0.01906       0.0  18.0       2.0  (0.1, 0.1, 0.2)   \n",
       "\n",
       "                            ChiB IDType    ChiEff   ChiPrec  \n",
       "eccprecrun4b     (0.3, 0.0, 0.3)    SHK  0.266667  0.141421  \n",
       "EccPrecDiff002   (0.2, 0.0, 0.2)    SHK       0.2       0.2  \n",
       "EccPrecDiff003   (0.3, 0.0, 0.3)    SHK  0.266667  0.141421  \n",
       "EccPrecDiff001   (0.2, 0.0, 0.2)    SHK       0.2       0.2  \n",
       "EccPrecDiff003a  (0.3, 0.0, 0.3)    SHK  0.266667  0.141421  \n",
       "EccPrecDiff004   (0.3, 0.0, 0.3)    SHK  0.266667  0.141421  "
      ]
     },
     "execution_count": 41,
     "metadata": {},
     "output_type": "execute_result"
    }
   ],
   "source": [
    "pdf.transpose()"
   ]
  },
  {
   "cell_type": "code",
   "execution_count": 20,
   "metadata": {},
   "outputs": [],
   "source": [
    "pdf2 = pdf2.sort_index()"
   ]
  },
  {
   "cell_type": "code",
   "execution_count": 21,
   "metadata": {},
   "outputs": [
    {
     "data": {
      "text/html": [
       "<div>\n",
       "<style scoped>\n",
       "    .dataframe tbody tr th:only-of-type {\n",
       "        vertical-align: middle;\n",
       "    }\n",
       "\n",
       "    .dataframe tbody tr th {\n",
       "        vertical-align: top;\n",
       "    }\n",
       "\n",
       "    .dataframe thead th {\n",
       "        text-align: right;\n",
       "    }\n",
       "</style>\n",
       "<table border=\"1\" class=\"dataframe\">\n",
       "  <thead>\n",
       "    <tr style=\"text-align: right;\">\n",
       "      <th></th>\n",
       "      <th>Omega0</th>\n",
       "      <th>adot0</th>\n",
       "      <th>D0</th>\n",
       "      <th>MassRatio</th>\n",
       "      <th>ChiA</th>\n",
       "      <th>ChiB</th>\n",
       "      <th>IDType</th>\n",
       "      <th>ReferenceTime</th>\n",
       "      <th>SemiMajorAxis</th>\n",
       "      <th>Eccentricity</th>\n",
       "      <th>AnomalyAngle</th>\n",
       "      <th>ChiEff</th>\n",
       "    </tr>\n",
       "  </thead>\n",
       "  <tbody>\n",
       "    <tr>\n",
       "      <th>EccContPrecDiff001</th>\n",
       "      <td>0.010373</td>\n",
       "      <td>0.000141</td>\n",
       "      <td>20.2307</td>\n",
       "      <td>3.0</td>\n",
       "      <td>(0.3, 0.0, 0.0)</td>\n",
       "      <td>(0.2, 0.0, 0.1)</td>\n",
       "      <td>SHK</td>\n",
       "      <td>0.0</td>\n",
       "      <td>21.0</td>\n",
       "      <td>0.04</td>\n",
       "      <td>0.4</td>\n",
       "      <td>0.075</td>\n",
       "    </tr>\n",
       "    <tr>\n",
       "      <th>EccContPrecDiff002</th>\n",
       "      <td>0.007994</td>\n",
       "      <td>0.000556</td>\n",
       "      <td>23.99403</td>\n",
       "      <td>2.5</td>\n",
       "      <td>(0.1, 0.4, 0.0)</td>\n",
       "      <td>(0.5, 0.0, 0.0)</td>\n",
       "      <td>SHK</td>\n",
       "      <td>0.0</td>\n",
       "      <td>24.0</td>\n",
       "      <td>0.08</td>\n",
       "      <td>1.5</td>\n",
       "      <td>0.0</td>\n",
       "    </tr>\n",
       "    <tr>\n",
       "      <th>EccContPrecDiff003</th>\n",
       "      <td>0.028386</td>\n",
       "      <td>0.0</td>\n",
       "      <td>9.9</td>\n",
       "      <td>3.5</td>\n",
       "      <td>(-0.2, 0.1, 0.0)</td>\n",
       "      <td>(0.2, 0.0, -0.3)</td>\n",
       "      <td>SHK</td>\n",
       "      <td>0.0</td>\n",
       "      <td>11.0</td>\n",
       "      <td>0.1</td>\n",
       "      <td>0.0</td>\n",
       "      <td>-0.233333</td>\n",
       "    </tr>\n",
       "    <tr>\n",
       "      <th>EccContPrecDiff004</th>\n",
       "      <td>0.031291</td>\n",
       "      <td>0.0</td>\n",
       "      <td>9.35</td>\n",
       "      <td>1.1</td>\n",
       "      <td>(0.0, 0.3, 0.2)</td>\n",
       "      <td>(0.0, 0.1, 0.5)</td>\n",
       "      <td>SHK</td>\n",
       "      <td>0.0</td>\n",
       "      <td>11.0</td>\n",
       "      <td>0.15</td>\n",
       "      <td>0.0</td>\n",
       "      <td>0.357143</td>\n",
       "    </tr>\n",
       "    <tr>\n",
       "      <th>EccContPrecDiff005</th>\n",
       "      <td>0.033129</td>\n",
       "      <td>0.0</td>\n",
       "      <td>9.02</td>\n",
       "      <td>1.0</td>\n",
       "      <td>(0.3, 0.4, 0.0)</td>\n",
       "      <td>(0.0, 0.0, 0.0)</td>\n",
       "      <td>SHK</td>\n",
       "      <td>0.0</td>\n",
       "      <td>11.0</td>\n",
       "      <td>0.18</td>\n",
       "      <td>0.0</td>\n",
       "      <td>0.0</td>\n",
       "    </tr>\n",
       "    <tr>\n",
       "      <th>EccContPrecDiff006</th>\n",
       "      <td>0.027823</td>\n",
       "      <td>0.003659</td>\n",
       "      <td>10.007926</td>\n",
       "      <td>1.5</td>\n",
       "      <td>(0.3, 0.3, 0.2)</td>\n",
       "      <td>(0.1, 0.0, 0.2)</td>\n",
       "      <td>SHK</td>\n",
       "      <td>0.0</td>\n",
       "      <td>11.0</td>\n",
       "      <td>0.21</td>\n",
       "      <td>1.0</td>\n",
       "      <td>0.2</td>\n",
       "    </tr>\n",
       "    <tr>\n",
       "      <th>EccContPrecDiff007</th>\n",
       "      <td>0.017183</td>\n",
       "      <td>0.001049</td>\n",
       "      <td>13.986663</td>\n",
       "      <td>2.5</td>\n",
       "      <td>(0.1, 0.4, 0.0)</td>\n",
       "      <td>(0.5, 0.0, 0.0)</td>\n",
       "      <td>SHK</td>\n",
       "      <td>0.0</td>\n",
       "      <td>14.0</td>\n",
       "      <td>0.08</td>\n",
       "      <td>1.5</td>\n",
       "      <td>0.0</td>\n",
       "    </tr>\n",
       "    <tr>\n",
       "      <th>EccContPrecDiff008</th>\n",
       "      <td>0.018468</td>\n",
       "      <td>0.0</td>\n",
       "      <td>13.94</td>\n",
       "      <td>1.0</td>\n",
       "      <td>(0.3, 0.4, 0.0)</td>\n",
       "      <td>(0.0, 0.0, 0.0)</td>\n",
       "      <td>SHK</td>\n",
       "      <td>0.0</td>\n",
       "      <td>17.0</td>\n",
       "      <td>0.18</td>\n",
       "      <td>0.0</td>\n",
       "      <td>0.0</td>\n",
       "    </tr>\n",
       "  </tbody>\n",
       "</table>\n",
       "</div>"
      ],
      "text/plain": [
       "                      Omega0     adot0         D0 MassRatio              ChiA  \\\n",
       "EccContPrecDiff001  0.010373  0.000141    20.2307       3.0   (0.3, 0.0, 0.0)   \n",
       "EccContPrecDiff002  0.007994  0.000556   23.99403       2.5   (0.1, 0.4, 0.0)   \n",
       "EccContPrecDiff003  0.028386       0.0        9.9       3.5  (-0.2, 0.1, 0.0)   \n",
       "EccContPrecDiff004  0.031291       0.0       9.35       1.1   (0.0, 0.3, 0.2)   \n",
       "EccContPrecDiff005  0.033129       0.0       9.02       1.0   (0.3, 0.4, 0.0)   \n",
       "EccContPrecDiff006  0.027823  0.003659  10.007926       1.5   (0.3, 0.3, 0.2)   \n",
       "EccContPrecDiff007  0.017183  0.001049  13.986663       2.5   (0.1, 0.4, 0.0)   \n",
       "EccContPrecDiff008  0.018468       0.0      13.94       1.0   (0.3, 0.4, 0.0)   \n",
       "\n",
       "                                ChiB IDType ReferenceTime SemiMajorAxis  \\\n",
       "EccContPrecDiff001   (0.2, 0.0, 0.1)    SHK           0.0          21.0   \n",
       "EccContPrecDiff002   (0.5, 0.0, 0.0)    SHK           0.0          24.0   \n",
       "EccContPrecDiff003  (0.2, 0.0, -0.3)    SHK           0.0          11.0   \n",
       "EccContPrecDiff004   (0.0, 0.1, 0.5)    SHK           0.0          11.0   \n",
       "EccContPrecDiff005   (0.0, 0.0, 0.0)    SHK           0.0          11.0   \n",
       "EccContPrecDiff006   (0.1, 0.0, 0.2)    SHK           0.0          11.0   \n",
       "EccContPrecDiff007   (0.5, 0.0, 0.0)    SHK           0.0          14.0   \n",
       "EccContPrecDiff008   (0.0, 0.0, 0.0)    SHK           0.0          17.0   \n",
       "\n",
       "                   Eccentricity AnomalyAngle    ChiEff  \n",
       "EccContPrecDiff001         0.04          0.4     0.075  \n",
       "EccContPrecDiff002         0.08          1.5       0.0  \n",
       "EccContPrecDiff003          0.1          0.0 -0.233333  \n",
       "EccContPrecDiff004         0.15          0.0  0.357143  \n",
       "EccContPrecDiff005         0.18          0.0       0.0  \n",
       "EccContPrecDiff006         0.21          1.0       0.2  \n",
       "EccContPrecDiff007         0.08          1.5       0.0  \n",
       "EccContPrecDiff008         0.18          0.0       0.0  "
      ]
     },
     "execution_count": 21,
     "metadata": {},
     "output_type": "execute_result"
    }
   ],
   "source": [
    "pdf2"
   ]
  },
  {
   "cell_type": "code",
   "execution_count": null,
   "metadata": {},
   "outputs": [],
   "source": []
  },
  {
   "cell_type": "code",
   "execution_count": 32,
   "metadata": {},
   "outputs": [
    {
     "name": "stdout",
     "output_type": "stream",
     "text": [
      "|                 |    Omega0 |    adot0 |   D0 |   MassRatio | ChiA          | ChiB          | IDType   |\n",
      "|:----------------|----------:|---------:|-----:|------------:|:--------------|:--------------|:---------|\n",
      "| EccPrecDiff001  | 0.0145989 | -3.14159 | 18   |           1 | (0.0,0.2,0.2) | (0.2,0.0,0.2) | SHK      |\n",
      "| EccPrecDiff002  | 0.0145989 | -3.14159 | 18   |           1 | (0.0,0.2,0.2) | (0.2,0.0,0.2) | SHK      |\n",
      "| EccPrecDiff003  | 0.0190602 |  0       | 11   |           2 | (0.1,0.1,0.2) | (0.3,0,0.3)   | SHK      |\n",
      "| EccPrecDiff003a | 0.0190602 |  0       | 11   |           2 | (0.1,0.1,0.2) | (0.3,0,0.3)   | SHK      |\n",
      "| EccPrecDiff004  | 0.0190602 |  0       | 18   |           2 | (0.1,0.1,0.2) | (0.3,0,0.3)   | SHK      |\n",
      "| eccprecrun4b    | 0.0190602 |  0       | 14.4 |           2 | (0.1,0.1,0.2) | (0.3,0,0.3)   | SHK      |\n"
     ]
    }
   ],
   "source": [
    "print(pdf2.to_markdown())"
   ]
  },
  {
   "cell_type": "code",
   "execution_count": 18,
   "metadata": {},
   "outputs": [
    {
     "name": "stdout",
     "output_type": "stream",
     "text": [
      "|               | ICTSEccParallel13      | ICTSEccParallel12      | ICTSEccParallel01      | ICTSEccParallel15      | ICTSEccParallel10      | ICTSEccParallel02     | ICTSEccParallel06      | ICTSEccParallel09      | ICTSEccParallel17      | ICTSEccParallel11      | ICTSEccParallel04    | ICTSEccParallel03    | ICTSEccParallel08   | ICTSEccParallel07     | ICTSEccParallel05    | ICTSEccParallel14      | ICTSEccParallel16      |\n",
      "|:--------------|:-----------------------|:-----------------------|:-----------------------|:-----------------------|:-----------------------|:----------------------|:-----------------------|:-----------------------|:-----------------------|:-----------------------|:---------------------|:---------------------|:--------------------|:----------------------|:---------------------|:-----------------------|:-----------------------|\n",
      "| Omega0        | 0.012577211664435643   | 0.012577211664435643   | 0.015218138970335915   | 0.012593772047274417   | 0.01716971039007491    | 0.012064948841137117  | 0.020278486565661166   | 0.01033695636236009    | 0.012593772047274417   | 0.012578416086064663   | 0.028486197153204308 | 0.028386399721385347 | 0.03689287556564369 | 0.024527087630365357  | 0.028528354284316014 | 0.012577211664435643   | 0.012593772047274417   |\n",
      "| adot0         | -0.0007210390393638183 | -0.0007210390393638183 | 0.00019383522893926187 | -0.0007221856985274338 | -0.0004565923568523473 | 0.0007924128839084587 | -0.0013935460258743062 | 0.00019467839161208423 | -0.0007221856985274338 | -0.0007211224548238781 | 0.0                  | 0.0                  | 0.0                 | 0.0014816982757681145 | 0.0                  | -0.0007210390393638183 | -0.0007221856985274338 |\n",
      "| D0            | 17.11033289652353      | 17.11033289652353      | 15.41363184492864      | 17.110722189632547     | 14.323074329602226     | 17.989610179992535    | 12.079903151474314     | 19.016724298367887     | 17.110722189632547     | 17.110361206586006     | 9.9                  | 9.9                  | 8.36                | 10.790100570464455    | 9.9                  | 17.11033289652353      | 17.110722189632547     |\n",
      "| MassRatio     | 9.5                    | 9.5                    | 3.0                    | 5.0                    | 11.0                   | 2.5                   | 9.0                    | 11.0                   | 5.0                    | 9.0                    | 2.0                  | 3.5                  | 5.0                 | 8.0                   | 1.4                  | 9.5                    | 5.0                    |\n",
      "| ChiA          | (0.0,0.0,0.6)          | (0.0,0.0,0.3)          | (0.3,0,0.0)            | (0.0,0.0,0.3)          | (0.0,0,-0.4)           | (-0.1,-0.4,0.0)       | (0.1,-0.3,-0.2)        | (0.0,0,-0.4)           | (0.0,0.0,-0.6)         | (0.0,0.0,0.8)          | (0.0,0.0,0.4)        | (0.2,0.1,0.0)        | (0.0,0,0.1)         | (0.0,0,0.5)           | (0.0,0.0,-0.5)       | (0.0,0.0,-0.6)         | (0.0,0.0,0.6)          |\n",
      "| ChiB          | (0.0,0.0,0.3)          | (0.0,0.0,0.3)          | (0.3,0.0,0)            | (0.0,0.0,0.3)          | (0.0,0.0,0.2)          | (0.1,0.4,0.0)         | (0.0,0.0,0.1)          | (0.0,0.0,0.2)          | (0.0,0.0,-0.3)         | (0.0,0.0,0.8)          | (0.0,0.0,0.2)        | (0.2,0.1,0.0)        | (0.0,0.0,-0.2)      | (0.0,0.0,-0.2)        | (0.0,0.0,0.2)        | (0.0,0.0,-0.3)         | (0.0,0.0,0.3)          |\n",
      "| IDType        | SHK                    | SHK                    | SHK                    | SHK                    | SHK                    | SHK                   | SHK                    | SHK                    | SHK                    | SHK                    | SHK                  | SHK                  | SHK                 | SHK                   | SHK                  | SHK                    | SHK                    |\n",
      "| ReferenceTime | 0.0                    | 0.0                    | 0.0                    | 0.0                    | 0.0                    | 0.0                   | 0.0                    | 0.0                    | 0.0                    | 0.0                    | 0.0                  | 0.0                  | 0.0                 | 0.0                   | 0.0                  | 0.0                    | 0.0                    |\n",
      "| SemiMajorAxis | 16.0                   | 16.0                   | 16.0                   | 16.0                   | 16.0                   | 18.0                  | 11.0                   | 16.0                   | 16.0                   | 16.0                   | 11.0                 | 11.0                 | 11.0                | 11.0                  | 11.0                 | 16.0                   | 16.0                   |\n",
      "| Eccentricity  | 0.1                    | 0.1                    | 0.04                   | 0.1                    | 0.11                   | 0.08                  | 0.14                   | 0.19                   | 0.1                    | 0.1                    | 0.1                  | 0.1                  | 0.24                | 0.09                  | 0.1                  | 0.1                    | 0.1                    |\n",
      "| AnomalyAngle  | 4.0                    | 4.0                    | 0.4                    | 4.0                    | 6.0                    | 1.5                   | 4.0                    | 3.0                    | 4.0                    | 4.0                    | 0.0                  | 0.0                  | 0.0                 | 1.3                   | 0.0                  | 4.0                    | 4.0                    |\n"
     ]
    }
   ],
   "source": [
    "print(pdf.to_markdown())"
   ]
  },
  {
   "cell_type": "code",
   "execution_count": 16,
   "metadata": {},
   "outputs": [],
   "source": [
    "path_pinput = Path(\n",
    "    \"/mnt/pfs/vaishak.p/sims/SpEC/gcc/bfi/ICTSEccParallel/ICTSEccParallel10/Ecc0/Params.input\"\n",
    ")"
   ]
  },
  {
   "cell_type": "code",
   "execution_count": null,
   "metadata": {},
   "outputs": [],
   "source": []
  },
  {
   "cell_type": "code",
   "execution_count": 73,
   "metadata": {},
   "outputs": [],
   "source": [
    "sim_params = {}"
   ]
  },
  {
   "cell_type": "code",
   "execution_count": 74,
   "metadata": {},
   "outputs": [],
   "source": [
    "import re"
   ]
  },
  {
   "cell_type": "code",
   "execution_count": 270,
   "metadata": {},
   "outputs": [],
   "source": [
    "def re_fetch_float(line):\n",
    "\n",
    "    result = re.search(\"= -?[0-9]*[.][0-9]*\", line)\n",
    "\n",
    "    val = float(result.group()[2:])\n",
    "\n",
    "    return val\n",
    "\n",
    "    sim_params.update({\"Omega0\": val})\n",
    "\n",
    "\n",
    "def re_fetch_string(line):\n",
    "\n",
    "    result = re.search('\".*\";', line)\n",
    "\n",
    "    val = str(result.group()[1:-2])\n",
    "\n",
    "    return val\n",
    "\n",
    "\n",
    "def re_fetch_vector(line):\n",
    "\n",
    "    result = re.search(\n",
    "        \"\\(-?[0-9]*[.]?[0-9]*,-?[0-9]*[.]?[0-9]*,-?[0-9]*[.]?[0-9]*\\)\", line\n",
    "    )\n",
    "\n",
    "    val = str(result.group())\n",
    "\n",
    "    return val"
   ]
  },
  {
   "cell_type": "code",
   "execution_count": 271,
   "metadata": {},
   "outputs": [
    {
     "name": "stdout",
     "output_type": "stream",
     "text": [
      "# Set the initial data parameters\n",
      "\n",
      "\n",
      "\n",
      "# Orbital parameters\n",
      "\n",
      "$Omega0 = 0.01716971039007491;\n",
      "\n",
      "$adot0  = -0.0004565923568523473;\n",
      "\n",
      "$D0     = 14.323074329602226;\n",
      "\n",
      "\n",
      "\n",
      "# Physical parameters (spins are dimensionless)\n",
      "\n",
      "$MassRatio = 11.0;\n",
      "\n",
      "@SpinA = (0.0,0,-0.4);\n",
      "\n",
      "@SpinB = (0.0,0.0,0.2);\n",
      "\n",
      "\n",
      "\n",
      "# Evolve after initial data completes?\n",
      "\n",
      "$Evolve = 1;\n",
      "\n",
      "# IDType: \"SKS\", \"SHK\", \"SSphKS\" or \"CFMS\".\n",
      "\n",
      "$IDType = \"SHK\";\n",
      "\n"
     ]
    }
   ],
   "source": [
    "with open(path_pinput, \"r\") as pfile:\n",
    "\n",
    "    eof = False\n",
    "\n",
    "    while not eof:\n",
    "\n",
    "        line = pfile.readline()\n",
    "\n",
    "        print(line)\n",
    "\n",
    "        if \"Omega0\" in line:\n",
    "\n",
    "            val = re_fetch_float(line)\n",
    "\n",
    "            sim_params.update({\"Omega0\": val})\n",
    "\n",
    "        if \"adot0\" in line:\n",
    "\n",
    "            val = re_fetch_float(line)\n",
    "\n",
    "            sim_params.update({\"adot0\": val})\n",
    "\n",
    "        if \"D0\" in line:\n",
    "\n",
    "            val = re_fetch_float(line)\n",
    "\n",
    "            sim_params.update({\"D0\": val})\n",
    "\n",
    "        if \"MassRatio\" in line:\n",
    "\n",
    "            val = re_fetch_float(line)\n",
    "\n",
    "            sim_params.update({\"MassRatio\": val})\n",
    "\n",
    "        if \"SpinA\" in line:\n",
    "\n",
    "            val = re_fetch_vector(line)\n",
    "\n",
    "            sim_params.update({\"ChiA\": val})\n",
    "\n",
    "        if \"SpinB\" in line:\n",
    "\n",
    "            val = re_fetch_vector(line)\n",
    "\n",
    "            sim_params.update({\"ChiB\": val})\n",
    "\n",
    "        if \"$IDType\" in line:\n",
    "\n",
    "            val = re_fetch_string(line)\n",
    "\n",
    "            sim_params.update({\"IDType\": val})\n",
    "\n",
    "            eof = True"
   ]
  },
  {
   "cell_type": "code",
   "execution_count": 272,
   "metadata": {},
   "outputs": [
    {
     "data": {
      "text/plain": [
       "{'Omega0': 0.01716971039007491,\n",
       " 'adot0': -0.0004565923568523473,\n",
       " 'D0': 14.323074329602226,\n",
       " 'MassRatio': 11.0,\n",
       " 'IDType': 'SHK',\n",
       " 'ChiA': '(0.0,0,-0.4)',\n",
       " 'ChiB': '(0.0,0.0,0.2)'}"
      ]
     },
     "execution_count": 272,
     "metadata": {},
     "output_type": "execute_result"
    }
   ],
   "source": [
    "sim_params"
   ]
  },
  {
   "cell_type": "code",
   "execution_count": 114,
   "metadata": {},
   "outputs": [],
   "source": [
    "line = \"$Omega0 = 0.01716971039007491;\""
   ]
  },
  {
   "cell_type": "code",
   "execution_count": 77,
   "metadata": {},
   "outputs": [],
   "source": [
    "val = re.search(\"= \\d+\", line)"
   ]
  },
  {
   "cell_type": "code",
   "execution_count": 78,
   "metadata": {},
   "outputs": [
    {
     "data": {
      "text/plain": [
       "<function Match.start(group=0, /)>"
      ]
     },
     "execution_count": 78,
     "metadata": {},
     "output_type": "execute_result"
    }
   ],
   "source": [
    "val.start"
   ]
  },
  {
   "cell_type": "code",
   "execution_count": 79,
   "metadata": {},
   "outputs": [
    {
     "data": {
      "text/plain": [
       "<re.Match object; span=(8, 11), match='= 0'>"
      ]
     },
     "execution_count": 79,
     "metadata": {},
     "output_type": "execute_result"
    }
   ],
   "source": [
    "val"
   ]
  },
  {
   "cell_type": "code",
   "execution_count": 80,
   "metadata": {},
   "outputs": [
    {
     "data": {
      "text/plain": [
       "11"
      ]
     },
     "execution_count": 80,
     "metadata": {},
     "output_type": "execute_result"
    }
   ],
   "source": [
    "val.end()"
   ]
  },
  {
   "cell_type": "code",
   "execution_count": 81,
   "metadata": {},
   "outputs": [
    {
     "data": {
      "text/plain": [
       "(8, 11)"
      ]
     },
     "execution_count": 81,
     "metadata": {},
     "output_type": "execute_result"
    }
   ],
   "source": [
    "val.span()"
   ]
  },
  {
   "cell_type": "code",
   "execution_count": 82,
   "metadata": {},
   "outputs": [
    {
     "data": {
      "text/plain": [
       "'0.01716971039007491'"
      ]
     },
     "execution_count": 82,
     "metadata": {},
     "output_type": "execute_result"
    }
   ],
   "source": [
    "line[10:-1]"
   ]
  },
  {
   "cell_type": "code",
   "execution_count": null,
   "metadata": {},
   "outputs": [],
   "source": []
  },
  {
   "cell_type": "code",
   "execution_count": 113,
   "metadata": {},
   "outputs": [
    {
     "data": {
      "text/plain": [
       "'# IDType: \"SKS\", \"SHK\", \"SSphKS\" or \"CFMS\".\\n'"
      ]
     },
     "execution_count": 113,
     "metadata": {},
     "output_type": "execute_result"
    }
   ],
   "source": [
    "line"
   ]
  },
  {
   "cell_type": "code",
   "execution_count": 119,
   "metadata": {},
   "outputs": [],
   "source": [
    "val = re.search(\"= -?[0-9]*[.][0-9]*\", line)"
   ]
  },
  {
   "cell_type": "code",
   "execution_count": 102,
   "metadata": {},
   "outputs": [],
   "source": [
    "val = re.search(\";\", line)"
   ]
  },
  {
   "cell_type": "code",
   "execution_count": 120,
   "metadata": {},
   "outputs": [
    {
     "data": {
      "text/plain": [
       "<re.Match object; span=(8, 29), match='= 0.01716971039007491'>"
      ]
     },
     "execution_count": 120,
     "metadata": {},
     "output_type": "execute_result"
    }
   ],
   "source": [
    "val"
   ]
  },
  {
   "cell_type": "code",
   "execution_count": 125,
   "metadata": {},
   "outputs": [
    {
     "data": {
      "text/plain": [
       "'0.01716971039007491'"
      ]
     },
     "execution_count": 125,
     "metadata": {},
     "output_type": "execute_result"
    }
   ],
   "source": [
    "val.group()[2:]"
   ]
  },
  {
   "cell_type": "code",
   "execution_count": 101,
   "metadata": {},
   "outputs": [
    {
     "data": {
      "text/plain": [
       "'= 0.'"
      ]
     },
     "execution_count": 101,
     "metadata": {},
     "output_type": "execute_result"
    }
   ],
   "source": [
    "val.group()"
   ]
  },
  {
   "cell_type": "code",
   "execution_count": 138,
   "metadata": {},
   "outputs": [],
   "source": [
    "line2 = '$IDType = \"SHK\";'"
   ]
  },
  {
   "cell_type": "code",
   "execution_count": 143,
   "metadata": {},
   "outputs": [],
   "source": [
    "result = re.search('= \"[a-z]*\"', line2)"
   ]
  },
  {
   "cell_type": "code",
   "execution_count": 159,
   "metadata": {},
   "outputs": [],
   "source": [
    "result = re.search('= \"[a-z]*\";', line2)"
   ]
  },
  {
   "cell_type": "code",
   "execution_count": 187,
   "metadata": {},
   "outputs": [],
   "source": [
    "result = re.search('\"[a-z]+\"', line2)"
   ]
  },
  {
   "cell_type": "code",
   "execution_count": 206,
   "metadata": {},
   "outputs": [],
   "source": [
    "result = re.search('\".*\";', line2)"
   ]
  },
  {
   "cell_type": "code",
   "execution_count": null,
   "metadata": {},
   "outputs": [],
   "source": []
  },
  {
   "cell_type": "code",
   "execution_count": 207,
   "metadata": {},
   "outputs": [
    {
     "data": {
      "text/plain": [
       "<re.Match object; span=(10, 16), match='\"SHK\";'>"
      ]
     },
     "execution_count": 207,
     "metadata": {},
     "output_type": "execute_result"
    }
   ],
   "source": [
    "result"
   ]
  },
  {
   "cell_type": "code",
   "execution_count": 208,
   "metadata": {},
   "outputs": [],
   "source": [
    "vv = result.group()"
   ]
  },
  {
   "cell_type": "code",
   "execution_count": 209,
   "metadata": {},
   "outputs": [
    {
     "data": {
      "text/plain": [
       "'\"SHK\";'"
      ]
     },
     "execution_count": 209,
     "metadata": {},
     "output_type": "execute_result"
    }
   ],
   "source": [
    "str(vv)"
   ]
  },
  {
   "cell_type": "code",
   "execution_count": 218,
   "metadata": {},
   "outputs": [],
   "source": [
    "line3 = \"@SpinA = (0.0,0,-0.4);\""
   ]
  },
  {
   "cell_type": "code",
   "execution_count": 219,
   "metadata": {},
   "outputs": [
    {
     "data": {
      "text/plain": [
       "'@SpinA = (0.0,0,-0.4);'"
      ]
     },
     "execution_count": 219,
     "metadata": {},
     "output_type": "execute_result"
    }
   ],
   "source": [
    "line3"
   ]
  },
  {
   "cell_type": "code",
   "execution_count": 261,
   "metadata": {},
   "outputs": [],
   "source": [
    "result = re.search(\n",
    "    \"\\(-?[0-9]*[.]?[0-9]*,-?[0-9]*[.]?[0-9]*,-?[0-9]*[.]?[0-9]*\\)\", line3\n",
    ")"
   ]
  },
  {
   "cell_type": "code",
   "execution_count": 262,
   "metadata": {},
   "outputs": [
    {
     "data": {
      "text/plain": [
       "<re.Match object; span=(9, 21), match='(0.0,0,-0.4)'>"
      ]
     },
     "execution_count": 262,
     "metadata": {},
     "output_type": "execute_result"
    }
   ],
   "source": [
    "result"
   ]
  },
  {
   "cell_type": "code",
   "execution_count": 263,
   "metadata": {},
   "outputs": [
    {
     "data": {
      "text/plain": [
       "'(0.0,0,-0.4)'"
      ]
     },
     "execution_count": 263,
     "metadata": {},
     "output_type": "execute_result"
    }
   ],
   "source": [
    "result.group()"
   ]
  },
  {
   "cell_type": "code",
   "execution_count": null,
   "metadata": {},
   "outputs": [],
   "source": [
    "line4 = \"@SpinA = (0.0,0,-0.4);\""
   ]
  }
 ],
 "metadata": {
  "kernelspec": {
   "display_name": "wprep",
   "language": "python",
   "name": "python3"
  },
  "language_info": {
   "codemirror_mode": {
    "name": "ipython",
    "version": 3
   },
   "file_extension": ".py",
   "mimetype": "text/x-python",
   "name": "python",
   "nbconvert_exporter": "python",
   "pygments_lexer": "ipython3",
   "version": "3.11.7"
  }
 },
 "nbformat": 4,
 "nbformat_minor": 2
}
