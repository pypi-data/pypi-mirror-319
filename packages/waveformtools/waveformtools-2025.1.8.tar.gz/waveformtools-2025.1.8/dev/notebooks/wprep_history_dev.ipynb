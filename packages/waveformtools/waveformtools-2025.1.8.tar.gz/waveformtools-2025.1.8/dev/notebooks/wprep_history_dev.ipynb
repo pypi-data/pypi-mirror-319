{
 "cells": [
  {
   "cell_type": "code",
   "execution_count": 1,
   "metadata": {},
   "outputs": [],
   "source": [
    "import numpy as np\n",
    "import os\n",
    "from pathlib import Path"
   ]
  },
  {
   "cell_type": "code",
   "execution_count": 2,
   "metadata": {},
   "outputs": [
    {
     "name": "stdout",
     "output_type": "stream",
     "text": [
      "/mnt/pfs/vaishak.p/Projects/Codes/custom_libraries/waveformtools/waveformtools\n"
     ]
    }
   ],
   "source": [
    "from waveformtools.sxs.prepare_waveforms import PrepareSXSWaveform"
   ]
  },
  {
   "cell_type": "code",
   "execution_count": 3,
   "metadata": {},
   "outputs": [
    {
     "name": "stdout",
     "output_type": "stream",
     "text": [
      "Help on class PrepareSXSWaveform in module waveformtools.sxs.prepare_waveforms:\n",
      "\n",
      "class PrepareSXSWaveform(builtins.object)\n",
      " |  PrepareSXSWaveform(sim_name, history_file=PosixPath('history_file.txt'), sim_dir=PosixPath('.'), out_dir=None, joined_waveform_outfile_name=None, joined_horizons_outfile_name=None, lev=2, ecc=0)\n",
      " |  \n",
      " |  Prepare waveforms from a particular Lev and ECC of\n",
      " |  an SXS NR runs by\n",
      " |  \n",
      " |  1) Joining all segments\n",
      " |  2) Extrapolating to infinity\n",
      " |  3) Transforming to CoM frame\n",
      " |  4) Upload to cloud\n",
      " |  \n",
      " |  \n",
      " |  Attributes\n",
      " |  ----------\n",
      " |  sim_dir : str/POSIXPath\n",
      " |            The root directory containing\n",
      " |            the simulation directory\n",
      " |  sim_name :\n",
      " |  out_dir\n",
      " |  joined_outfile_dir\n",
      " |  joined_waveform_outfile_name\n",
      " |  joined_waveform_outfile_path\n",
      " |  joined_horizons_outfile_name\n",
      " |  joined_waveform_outfile_path\n",
      " |  lev\n",
      " |  ecc\n",
      " |  extrap_out_dir\n",
      " |  \n",
      " |  Methods\n",
      " |  -------\n",
      " |  join_waveform_h5_files\n",
      " |  extrapolate\n",
      " |  join_horizons\n",
      " |  transform_to_CoM_frame\n",
      " |  upload_output_dir\n",
      " |  prepare_waveform\n",
      " |  \n",
      " |  Methods defined here:\n",
      " |  \n",
      " |  __init__(self, sim_name, history_file=PosixPath('history_file.txt'), sim_dir=PosixPath('.'), out_dir=None, joined_waveform_outfile_name=None, joined_horizons_outfile_name=None, lev=2, ecc=0)\n",
      " |      Initialize self.  See help(type(self)) for accurate signature.\n",
      " |  \n",
      " |  extrapolate(self, ChMass=1.0, UseStupidNRARFormat=True)\n",
      " |      Extrapolate the waveform\n",
      " |  \n",
      " |  join_horizons(self, verbose=False)\n",
      " |      Join horizons file and save to the joined\n",
      " |      file dir\n",
      " |  \n",
      " |  join_waveform_h5_files(self, verbose=False)\n",
      " |      Join the waveform h5 files\n",
      " |  \n",
      " |  prepare_waveform(self, verbose=False, ChMass=1.0, UseStupidNRARFormat=True, skip_beginning_fraction=0.01, skip_ending_fraction=0.1, file_format='NRAR', extrap_enn_list=[-1, 2, 3, 4, 5, 6], upload=False)\n",
      " |  \n",
      " |  transform_to_CoM_frame(self, skip_beginning_fraction=0.01, skip_ending_fraction=0.1, file_format='NRAR', extrap_enn_list=[-1, 2, 3, 4, 5, 6])\n",
      " |  \n",
      " |  upload_output_dir(self)\n",
      " |  \n",
      " |  write_history(self)\n",
      " |  \n",
      " |  ----------------------------------------------------------------------\n",
      " |  Readonly properties defined here:\n",
      " |  \n",
      " |  ecc\n",
      " |  \n",
      " |  extrap_out_dir\n",
      " |  \n",
      " |  history_file\n",
      " |  \n",
      " |  joined_horizons_outfile_name\n",
      " |  \n",
      " |  joined_horizons_outfile_path\n",
      " |  \n",
      " |  joined_outfile_dir\n",
      " |      The directory containing the\n",
      " |      joined files\n",
      " |  \n",
      " |  joined_waveform_outfile_name\n",
      " |  \n",
      " |  joined_waveform_outfile_path\n",
      " |  \n",
      " |  lev\n",
      " |  \n",
      " |  out_dir\n",
      " |  \n",
      " |  sim_dir\n",
      " |      The full path to the directory containing the\n",
      " |      simulation\n",
      " |  \n",
      " |  sim_name\n",
      " |  \n",
      " |  ----------------------------------------------------------------------\n",
      " |  Data descriptors defined here:\n",
      " |  \n",
      " |  __dict__\n",
      " |      dictionary for instance variables\n",
      " |  \n",
      " |  __weakref__\n",
      " |      list of weak references to the object\n",
      "\n"
     ]
    }
   ],
   "source": [
    "help(PrepareSXSWaveform)"
   ]
  },
  {
   "cell_type": "code",
   "execution_count": 4,
   "metadata": {},
   "outputs": [],
   "source": [
    "sims1 = {\n",
    "    \"ICTSEccParallel01\": [2, 3],\n",
    "    \"ICTSEccParallel02\": [2, 3],\n",
    "    \"ICTSEccParallel03\": [2, 3],\n",
    "    \"ICTSEccParallel04\": [2, 3],\n",
    "    \"ICTSEccParallel05\": [2, 3],\n",
    "}"
   ]
  },
  {
   "cell_type": "code",
   "execution_count": null,
   "metadata": {},
   "outputs": [],
   "source": []
  },
  {
   "cell_type": "code",
   "execution_count": 5,
   "metadata": {},
   "outputs": [
    {
     "ename": "TypeError",
     "evalue": "PrepareSXSWaveform.__init__() missing 1 required positional argument: 'sim_name'",
     "output_type": "error",
     "traceback": [
      "\u001b[0;31m---------------------------------------------------------------------------\u001b[0m",
      "\u001b[0;31mTypeError\u001b[0m                                 Traceback (most recent call last)",
      "Cell \u001b[0;32mIn[5], line 1\u001b[0m\n\u001b[0;32m----> 1\u001b[0m pw \u001b[38;5;241m=\u001b[39m \u001b[43mPrepareSXSWaveform\u001b[49m\u001b[43m(\u001b[49m\u001b[43m)\u001b[49m\n",
      "\u001b[0;31mTypeError\u001b[0m: PrepareSXSWaveform.__init__() missing 1 required positional argument: 'sim_name'"
     ]
    }
   ],
   "source": [
    "pw = PrepareSXSWaveform()"
   ]
  },
  {
   "cell_type": "code",
   "execution_count": 1,
   "metadata": {},
   "outputs": [],
   "source": [
    "import os\n",
    "\n",
    "thedir = \"/mnt/pfs/vaishak.p/sims/SpEC/gcc/bfi/ICTSEccParallel\"\n",
    "dirs = [\n",
    "    name\n",
    "    for name in os.listdir(thedir)\n",
    "    if os.path.isdir(os.path.join(thedir, name))\n",
    "]"
   ]
  },
  {
   "cell_type": "code",
   "execution_count": 2,
   "metadata": {},
   "outputs": [
    {
     "data": {
      "text/plain": [
       "['ICTSEccParallel13',\n",
       " 'ICTSEccParallel12',\n",
       " 'ICTSEccParallel01',\n",
       " 'ICTSEccParallel15',\n",
       " 'ICTSEccParallel10',\n",
       " 'ICTSEccParallel02',\n",
       " 'ICTSEccParallel06',\n",
       " 'ICTSEccParallel09',\n",
       " 'ICTSEccParallel17',\n",
       " 'ICTSEccParallel11',\n",
       " 'ICTSEccParallel04',\n",
       " 'ICTSEccParallel03',\n",
       " 'ICTSEccParallel08',\n",
       " 'ICTSEccParallel07',\n",
       " 'ICTSEccParallel05',\n",
       " 'ICTSEccParallel14',\n",
       " 'ICTSEccParallel16']"
      ]
     },
     "execution_count": 2,
     "metadata": {},
     "output_type": "execute_result"
    }
   ],
   "source": [
    "dirs"
   ]
  },
  {
   "cell_type": "code",
   "execution_count": 5,
   "metadata": {},
   "outputs": [],
   "source": [
    "with open(\"trialHistory.txt\", \"a\") as th:\n",
    "\n",
    "    for item in dirs:\n",
    "        th.write(item)\n",
    "        th.write(\"\\n\")\n",
    "\n",
    "    # th.write('EOF')"
   ]
  },
  {
   "cell_type": "code",
   "execution_count": 10,
   "metadata": {},
   "outputs": [],
   "source": [
    "sims = []\n",
    "line = None\n",
    "\n",
    "with open(\"trialHistory.txt\", \"r\") as th:\n",
    "\n",
    "    while line != \"\":\n",
    "        line = th.readline()\n",
    "        sims.append(Path(thedir).joinpath(Path(line.replace(\"\\n\", \"\"))))\n",
    "\n",
    "sims = sims[:-1]"
   ]
  },
  {
   "cell_type": "code",
   "execution_count": 11,
   "metadata": {},
   "outputs": [
    {
     "data": {
      "text/plain": [
       "[PosixPath('/mnt/pfs/vaishak.p/sims/SpEC/gcc/bfi/ICTSEccParallel/ICTSEccParallel13'),\n",
       " PosixPath('/mnt/pfs/vaishak.p/sims/SpEC/gcc/bfi/ICTSEccParallel/ICTSEccParallel12'),\n",
       " PosixPath('/mnt/pfs/vaishak.p/sims/SpEC/gcc/bfi/ICTSEccParallel/ICTSEccParallel01'),\n",
       " PosixPath('/mnt/pfs/vaishak.p/sims/SpEC/gcc/bfi/ICTSEccParallel/ICTSEccParallel15'),\n",
       " PosixPath('/mnt/pfs/vaishak.p/sims/SpEC/gcc/bfi/ICTSEccParallel/ICTSEccParallel10'),\n",
       " PosixPath('/mnt/pfs/vaishak.p/sims/SpEC/gcc/bfi/ICTSEccParallel/ICTSEccParallel02'),\n",
       " PosixPath('/mnt/pfs/vaishak.p/sims/SpEC/gcc/bfi/ICTSEccParallel/ICTSEccParallel06'),\n",
       " PosixPath('/mnt/pfs/vaishak.p/sims/SpEC/gcc/bfi/ICTSEccParallel/ICTSEccParallel09'),\n",
       " PosixPath('/mnt/pfs/vaishak.p/sims/SpEC/gcc/bfi/ICTSEccParallel/ICTSEccParallel17'),\n",
       " PosixPath('/mnt/pfs/vaishak.p/sims/SpEC/gcc/bfi/ICTSEccParallel/ICTSEccParallel11'),\n",
       " PosixPath('/mnt/pfs/vaishak.p/sims/SpEC/gcc/bfi/ICTSEccParallel/ICTSEccParallel04'),\n",
       " PosixPath('/mnt/pfs/vaishak.p/sims/SpEC/gcc/bfi/ICTSEccParallel/ICTSEccParallel03'),\n",
       " PosixPath('/mnt/pfs/vaishak.p/sims/SpEC/gcc/bfi/ICTSEccParallel/ICTSEccParallel08'),\n",
       " PosixPath('/mnt/pfs/vaishak.p/sims/SpEC/gcc/bfi/ICTSEccParallel/ICTSEccParallel07'),\n",
       " PosixPath('/mnt/pfs/vaishak.p/sims/SpEC/gcc/bfi/ICTSEccParallel/ICTSEccParallel05'),\n",
       " PosixPath('/mnt/pfs/vaishak.p/sims/SpEC/gcc/bfi/ICTSEccParallel/ICTSEccParallel14'),\n",
       " PosixPath('/mnt/pfs/vaishak.p/sims/SpEC/gcc/bfi/ICTSEccParallel/ICTSEccParallel16')]"
      ]
     },
     "execution_count": 11,
     "metadata": {},
     "output_type": "execute_result"
    }
   ],
   "source": [
    "sims"
   ]
  },
  {
   "cell_type": "code",
   "execution_count": 12,
   "metadata": {},
   "outputs": [
    {
     "name": "stdout",
     "output_type": "stream",
     "text": [
      "['Ecc0', 'SetupRev']\n",
      "['Ecc0', 'SetupRev']\n",
      "['Ecc0', 'SetupRev']\n",
      "['Ecc0', 'SetupRev']\n",
      "['SetupRev', 'Ecc0']\n",
      "['SetupRev', 'Ecc0']\n",
      "['Ecc0', 'SetupRev']\n",
      "['Ecc0', 'SetupRev']\n",
      "['SetupRev', 'Ecc0']\n",
      "['Ecc0', 'SetupRev']\n",
      "['Ecc0', 'SetupRev']\n",
      "['Ecc0', 'SetupRev']\n",
      "['SetupRev', 'Ecc0']\n",
      "['Ecc0', 'SetupRev']\n",
      "['SetupRev', 'Ecc0']\n",
      "['SetupRev', 'Ecc0']\n",
      "['Ecc0', 'SetupRev']\n"
     ]
    }
   ],
   "source": [
    "for item in sims:\n",
    "\n",
    "    d = os.listdir(item)\n",
    "    print(d)"
   ]
  },
  {
   "cell_type": "code",
   "execution_count": 13,
   "metadata": {},
   "outputs": [],
   "source": [
    "import datetime"
   ]
  },
  {
   "cell_type": "code",
   "execution_count": 14,
   "metadata": {},
   "outputs": [],
   "source": [
    "from datetime import time"
   ]
  },
  {
   "cell_type": "code",
   "execution_count": 15,
   "metadata": {},
   "outputs": [
    {
     "ename": "AttributeError",
     "evalue": "type object 'datetime.time' has no attribute 'today'",
     "output_type": "error",
     "traceback": [
      "\u001b[0;31m---------------------------------------------------------------------------\u001b[0m",
      "\u001b[0;31mAttributeError\u001b[0m                            Traceback (most recent call last)",
      "Cell \u001b[0;32mIn[15], line 1\u001b[0m\n\u001b[0;32m----> 1\u001b[0m \u001b[43mtime\u001b[49m\u001b[38;5;241;43m.\u001b[39;49m\u001b[43mtoday\u001b[49m()\n",
      "\u001b[0;31mAttributeError\u001b[0m: type object 'datetime.time' has no attribute 'today'"
     ]
    }
   ],
   "source": [
    "time.today()"
   ]
  },
  {
   "cell_type": "code",
   "execution_count": 16,
   "metadata": {},
   "outputs": [
    {
     "data": {
      "text/plain": [
       "'2024-01-31'"
      ]
     },
     "execution_count": 16,
     "metadata": {},
     "output_type": "execute_result"
    }
   ],
   "source": [
    "str(datetime.date.today())"
   ]
  },
  {
   "cell_type": "code",
   "execution_count": 42,
   "metadata": {},
   "outputs": [
    {
     "data": {
      "text/plain": [
       "'2024-01-31 13:25:12.270859'"
      ]
     },
     "execution_count": 42,
     "metadata": {},
     "output_type": "execute_result"
    }
   ],
   "source": [
    "str(datetime.datetime.now())"
   ]
  },
  {
   "cell_type": "code",
   "execution_count": null,
   "metadata": {},
   "outputs": [],
   "source": []
  }
 ],
 "metadata": {
  "kernelspec": {
   "display_name": "wftools",
   "language": "python",
   "name": "python3"
  },
  "language_info": {
   "codemirror_mode": {
    "name": "ipython",
    "version": 3
   },
   "file_extension": ".py",
   "mimetype": "text/x-python",
   "name": "python",
   "nbconvert_exporter": "python",
   "pygments_lexer": "ipython3",
   "version": "3.11.7"
  }
 },
 "nbformat": 4,
 "nbformat_minor": 2
}
