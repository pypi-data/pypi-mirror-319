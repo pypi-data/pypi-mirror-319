{
 "cells": [
  {
   "cell_type": "code",
   "execution_count": null,
   "id": "e66cf97e",
   "metadata": {},
   "outputs": [],
   "source": []
  },
  {
   "cell_type": "code",
   "execution_count": 1,
   "id": "1df87926",
   "metadata": {},
   "outputs": [],
   "source": [
    "# 4 sided"
   ]
  },
  {
   "cell_type": "code",
   "execution_count": null,
   "id": "4ebe04d4",
   "metadata": {},
   "outputs": [],
   "source": []
  },
  {
   "cell_type": "code",
   "execution_count": 2,
   "id": "f821ea79",
   "metadata": {},
   "outputs": [],
   "source": [
    "import networkx as nx\n",
    "def create_pos(vals):\n",
    "    return list(zip(vals[\"x\"], vals[\"y\"]))\n",
    "\n",
    "def SSE(vals):\n",
    "    xs = vals[\"x\"]\n",
    "    ys = vals[\"y\"]\n",
    "    x_bar = np.mean(xs)\n",
    "    y_bar = np.mean(ys)\n",
    "    s  = np.sum(np.square(xs-x_bar))\n",
    "    s += np.sum(np.square(ys-y_bar))\n",
    "    return s\n",
    "\n",
    "def SAE(vals):\n",
    "    xs = vals[\"x\"]\n",
    "    ys = vals[\"y\"]\n",
    "    x_bar = np.median(xs)\n",
    "    y_bar = np.median(ys)\n",
    "    s  = np.sum(np.abs(xs-x_bar))\n",
    "    s += np.sum(np.abs(ys-y_bar))\n",
    "    return s\n",
    "\n"
   ]
  },
  {
   "cell_type": "code",
   "execution_count": 3,
   "id": "f46b37cd",
   "metadata": {},
   "outputs": [],
   "source": [
    "import numpy as np"
   ]
  },
  {
   "cell_type": "code",
   "execution_count": 4,
   "id": "a72b2bb0",
   "metadata": {},
   "outputs": [],
   "source": [
    "import matplotlib.pyplot as plt"
   ]
  },
  {
   "cell_type": "code",
   "execution_count": 5,
   "id": "fa1f365f",
   "metadata": {},
   "outputs": [],
   "source": [
    "x=\"x\"\n",
    "y=\"y\"\n",
    "edges=\"edges\""
   ]
  },
  {
   "cell_type": "code",
   "execution_count": 6,
   "id": "1266edb4",
   "metadata": {},
   "outputs": [],
   "source": [
    "l3=[\n",
    "    {x : [0,4,4],\n",
    "     y : [0,0,3],\n",
    "     edges : [(0,1),(0,2),(1,2)]},\n",
    "]"
   ]
  },
  {
   "cell_type": "code",
   "execution_count": 7,
   "id": "64e653a7",
   "metadata": {},
   "outputs": [],
   "source": [
    "l4=[\n",
    "    {x : [0,4,4,8],\n",
    "     y : [0,0,3,0],\n",
    "     edges : [(0,1),(0,2),(1,2),(1,3),(2,3)]},\n",
    "    {x : [0,0,4,4],\n",
    "     y : [0,3,0,-3],\n",
    "     edges : [(0,1),(0,2),(1,2),(2,3)]},\n",
    "    {x : [0,0,4,7],\n",
    "     y : [0,3,0,0],\n",
    "     edges : [(0,1),(0,2),(1,2),(2,3)]},\n",
    "    # second row\n",
    "    {x : [0,0,4,8],\n",
    "     y : [0,3,0,0],\n",
    "     edges : [(0,1),(0,2),(1,2),(2,3)]},\n",
    "    {x : [0,0,4,8],\n",
    "     y : [0,3,0,-3],\n",
    "     edges : [(0,1),(0,2),(1,2),(2,3)]},\n",
    "    {x : [0,0,4,7],\n",
    "     y : [0,3,0,-4],\n",
    "     edges : [(0,1),(0,2),(1,2),(2,3)]},\n",
    "    # third row\n",
    "    {x : [0,0,4,8],\n",
    "     y : [0,3,0,3],\n",
    "     edges : [(0,1),(0,2),(1,2),(2,3)]},\n",
    "    {x : [0,3,3,7],\n",
    "     y : [0,0,4,4],\n",
    "     edges : [(0,1),(0,2),(1,2),(2,3)]},\n",
    "    {x : [0,3,0,4],\n",
    "     y : [0,0,4,4],\n",
    "     edges : [(0,1),(0,2),(1,2),(2,3)]},\n",
    "    {x : [0,0,4,4],\n",
    "     y : [0,3,0,3],\n",
    "     edges : [(0,1),(0,2),(1,2),(2,3), (1,3)]},\n",
    "]"
   ]
  },
  {
   "cell_type": "code",
   "execution_count": null,
   "id": "36b20d61",
   "metadata": {},
   "outputs": [],
   "source": []
  },
  {
   "cell_type": "code",
   "execution_count": 8,
   "id": "0fb74f41",
   "metadata": {},
   "outputs": [],
   "source": [
    "l5=[\n",
    "    # row 1\n",
    "    {x : [0,4,4,8,12],\n",
    "     y : [0,0,3,0,0],\n",
    "     edges : [(0,1),(0,2),(1,2),(1,3),(2,3),(3,4)]},\n",
    "    \n",
    "   # row 1, col 2\n",
    "    {x : [0,0,4,4,8],\n",
    "     y : [0,3,0,3,3],\n",
    "     edges : [(0,1),(0,2),(1,2),(2,3), (1,3), (3,4)]},\n",
    "   # row 1, col 3\n",
    "    {x : [0,4,4,8,11],\n",
    "     y : [0,0,3,0,0],\n",
    "     edges : [(0,1),(0,2),(1,2),(1,3),(2,3),(3,4)]}, \n",
    "    \n",
    "    \n",
    "   # row 2,1\n",
    "    {x : [0,4,4,8,12],\n",
    "     y : [0,0,3,0,3],\n",
    "     edges : [(0,1),(0,2),(1,2),(1,3),(2,3),(3,4)]}, \n",
    "      # row 2, col 2\n",
    "    {x : [0,0,4,4,8],\n",
    "     y : [0,3,0,3,-3],\n",
    "     edges : [(0,1),(0,2),(1,2),(2,3), (1,3), (2,4)]}, \n",
    "   # row 2, col 3\n",
    "    {x : [0,4,4,8,11],\n",
    "     y : [0,0,3,0,-4],\n",
    "     edges : [(0,1),(0,2),(1,2),(1,3),(2,3),(3,4)]}, \n",
    "\n",
    "    \n",
    "   # row 5, col 1\n",
    "    {x : [0,4,4,8,12],\n",
    "     y : [0,0,3,0,-3],\n",
    "     edges : [(0,1),(0,2),(1,2),(1,3),(2,3),(3,4)]},\n",
    "      # row 5, col 2\n",
    "    {x : [0,0,4,4,-3],\n",
    "     y : [0,3,0,3,7],\n",
    "     edges : [(0,1),(0,2),(1,2),(2,3), (1,3), (1,4)]}, \n",
    "    \n",
    "   # row 6, col 1\n",
    "    {x : [0,4,4,8,8],\n",
    "     y : [0,0,3,0,-3],\n",
    "     edges : [(0,1),(0,2),(1,2),(1,3),(2,3),(3,4)]},\n",
    "  # row 6, col 2\n",
    "    {x : [0,0,3,3,7],\n",
    "     y : [0,4,0,4,4],\n",
    "     edges : [(0,1),(0,2),(1,2),(2,3), (1,3), (3,4)]}, \n",
    "   # row 6, col 3\n",
    "    {x : [0,4,4,8,3],\n",
    "     y : [0,0,3,0,-4],\n",
    "     edges : [(0,1),(0,2),(1,2),(1,3),(2,3),(0,4)]}, \n",
    "    \n",
    "   # row 7, col 2\n",
    "    {x : [0,4,4,8,8],\n",
    "     y : [0,0,3,0,-4],\n",
    "     edges : [(0,1),(0,2),(1,2),(1,3),(2,3),(3,4)]}, \n",
    "    \n",
    "   # row 7, col 3\n",
    "    {x : [0,4,4,8,11],\n",
    "     y : [0,0,3,0,4],\n",
    "     edges : [(0,1),(0,2),(1,2),(1,3),(2,3),(3,4)]}, \n",
    "    \n",
    "   # row 3, col 1\n",
    "    {x : [0,0,4,8,8],\n",
    "     y : [0,3,0,0,3],\n",
    "     edges : [(0,1),(0,2),(1,2),(2,4),(2,3),(3,4)]}, \n",
    "       # row 4, col 1\n",
    "    {x : [0,0,4,8,8],\n",
    "     y : [0,3,0,0,-3],\n",
    "     edges : [(0,1),(0,2),(1,2),(2,4),(2,3),(3,4)]}, \n",
    "    \n",
    "           # row 7, col 1\n",
    "    {x : [0,0,4,8,4],\n",
    "     y : [0,3,0,0,-3],\n",
    "     edges : [(0,1),(0,2),(1,2),(2,4),(2,3),(3,4)]}, \n",
    "    \n",
    "       # row 3, col 2\n",
    "    {x : [0,0,4,7,4],\n",
    "     y : [0,3,0,0,-4],\n",
    "     edges : [(0,1),(0,2),(1,2),(2,4),(2,3),(3,4)]}, \n",
    "    \n",
    "       # row 3, col 3\n",
    "    {x : [0,0,4,7,4],\n",
    "     y : [0,3,0,-4,-4],\n",
    "     edges : [(0,1),(0,2),(1,2),(2,4),(2,3),(3,4)]}, \n",
    "    \n",
    "       # row 5, col 3\n",
    "    {x : [0,0,4,8,4],\n",
    "     y : [0,4,0,0,3],\n",
    "     edges : [(0,1),(0,2),(2,4),(2,3), (0,4)]}, \n",
    "\n",
    "]"
   ]
  },
  {
   "cell_type": "code",
   "execution_count": 9,
   "id": "c73bc60a",
   "metadata": {},
   "outputs": [
    {
     "data": {
      "text/plain": [
       "19"
      ]
     },
     "execution_count": 9,
     "metadata": {},
     "output_type": "execute_result"
    }
   ],
   "source": [
    "len(l5)"
   ]
  },
  {
   "cell_type": "code",
   "execution_count": 10,
   "id": "838c9138",
   "metadata": {
    "scrolled": false
   },
   "outputs": [
    {
     "name": "stdout",
     "output_type": "stream",
     "text": [
      "25.0\n"
     ]
    },
    {
     "data": {
      "image/png": "[encoded data removed]",
      "text/plain": [
       "<Figure size 640x480 with 1 Axes>"
      ]
     },
     "metadata": {},
     "output_type": "display_data"
    }
   ],
   "source": [
    "l=l4\n",
    "i=len(l)-1\n",
    "#for i in range(len(l)):\n",
    "G=nx.Graph()\n",
    "G.add_nodes_from(range(len(l[i][\"x\"])))\n",
    "G.add_edges_from(l[i][\"edges\"])\n",
    "nx.draw(G, pos = create_pos(l[i]))\n",
    "plt.axis(\"square\")\n",
    "plt.ylim(min(l[i][\"y\"])-0.5,max(l[i][\"y\"])+0.5)\n",
    "print(SSE(l[i]))\n",
    "#print(SAE(l[i]))\n",
    "plt.show()"
   ]
  },
  {
   "cell_type": "code",
   "execution_count": 11,
   "id": "0e07a661",
   "metadata": {},
   "outputs": [],
   "source": [
    "def minmax(vals):\n",
    "    xs = vals[\"x\"]\n",
    "    ys = vals[\"y\"]\n",
    "    x_min = np.min(xs)\n",
    "    x_max = np.max(xs)\n",
    "    y_min = np.min(ys)\n",
    "    y_max = np.max(ys)\n",
    "    return x_min, x_max, y_min, y_max\n",
    "\n",
    "def MinMaxE(vals):\n",
    "    x_min, x_max, y_min, y_max = minmax(vals)\n",
    "    sx = (x_max-x_min)/2\n",
    "    sy = (y_max-y_min)/2\n",
    "    return sx, sy\n",
    "\n",
    "def CoordMaxE(vals):\n",
    "    sx, sy = MinMaxE(vals)\n",
    "    return max(sx, sy)\n",
    "\n",
    "def SCoordMaxE(vals):\n",
    "    sx, sy = MinMaxE(vals)\n",
    "    return sx + sy\n",
    "\n",
    "def RoundUp(vals):\n",
    "    xs = vals[\"x\"]\n",
    "    ys = vals[\"y\"]\n",
    "    x_min, x_max, y_min, y_max = minmax(vals)\n",
    "    s  = np.sum(np.abs(xs-x_max))\n",
    "    s += np.sum(np.abs(ys-y_max))\n",
    "    return s\n",
    "\n",
    "from itertools import combinations\n",
    "def MaxDist(vals):   \n",
    "    xs = vals[\"x\"]\n",
    "    ys = vals[\"y\"]\n",
    "    n = len(xs)\n",
    "    arr = np.zeros((n,n))\n",
    "    for i,j in combinations(range(n),2):\n",
    "        s =  (xs[i]-xs[j])**2\n",
    "        s += (ys[i]-ys[j])**2\n",
    "        arr[i,j]=s\n",
    "    return np.sqrt(np.max(arr))"
   ]
  },
  {
   "cell_type": "code",
   "execution_count": 17,
   "id": "5c3e7167",
   "metadata": {},
   "outputs": [
    {
     "name": "stdout",
     "output_type": "stream",
     "text": [
      "3.5\n"
     ]
    }
   ],
   "source": [
    "C = SCoordMaxE\n",
    "min3=min(map(C,l3))\n",
    "print(min3)"
   ]
  },
  {
   "cell_type": "code",
   "execution_count": 18,
   "id": "0d3b40b6",
   "metadata": {},
   "outputs": [
    {
     "name": "stdout",
     "output_type": "stream",
     "text": [
      "[5.5, 5.0, 5.0, 5.5, 7.0, 7.0, 5.5, 5.5, 4.0, 3.5]\n",
      "min4: 3.5\n",
      "1.0 should be larger than  1.3333333333333333\n"
     ]
    }
   ],
   "source": [
    "print(list(map(C,l4)))\n",
    "min4 = min(map(C,l4))\n",
    "print(\"min4:\", min4)\n",
    "print(min4/min3,\"should be larger than \", 4/3)"
   ]
  },
  {
   "cell_type": "code",
   "execution_count": 19,
   "id": "60fd7bcd",
   "metadata": {},
   "outputs": [
    {
     "name": "stdout",
     "output_type": "stream",
     "text": [
      "min5: 5.5\n",
      "1.5714285714285714 should be larger than  1.6666666666666667\n"
     ]
    }
   ],
   "source": [
    "min5 = min(map(C,l5))\n",
    "print(\"min5:\", min5)\n",
    "print(min5/min3,\"should be larger than \", 5/3)"
   ]
  },
  {
   "cell_type": "code",
   "execution_count": 15,
   "id": "20f8c634",
   "metadata": {},
   "outputs": [
    {
     "data": {
      "text/plain": [
       "1.5714285714285714"
      ]
     },
     "execution_count": 15,
     "metadata": {},
     "output_type": "execute_result"
    }
   ],
   "source": [
    "11/7"
   ]
  },
  {
   "cell_type": "code",
   "execution_count": 16,
   "id": "12213e4d",
   "metadata": {},
   "outputs": [
    {
     "data": {
      "text/plain": [
       "1.1300000000000001"
      ]
     },
     "execution_count": 16,
     "metadata": {},
     "output_type": "execute_result"
    }
   ],
   "source": [
    "5.65/5"
   ]
  },
  {
   "cell_type": "code",
   "execution_count": null,
   "id": "da5b780e",
   "metadata": {},
   "outputs": [],
   "source": []
  }
 ],
 "metadata": {
  "kernelspec": {
   "display_name": "Python 3 (ipykernel)",
   "language": "python",
   "name": "python3"
  },
  "language_info": {
   "codemirror_mode": {
    "name": "ipython",
    "version": 3
   },
   "file_extension": ".py",
   "mimetype": "text/x-python",
   "name": "python",
   "nbconvert_exporter": "python",
   "pygments_lexer": "ipython3",
   "version": "3.10.11"
  }
 },
 "nbformat": 4,
 "nbformat_minor": 5
}
