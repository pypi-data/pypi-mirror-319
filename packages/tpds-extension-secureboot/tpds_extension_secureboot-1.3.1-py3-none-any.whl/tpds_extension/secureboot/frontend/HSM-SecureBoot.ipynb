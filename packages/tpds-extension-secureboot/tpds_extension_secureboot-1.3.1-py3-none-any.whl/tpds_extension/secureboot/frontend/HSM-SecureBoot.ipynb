{
 "cells": [
  {
   "cell_type": "code",
   "execution_count": 2,
   "metadata": {
    "scrolled": true
   },
   "outputs": [
    {
     "data": {
      "text/html": [
       "<p id = 'heading1_p'>Secure Boot - PIC32CZCA90/PIC32CKSG01 </p>\n",
       "<hr id = 'hline'> </hr> \n",
       "<p id = 'heading1_p' style='font-size: 20px; font-weight: bold;'>Introduction</p>\n",
       "<div id='div_element'>\n",
       "<p>This usecase will sign and authenticate application image to support secure boot in combination with HSM embedded in PIC32CZ-CA90/PIC32CK-SG01.\n",
       "The use case demonstrates Sequential Secure Boot of PIC32CZ-CA90/PIC32CK-SG01 in Test Mode.  The HSM authenticates meta data and then verifies HSM and host application image before execution. If there is an authentication failure the secure boot will not transfer control to host application and the board could be permanently locked out. To avoid this and safely evaluate secure boot, this use case uses Test Secure Boot Mode to help with secure boot development before production.\n",
       "</p>\n",
       "</div>\n",
       "\n",
       "<button style='font-size: 20px; font-weight: bold;'>Cryptographic Asset list & Use Case implementation</button>\n",
       "\n",
       "<div id='content_element'>\n",
       "<hr id = 'h_content'> </hr> \n",
       "<p style=\"float: left; font-size: 9pt; text-align: center; 20em; width: 55%; margin-right: 1%;\"><img src=\"assets\\images\\secureboot_steps.png\" style=\"height: 60em; width: 100%\"><b>Use Case implementation</b></p>\n",
       "<p style=\"clear: both;\">\n",
       "\n",
       "</div>\n",
       "\n",
       "<div id='div_element'>\n",
       "<p>Select your Evaluation kit and then click on each step to execute the Use Case. Click on Usecase Help button in transaction diagram for additional details.</p>\n",
       "  <li>EV16W43A-PIC32CZ CA90 Curiosity Ultra Development Board</li>\n",
       "  <li>EA14V17A-PIC32CK SG Curiosity Ultra Development Board</li>\n",
       "</div>\n",
       "<div id='div_element'>\n",
       "<p><h3>Note:</h3> In step 2 select led_app_pic32czca90 for EV16W43A(PIC32CZ-CA90) and led_app_pic32cksg01 for EA14V17A(PIC32CK-SG01).Use prodiction hex image for custom application. </p>\n",
       "</div>\n"
      ],
      "text/plain": [
       "<IPython.core.display.HTML object>"
      ]
     },
     "metadata": {},
     "output_type": "display_data"
    }
   ],
   "source": [
    "%%HTML\n",
    "<p id = 'heading1_p'>Secure Boot - PIC32CZCA90/PIC32CKSG01 </p>\n",
    "<hr id = 'hline'> </hr>\n",
    "<p id = 'heading1_p' style='font-size: 20px; font-weight: bold;'>Introduction</p>\n",
    "<div id='div_element'>\n",
    "<p>This usecase will sign and authenticate application image to support secure boot in combination with HSM embedded in PIC32CZ-CA90/PIC32CK-SG01.\n",
    "The use case demonstrates Sequential Secure Boot of PIC32CZ-CA90/PIC32CK-SG01 in Test Mode.  The HSM authenticates meta data and then verifies HSM and host application image before execution. If there is an authentication failure the secure boot will not transfer control to host application and the board could be permanently locked out. To avoid this and safely evaluate secure boot, this use case uses Test Secure Boot Mode to help with secure boot development before production.\n",
    "</p>\n",
    "</div>\n",
    "\n",
    "<button class= \"collapsible\" style='font-size: 20px; font-weight: bold;'>   Cryptographic Asset list & Use Case implementation</button>\n",
    "<div class=\"content\">\n",
    "<div id='content_element'>\n",
    "<hr id = 'h_content'> </hr>\n",
    "<p style=\"float: left; font-size: 9pt; text-align: center; 20em; width: 55%; margin-right: 1%;\"><img src=\"assets\\images\\secureboot_steps.png\" style=\"height: 60em; width: 100%\"><b>Use Case implementation</b></p>\n",
    "<p style=\"clear: both;\">\n",
    "</div>\n",
    "</div>\n",
    "\n",
    "<div id='div_element'>\n",
    "<p>Select your Evaluation kit and then click on each step to execute the Use Case. Click on Usecase Help button in transaction diagram for additional details.</p>\n",
    "</div>\n",
    "<div id='div_element'>\n",
    "<p><h3>Note:</h3> In step 2 select led_app_pic32czca90 for PIC32CZCA90 CUltra and led_app_pic32cksg01 for PIC32CKSG01 CUltra.Use prodiction hex image for custom application. </p>\n",
    "</div>"
   ]
  },
  {
   "cell_type": "code",
   "execution_count": 1,
   "metadata": {
    "scrolled": true
   },
   "outputs": [
    {
     "data": {
      "application/vnd.jupyter.widget-view+json": {
       "model_id": "e9718204ce654342bc8af2c03b645a55",
       "version_major": 2,
       "version_minor": 0
      },
      "text/plain": [
       "MultiCanvas(height=200, layout=Layout(margin='50px'), width=400)"
      ]
     },
     "metadata": {},
     "output_type": "display_data"
    },
    {
     "data": {
      "application/vnd.jupyter.widget-view+json": {
       "model_id": "b75485c0831940b880e4853a3eed6a53",
       "version_major": 2,
       "version_minor": 0
      },
      "text/plain": [
       "VBox(children=(HBox(children=(VBox(children=(VBox(children=(HBox(children=(HBox(children=(Button(description='…"
      ]
     },
     "execution_count": 1,
     "metadata": {},
     "output_type": "execute_result"
    }
   ],
   "source": [
    "import os, shutil\n",
    "from tpds.usecase_diagram import ProtoBoard, UsecaseDiagram\n",
    "from tpds.tp_utils.tp_settings import TPSettings\n",
    "from tpds.proto_boards import get_board_path\n",
    "from IPython.display import display\n",
    "\n",
    "curr_path = os.path.abspath('')\n",
    "os.sys.path.extend([os.path.join(os.getcwd(), 'assets', 'python')])\n",
    "import secureboot\n",
    "\n",
    "tp_settings = TPSettings()\n",
    "usecase_working_dir = os.path.join(tp_settings.get_base_folder(), 'HSM_secureboot')\n",
    "os.makedirs(usecase_working_dir, exist_ok=True)\n",
    "boards = ProtoBoard(max_width=400)\n",
    "\n",
    "\n",
    "\n",
    "app_path_pic32czca90=os.path.join(curr_path,'..','backend','boards','PIC32CZCA90', 'led_app_pic32czca90.hex')\n",
    "fwmdtool_path_pic32czca90=os.path.join(curr_path,'..','backend','Tools')\n",
    "hsm_hex_pic32czca90=os.path.join(curr_path,'..','backend','boards','PIC32CZCA90', 'HSM_pic32czca90.hex')\n",
    "shutil.copy(app_path_pic32czca90, usecase_working_dir)\n",
    "shutil.copy(hsm_hex_pic32czca90, usecase_working_dir)\n",
    "\n",
    "\n",
    "app_path_pic32cksg01=os.path.join(curr_path,'..','backend','boards','PIC32CKSG01', 'led_app_pic32cksg01.hex')\n",
    "hex_path_pic32cksg01=os.path.join(curr_path,'..','backend','boards','PIC32CKSG01', 'HSM_pic32cksg01.hex')\n",
    "shutil.copy(hex_path_pic32cksg01, usecase_working_dir)\n",
    "shutil.copy(app_path_pic32cksg01, usecase_working_dir)\n",
    "\n",
    "\n",
    "fwmdtool_path=os.path.join(curr_path,'..','backend','Tools')\n",
    "destination=shutil.copytree(fwmdtool_path, usecase_working_dir,dirs_exist_ok=True)\n",
    "\n",
    "\n",
    "boards.add_board(\n",
    "            'PIC32CZCA90 CUltra',\n",
    "            os.path.join(curr_path,'..','backend','boards','PIC32CZCA90','PIC32CZCA90.png'),\n",
    "            os.path.join(curr_path,'..','backend','boards','PIC32CZCA90', 'kit_image_pic32czca90.hex'),\n",
    "            os.path.join(curr_path,'firmware','pic32czca_led_app','pic32cz_ca90_LEDApp.X')\n",
    "            )\n",
    "boards.add_board(\n",
    "            'PIC32CKSG01 CUltra',\n",
    "            os.path.join(curr_path,'..','backend','boards','PIC32CKSG01','PIC32CKSG01.png'),\n",
    "            os.path.join(curr_path,'..','backend','boards','PIC32CKSG01', 'kit_image_pic32cksg01.hex'),\n",
    "            os.path.join(curr_path,'firmware','pic32cksg_led_app', 'led_app', 'led_app_pic32cksg.X')\n",
    "            )\n",
    "boards.render_boards(0)\n",
    "\n",
    "boards.render_boards(0)\n",
    "\n",
    "\n",
    "\n",
    "sec_boot = secureboot.SecureBootUsecase(boards)\n",
    "usecase_td = UsecaseDiagram(os.path.join(curr_path,'assets','images','secureboot_td.png'), working_dir=usecase_working_dir)\n",
    "\n",
    "#1\n",
    "kit_protocol_hex = usecase_td.add_script(235,62,30,30, sec_boot.generate_resources)\n",
    "\n",
    "#2\n",
    "app_hex = usecase_td.add_script(235,102,30,30, sec_boot.app_hex,prereq_scripts = [kit_protocol_hex])\n",
    "\n",
    "#3\n",
    "xml_modify = usecase_td.add_script(235,149,30,30, sec_boot.flash_xml_modify,prereq_scripts = [app_hex])\n",
    "\n",
    "#4\n",
    "combined_hex= usecase_td.add_script(235,197,30,30,sec_boot.FWMDtool_combined_hex,prereq_scripts = [xml_modify])\n",
    "\n",
    "#5\n",
    "flash_output_hex= usecase_td.add_script(235,336,30,30,sec_boot.prog_FWMD,prereq_scripts = [combined_hex])\n",
    "\n",
    "usecase_td.add_firmware(boards.get_firmware_project, tp_settings.get_mplab_paths().get('ide_path'))\n",
    "usecase_td.add_image(726,262,141,27, os.path.join(curr_path,'assets','images', 'c_snippet_template.PNG'), 'Code Snippet')\n",
    "usecase_td.add_usecase_help(os.path.join(curr_path,'assets', 'HSM-SecureBoot.md'))\n",
    "\n",
    "display(boards.canvas)\n",
    "usecase_td.display_canvas()"
   ]
  },
  {
   "cell_type": "code",
   "execution_count": null,
   "metadata": {},
   "outputs": [],
   "source": []
  },
  {
   "cell_type": "code",
   "execution_count": null,
   "metadata": {},
   "outputs": [],
   "source": []
  }
 ],
 "metadata": {
  "kernelspec": {
   "display_name": "Python 3 (ipykernel)",
   "language": "python",
   "name": "python3"
  },
  "language_info": {
   "codemirror_mode": {
    "name": "ipython",
    "version": 3
   },
   "file_extension": ".py",
   "mimetype": "text/x-python",
   "name": "python",
   "nbconvert_exporter": "python",
   "pygments_lexer": "ipython3",
   "version": "3.10.11"
  },
  "vscode": {
   "interpreter": {
    "hash": "57f796ebba0752963210f57680bea44b9e80599a7f5e49c2ad73d01750a65742"
   }
  }
 },
 "nbformat": 4,
 "nbformat_minor": 2
}
