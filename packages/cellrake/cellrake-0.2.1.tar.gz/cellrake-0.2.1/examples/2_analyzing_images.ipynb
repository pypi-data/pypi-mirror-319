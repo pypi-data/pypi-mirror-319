{
 "cells": [
  {
   "cell_type": "markdown",
   "metadata": {},
   "source": [
    "# Analyzing images\n",
    "This notebook will build on what we did in the training notebook. First, let us consider the following experiment: We have a group of TRAP2 mice, and we are interested in studying whether the basolateral amygdala (BLA) is involved in two different behavioral tasks. To do so, we induced the expression of tdTomato fluorescent protein in TRAP2 mice by injecting 4OH-tamoxifen during the first behavioral task, labeling the cells activated during this period. After a week of expression, we performed the second different behavioral task, perfused the mice, and performed immunological labeling of cFos protein expression. We took photos of the BLA with a fluorescent microscope, segmented the BLA region, and saved the TIFF images in the folders `tdt` and `cfos`.\n",
    "\n",
    "\n",
    "We will start by importing the necessary packages for our analysis, including the functions from `cellrake`. Ensure you have correctly installed `cellrake` in your Conda environment following the instructions in [README.md](../README.md) and that you are running this notebook with this environment (top right corner of the notebook if you are using VSCode)."
   ]
  },
  {
   "cell_type": "code",
   "execution_count": 1,
   "metadata": {},
   "outputs": [],
   "source": [
    "from pathlib import Path\n",
    "import pickle as pkl\n",
    "import pandas as pd\n",
    "import matplotlib.pyplot as plt\n",
    "from PIL import Image\n",
    "\n",
    "from cellrake.main import analyze\n",
    "from cellrake.predicting import colocalize"
   ]
  },
  {
   "cell_type": "markdown",
   "metadata": {},
   "source": [
    "## Analyzing images with a trained model\n",
    "In this first example, we will use a pre-trained model to predict tdTomato-positive cells and want to use it to identify positive cells in a new set of images. We will first load the model and establish the path where we store the images to analyze."
   ]
  },
  {
   "cell_type": "code",
   "execution_count": null,
   "metadata": {},
   "outputs": [],
   "source": [
    "model_path = Path('./sample_data/tdt_model_rf')\n",
    "with open(model_path, \"rb\") as file:\n",
    "    model = pkl.load(file)\n",
    "\n",
    "tdt_folder = Path(\"./sample_data/tdt\")"
   ]
  },
  {
   "cell_type": "markdown",
   "metadata": {},
   "source": [
    "The `analyze` function takes three arguments: `image_folder`, `model`, `threshold_rel`, and `cmap`. To obtain more information, read the docstring of this function typing `help(analyze)`. We will run it using the defined path to the images and the uploaded machine-learning model. The selected `cmap` is \"Reds\" as the tdTomato protein glows in red under the microscope."
   ]
  },
  {
   "cell_type": "code",
   "execution_count": null,
   "metadata": {},
   "outputs": [],
   "source": [
    "analyze(tdt_folder, model, threshold_rel=0.1, cmap='Reds')"
   ]
  },
  {
   "cell_type": "markdown",
   "metadata": {},
   "source": [
    "We have just predicted the tdTomato-positive cells in the sample dataset! In the output folder, named `tdt_analysis`, we have the results of the analysis:\n",
    "\n",
    "- `labelled_images`: the rendered images comparing the original image with the identified tdTomato-positive cells overlapped.\n",
    "- `counts`: the number of predicted cells for each image.\n",
    "- `detected`: the information of the predicted cells for each image.\n",
    "- `features`: teh features of each predicted cell (e.g., area, perimeter, eccentricity, intensity, etc.)\n",
    "- `tdt_segmentation`: the segmented images before applying the model.\n",
    "\n",
    "If you train a new model and you want to apply it to this dataset, you won't have to segment again the images because CellRake will automatically detect the `tdt_segmentation` file.\n",
    "\n",
    "We can examine the results checking the results table and opening an image:"
   ]
  },
  {
   "cell_type": "code",
   "execution_count": null,
   "metadata": {},
   "outputs": [],
   "source": [
    "pd.read_csv(\"./sample_data/tdt_analysis/counts.csv\")"
   ]
  },
  {
   "cell_type": "code",
   "execution_count": null,
   "metadata": {},
   "outputs": [],
   "source": [
    "pil_image = Image.open(\"./sample_data/tdt_analysis/labelled_images/C2-34453_B1_10X_BLA_001.png\")\n",
    "plt.imshow(pil_image)\n",
    "plt.axis('off')\n",
    "plt.show()"
   ]
  },
  {
   "cell_type": "markdown",
   "metadata": {},
   "source": [
    "# Analyzing colocalization\n",
    "\n",
    "We may sometimes work with images in which cells express multiple markers. For instance, in the provided example dataset, cells can be tdTomato-positive and cFos-positive. In this case, analyzing which cells express both markers simultaneously makes sense. To do so, we first have to analyze both markers separately (as we have already done) and call the function `colocalize`."
   ]
  },
  {
   "cell_type": "code",
   "execution_count": 28,
   "metadata": {},
   "outputs": [],
   "source": [
    "cfos_rois_processed = Path('./sample_data/cfos_analysis/detected.pkl')\n",
    "cfos_images = Path('./sample_data/cfos')\n",
    "tdt_rois_processed = Path('./sample_data/tdt_analysis/detected.pkl')\n",
    "tdt_images = Path('./sample_data/tdt')"
   ]
  },
  {
   "cell_type": "code",
   "execution_count": null,
   "metadata": {},
   "outputs": [],
   "source": [
    "colocalize(cfos_rois_processed, cfos_images, tdt_rois_processed, tdt_images)"
   ]
  },
  {
   "cell_type": "markdown",
   "metadata": {},
   "source": [
    "The analysis results are automatically saved in the folder named `colocalization_cfos_tdt`."
   ]
  },
  {
   "cell_type": "code",
   "execution_count": null,
   "metadata": {},
   "outputs": [],
   "source": [
    "pd.read_csv(\"./sample_data/colocalization_cfos_tdt/colocalization_results.csv\")"
   ]
  },
  {
   "cell_type": "code",
   "execution_count": null,
   "metadata": {},
   "outputs": [],
   "source": [
    "pil_image = Image.open(\"./sample_data/colocalization_cfos_tdt/labelled_images/34453_B1_10X_BLA_001.png\")\n",
    "plt.imshow(pil_image)\n",
    "plt.axis('off')\n",
    "plt.show()"
   ]
  }
 ],
 "metadata": {
  "kernelspec": {
   "display_name": "Python 3",
   "language": "python",
   "name": "python3"
  },
  "language_info": {
   "codemirror_mode": {
    "name": "ipython",
    "version": 3
   },
   "file_extension": ".py",
   "mimetype": "text/x-python",
   "name": "python",
   "nbconvert_exporter": "python",
   "pygments_lexer": "ipython3",
   "version": "3.10.14"
  }
 },
 "nbformat": 4,
 "nbformat_minor": 2
}
