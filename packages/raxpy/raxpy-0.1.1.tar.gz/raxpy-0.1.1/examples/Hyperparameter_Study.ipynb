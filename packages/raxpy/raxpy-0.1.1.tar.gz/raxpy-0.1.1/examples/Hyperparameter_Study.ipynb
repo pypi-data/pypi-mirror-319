{
 "cells": [
  {
   "cell_type": "code",
   "execution_count": 2,
   "metadata": {},
   "outputs": [],
   "source": [
    "import raxpy\n",
    "\n"
   ]
  },
  {
   "cell_type": "code",
   "execution_count": null,
   "metadata": {},
   "outputs": [],
   "source": [
    "\"\"\" This Module conducts Parameter... TODO **unknown** \"\"\"\n",
    "\n",
    "from dataclasses import dataclass\n",
    "from typing import Annotated, Optional, Union\n",
    "\n",
    "\"\"\"\n",
    " - optional parameters\n",
    " - hierarchical parameters\n",
    " - combination parameters\n",
    " - higher-order interaction parameters\n",
    "\"\"\"\n",
    "\n",
    "\n",
    "@dataclass\n",
    "class LinearRegressionTrainer:\n",
    "    \"\"\"\n",
    "    TODO Explain Class\n",
    "\n",
    "    **Not Implemented**\n",
    "    \"\"\"\n",
    "\n",
    "    pass\n",
    "\n",
    "\n",
    "@dataclass\n",
    "class RandomForestTrainer:\n",
    "    \"\"\"\n",
    "    TODO Explain Class\n",
    "\n",
    "    **Not Implemented**\n",
    "    \"\"\"\n",
    "\n",
    "    pass\n",
    "\n",
    "\n",
    "def train(\n",
    "    technique_conf: RandomForestTrainer | LinearRegressionTrainer,\n",
    "    preprocessing_conf,\n",
    "):\n",
    "    \"\"\"\n",
    "    TODO\n",
    "    **Explain the Function**\n",
    "\n",
    "    Arguments\n",
    "    ---------\n",
    "    technique_conf: Type: RandomForestTrainer | LinearRegressionTrainer\n",
    "        **Explanation**\n",
    "    preprocessing_conf\n",
    "        **Explanation**\n",
    "\n",
    "    Returns\n",
    "    -------\n",
    "    Not Implemented\n",
    "\n",
    "    \"\"\"\n",
    "\n",
    "    pass\n"
   ]
  }
 ],
 "metadata": {
  "kernelspec": {
   "display_name": "venv",
   "language": "python",
   "name": "python3"
  },
  "language_info": {
   "codemirror_mode": {
    "name": "ipython",
    "version": 3
   },
   "file_extension": ".py",
   "mimetype": "text/x-python",
   "name": "python",
   "nbconvert_exporter": "python",
   "pygments_lexer": "ipython3",
   "version": "3.9.13"
  }
 },
 "nbformat": 4,
 "nbformat_minor": 2
}
