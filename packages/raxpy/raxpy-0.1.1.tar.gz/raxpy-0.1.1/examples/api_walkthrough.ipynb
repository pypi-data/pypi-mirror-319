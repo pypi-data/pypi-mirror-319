{
 "cells": [
  {
   "cell_type": "markdown",
   "metadata": {},
   "source": [
    "# raxpy API Walkthrough\n",
    "\n",
    "This notebook provides a high-level introduction to the use of raxpy to conduct and design experiments on Python functions. To get started, we import raxpy after installation. We also import Python's standard typing and dataclass capabilities to support expressive Python annotation."
   ]
  },
  {
   "cell_type": "code",
   "execution_count": 1,
   "metadata": {},
   "outputs": [],
   "source": [
    "from typing import Optional, Union, Annotated\n",
    "from dataclasses import dataclass\n",
    "\n",
    "import raxpy"
   ]
  },
  {
   "cell_type": "markdown",
   "metadata": {},
   "source": [
    "raxpy introspects annotated Python functions to derive and execute experiments on the function. See below for the conversion of a non-annotated Python function, to a function with type-hints, and finally to an annotated function."
   ]
  },
  {
   "cell_type": "code",
   "execution_count": 2,
   "metadata": {},
   "outputs": [],
   "source": [
    "# simple function without type hints\n",
    "def f1(x1, x2, x3):\n",
    "    return x1 * x2 if x3 is None else x1 * x2 * x3\n",
    "\n",
    "# simple function with type hints\n",
    "def f2(x1: float, x2:int, x3:Optional[float]) -> float:\n",
    "    return x1 * x2 if x3 is None else x1 * x2 * x3\n",
    "\n",
    "# simple function with type hints and annotations\n",
    "def f3(\n",
    "    x1: Annotated[float, raxpy.Float(lb=0.0, ub=10.0)],\n",
    "    x2: Annotated[float, raxpy.Float(lb=0.0, ub=2.0)],\n",
    "    x3: Annotated[Optional[float], raxpy.Float(value_set=[0.0, 1.5, 3.0])]\n",
    ") -> Annotated[float, raxpy.Float(tags=[raxpy.tags.MAXIMIZE])]:\n",
    "    return x1 * x2 if x3 is None else x1 * x2 * x3 "
   ]
  },
  {
   "cell_type": "markdown",
   "metadata": {},
   "source": [
    "To execute an experiment with an annotated Python function, we can simply execute the following code."
   ]
  },
  {
   "cell_type": "code",
   "execution_count": null,
   "metadata": {},
   "outputs": [],
   "source": [
    "inputs, outputs = raxpy.perform_experiment(f3, 10)"
   ]
  },
  {
   "cell_type": "markdown",
   "metadata": {},
   "source": [
    "If we want to design an experiment but no execute it, we can simply execute the following code:"
   ]
  },
  {
   "cell_type": "code",
   "execution_count": null,
   "metadata": {},
   "outputs": [],
   "source": [
    "doe = raxpy.design_experiment(f3, 10)"
   ]
  },
  {
   "cell_type": "markdown",
   "metadata": {},
   "source": [
    "We can also decorate a function to ensure the function arguments are validated on every function call."
   ]
  },
  {
   "cell_type": "code",
   "execution_count": null,
   "metadata": {},
   "outputs": [],
   "source": [
    "# simple function with annotations and runtime validation\n",
    "@raxpy.validate_at_runtime(check_outputs=False)\n",
    "def f4(\n",
    "    x1: Annotated[float, raxpy.Float(lb=0.0, ub=10.0)],\n",
    "    x2: Annotated[int, raxpy.Float(lb=0.0, ub=2.0)],\n",
    "    x3: Annotated[Optional[float], raxpy.Float(value_set=[0.0, 1.5, 3.0])]\n",
    ") -> float:\n",
    "    return x1 * x2 if x3 is None else x1 * x2 * x3\n",
    "\n",
    "f4(3.14, 1, None) # no error\n",
    "f4(3.14, 11, None) # runtime error given 11 value does not fall within range"
   ]
  },
  {
   "cell_type": "markdown",
   "metadata": {},
   "source": [
    "The following code demonstrates the ability to annotate dataclasses attributes as well."
   ]
  },
  {
   "cell_type": "code",
   "execution_count": 6,
   "metadata": {},
   "outputs": [],
   "source": [
    "@dataclass\n",
    "class HierarchicalFactorOne:\n",
    "    x4: Annotated[float, raxpy.Float(lb=0.0, ub=1.0)]\n",
    "    x5: Annotated[float, raxpy.Float(lb=0.0, ub=2.0)]\n",
    "\n",
    "@dataclass\n",
    "class HierarchicalFactorTwo:\n",
    "    x6: Annotated[float, raxpy.Float(lb=0.0, ub=1.0)]\n",
    "    x7: Annotated[float, raxpy.Float(lb=-1.0, ub=1.0)]\n",
    "\n",
    "\n",
    "def f5(\n",
    "    x1: Annotated[float, raxpy.Float(lb=0.0, ub=1.0)],\n",
    "    x2: Annotated[Optional[float], raxpy.Float(lb=-1.0, ub=1.0)],\n",
    "    x3: Union[HierarchicalFactorOne, HierarchicalFactorTwo],\n",
    "):\n",
    "    # placeholder for f5 logic\n",
    "    return 1 \n"
   ]
  },
  {
   "cell_type": "code",
   "execution_count": null,
   "metadata": {},
   "outputs": [],
   "source": [
    "f5_inputs, f5_outputs = raxpy.perform_experiment(f5, 25)"
   ]
  },
  {
   "cell_type": "markdown",
   "metadata": {},
   "source": [
    "raxpy also supports manual specification of an experiment's input space."
   ]
  },
  {
   "cell_type": "code",
   "execution_count": 8,
   "metadata": {},
   "outputs": [],
   "source": [
    "simple_space = raxpy.spaces.InputSpace(\n",
    "    dimensions=[\n",
    "        raxpy.spaces.Float(id=\"x1\", lb=0.0, ub=1.0, portion_null=0.0),\n",
    "        raxpy.spaces.Float(id=\"x2\", lb=0.0, ub=1.0, portion_null=0.0),\n",
    "        raxpy.spaces.Float(id=\"x3\", lb=0.0, ub=1.0, nullable=True, portion_null=0.1),\n",
    "    ]\n",
    ")\n",
    "# more complex space specification\n",
    "space = raxpy.spaces.InputSpace(\n",
    "    dimensions=[\n",
    "            raxpy.spaces.Float(id=\"x1\", lb=0.0, ub=1.0, portion_null=0.0),\n",
    "            raxpy.spaces.Float(\n",
    "                id=\"x2\",\n",
    "                lb=0.0,\n",
    "                ub=1.0,\n",
    "                nullable=True,\n",
    "                portion_null=1.0 / 3.0,\n",
    "            ),\n",
    "            raxpy.spaces.Composite(\n",
    "                id=\"x3\",\n",
    "                nullable=True,\n",
    "                portion_null=1.0 / 3.0,\n",
    "                children=[\n",
    "                    raxpy.spaces.Float(\n",
    "                        id=\"x4\",\n",
    "                        lb=0.0,\n",
    "                        ub=1.0,\n",
    "                        portion_null=0.0,\n",
    "                    ),\n",
    "                    raxpy.spaces.Composite(\n",
    "                        id=\"x5\",\n",
    "                        nullable=True,\n",
    "                        portion_null=1.0 / 3.0,\n",
    "                        children=[\n",
    "                            raxpy.spaces.Float(\n",
    "                                id=\"x6\",\n",
    "                                lb=0.0,\n",
    "                                ub=1.0,\n",
    "                                portion_null=0.0,\n",
    "                            ),\n",
    "                            raxpy.spaces.Float(\n",
    "                                id=\"x7\",\n",
    "                                lb=0.0,\n",
    "                                ub=1.0,\n",
    "                                nullable=True,\n",
    "                                portion_null=1.0 / 3.0,\n",
    "                            ),\n",
    "                        ],\n",
    "                    ),\n",
    "                ],\n",
    "            ),\n",
    "            raxpy.spaces.Composite(\n",
    "                id=\"x8\",\n",
    "                nullable=True,\n",
    "                portion_null=1.0 / 3.0,\n",
    "                children=[\n",
    "                    raxpy.spaces.Float(\n",
    "                        id=\"x9\",\n",
    "                        lb=0.0,\n",
    "                        ub=1.0,\n",
    "                        portion_null=0.0,\n",
    "                    ),\n",
    "                    raxpy.spaces.Float(\n",
    "                        id=\"x10\",\n",
    "                        lb=0.0,\n",
    "                        ub=1.0,\n",
    "                        nullable=True,\n",
    "                        portion_null=1.0 / 3.0,\n",
    "                    ),\n",
    "                ],\n",
    "            ),\n",
    "    ]\n",
    ")"
   ]
  },
  {
   "cell_type": "markdown",
   "metadata": {},
   "source": [
    "raxpy uses a concept referred to a full-sub-spaces (FSS) to support designing and measursing experiment designs with optional and heirarcal dimensions. To compute these for a space we execute the following code."
   ]
  },
  {
   "cell_type": "code",
   "execution_count": null,
   "metadata": {},
   "outputs": [],
   "source": [
    "dim_sets = space.derive_full_subspaces()"
   ]
  },
  {
   "cell_type": "markdown",
   "metadata": {},
   "source": [
    "raxpy supports computing numerous experiment design metrics related to designs' space filling properties."
   ]
  },
  {
   "cell_type": "code",
   "execution_count": 12,
   "metadata": {},
   "outputs": [],
   "source": [
    "from raxpy.does.doe import EncodingEnum\n",
    "\n",
    "# Note that some metric compuations require the specification\n",
    "# of a design encoding to use for measurement. While the \n",
    "# EncodingEnum.ZERO_ONE_NULL_ENCODING is highly suggested,\n",
    "# some experiment design algorithms result in a decoded \n",
    "# (EncodingEnum.NONE) design. raxpy does not currently have\n",
    "# logic to re-encode a design from a decoded design.\n",
    "\n",
    "m_opt_coverage = raxpy.measure.compute_opt_coverage(doe)\n",
    "m_min_interpoint_dist = raxpy.measure.compute_min_interpoint_dist(\n",
    "    doe,\n",
    "    encoding=EncodingEnum.NONE,\n",
    "    p=2,\n",
    ")\n",
    "m_discrepancy = raxpy.measure.compute_star_discrepancy(doe,encoding=EncodingEnum.NONE)\n",
    "m_avg_min_proj_dist = raxpy.measure.compute_average_dim_dist(doe)\n",
    "m_max_pro = raxpy.measure.compute_max_pro(doe,encoding=EncodingEnum.NONE)"
   ]
  }
 ],
 "metadata": {
  "kernelspec": {
   "display_name": "venv",
   "language": "python",
   "name": "python3"
  },
  "language_info": {
   "codemirror_mode": {
    "name": "ipython",
    "version": 3
   },
   "file_extension": ".py",
   "mimetype": "text/x-python",
   "name": "python",
   "nbconvert_exporter": "python",
   "pygments_lexer": "ipython3",
   "version": "3.12.3"
  }
 },
 "nbformat": 4,
 "nbformat_minor": 2
}
