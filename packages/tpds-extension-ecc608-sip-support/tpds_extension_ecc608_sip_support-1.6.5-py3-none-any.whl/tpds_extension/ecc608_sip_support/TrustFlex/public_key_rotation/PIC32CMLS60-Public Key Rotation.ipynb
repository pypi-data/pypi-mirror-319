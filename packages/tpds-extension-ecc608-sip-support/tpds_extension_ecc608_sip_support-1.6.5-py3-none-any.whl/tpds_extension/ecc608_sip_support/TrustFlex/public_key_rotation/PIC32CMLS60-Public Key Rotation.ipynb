{
 "cells": [
  {
   "cell_type": "code",
   "execution_count": null,
   "metadata": {
    "scrolled": true
   },
   "outputs": [],
   "source": [
    "%%HTML\n",
    "<p id = 'heading1_p'> Secure Public Key Rotation – PIC32CMLS60-TFLXTLS </p>\n",
    "<hr id = 'hline'> </hr> \n",
    "<p id = 'heading1_p' style='font-size: 20px; font-weight: bold;'>Introduction</p>\n",
    "<div id='div_element'>\n",
    "<p>Cryptographic best practices discourage extensive reuse of encryption keys. In situations like Secure Boot or OTA firmware authentication, it’s important to have ability to update the public key that is used for verifying firmware. </p>\n",
    "<p>Slot validation and invalidation is the process in which authenticity of the slot will be verified using its digest and signature provided by validation authority. Once its authenticated, slot can be marked as validated or invalidated. Only validated slot allows to use it for Verify operations and invalidated slot allows to overwrite the slot content.</p>\n",
    "<p>The public keys that are intended to rotate securely should be stored in slots marked as PubInvalid.</p>\n",
    "</div>\n",
    "\n",
    "<button class=\"collapsible\" style='font-size: 20px; font-weight: bold;'>Cryptographic Asset list & Use Case implementation</button>\n",
    "<div class=\"content\">\n",
    "<div id='content_element'>\n",
    "<hr id = 'h_content'> </hr> \n",
    "<p style=\"float: left; font-size: 9pt; text-align: center; width: 30%; margin-right: 1%;\"><img src=\"assets/crypto-assets.png\" style=\"height: 35em; width: 100%\"><b>Cryptographic Asset list</b></p>\n",
    "<p style=\"float: left; font-size: 9pt; text-align: center; 20em; width: 35%; margin-right: 1%;\"><img src=\"assets/usecase_steps.png\" style=\"height: 25em; width: 100%\"><b>Use Case implementation</b></p>\n",
    "<p style=\"clear: both;\">\n",
    "</div>\n",
    "</div>\n",
    "\n",
    "<p id = 'heading1_p' style='margin-top:40px; font-size: 20px; font-weight: bold;'>Use Case information</p>\n",
    "<hr id = 'hline'> </hr> \n",
    "<div id='div_element'>\n",
    "<p> The Transaction Diagram represent all steps to be performed to successfully implement the given Use Case, \n",
    "during development and after product delivery to the end-user. </p>\n",
    "<p><strong> For the ease of the execution, when steps are executed from transaction diagram, these are emulated in the Host-PC \n",
    "rather than executed in the Host-Microcontroller/Processor from the evaluation kit.</strong> The MPLAB-X project/C Source code includes software code to be executed in your Host-Microcontroller/Processor \n",
    "in your embedded project. </p>\n",
    "\n",
    "<p>Select your Evaluation kit and then click on each step to execute the Use Case. Click on Usecase Help button in \n",
    "transaction diagram for additional details.</p>\n",
    "</div>"
   ]
  },
  {
   "cell_type": "code",
   "execution_count": null,
   "metadata": {
    "scrolled": false
   },
   "outputs": [],
   "source": [
    "import os\n",
    "from tpds.usecase_diagram import ProtoBoard, UsecaseDiagram\n",
    "from tpds.tp_utils.tp_settings import TPSettings\n",
    "from IPython.display import display\n",
    "\n",
    "curr_path = os.path.abspath('')\n",
    "os.sys.path.extend([os.path.join(curr_path, 'assets', 'python', 'pubkey_rotation')])\n",
    "import pubkey_rotation\n",
    "\n",
    "tp_settings = TPSettings()\n",
    "usecase_working_dir = os.path.join(tp_settings.get_base_folder(), 'pic32cmls60_public_key_rotation')\n",
    "os.makedirs(usecase_working_dir, exist_ok=True)\n",
    "boards = ProtoBoard(max_width=400)\n",
    "boards.add_board(\n",
    "            'PIC32CMLS60 CPro', \n",
    "            os.path.join(curr_path, '..', '..', 'assets', 'EV76R77A', 'PIC32CMLS60.png'), \n",
    "            os.path.join(curr_path, '..', '..', 'assets', 'EV76R77A', 'PIC32CMLS60.hex'), \n",
    "            os.path.join(curr_path, 'firmware', 'LS60', 'NonSecure', 'firmware', 'pub_key_rotation_NonSecure.X')\n",
    ")\n",
    "boards.render_boards(0)\n",
    "\n",
    "key_rotation = pubkey_rotation.PubKeyRotation(boards, 13, 14)\n",
    "usecase_td = UsecaseDiagram(os.path.join(curr_path, 'assets', 'td_pubkey_rotation.png'), working_dir=usecase_working_dir)\n",
    "\n",
    "generate_resources = usecase_td.add_script(235,79,35,30, key_rotation.generate_resources)\n",
    "generate_new_key = usecase_td.add_script(242,258,35,30, key_rotation.generate_and_authorize_newpublic_key, prereq_scripts = [generate_resources])\n",
    "invalidate_key = usecase_td.add_script(512,274,35,30, key_rotation.invalidate_existing_public_key, prereq_scripts = [generate_new_key])\n",
    "validate_key = usecase_td.add_script(511,327,35,30, key_rotation.write_and_validate_public_key, prereq_scripts = [invalidate_key])\n",
    "verify_key = usecase_td.add_script(511,381,35,30, key_rotation.verify_newpublic_key, prereq_scripts = [validate_key])\n",
    "\n",
    "usecase_td.add_firmware(boards.get_firmware_project, tp_settings.get_mplab_paths().get('ide_path'))\n",
    "usecase_td.add_image(726,242,140,25, os.path.join(curr_path, 'assets', 'c-snippet.png'), 'Code Snippet')\n",
    "usecase_td.add_link(730,276,125,11,\n",
    "    'https://github.com/MicrochipTech/cryptoauthlib/blob/af8187776cd3f3faf8bed412eaf6ff7221862e19/lib/basic/atca_basic_verify.c#L476')\n",
    "usecase_td.add_link(740,312,126,10,\n",
    "    'https://github.com/MicrochipTech/cryptoauthlib/blob/af8187776cd3f3faf8bed412eaf6ff7221862e19/lib/basic/atca_basic_write.c#L356')\n",
    "usecase_td.add_link(747,342,112,10,\n",
    "    'https://github.com/MicrochipTech/cryptoauthlib/blob/af8187776cd3f3faf8bed412eaf6ff7221862e19/lib/basic/atca_basic_verify.c#L439')\n",
    "usecase_td.add_link(771,373,66,10,\n",
    "    'https://github.com/MicrochipTech/cryptoauthlib/blob/af8187776cd3f3faf8bed412eaf6ff7221862e19/lib/basic/atca_basic_verify.c#L69')\n",
    "usecase_td.add_usecase_help(os.path.join(curr_path, 'assets', 'PIC32CMLS60-Public Key Rotation.md'))\n",
    "\n",
    "display(boards.canvas)\n",
    "usecase_td.display_canvas()"
   ]
  },
  {
   "cell_type": "code",
   "execution_count": null,
   "metadata": {},
   "outputs": [],
   "source": [
    "%%HTML\n",
    "<button class=\"collapsible\" style='font-size: 20px; font-weight: bold;'>Conclusion</button>\n",
    "<div class=\"content\">\n",
    "<div id='content_element'>\n",
    "<hr id = 'h_content'> </hr> \n",
    "<p>Please navigate back to the TrustFlex Secret Exchange page to finalize your Secure Public Key Rotation Use Case.</p>\n",
    "<ul><li>You will need to populate slot 13 and slot 14</li>\n",
    "<li>Slot 13 will need to be locked for this Use Case</li></ul>\n",
    "</div>\n",
    "</div>"
   ]
  }
 ],
 "metadata": {
  "kernelspec": {
   "display_name": "Python 3",
   "language": "python",
   "name": "python3"
  },
  "language_info": {
   "codemirror_mode": {
    "name": "ipython",
    "version": 3
   },
   "file_extension": ".py",
   "mimetype": "text/x-python",
   "name": "python",
   "nbconvert_exporter": "python",
   "pygments_lexer": "ipython3",
   "version": "3.7.10"
  }
 },
 "nbformat": 4,
 "nbformat_minor": 2
}
