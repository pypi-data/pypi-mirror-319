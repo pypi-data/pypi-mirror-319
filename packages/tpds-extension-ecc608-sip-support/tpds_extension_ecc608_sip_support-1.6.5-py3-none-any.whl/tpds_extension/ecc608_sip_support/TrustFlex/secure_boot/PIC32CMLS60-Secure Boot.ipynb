{
 "cells": [
  {
   "cell_type": "code",
   "execution_count": null,
   "metadata": {},
   "outputs": [],
   "source": [
    "%%HTML\n",
    "<p id = 'heading1_p'> Secure Boot – PIC32CMLS60-TFLXTLS </p>\n",
    "<hr id = 'hline'> </hr> \n",
    "<p id = 'heading1_p' style='font-size: 20px; font-weight: bold;'>Introduction</p>\n",
    "<div id='div_element'>\n",
    "<p> This TrustFlex usecase will sign an application hex file to support secure boot in combination with the ATECC608 embedded into the PIC32CM LS60.</p>\n",
    "<p>The application that is to be signed must be generated as per the current data sheet for secure boot. </p>\n",
    "</div>\n",
    "\n",
    "<button class=\"collapsible\" style='font-size: 20px; font-weight: bold;'>Cryptographic Asset list & Use Case implementation</button>\n",
    "<div class=\"content\">\n",
    "<div id='content_element'>\n",
    "<hr id = 'h_content'> </hr> \n",
    "<p style=\"float: left; font-size: 9pt; text-align: center; width: 30%; margin-right: 1%;\"><img src=\"assets/images/crypto_assets.png\" style=\"height: 35em; width: 100%\"><b>Cryptographic Asset list</b></p>\n",
    "<p style=\"float: left; font-size: 9pt; text-align: center; 20em; width: 35%; margin-right: 1%;\"><img src=\"assets/images/usecase_steps.png\" style=\"height: 25em; width: 100%\"><b>Use Case implementation</b></p>\n",
    "<p style=\"clear: both;\">\n",
    "</div>\n",
    "</div>\n",
    "\n",
    "<div id='div_element'>\n",
    "<p>Select your Evaluation kit and then click on each step to execute the Use Case. Click on Usecase Help button in transaction diagram for additional details.</p>\n",
    "</div>"
   ]
  },
  {
   "cell_type": "code",
   "execution_count": null,
   "metadata": {},
   "outputs": [],
   "source": [
    "import os, shutil\n",
    "from tpds.usecase_diagram import ProtoBoard, UsecaseDiagram\n",
    "from tpds.tp_utils.tp_settings import TPSettings\n",
    "from IPython.display import display\n",
    "\n",
    "curr_path = os.path.abspath('')\n",
    "os.sys.path.extend([os.path.join(os.getcwd(), 'assets', 'python')])\n",
    "import secure_boot\n",
    "\n",
    "tp_settings = TPSettings()\n",
    "usecase_working_dir = os.path.join(tp_settings.get_base_folder(), 'pic32cmls60_secure_boot')\n",
    "os.makedirs(usecase_working_dir, exist_ok=True)\n",
    "boards = ProtoBoard(max_width=400)\n",
    "boards.add_board(\n",
    "            'PIC32CMLS60 CPro', \n",
    "            os.path.join(curr_path, '..', '..', 'assets', 'EV76R77A', 'PIC32CMLS60.png'), \n",
    "            os.path.join(curr_path, '..', '..', 'assets', 'EV76R77A', 'PIC32CMLS60.hex') \n",
    ")\n",
    "boards.render_boards(0)\n",
    "\n",
    "#copy account etup yaml to users folder\n",
    "shutil.copy(os.path.join(curr_path, 'test.hex'), usecase_working_dir)\n",
    "\n",
    "sec_boot = secure_boot.SecureBootUsecase(boards)\n",
    "usecase_td = UsecaseDiagram(os.path.join(curr_path, 'assets', 'images', 'secure_boot_transaction_diagram.png'), working_dir=usecase_working_dir)\n",
    "\n",
    "generate_resources = usecase_td.add_script(237,70,35,30, sec_boot.generate_resources)\n",
    "generate_io_key = usecase_td.add_script(237,120,35,30, sec_boot.generate_io_key, prereq_scripts = [generate_resources])\n",
    "load_hex_file = usecase_td.add_script(237,160,35,30, sec_boot.load_hex_file, prereq_scripts = [generate_io_key])\n",
    "save_app_hex = usecase_td.add_script(237,210,35,30, sec_boot.save_app_hex, prereq_scripts = [load_hex_file])\n",
    "flash_signed_hex = usecase_td.add_script(225,355,35,30, sec_boot.flash_firmware, prereq_scripts = [save_app_hex])\n",
    "\n",
    "usecase_td.add_firmware(boards.get_firmware_project, tp_settings.get_mplab_paths().get('ide_path'))\n",
    "usecase_td.add_image(726,262,141,27, os.path.join(curr_path, 'assets', 'images', 'c_snippet_template.PNG'), 'Code Snippet')\n",
    "usecase_td.add_usecase_help(os.path.join(curr_path, 'assets', 'PIC32CMLS60-Secure Boot.md'))\n",
    "\n",
    "display(boards.canvas)\n",
    "usecase_td.display_canvas()"
   ]
  },
  {
   "cell_type": "code",
   "execution_count": null,
   "metadata": {},
   "outputs": [],
   "source": [
    "%%HTML\n",
    "<button class=\"collapsible\" style='font-size: 20px; font-weight: bold;'>Conclusion</button>\n",
    "<div class=\"content\">\n",
    "<div id='content_element'>\n",
    "<hr id = 'h_content'> </hr> \n",
    "<p>Please navigate back to the TrustFlex Secret Exchange page to generate provisioning package.</p>\n",
    "</div>\n",
    "</div>"
   ]
  }
 ],
 "metadata": {
  "kernelspec": {
   "display_name": "Python 3 (ipykernel)",
   "language": "python",
   "name": "python3"
  },
  "language_info": {
   "codemirror_mode": {
    "name": "ipython",
    "version": 3
   },
   "file_extension": ".py",
   "mimetype": "text/x-python",
   "name": "python",
   "nbconvert_exporter": "python",
   "pygments_lexer": "ipython3",
   "version": "3.7.10"
  }
 },
 "nbformat": 4,
 "nbformat_minor": 2
}
