{
 "cells": [
  {
   "metadata": {},
   "cell_type": "markdown",
   "source": "# db",
   "id": "dcf4183a1dd5a38b"
  },
  {
   "metadata": {},
   "cell_type": "markdown",
   "source": "### interface sql directly",
   "id": "e867b3d8d45e347b"
  },
  {
   "metadata": {
    "ExecuteTime": {
     "end_time": "2024-11-30T22:04:12.761943Z",
     "start_time": "2024-11-30T22:04:12.742968Z"
    }
   },
   "cell_type": "code",
   "source": [
    "import psycopg2\n",
    "from heagVehicleLivedataUtils_sar23b.apiUtils import get_current_vehicle_data_as_dataframe\n",
    "\n",
    "# Database connection settings\n",
    "DB_SETTINGS = {\n",
    "    'dbname': 'mydatabase',\n",
    "    'user': 'user',\n",
    "    'password': 'password',\n",
    "    'host': 'localhost',  \n",
    "    'port': 5432\n",
    "}\n",
    "\n",
    "def get_db_connection():\n",
    "    conn = psycopg2.connect(**DB_SETTINGS)\n",
    "    return conn\n",
    "\n",
    "# test db connection\n",
    "with get_db_connection() as conn, conn.cursor() as cursor:\n",
    "    print(\"all fine\")"
   ],
   "id": "e3762b89ff9344e6",
   "outputs": [],
   "execution_count": 17
  },
  {
   "metadata": {},
   "cell_type": "code",
   "outputs": [],
   "execution_count": null,
   "source": [
    "with get_db_connection() as conn, conn.cursor() as cursor:\n",
    "    vehicle_line_list = get_current_vehicle_data_as_dataframe().reindex(columns=['lineId']).reset_index(\"vehicleId\").values.tolist()\n",
    "    for [vehicle, line] in vehicle_line_list:\n",
    "        cursor.execute(f\"INSERT INTO vehicledata (vehicleId, lineId) VALUES ({vehicle}, {line})\")\n",
    "    conn.commit()"
   ],
   "id": "d4211b0fba8f5b4d"
  },
  {
   "metadata": {
    "ExecuteTime": {
     "end_time": "2024-11-30T21:46:29.566832Z",
     "start_time": "2024-11-30T21:46:29.547683Z"
    }
   },
   "cell_type": "code",
   "source": [
    "with get_db_connection() as conn, conn.cursor() as cursor:\n",
    "    cursor.execute(\"SELECT * FROM vehicleservice ()\")\n",
    "    trams = cursor.fetchall()\n",
    "    \n",
    "trams"
   ],
   "id": "ed3b2a56543ad1d3",
   "outputs": [
    {
     "data": {
      "text/plain": [
       "[]"
      ]
     },
     "execution_count": 9,
     "metadata": {},
     "output_type": "execute_result"
    }
   ],
   "execution_count": 9
  },
  {
   "metadata": {
    "ExecuteTime": {
     "end_time": "2024-11-30T22:04:21.621890Z",
     "start_time": "2024-11-30T22:04:21.580156Z"
    }
   },
   "cell_type": "code",
   "source": [
    "# add test relation\n",
    "with get_db_connection() as conn, conn.cursor() as cursor:\n",
    "    cursor.execute(\"INSERT INTO vehicleservice (time, vehicleid, lineid, category, direction, status, latitude, longitude, bearing, type) VALUES ('2024-11-30 22:43:57+01:00', 10, 7, 1, 'test', 3, 12.3, 3.14, 50, 1)\")"
   ],
   "id": "7f2b861ce3fa0bdd",
   "outputs": [],
   "execution_count": 18
  },
  {
   "metadata": {},
   "cell_type": "markdown",
   "source": "### work with sqlalchemy",
   "id": "a61f3588285b8c51"
  },
  {
   "metadata": {
    "ExecuteTime": {
     "end_time": "2024-12-07T22:16:09.359779Z",
     "start_time": "2024-12-07T22:16:08.448681Z"
    }
   },
   "cell_type": "code",
   "source": [
    "from sqlalchemy import create_engine\n",
    "from heagVehicleLivedataUtils.apiUtils import get_current_vehicle_data_as_dataframe\n",
    "import pandas as pd\n",
    "\n",
    "# Database connection settings\n",
    "DB_SETTINGS = {\n",
    "    'dbname': 'mydatabase',\n",
    "    'user': 'user',\n",
    "    'password': 'password',\n",
    "    'host': 'localhost',  \n",
    "    'port': 5432\n",
    "}\n",
    "\n",
    "engine = create_engine('postgresql://{user}:{password}@{host}:{port}/{dbname}'.format(**DB_SETTINGS))\n",
    "\n",
    "# test connection\n",
    "with engine.connect() as conn:\n",
    "    print(pd.read_sql(\"SELECT * FROM vehicleservice\", conn))\n",
    "    #print(pd.read_sql(\"SELECT * FROM users\", conn))\n",
    "    "
   ],
   "id": "c55d97559f70df02",
   "outputs": [
    {
     "name": "stdout",
     "output_type": "stream",
     "text": [
      "Empty DataFrame\n",
      "Columns: [identifier, time, vehicleid, lineid, category, direction, status, latitude, longitude, bearing, type]\n",
      "Index: []\n"
     ]
    }
   ],
   "execution_count": 1
  },
  {
   "metadata": {
    "ExecuteTime": {
     "end_time": "2024-12-02T20:26:37.456712Z",
     "start_time": "2024-12-02T20:26:37.436626Z"
    }
   },
   "cell_type": "code",
   "source": [
    "# read contents of database\n",
    "with engine.connect() as conn:\n",
    "    print(pd.read_sql(\"SELECT * FROM vehicleservice\", conn))"
   ],
   "id": "aba7f3cdea5d74fb",
   "outputs": [
    {
     "name": "stdout",
     "output_type": "stream",
     "text": [
      "Empty DataFrame\n",
      "Columns: [identifier, time, vehicleid, lineid, category, direction, status, latitude, longitude, bearing, type]\n",
      "Index: []\n"
     ]
    }
   ],
   "execution_count": 68
  },
  {
   "metadata": {},
   "cell_type": "markdown",
   "source": "#### test dataframe .to_sql",
   "id": "d61d10f2af8123a1"
  },
  {
   "metadata": {
    "ExecuteTime": {
     "end_time": "2024-12-01T23:14:19.048353Z",
     "start_time": "2024-12-01T23:14:19.031664Z"
    }
   },
   "cell_type": "code",
   "source": [
    "# try adding test dataframe to users - >\n",
    "c = [\"name\", \"age\"]\n",
    "d = [(\"try\", 123)]\n",
    "df = pd.DataFrame(d, columns=c)\n",
    "#df.to_sql(\"users\",con=engine, if_exists='append',index=False) \n",
    "with engine.connect() as conn, conn.begin():\n",
    "    df.to_sql(\"users\",con=conn, if_exists='append',index=False)"
   ],
   "id": "1671a41d3afd69d6",
   "outputs": [],
   "execution_count": 63
  },
  {
   "metadata": {
    "ExecuteTime": {
     "end_time": "2024-12-02T20:26:46.183746Z",
     "start_time": "2024-12-02T20:26:46.147011Z"
    }
   },
   "cell_type": "code",
   "source": [
    "# try adding test to vehicleservice\n",
    "import datetime\n",
    "c = [\"time\", \"vehicleid\", \"lineid\", \"category\", \"direction\", \"status\", \"latitude\", \"longitude\", \"bearing\", \"type\"]\n",
    "d = [(datetime.datetime(2024,1,21,12,30,1), 20, 89, 1, 'zwei', 4, 12.4, 2.71, 25, 5)]\n",
    "df = pd.DataFrame(d, columns=c)\n",
    "df.to_sql(\"vehicleservice\",con=engine, if_exists='append', index=False)"
   ],
   "id": "b8ab5786bb92c9d6",
   "outputs": [
    {
     "data": {
      "text/plain": [
       "1"
      ]
     },
     "execution_count": 69,
     "metadata": {},
     "output_type": "execute_result"
    }
   ],
   "execution_count": 69
  },
  {
   "metadata": {
    "ExecuteTime": {
     "end_time": "2024-12-02T21:56:26.546924Z",
     "start_time": "2024-12-02T21:56:26.383902Z"
    }
   },
   "cell_type": "code",
   "source": "get_current_vehicle_data_as_dataframe().to_sql(\"vehicleservice\",con=engine, if_exists='append', index_label=['time','vehicleid'])",
   "id": "2af909ba01f499c4",
   "outputs": [
    {
     "data": {
      "text/plain": [
       "72"
      ]
     },
     "execution_count": 5,
     "metadata": {},
     "output_type": "execute_result"
    }
   ],
   "execution_count": 5
  },
  {
   "metadata": {},
   "cell_type": "markdown",
   "source": "das problem war die indxe als seperate spalte nochmal mitzugeben",
   "id": "186ae6749ccc05d1"
  },
  {
   "metadata": {},
   "cell_type": "markdown",
   "source": "#### other methods",
   "id": "6aaea1cd7b6e323d"
  },
  {
   "metadata": {
    "ExecuteTime": {
     "end_time": "2024-11-27T23:10:15.032132Z",
     "start_time": "2024-11-27T23:10:14.955054Z"
    }
   },
   "cell_type": "code",
   "outputs": [
    {
     "ename": "ObjectNotExecutableError",
     "evalue": "Not an executable object: 'DROP TABLE IF EXISTS vehicleService'",
     "output_type": "error",
     "traceback": [
      "\u001B[0;31m---------------------------------------------------------------------------\u001B[0m",
      "\u001B[0;31mAttributeError\u001B[0m                            Traceback (most recent call last)",
      "File \u001B[0;32m~/hometools/pythonHeagApiStuff/.venv/lib/python3.11/site-packages/sqlalchemy/engine/base.py:1414\u001B[0m, in \u001B[0;36mConnection.execute\u001B[0;34m(self, statement, parameters, execution_options)\u001B[0m\n\u001B[1;32m   1413\u001B[0m \u001B[38;5;28;01mtry\u001B[39;00m:\n\u001B[0;32m-> 1414\u001B[0m     meth \u001B[38;5;241m=\u001B[39m \u001B[43mstatement\u001B[49m\u001B[38;5;241;43m.\u001B[39;49m\u001B[43m_execute_on_connection\u001B[49m\n\u001B[1;32m   1415\u001B[0m \u001B[38;5;28;01mexcept\u001B[39;00m \u001B[38;5;167;01mAttributeError\u001B[39;00m \u001B[38;5;28;01mas\u001B[39;00m err:\n",
      "\u001B[0;31mAttributeError\u001B[0m: 'str' object has no attribute '_execute_on_connection'",
      "\nThe above exception was the direct cause of the following exception:\n",
      "\u001B[0;31mObjectNotExecutableError\u001B[0m                  Traceback (most recent call last)",
      "Cell \u001B[0;32mIn[26], line 2\u001B[0m\n\u001B[1;32m      1\u001B[0m \u001B[38;5;28;01mwith\u001B[39;00m engine\u001B[38;5;241m.\u001B[39mconnect() \u001B[38;5;28;01mas\u001B[39;00m conn:\n\u001B[0;32m----> 2\u001B[0m     \u001B[43mconn\u001B[49m\u001B[38;5;241;43m.\u001B[39;49m\u001B[43mexecute\u001B[49m\u001B[43m(\u001B[49m\u001B[38;5;124;43m\"\u001B[39;49m\u001B[38;5;124;43mDROP TABLE IF EXISTS vehicleService\u001B[39;49m\u001B[38;5;124;43m\"\u001B[39;49m\u001B[43m)\u001B[49m\n",
      "File \u001B[0;32m~/hometools/pythonHeagApiStuff/.venv/lib/python3.11/site-packages/sqlalchemy/engine/base.py:1416\u001B[0m, in \u001B[0;36mConnection.execute\u001B[0;34m(self, statement, parameters, execution_options)\u001B[0m\n\u001B[1;32m   1414\u001B[0m     meth \u001B[38;5;241m=\u001B[39m statement\u001B[38;5;241m.\u001B[39m_execute_on_connection\n\u001B[1;32m   1415\u001B[0m \u001B[38;5;28;01mexcept\u001B[39;00m \u001B[38;5;167;01mAttributeError\u001B[39;00m \u001B[38;5;28;01mas\u001B[39;00m err:\n\u001B[0;32m-> 1416\u001B[0m     \u001B[38;5;28;01mraise\u001B[39;00m exc\u001B[38;5;241m.\u001B[39mObjectNotExecutableError(statement) \u001B[38;5;28;01mfrom\u001B[39;00m \u001B[38;5;21;01merr\u001B[39;00m\n\u001B[1;32m   1417\u001B[0m \u001B[38;5;28;01melse\u001B[39;00m:\n\u001B[1;32m   1418\u001B[0m     \u001B[38;5;28;01mreturn\u001B[39;00m meth(\n\u001B[1;32m   1419\u001B[0m         \u001B[38;5;28mself\u001B[39m,\n\u001B[1;32m   1420\u001B[0m         distilled_parameters,\n\u001B[1;32m   1421\u001B[0m         execution_options \u001B[38;5;129;01mor\u001B[39;00m NO_OPTIONS,\n\u001B[1;32m   1422\u001B[0m     )\n",
      "\u001B[0;31mObjectNotExecutableError\u001B[0m: Not an executable object: 'DROP TABLE IF EXISTS vehicleService'"
     ]
    }
   ],
   "execution_count": 26,
   "source": [
    "# hier ist ausprobieren wie sql queries direkt funktionieren\n",
    "with engine.connect() as conn, conn.begin():\n",
    "    pass #TODO figure out how this works -> see e.g. pandas DF.to_sql examples\n",
    "    #conn.execute(\"DROP TABLE IF EXISTS vehicleservice\") # ist nicht iwi beim cursor??"
   ],
   "id": "d09da536bfcaad53"
  }
 ],
 "metadata": {
  "kernelspec": {
   "display_name": "Python 3",
   "language": "python",
   "name": "python3"
  },
  "language_info": {
   "codemirror_mode": {
    "name": "ipython",
    "version": 2
   },
   "file_extension": ".py",
   "mimetype": "text/x-python",
   "name": "python",
   "nbconvert_exporter": "python",
   "pygments_lexer": "ipython2",
   "version": "2.7.6"
  }
 },
 "nbformat": 4,
 "nbformat_minor": 5
}
