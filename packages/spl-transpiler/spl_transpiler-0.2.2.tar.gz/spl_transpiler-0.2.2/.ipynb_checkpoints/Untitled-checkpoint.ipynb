{
 "cells": [
  {
   "cell_type": "code",
   "execution_count": 1,
   "id": "15d0c860-5510-401b-b04c-73a385eb290a",
   "metadata": {},
   "outputs": [],
   "source": [
    "import pyparsing as pp\n",
    "from pydantic import BaseModel"
   ]
  },
  {
   "cell_type": "code",
   "execution_count": 72,
   "id": "cc9204e4-893f-4187-aa2a-90706bf1611e",
   "metadata": {},
   "outputs": [],
   "source": [
    "class AstCommand(BaseModel):\n",
    "    query: str\n",
    "    subqueries: list[\"AstPipeline\"] = []\n",
    "\n",
    "    @classmethod\n",
    "    def parse(cls, s, loc, toks):\n",
    "        # toks = toks\n",
    "        print(f\"AstCommand.parse({toks=})\")\n",
    "        assert len(toks) == 1\n",
    "        query = toks[0].strip()\n",
    "        subqueries = [chunk[\"subquery\"].model_dump() for chunk in toks['chunks'] if not isinstance(chunk, str) and \"subquery\" in chunk]\n",
    "        print(f\"SUBQUERIES: {subqueries=}\")\n",
    "        if subqueries:\n",
    "            print(f\"{type(subqueries)=}, {type(subqueries[0])=}\")\n",
    "        # subqueries = []\n",
    "        return cls(query=query, subqueries=subqueries)\n",
    "\n",
    "    def __str__(self):\n",
    "        return self.query\n",
    "\n",
    "\n",
    "class AstPipeline(BaseModel):\n",
    "    query: str\n",
    "    commands: list[AstCommand]\n",
    "\n",
    "    @classmethod\n",
    "    def parse(cls, s, loc, toks):\n",
    "        # toks = toks.as_dict()\n",
    "        print(f\"AstPipeline.parse({toks=})\")\n",
    "        # assert len(toks) == 1\n",
    "        # query = toks[0].strip()\n",
    "        # commands = toks[\"commands\"]\n",
    "        commands = toks[\"pipeline\"].as_list()\n",
    "        query = \" | \".join(c.query for c in commands)\n",
    "        return cls(query=query, commands=commands)\n",
    "\n",
    "    def __str__(self):\n",
    "        return self.query\n",
    "\n",
    "\n",
    "Pipeline = pp.Forward()\n",
    "Command = pp.Forward()\n",
    "Subquery = pp.Group(\"[\" + Pipeline(\"subquery\") + \"]\")\n",
    "QuotedString = pp.QuotedString(quote_char=\"\\\"\", unquote_results=False, esc_char=\"\\\\\")\n",
    "Command <<= pp.Combine((pp.CharsNotIn(\"[]|\\\"\") | QuotedString | Subquery)(\"chunks\")[1, ...]).set_parse_action(AstCommand.parse)\n",
    "Pipeline <<= (pp.Optional(pp.Optional(pp.White(min=0)) + \"|\") + pp.DelimitedList(Command(\"commands\"), delim=\"|\")(\"pipeline\")).set_parse_action(AstPipeline.parse)"
   ]
  },
  {
   "cell_type": "code",
   "execution_count": 73,
   "id": "73620f38-2a63-42d7-9032-55f6684a3982",
   "metadata": {},
   "outputs": [
    {
     "name": "stdout",
     "output_type": "stream",
     "text": [
      "AstCommand.parse(toks=ParseResults(['search x=y'], {'chunks': ['search x=y']}))\n",
      "SUBQUERIES: subqueries=[]\n"
     ]
    },
    {
     "data": {
      "text/plain": [
       "AstCommand(query='search x=y', subqueries=[])"
      ]
     },
     "metadata": {},
     "output_type": "display_data"
    }
   ],
   "source": [
    "res = Command.parse_string(\"search x=y\", parse_all=True)[0]\n",
    "display(res)\n",
    "assert res == AstCommand(query=\"search x=y\", subqueries=[])"
   ]
  },
  {
   "cell_type": "code",
   "execution_count": 74,
   "id": "c8d4bb35-af0c-427e-86dc-babfb5c8c2d7",
   "metadata": {},
   "outputs": [
    {
     "name": "stdout",
     "output_type": "stream",
     "text": [
      "AstCommand.parse(toks=ParseResults(['search x=y'], {'chunks': ['search x=y']}))\n",
      "SUBQUERIES: subqueries=[]\n",
      "AstPipeline.parse(toks=ParseResults([AstCommand(query='search x=y', subqueries=[])], {'commands': AstCommand(query='search x=y', subqueries=[]), 'pipeline': [AstCommand(query='search x=y', subqueries=[])]}))\n"
     ]
    },
    {
     "data": {
      "text/plain": [
       "AstPipeline(query='search x=y', commands=[AstCommand(query='search x=y', subqueries=[])])"
      ]
     },
     "metadata": {},
     "output_type": "display_data"
    }
   ],
   "source": [
    "res = Pipeline.parse_string(\"search x=y\", parse_all=True)[0]\n",
    "display(res)\n",
    "assert res == AstPipeline(query=\"search x=y\", commands=[\n",
    "    AstCommand(query=\"search x=y\", subqueries=[])\n",
    "])"
   ]
  },
  {
   "cell_type": "code",
   "execution_count": 75,
   "id": "b444b041-d322-4847-a9b7-a5a2b2f1285f",
   "metadata": {},
   "outputs": [
    {
     "name": "stdout",
     "output_type": "stream",
     "text": [
      "AstCommand.parse(toks=ParseResults(['search x=y '], {'chunks': ['search x=y ']}))\n",
      "SUBQUERIES: subqueries=[]\n",
      "AstCommand.parse(toks=ParseResults(['where x>5'], {'chunks': ['where x>5']}))\n",
      "SUBQUERIES: subqueries=[]\n",
      "AstPipeline.parse(toks=ParseResults([AstCommand(query='search x=y', subqueries=[]), AstCommand(query='where x>5', subqueries=[])], {'commands': AstCommand(query='where x>5', subqueries=[]), 'pipeline': [AstCommand(query='search x=y', subqueries=[]), AstCommand(query='where x>5', subqueries=[])]}))\n"
     ]
    },
    {
     "data": {
      "text/plain": [
       "AstPipeline(query='search x=y | where x>5', commands=[AstCommand(query='search x=y', subqueries=[]), AstCommand(query='where x>5', subqueries=[])])"
      ]
     },
     "metadata": {},
     "output_type": "display_data"
    }
   ],
   "source": [
    "res = Pipeline.parse_string(\"search x=y | where x>5\", parse_all=True)[0]\n",
    "display(res)\n",
    "assert res == AstPipeline(query=\"search x=y | where x>5\", commands=[\n",
    "    AstCommand(query=\"search x=y\", subqueries=[]),\n",
    "    AstCommand(query=\"where x>5\", subqueries=[]),\n",
    "])"
   ]
  },
  {
   "cell_type": "code",
   "execution_count": 79,
   "id": "f0d26959-94e8-470e-80e4-9fee28a38047",
   "metadata": {},
   "outputs": [
    {
     "name": "stdout",
     "output_type": "stream",
     "text": [
      "AstCommand.parse(toks=ParseResults(['wassup '], {'chunks': ['wassup ']}))\n",
      "SUBQUERIES: subqueries=[]\n",
      "AstPipeline.parse(toks=ParseResults([AstCommand(query='wassup', subqueries=[])], {'commands': AstCommand(query='wassup', subqueries=[]), 'pipeline': [AstCommand(query='wassup', subqueries=[])]}))\n",
      "AstCommand.parse(toks=ParseResults([\"search x=y [query='wassup' commands=[AstCommand(query='wassup', subqueries=[])]]\"], {'chunks': [{'subquery': AstPipeline(query='wassup', commands=[AstCommand(query='wassup', subqueries=[])])}]}))\n",
      "SUBQUERIES: subqueries=[{'query': 'wassup', 'commands': [{'query': 'wassup', 'subqueries': []}]}]\n",
      "type(subqueries)=<class 'list'>, type(subqueries[0])=<class 'dict'>\n"
     ]
    },
    {
     "data": {
      "text/plain": [
       "AstCommand(query=\"search x=y [query='wassup' commands=[AstCommand(query='wassup', subqueries=[])]]\", subqueries=[AstPipeline(query='wassup', commands=[AstCommand(query='wassup', subqueries=[])])])"
      ]
     },
     "metadata": {},
     "output_type": "display_data"
    },
    {
     "ename": "AssertionError",
     "evalue": "",
     "output_type": "error",
     "traceback": [
      "\u001b[1;31m---------------------------------------------------------------------------\u001b[0m",
      "\u001b[1;31mAssertionError\u001b[0m                            Traceback (most recent call last)",
      "Cell \u001b[1;32mIn[79], line 3\u001b[0m\n\u001b[0;32m      1\u001b[0m res \u001b[38;5;241m=\u001b[39m Command\u001b[38;5;241m.\u001b[39mparse_string(\u001b[38;5;124m\"\u001b[39m\u001b[38;5;124msearch x=y [ wassup ]\u001b[39m\u001b[38;5;124m\"\u001b[39m, parse_all\u001b[38;5;241m=\u001b[39m\u001b[38;5;28;01mTrue\u001b[39;00m)[\u001b[38;5;241m0\u001b[39m]\n\u001b[0;32m      2\u001b[0m display(res)\n\u001b[1;32m----> 3\u001b[0m \u001b[38;5;28;01massert\u001b[39;00m res \u001b[38;5;241m==\u001b[39m AstCommand(query\u001b[38;5;241m=\u001b[39m\u001b[38;5;124m\"\u001b[39m\u001b[38;5;124msearch x=y [ wassup ]\u001b[39m\u001b[38;5;124m\"\u001b[39m, subqueries\u001b[38;5;241m=\u001b[39m[\n\u001b[0;32m      4\u001b[0m     \u001b[38;5;28mdict\u001b[39m(query\u001b[38;5;241m=\u001b[39m\u001b[38;5;124m\"\u001b[39m\u001b[38;5;124mwassup\u001b[39m\u001b[38;5;124m\"\u001b[39m, commands\u001b[38;5;241m=\u001b[39m[\u001b[38;5;28mdict\u001b[39m(query\u001b[38;5;241m=\u001b[39m\u001b[38;5;124m\"\u001b[39m\u001b[38;5;124mwassup\u001b[39m\u001b[38;5;124m\"\u001b[39m, subqueries\u001b[38;5;241m=\u001b[39m[])])\n\u001b[0;32m      5\u001b[0m ])\n",
      "\u001b[1;31mAssertionError\u001b[0m: "
     ]
    }
   ],
   "source": [
    "res = Command.parse_string(\"search x=y [ wassup ]\", parse_all=True)[0]\n",
    "display(res)\n",
    "assert res == AstCommand(query=\"search x=y [ wassup ]\", subqueries=[\n",
    "    dict(query=\"wassup\", commands=[dict(query=\"wassup\", subqueries=[])])\n",
    "])"
   ]
  },
  {
   "cell_type": "code",
   "execution_count": 3,
   "id": "6a36fe2f-f520-49ba-8c72-21a7b48684cd",
   "metadata": {
    "collapsed": true,
    "jupyter": {
     "outputs_hidden": true
    }
   },
   "outputs": [
    {
     "name": "stdout",
     "output_type": "stream",
     "text": [
      "AstCommand.parse(toks=ParseResults(['search x=y '], {'chunks': ['search x=y ']}))\n"
     ]
    },
    {
     "ename": "AttributeError",
     "evalue": "'str' object has no attribute 'get'",
     "output_type": "error",
     "traceback": [
      "\u001b[1;31m---------------------------------------------------------------------------\u001b[0m",
      "\u001b[1;31mAttributeError\u001b[0m                            Traceback (most recent call last)",
      "Cell \u001b[1;32mIn[3], line 1\u001b[0m\n\u001b[1;32m----> 1\u001b[0m \u001b[43mPipeline\u001b[49m\u001b[38;5;241;43m.\u001b[39;49m\u001b[43mparse_string\u001b[49m\u001b[43m(\u001b[49m\u001b[38;5;124;43m\"\u001b[39;49m\u001b[38;5;124;43msearch x=y | where x>5 [subsearch1 | subcommand2 \u001b[39;49m\u001b[38;5;130;43;01m\\\"\u001b[39;49;00m\u001b[38;5;124;43mx|y\u001b[39;49m\u001b[38;5;130;43;01m\\\"\u001b[39;49;00m\u001b[38;5;124;43m] | where NOT[| inputlookup x] NOT[ |inputlookup y]\u001b[39;49m\u001b[38;5;124;43m\"\u001b[39;49m\u001b[43m,\u001b[49m\u001b[43m \u001b[49m\u001b[43mparse_all\u001b[49m\u001b[38;5;241;43m=\u001b[39;49m\u001b[38;5;28;43;01mTrue\u001b[39;49;00m\u001b[43m)\u001b[49m\u001b[38;5;241m.\u001b[39mas_dict()\n",
      "File \u001b[1;32m~\\miniconda3\\envs\\spl_transpiler\\Lib\\site-packages\\pyparsing\\core.py:1189\u001b[0m, in \u001b[0;36mParserElement.parse_string\u001b[1;34m(self, instring, parse_all, parseAll)\u001b[0m\n\u001b[0;32m   1187\u001b[0m     instring \u001b[38;5;241m=\u001b[39m instring\u001b[38;5;241m.\u001b[39mexpandtabs()\n\u001b[0;32m   1188\u001b[0m \u001b[38;5;28;01mtry\u001b[39;00m:\n\u001b[1;32m-> 1189\u001b[0m     loc, tokens \u001b[38;5;241m=\u001b[39m \u001b[38;5;28;43mself\u001b[39;49m\u001b[38;5;241;43m.\u001b[39;49m\u001b[43m_parse\u001b[49m\u001b[43m(\u001b[49m\u001b[43minstring\u001b[49m\u001b[43m,\u001b[49m\u001b[43m \u001b[49m\u001b[38;5;241;43m0\u001b[39;49m\u001b[43m)\u001b[49m\n\u001b[0;32m   1190\u001b[0m     \u001b[38;5;28;01mif\u001b[39;00m parseAll:\n\u001b[0;32m   1191\u001b[0m         loc \u001b[38;5;241m=\u001b[39m \u001b[38;5;28mself\u001b[39m\u001b[38;5;241m.\u001b[39mpreParse(instring, loc)\n",
      "File \u001b[1;32m~\\miniconda3\\envs\\spl_transpiler\\Lib\\site-packages\\pyparsing\\core.py:851\u001b[0m, in \u001b[0;36mParserElement._parseNoCache\u001b[1;34m(self, instring, loc, do_actions, callPreParse)\u001b[0m\n\u001b[0;32m    849\u001b[0m \u001b[38;5;28;01mif\u001b[39;00m \u001b[38;5;28mself\u001b[39m\u001b[38;5;241m.\u001b[39mmayIndexError \u001b[38;5;129;01mor\u001b[39;00m pre_loc \u001b[38;5;241m>\u001b[39m\u001b[38;5;241m=\u001b[39m len_instring:\n\u001b[0;32m    850\u001b[0m     \u001b[38;5;28;01mtry\u001b[39;00m:\n\u001b[1;32m--> 851\u001b[0m         loc, tokens \u001b[38;5;241m=\u001b[39m \u001b[38;5;28;43mself\u001b[39;49m\u001b[38;5;241;43m.\u001b[39;49m\u001b[43mparseImpl\u001b[49m\u001b[43m(\u001b[49m\u001b[43minstring\u001b[49m\u001b[43m,\u001b[49m\u001b[43m \u001b[49m\u001b[43mpre_loc\u001b[49m\u001b[43m,\u001b[49m\u001b[43m \u001b[49m\u001b[43mdo_actions\u001b[49m\u001b[43m)\u001b[49m\n\u001b[0;32m    852\u001b[0m     \u001b[38;5;28;01mexcept\u001b[39;00m \u001b[38;5;167;01mIndexError\u001b[39;00m:\n\u001b[0;32m    853\u001b[0m         \u001b[38;5;28;01mraise\u001b[39;00m ParseException(instring, len_instring, \u001b[38;5;28mself\u001b[39m\u001b[38;5;241m.\u001b[39merrmsg, \u001b[38;5;28mself\u001b[39m)\n",
      "File \u001b[1;32m~\\miniconda3\\envs\\spl_transpiler\\Lib\\site-packages\\pyparsing\\core.py:5532\u001b[0m, in \u001b[0;36mForward.parseImpl\u001b[1;34m(self, instring, loc, do_actions)\u001b[0m\n\u001b[0;32m   5527\u001b[0m     warnings\u001b[38;5;241m.\u001b[39mwarn(\n\u001b[0;32m   5528\u001b[0m         \u001b[38;5;124m\"\u001b[39m\u001b[38;5;124mForward expression was never assigned a value, will not parse any input\u001b[39m\u001b[38;5;124m\"\u001b[39m,\n\u001b[0;32m   5529\u001b[0m         stacklevel\u001b[38;5;241m=\u001b[39mstacklevel,\n\u001b[0;32m   5530\u001b[0m     )\n\u001b[0;32m   5531\u001b[0m \u001b[38;5;28;01mif\u001b[39;00m \u001b[38;5;129;01mnot\u001b[39;00m ParserElement\u001b[38;5;241m.\u001b[39m_left_recursion_enabled:\n\u001b[1;32m-> 5532\u001b[0m     \u001b[38;5;28;01mreturn\u001b[39;00m \u001b[38;5;28;43msuper\u001b[39;49m\u001b[43m(\u001b[49m\u001b[43m)\u001b[49m\u001b[38;5;241;43m.\u001b[39;49m\u001b[43mparseImpl\u001b[49m\u001b[43m(\u001b[49m\u001b[43minstring\u001b[49m\u001b[43m,\u001b[49m\u001b[43m \u001b[49m\u001b[43mloc\u001b[49m\u001b[43m,\u001b[49m\u001b[43m \u001b[49m\u001b[43mdo_actions\u001b[49m\u001b[43m)\u001b[49m\n\u001b[0;32m   5533\u001b[0m \u001b[38;5;66;03m# ## Bounded Recursion algorithm ##\u001b[39;00m\n\u001b[0;32m   5534\u001b[0m \u001b[38;5;66;03m# Recursion only needs to be processed at ``Forward`` elements, since they are\u001b[39;00m\n\u001b[0;32m   5535\u001b[0m \u001b[38;5;66;03m# the only ones that can actually refer to themselves. The general idea is\u001b[39;00m\n\u001b[1;32m   (...)\u001b[0m\n\u001b[0;32m   5550\u001b[0m \u001b[38;5;66;03m# we expand using `do_actions=False` and only run `do_actions=True` if the next\u001b[39;00m\n\u001b[0;32m   5551\u001b[0m \u001b[38;5;66;03m# recursion level is acceptable.\u001b[39;00m\n\u001b[0;32m   5552\u001b[0m \u001b[38;5;28;01mwith\u001b[39;00m ParserElement\u001b[38;5;241m.\u001b[39mrecursion_lock:\n",
      "File \u001b[1;32m~\\miniconda3\\envs\\spl_transpiler\\Lib\\site-packages\\pyparsing\\core.py:4578\u001b[0m, in \u001b[0;36mParseElementEnhance.parseImpl\u001b[1;34m(self, instring, loc, do_actions)\u001b[0m\n\u001b[0;32m   4575\u001b[0m     \u001b[38;5;28;01mraise\u001b[39;00m ParseException(instring, loc, \u001b[38;5;124m\"\u001b[39m\u001b[38;5;124mNo expression defined\u001b[39m\u001b[38;5;124m\"\u001b[39m, \u001b[38;5;28mself\u001b[39m)\n\u001b[0;32m   4577\u001b[0m \u001b[38;5;28;01mtry\u001b[39;00m:\n\u001b[1;32m-> 4578\u001b[0m     \u001b[38;5;28;01mreturn\u001b[39;00m \u001b[38;5;28;43mself\u001b[39;49m\u001b[38;5;241;43m.\u001b[39;49m\u001b[43mexpr\u001b[49m\u001b[38;5;241;43m.\u001b[39;49m\u001b[43m_parse\u001b[49m\u001b[43m(\u001b[49m\u001b[43minstring\u001b[49m\u001b[43m,\u001b[49m\u001b[43m \u001b[49m\u001b[43mloc\u001b[49m\u001b[43m,\u001b[49m\u001b[43m \u001b[49m\u001b[43mdo_actions\u001b[49m\u001b[43m,\u001b[49m\u001b[43m \u001b[49m\u001b[43mcallPreParse\u001b[49m\u001b[38;5;241;43m=\u001b[39;49m\u001b[38;5;28;43;01mFalse\u001b[39;49;00m\u001b[43m)\u001b[49m\n\u001b[0;32m   4579\u001b[0m \u001b[38;5;28;01mexcept\u001b[39;00m ParseSyntaxException:\n\u001b[0;32m   4580\u001b[0m     \u001b[38;5;28;01mraise\u001b[39;00m\n",
      "File \u001b[1;32m~\\miniconda3\\envs\\spl_transpiler\\Lib\\site-packages\\pyparsing\\core.py:851\u001b[0m, in \u001b[0;36mParserElement._parseNoCache\u001b[1;34m(self, instring, loc, do_actions, callPreParse)\u001b[0m\n\u001b[0;32m    849\u001b[0m \u001b[38;5;28;01mif\u001b[39;00m \u001b[38;5;28mself\u001b[39m\u001b[38;5;241m.\u001b[39mmayIndexError \u001b[38;5;129;01mor\u001b[39;00m pre_loc \u001b[38;5;241m>\u001b[39m\u001b[38;5;241m=\u001b[39m len_instring:\n\u001b[0;32m    850\u001b[0m     \u001b[38;5;28;01mtry\u001b[39;00m:\n\u001b[1;32m--> 851\u001b[0m         loc, tokens \u001b[38;5;241m=\u001b[39m \u001b[38;5;28;43mself\u001b[39;49m\u001b[38;5;241;43m.\u001b[39;49m\u001b[43mparseImpl\u001b[49m\u001b[43m(\u001b[49m\u001b[43minstring\u001b[49m\u001b[43m,\u001b[49m\u001b[43m \u001b[49m\u001b[43mpre_loc\u001b[49m\u001b[43m,\u001b[49m\u001b[43m \u001b[49m\u001b[43mdo_actions\u001b[49m\u001b[43m)\u001b[49m\n\u001b[0;32m    852\u001b[0m     \u001b[38;5;28;01mexcept\u001b[39;00m \u001b[38;5;167;01mIndexError\u001b[39;00m:\n\u001b[0;32m    853\u001b[0m         \u001b[38;5;28;01mraise\u001b[39;00m ParseException(instring, len_instring, \u001b[38;5;28mself\u001b[39m\u001b[38;5;241m.\u001b[39merrmsg, \u001b[38;5;28mself\u001b[39m)\n",
      "File \u001b[1;32m~\\miniconda3\\envs\\spl_transpiler\\Lib\\site-packages\\pyparsing\\core.py:4080\u001b[0m, in \u001b[0;36mAnd.parseImpl\u001b[1;34m(self, instring, loc, do_actions)\u001b[0m\n\u001b[0;32m   4076\u001b[0m             \u001b[38;5;28;01mraise\u001b[39;00m ParseSyntaxException(\n\u001b[0;32m   4077\u001b[0m                 instring, \u001b[38;5;28mlen\u001b[39m(instring), \u001b[38;5;28mself\u001b[39m\u001b[38;5;241m.\u001b[39merrmsg, \u001b[38;5;28mself\u001b[39m\n\u001b[0;32m   4078\u001b[0m             )\n\u001b[0;32m   4079\u001b[0m     \u001b[38;5;28;01melse\u001b[39;00m:\n\u001b[1;32m-> 4080\u001b[0m         loc, exprtokens \u001b[38;5;241m=\u001b[39m \u001b[43me\u001b[49m\u001b[38;5;241;43m.\u001b[39;49m\u001b[43m_parse\u001b[49m\u001b[43m(\u001b[49m\u001b[43minstring\u001b[49m\u001b[43m,\u001b[49m\u001b[43m \u001b[49m\u001b[43mloc\u001b[49m\u001b[43m,\u001b[49m\u001b[43m \u001b[49m\u001b[43mdo_actions\u001b[49m\u001b[43m)\u001b[49m\n\u001b[0;32m   4081\u001b[0m     resultlist \u001b[38;5;241m+\u001b[39m\u001b[38;5;241m=\u001b[39m exprtokens\n\u001b[0;32m   4082\u001b[0m \u001b[38;5;28;01mreturn\u001b[39;00m loc, resultlist\n",
      "File \u001b[1;32m~\\miniconda3\\envs\\spl_transpiler\\Lib\\site-packages\\pyparsing\\core.py:851\u001b[0m, in \u001b[0;36mParserElement._parseNoCache\u001b[1;34m(self, instring, loc, do_actions, callPreParse)\u001b[0m\n\u001b[0;32m    849\u001b[0m \u001b[38;5;28;01mif\u001b[39;00m \u001b[38;5;28mself\u001b[39m\u001b[38;5;241m.\u001b[39mmayIndexError \u001b[38;5;129;01mor\u001b[39;00m pre_loc \u001b[38;5;241m>\u001b[39m\u001b[38;5;241m=\u001b[39m len_instring:\n\u001b[0;32m    850\u001b[0m     \u001b[38;5;28;01mtry\u001b[39;00m:\n\u001b[1;32m--> 851\u001b[0m         loc, tokens \u001b[38;5;241m=\u001b[39m \u001b[38;5;28;43mself\u001b[39;49m\u001b[38;5;241;43m.\u001b[39;49m\u001b[43mparseImpl\u001b[49m\u001b[43m(\u001b[49m\u001b[43minstring\u001b[49m\u001b[43m,\u001b[49m\u001b[43m \u001b[49m\u001b[43mpre_loc\u001b[49m\u001b[43m,\u001b[49m\u001b[43m \u001b[49m\u001b[43mdo_actions\u001b[49m\u001b[43m)\u001b[49m\n\u001b[0;32m    852\u001b[0m     \u001b[38;5;28;01mexcept\u001b[39;00m \u001b[38;5;167;01mIndexError\u001b[39;00m:\n\u001b[0;32m    853\u001b[0m         \u001b[38;5;28;01mraise\u001b[39;00m ParseException(instring, len_instring, \u001b[38;5;28mself\u001b[39m\u001b[38;5;241m.\u001b[39merrmsg, \u001b[38;5;28mself\u001b[39m)\n",
      "File \u001b[1;32m~\\miniconda3\\envs\\spl_transpiler\\Lib\\site-packages\\pyparsing\\core.py:4578\u001b[0m, in \u001b[0;36mParseElementEnhance.parseImpl\u001b[1;34m(self, instring, loc, do_actions)\u001b[0m\n\u001b[0;32m   4575\u001b[0m     \u001b[38;5;28;01mraise\u001b[39;00m ParseException(instring, loc, \u001b[38;5;124m\"\u001b[39m\u001b[38;5;124mNo expression defined\u001b[39m\u001b[38;5;124m\"\u001b[39m, \u001b[38;5;28mself\u001b[39m)\n\u001b[0;32m   4577\u001b[0m \u001b[38;5;28;01mtry\u001b[39;00m:\n\u001b[1;32m-> 4578\u001b[0m     \u001b[38;5;28;01mreturn\u001b[39;00m \u001b[38;5;28;43mself\u001b[39;49m\u001b[38;5;241;43m.\u001b[39;49m\u001b[43mexpr\u001b[49m\u001b[38;5;241;43m.\u001b[39;49m\u001b[43m_parse\u001b[49m\u001b[43m(\u001b[49m\u001b[43minstring\u001b[49m\u001b[43m,\u001b[49m\u001b[43m \u001b[49m\u001b[43mloc\u001b[49m\u001b[43m,\u001b[49m\u001b[43m \u001b[49m\u001b[43mdo_actions\u001b[49m\u001b[43m,\u001b[49m\u001b[43m \u001b[49m\u001b[43mcallPreParse\u001b[49m\u001b[38;5;241;43m=\u001b[39;49m\u001b[38;5;28;43;01mFalse\u001b[39;49;00m\u001b[43m)\u001b[49m\n\u001b[0;32m   4579\u001b[0m \u001b[38;5;28;01mexcept\u001b[39;00m ParseSyntaxException:\n\u001b[0;32m   4580\u001b[0m     \u001b[38;5;28;01mraise\u001b[39;00m\n",
      "File \u001b[1;32m~\\miniconda3\\envs\\spl_transpiler\\Lib\\site-packages\\pyparsing\\core.py:851\u001b[0m, in \u001b[0;36mParserElement._parseNoCache\u001b[1;34m(self, instring, loc, do_actions, callPreParse)\u001b[0m\n\u001b[0;32m    849\u001b[0m \u001b[38;5;28;01mif\u001b[39;00m \u001b[38;5;28mself\u001b[39m\u001b[38;5;241m.\u001b[39mmayIndexError \u001b[38;5;129;01mor\u001b[39;00m pre_loc \u001b[38;5;241m>\u001b[39m\u001b[38;5;241m=\u001b[39m len_instring:\n\u001b[0;32m    850\u001b[0m     \u001b[38;5;28;01mtry\u001b[39;00m:\n\u001b[1;32m--> 851\u001b[0m         loc, tokens \u001b[38;5;241m=\u001b[39m \u001b[38;5;28;43mself\u001b[39;49m\u001b[38;5;241;43m.\u001b[39;49m\u001b[43mparseImpl\u001b[49m\u001b[43m(\u001b[49m\u001b[43minstring\u001b[49m\u001b[43m,\u001b[49m\u001b[43m \u001b[49m\u001b[43mpre_loc\u001b[49m\u001b[43m,\u001b[49m\u001b[43m \u001b[49m\u001b[43mdo_actions\u001b[49m\u001b[43m)\u001b[49m\n\u001b[0;32m    852\u001b[0m     \u001b[38;5;28;01mexcept\u001b[39;00m \u001b[38;5;167;01mIndexError\u001b[39;00m:\n\u001b[0;32m    853\u001b[0m         \u001b[38;5;28;01mraise\u001b[39;00m ParseException(instring, len_instring, \u001b[38;5;28mself\u001b[39m\u001b[38;5;241m.\u001b[39merrmsg, \u001b[38;5;28mself\u001b[39m)\n",
      "File \u001b[1;32m~\\miniconda3\\envs\\spl_transpiler\\Lib\\site-packages\\pyparsing\\core.py:4058\u001b[0m, in \u001b[0;36mAnd.parseImpl\u001b[1;34m(self, instring, loc, do_actions)\u001b[0m\n\u001b[0;32m   4055\u001b[0m \u001b[38;5;28;01mdef\u001b[39;00m \u001b[38;5;21mparseImpl\u001b[39m(\u001b[38;5;28mself\u001b[39m, instring, loc, do_actions\u001b[38;5;241m=\u001b[39m\u001b[38;5;28;01mTrue\u001b[39;00m):\n\u001b[0;32m   4056\u001b[0m     \u001b[38;5;66;03m# pass False as callPreParse arg to _parse for first element, since we already\u001b[39;00m\n\u001b[0;32m   4057\u001b[0m     \u001b[38;5;66;03m# pre-parsed the string as part of our And pre-parsing\u001b[39;00m\n\u001b[1;32m-> 4058\u001b[0m     loc, resultlist \u001b[38;5;241m=\u001b[39m \u001b[38;5;28;43mself\u001b[39;49m\u001b[38;5;241;43m.\u001b[39;49m\u001b[43mexprs\u001b[49m\u001b[43m[\u001b[49m\u001b[38;5;241;43m0\u001b[39;49m\u001b[43m]\u001b[49m\u001b[38;5;241;43m.\u001b[39;49m\u001b[43m_parse\u001b[49m\u001b[43m(\u001b[49m\n\u001b[0;32m   4059\u001b[0m \u001b[43m        \u001b[49m\u001b[43minstring\u001b[49m\u001b[43m,\u001b[49m\u001b[43m \u001b[49m\u001b[43mloc\u001b[49m\u001b[43m,\u001b[49m\u001b[43m \u001b[49m\u001b[43mdo_actions\u001b[49m\u001b[43m,\u001b[49m\u001b[43m \u001b[49m\u001b[43mcallPreParse\u001b[49m\u001b[38;5;241;43m=\u001b[39;49m\u001b[38;5;28;43;01mFalse\u001b[39;49;00m\n\u001b[0;32m   4060\u001b[0m \u001b[43m    \u001b[49m\u001b[43m)\u001b[49m\n\u001b[0;32m   4061\u001b[0m     errorStop \u001b[38;5;241m=\u001b[39m \u001b[38;5;28;01mFalse\u001b[39;00m\n\u001b[0;32m   4062\u001b[0m     \u001b[38;5;28;01mfor\u001b[39;00m e \u001b[38;5;129;01min\u001b[39;00m \u001b[38;5;28mself\u001b[39m\u001b[38;5;241m.\u001b[39mexprs[\u001b[38;5;241m1\u001b[39m:]:\n\u001b[0;32m   4063\u001b[0m         \u001b[38;5;66;03m# if isinstance(e, And._ErrorStop):\u001b[39;00m\n",
      "File \u001b[1;32m~\\miniconda3\\envs\\spl_transpiler\\Lib\\site-packages\\pyparsing\\core.py:851\u001b[0m, in \u001b[0;36mParserElement._parseNoCache\u001b[1;34m(self, instring, loc, do_actions, callPreParse)\u001b[0m\n\u001b[0;32m    849\u001b[0m \u001b[38;5;28;01mif\u001b[39;00m \u001b[38;5;28mself\u001b[39m\u001b[38;5;241m.\u001b[39mmayIndexError \u001b[38;5;129;01mor\u001b[39;00m pre_loc \u001b[38;5;241m>\u001b[39m\u001b[38;5;241m=\u001b[39m len_instring:\n\u001b[0;32m    850\u001b[0m     \u001b[38;5;28;01mtry\u001b[39;00m:\n\u001b[1;32m--> 851\u001b[0m         loc, tokens \u001b[38;5;241m=\u001b[39m \u001b[38;5;28;43mself\u001b[39;49m\u001b[38;5;241;43m.\u001b[39;49m\u001b[43mparseImpl\u001b[49m\u001b[43m(\u001b[49m\u001b[43minstring\u001b[49m\u001b[43m,\u001b[49m\u001b[43m \u001b[49m\u001b[43mpre_loc\u001b[49m\u001b[43m,\u001b[49m\u001b[43m \u001b[49m\u001b[43mdo_actions\u001b[49m\u001b[43m)\u001b[49m\n\u001b[0;32m    852\u001b[0m     \u001b[38;5;28;01mexcept\u001b[39;00m \u001b[38;5;167;01mIndexError\u001b[39;00m:\n\u001b[0;32m    853\u001b[0m         \u001b[38;5;28;01mraise\u001b[39;00m ParseException(instring, len_instring, \u001b[38;5;28mself\u001b[39m\u001b[38;5;241m.\u001b[39merrmsg, \u001b[38;5;28mself\u001b[39m)\n",
      "File \u001b[1;32m~\\miniconda3\\envs\\spl_transpiler\\Lib\\site-packages\\pyparsing\\core.py:5532\u001b[0m, in \u001b[0;36mForward.parseImpl\u001b[1;34m(self, instring, loc, do_actions)\u001b[0m\n\u001b[0;32m   5527\u001b[0m     warnings\u001b[38;5;241m.\u001b[39mwarn(\n\u001b[0;32m   5528\u001b[0m         \u001b[38;5;124m\"\u001b[39m\u001b[38;5;124mForward expression was never assigned a value, will not parse any input\u001b[39m\u001b[38;5;124m\"\u001b[39m,\n\u001b[0;32m   5529\u001b[0m         stacklevel\u001b[38;5;241m=\u001b[39mstacklevel,\n\u001b[0;32m   5530\u001b[0m     )\n\u001b[0;32m   5531\u001b[0m \u001b[38;5;28;01mif\u001b[39;00m \u001b[38;5;129;01mnot\u001b[39;00m ParserElement\u001b[38;5;241m.\u001b[39m_left_recursion_enabled:\n\u001b[1;32m-> 5532\u001b[0m     \u001b[38;5;28;01mreturn\u001b[39;00m \u001b[38;5;28;43msuper\u001b[39;49m\u001b[43m(\u001b[49m\u001b[43m)\u001b[49m\u001b[38;5;241;43m.\u001b[39;49m\u001b[43mparseImpl\u001b[49m\u001b[43m(\u001b[49m\u001b[43minstring\u001b[49m\u001b[43m,\u001b[49m\u001b[43m \u001b[49m\u001b[43mloc\u001b[49m\u001b[43m,\u001b[49m\u001b[43m \u001b[49m\u001b[43mdo_actions\u001b[49m\u001b[43m)\u001b[49m\n\u001b[0;32m   5533\u001b[0m \u001b[38;5;66;03m# ## Bounded Recursion algorithm ##\u001b[39;00m\n\u001b[0;32m   5534\u001b[0m \u001b[38;5;66;03m# Recursion only needs to be processed at ``Forward`` elements, since they are\u001b[39;00m\n\u001b[0;32m   5535\u001b[0m \u001b[38;5;66;03m# the only ones that can actually refer to themselves. The general idea is\u001b[39;00m\n\u001b[1;32m   (...)\u001b[0m\n\u001b[0;32m   5550\u001b[0m \u001b[38;5;66;03m# we expand using `do_actions=False` and only run `do_actions=True` if the next\u001b[39;00m\n\u001b[0;32m   5551\u001b[0m \u001b[38;5;66;03m# recursion level is acceptable.\u001b[39;00m\n\u001b[0;32m   5552\u001b[0m \u001b[38;5;28;01mwith\u001b[39;00m ParserElement\u001b[38;5;241m.\u001b[39mrecursion_lock:\n",
      "File \u001b[1;32m~\\miniconda3\\envs\\spl_transpiler\\Lib\\site-packages\\pyparsing\\core.py:4578\u001b[0m, in \u001b[0;36mParseElementEnhance.parseImpl\u001b[1;34m(self, instring, loc, do_actions)\u001b[0m\n\u001b[0;32m   4575\u001b[0m     \u001b[38;5;28;01mraise\u001b[39;00m ParseException(instring, loc, \u001b[38;5;124m\"\u001b[39m\u001b[38;5;124mNo expression defined\u001b[39m\u001b[38;5;124m\"\u001b[39m, \u001b[38;5;28mself\u001b[39m)\n\u001b[0;32m   4577\u001b[0m \u001b[38;5;28;01mtry\u001b[39;00m:\n\u001b[1;32m-> 4578\u001b[0m     \u001b[38;5;28;01mreturn\u001b[39;00m \u001b[38;5;28;43mself\u001b[39;49m\u001b[38;5;241;43m.\u001b[39;49m\u001b[43mexpr\u001b[49m\u001b[38;5;241;43m.\u001b[39;49m\u001b[43m_parse\u001b[49m\u001b[43m(\u001b[49m\u001b[43minstring\u001b[49m\u001b[43m,\u001b[49m\u001b[43m \u001b[49m\u001b[43mloc\u001b[49m\u001b[43m,\u001b[49m\u001b[43m \u001b[49m\u001b[43mdo_actions\u001b[49m\u001b[43m,\u001b[49m\u001b[43m \u001b[49m\u001b[43mcallPreParse\u001b[49m\u001b[38;5;241;43m=\u001b[39;49m\u001b[38;5;28;43;01mFalse\u001b[39;49;00m\u001b[43m)\u001b[49m\n\u001b[0;32m   4579\u001b[0m \u001b[38;5;28;01mexcept\u001b[39;00m ParseSyntaxException:\n\u001b[0;32m   4580\u001b[0m     \u001b[38;5;28;01mraise\u001b[39;00m\n",
      "File \u001b[1;32m~\\miniconda3\\envs\\spl_transpiler\\Lib\\site-packages\\pyparsing\\core.py:890\u001b[0m, in \u001b[0;36mParserElement._parseNoCache\u001b[1;34m(self, instring, loc, do_actions, callPreParse)\u001b[0m\n\u001b[0;32m    888\u001b[0m \u001b[38;5;28;01mfor\u001b[39;00m fn \u001b[38;5;129;01min\u001b[39;00m \u001b[38;5;28mself\u001b[39m\u001b[38;5;241m.\u001b[39mparseAction:\n\u001b[0;32m    889\u001b[0m     \u001b[38;5;28;01mtry\u001b[39;00m:\n\u001b[1;32m--> 890\u001b[0m         tokens \u001b[38;5;241m=\u001b[39m \u001b[43mfn\u001b[49m\u001b[43m(\u001b[49m\u001b[43minstring\u001b[49m\u001b[43m,\u001b[49m\u001b[43m \u001b[49m\u001b[43mtokens_start\u001b[49m\u001b[43m,\u001b[49m\u001b[43m \u001b[49m\u001b[43mret_tokens\u001b[49m\u001b[43m)\u001b[49m  \u001b[38;5;66;03m# type: ignore [call-arg, arg-type]\u001b[39;00m\n\u001b[0;32m    891\u001b[0m     \u001b[38;5;28;01mexcept\u001b[39;00m \u001b[38;5;167;01mIndexError\u001b[39;00m \u001b[38;5;28;01mas\u001b[39;00m parse_action_exc:\n\u001b[0;32m    892\u001b[0m         exc \u001b[38;5;241m=\u001b[39m ParseException(\u001b[38;5;124m\"\u001b[39m\u001b[38;5;124mexception raised in parse action\u001b[39m\u001b[38;5;124m\"\u001b[39m)\n",
      "File \u001b[1;32m~\\miniconda3\\envs\\spl_transpiler\\Lib\\site-packages\\pyparsing\\core.py:292\u001b[0m, in \u001b[0;36m_trim_arity.<locals>.wrapper\u001b[1;34m(*args)\u001b[0m\n\u001b[0;32m    290\u001b[0m \u001b[38;5;28;01mwhile\u001b[39;00m \u001b[38;5;241m1\u001b[39m:\n\u001b[0;32m    291\u001b[0m     \u001b[38;5;28;01mtry\u001b[39;00m:\n\u001b[1;32m--> 292\u001b[0m         ret \u001b[38;5;241m=\u001b[39m \u001b[43mfunc\u001b[49m\u001b[43m(\u001b[49m\u001b[38;5;241;43m*\u001b[39;49m\u001b[43margs\u001b[49m\u001b[43m[\u001b[49m\u001b[43mlimit\u001b[49m\u001b[43m:\u001b[49m\u001b[43m]\u001b[49m\u001b[43m)\u001b[49m\n\u001b[0;32m    293\u001b[0m         found_arity \u001b[38;5;241m=\u001b[39m \u001b[38;5;28;01mTrue\u001b[39;00m\n\u001b[0;32m    294\u001b[0m         \u001b[38;5;28;01mreturn\u001b[39;00m ret\n",
      "Cell \u001b[1;32mIn[2], line 11\u001b[0m, in \u001b[0;36mAstCommand.parse\u001b[1;34m(cls, s, loc, toks)\u001b[0m\n\u001b[0;32m      9\u001b[0m \u001b[38;5;28;01massert\u001b[39;00m \u001b[38;5;28mlen\u001b[39m(toks) \u001b[38;5;241m==\u001b[39m \u001b[38;5;241m1\u001b[39m\n\u001b[0;32m     10\u001b[0m query \u001b[38;5;241m=\u001b[39m toks[\u001b[38;5;241m0\u001b[39m]\n\u001b[1;32m---> 11\u001b[0m subqueries \u001b[38;5;241m=\u001b[39m [q \u001b[38;5;28;01mfor\u001b[39;00m chunk \u001b[38;5;129;01min\u001b[39;00m toks[\u001b[38;5;124m'\u001b[39m\u001b[38;5;124mchunks\u001b[39m\u001b[38;5;124m'\u001b[39m] \u001b[38;5;28;01mfor\u001b[39;00m q \u001b[38;5;129;01min\u001b[39;00m \u001b[43mchunk\u001b[49m\u001b[38;5;241;43m.\u001b[39;49m\u001b[43mget\u001b[49m(\u001b[38;5;124m\"\u001b[39m\u001b[38;5;124mpipeline\u001b[39m\u001b[38;5;124m\"\u001b[39m, [])]\n\u001b[0;32m     12\u001b[0m \u001b[38;5;28;01mreturn\u001b[39;00m \u001b[38;5;28mcls\u001b[39m(query\u001b[38;5;241m=\u001b[39mquery, subqueries\u001b[38;5;241m=\u001b[39msubqueries)\n",
      "\u001b[1;31mAttributeError\u001b[0m: 'str' object has no attribute 'get'"
     ]
    }
   ],
   "source": [
    "Pipeline.parse_string(\"search x=y | where x>5 [subsearch1 | subcommand2 \\\"x|y\\\"] | where NOT[| inputlookup x] NOT[ |inputlookup y]\", parse_all=True).as_dict()"
   ]
  },
  {
   "cell_type": "code",
   "execution_count": null,
   "id": "74ed2ec6-6af4-4f81-a673-540b3214bd4a",
   "metadata": {},
   "outputs": [],
   "source": []
  }
 ],
 "metadata": {
  "kernelspec": {
   "display_name": "Python 3 (ipykernel)",
   "language": "python",
   "name": "python3"
  },
  "language_info": {
   "codemirror_mode": {
    "name": "ipython",
    "version": 3
   },
   "file_extension": ".py",
   "mimetype": "text/x-python",
   "name": "python",
   "nbconvert_exporter": "python",
   "pygments_lexer": "ipython3",
   "version": "3.12.4"
  }
 },
 "nbformat": 4,
 "nbformat_minor": 5
}
