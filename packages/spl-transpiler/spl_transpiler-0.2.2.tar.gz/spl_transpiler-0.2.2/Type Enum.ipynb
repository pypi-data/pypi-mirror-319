{
 "cells": [
  {
   "metadata": {
    "ExecuteTime": {
     "end_time": "2024-10-15T22:07:35.605911Z",
     "start_time": "2024-10-15T22:07:35.594522Z"
    }
   },
   "cell_type": "code",
   "source": [
    "import spl_transpiler.runtime.base\n",
    "\n",
    "class Variant(spl_transpiler.runtime.base.create_enum_union(\n",
    "    x=str,\n",
    "    y=int,\n",
    "    z=float,\n",
    ")):\n",
    "    pass\n",
    "\n",
    "v = Variant({\"enum_variant\": \"z\", \"enum_value\": \"5\"})\n",
    "v"
   ],
   "id": "f25eccb2cb0057a7",
   "outputs": [
    {
     "data": {
      "text/plain": [
       "Variant(root=z(root=5.0))"
      ]
     },
     "execution_count": 22,
     "metadata": {},
     "output_type": "execute_result"
    }
   ],
   "execution_count": 22
  },
  {
   "metadata": {
    "ExecuteTime": {
     "end_time": "2024-10-15T22:07:36.082655Z",
     "start_time": "2024-10-15T22:07:36.076087Z"
    }
   },
   "cell_type": "code",
   "source": "Variant.types.x",
   "id": "e7ea2db31df56999",
   "outputs": [
    {
     "data": {
      "text/plain": [
       "abc.x"
      ]
     },
     "execution_count": 23,
     "metadata": {},
     "output_type": "execute_result"
    }
   ],
   "execution_count": 23
  },
  {
   "metadata": {
    "ExecuteTime": {
     "end_time": "2024-10-15T22:07:36.340775Z",
     "start_time": "2024-10-15T22:07:36.332677Z"
    }
   },
   "cell_type": "code",
   "source": [
    "match v.root:\n",
    "    case Variant.types.x(root=val):\n",
    "        print(f\"X! {val}\")\n",
    "    case Variant.types.y(root=val):\n",
    "        print(f\"Y! {val}\")\n",
    "    case Variant.types.z(root=val):\n",
    "        print(f\"Z! {val}\")\n",
    "    case _:\n",
    "        print(f\"Unknown variant type: {type(v.root)}!\")"
   ],
   "id": "4c5ecad1d3a47b36",
   "outputs": [
    {
     "name": "stdout",
     "output_type": "stream",
     "text": [
      "Z! 5.0\n"
     ]
    }
   ],
   "execution_count": 24
  },
  {
   "metadata": {
    "ExecuteTime": {
     "end_time": "2024-10-15T21:32:52.254830Z",
     "start_time": "2024-10-15T21:32:52.249716Z"
    }
   },
   "cell_type": "code",
   "source": "type(v.root)",
   "id": "cdc47fae49f187d4",
   "outputs": [
    {
     "data": {
      "text/plain": [
       "abc.x"
      ]
     },
     "execution_count": 7,
     "metadata": {},
     "output_type": "execute_result"
    }
   ],
   "execution_count": 7
  },
  {
   "metadata": {
    "ExecuteTime": {
     "end_time": "2024-10-15T21:32:58.825998Z",
     "start_time": "2024-10-15T21:32:58.821034Z"
    }
   },
   "cell_type": "code",
   "source": "Variant.types.x",
   "id": "27314ad65c2211d8",
   "outputs": [
    {
     "data": {
      "text/plain": [
       "abc.x"
      ]
     },
     "execution_count": 8,
     "metadata": {},
     "output_type": "execute_result"
    }
   ],
   "execution_count": 8
  },
  {
   "metadata": {
    "ExecuteTime": {
     "end_time": "2024-10-15T21:33:06.210764Z",
     "start_time": "2024-10-15T21:33:06.206333Z"
    }
   },
   "cell_type": "code",
   "source": "type(v.root) == Variant.types.x",
   "id": "bb8c42d80f8543f1",
   "outputs": [
    {
     "data": {
      "text/plain": [
       "True"
      ]
     },
     "execution_count": 9,
     "metadata": {},
     "output_type": "execute_result"
    }
   ],
   "execution_count": 9
  },
  {
   "metadata": {
    "ExecuteTime": {
     "end_time": "2024-10-15T21:33:16.645371Z",
     "start_time": "2024-10-15T21:33:16.640425Z"
    }
   },
   "cell_type": "code",
   "source": "isinstance(v.root, Variant.types.x)",
   "id": "1a9f61e4936f8093",
   "outputs": [
    {
     "data": {
      "text/plain": [
       "True"
      ]
     },
     "execution_count": 10,
     "metadata": {},
     "output_type": "execute_result"
    }
   ],
   "execution_count": 10
  },
  {
   "metadata": {
    "ExecuteTime": {
     "end_time": "2024-10-15T21:35:20.113176Z",
     "start_time": "2024-10-15T21:35:20.108952Z"
    }
   },
   "cell_type": "code",
   "source": "v.root.root",
   "id": "4593679caaed8073",
   "outputs": [
    {
     "data": {
      "text/plain": [
       "'5'"
      ]
     },
     "execution_count": 12,
     "metadata": {},
     "output_type": "execute_result"
    }
   ],
   "execution_count": 12
  },
  {
   "metadata": {},
   "cell_type": "code",
   "outputs": [],
   "execution_count": null,
   "source": "",
   "id": "11ea50f789094a92"
  }
 ],
 "metadata": {
  "kernelspec": {
   "display_name": "Python 3",
   "language": "python",
   "name": "python3"
  },
  "language_info": {
   "codemirror_mode": {
    "name": "ipython",
    "version": 2
   },
   "file_extension": ".py",
   "mimetype": "text/x-python",
   "name": "python",
   "nbconvert_exporter": "python",
   "pygments_lexer": "ipython2",
   "version": "2.7.6"
  }
 },
 "nbformat": 4,
 "nbformat_minor": 5
}
