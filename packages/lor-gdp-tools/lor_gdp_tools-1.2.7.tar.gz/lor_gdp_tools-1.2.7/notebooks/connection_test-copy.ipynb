{
  "cells": [
    {
      "cell_type": "code",
      "execution_count": 6,
      "metadata": {
        "gather": {
          "logged": 1718807243407
        },
        "jupyter": {
          "outputs_hidden": false,
          "source_hidden": false
        },
        "nteract": {
          "transient": {
            "deleting": false
          }
        }
      },
      "outputs": [],
      "source": [
        "#install ODBC driver by running this in a terminal window\n",
        "#https://learn.microsoft.com/en-us/answers/questions/45912/while-running-an-azure-ml-experiement-i-get-file-n\n",
        "\n",
        " #    sudo dpkg -l|grep msodbcsql # If this command return blank the you know that the driver indeed is missing on your server and that you need to install it\n",
        "                            \n",
        "#And to install this driver you can run the following:\n",
        "         \n",
        "#    sudo ACCEPT_EULA=Y apt-get install msodbcsql17"
      ]
    },
    {
      "cell_type": "code",
      "execution_count": 7,
      "metadata": {
        "gather": {
          "logged": 1718807245424
        }
      },
      "outputs": [],
      "source": [
        "#set kernel to Python 3.8\n",
        "\n",
        "import pyodbc\n",
        "import pandas as pd"
      ]
    },
    {
      "cell_type": "markdown",
      "metadata": {
        "nteract": {
          "transient": {
            "deleting": false
          }
        }
      },
      "source": [
        "Use the prod SQL credentials \n",
        "\n",
        "USERNAME = 'prod-sql'\n",
        "\n",
        "PASSWORD = '[redacted]'\n",
        "\n",
        "USERNAME - drumble_adm_sql\n",
        "\n",
        "PWD - [redacted]"
      ]
    },
    {
      "cell_type": "code",
      "execution_count": 8,
      "metadata": {
        "gather": {
          "logged": 1718807247063
        },
        "jupyter": {
          "outputs_hidden": false,
          "source_hidden": false
        },
        "nteract": {
          "transient": {
            "deleting": false
          }
        }
      },
      "outputs": [],
      "source": [
        "SERVER = 'az-sql-gdp-prod-uks.database.windows.net'\n",
        "DATABASE = 'az-syn-gdp-prod-uks'\n",
        "USERNAME = 'drumble_adm_sql' #'OROURKE\\sbaadminuk'#'prod-sql'#\n",
        "PASSWORD = '[redacted]' #(input(\"Password\"))\n",
        "\n",
        "AUTH = 'ActiveDirectoryInteractive' #aka Azure Active Directory - Universal with MFA # using sbaadminuk and setting this auth method results in a connection timeout"
      ]
    },
    {
      "cell_type": "code",
      "execution_count": 9,
      "metadata": {
        "gather": {
          "logged": 1718807248361
        },
        "jupyter": {
          "outputs_hidden": false,
          "source_hidden": false
        },
        "nteract": {
          "transient": {
            "deleting": false
          }
        }
      },
      "outputs": [
        {
          "name": "stdout",
          "output_type": "stream",
          "text": [
            "Connected Successfully\n"
          ]
        }
      ],
      "source": [
        "#https://learn.microsoft.com/en-us/sql/connect/python/pyodbc/step-3-proof-of-concept-connecting-to-sql-using-pyodbc?view=sql-server-ver16\n",
        "#https://github.com/mkleehammer/pyodbc/wiki/The-pyodbc-Module#connect\n",
        "#https://learn.microsoft.com/en-us/azure/synapse-analytics/sql-data-warehouse/sql-data-warehouse-connect-overview\n",
        "\n",
        "#connectionString = f'DRIVER={{ODBC Driver 18 for SQL Server}};SERVER={SERVER};DATABASE={DATABASE};UID={USERNAME};PWD={PASSWORD}'\n",
        "connectionString = f'DRIVER={{ODBC Driver 18 for SQL Server}};SERVER=tcp:{SERVER};DATABASE={DATABASE};UID={USERNAME};PWD={PASSWORD};Encrypt=yes;TrustServerCertificate=no;Connection Timeout=30;'\n",
        "#SQL Server Native Client 11.0\n",
        "try:\n",
        "    conn = pyodbc.connect(connectionString)\n",
        "    print(\"Connected Successfully\") \n",
        "except Exception as e:\n",
        "    print(\"Connection failed: \", e )"
      ]
    },
    {
      "cell_type": "code",
      "execution_count": 10,
      "metadata": {
        "gather": {
          "logged": 1718807256712
        },
        "jupyter": {
          "outputs_hidden": false,
          "source_hidden": false
        },
        "nteract": {
          "transient": {
            "deleting": false
          }
        }
      },
      "outputs": [
        {
          "name": "stderr",
          "output_type": "stream",
          "text": [
            "/tmp/ipykernel_17311/1518093685.py:6: UserWarning: pandas only supports SQLAlchemy connectable (engine/connection) or database string URI or sqlite3 DBAPI2 connection. Other DBAPI2 objects are not tested. Please consider using SQLAlchemy.\n",
            "  pd.read_sql(sql_query, conn)\n"
          ]
        },
        {
          "data": {
            "text/html": [
              "<div>\n",
              "<style scoped>\n",
              "    .dataframe tbody tr th:only-of-type {\n",
              "        vertical-align: middle;\n",
              "    }\n",
              "\n",
              "    .dataframe tbody tr th {\n",
              "        vertical-align: top;\n",
              "    }\n",
              "\n",
              "    .dataframe thead th {\n",
              "        text-align: right;\n",
              "    }\n",
              "</style>\n",
              "<table border=\"1\" class=\"dataframe\">\n",
              "  <thead>\n",
              "    <tr style=\"text-align: right;\">\n",
              "      <th></th>\n",
              "      <th>SnapshotDate</th>\n",
              "      <th>TimeSlice</th>\n",
              "      <th>DataPlatformRowId</th>\n",
              "      <th>Business_Unit__c</th>\n",
              "      <th>Comments_Long__c</th>\n",
              "      <th>Comments_Short__c</th>\n",
              "      <th>Earliest_Project_Feedback__c</th>\n",
              "      <th>Earliest_Project_Feedback_Date__c</th>\n",
              "      <th>Last_Interview_Type__c</th>\n",
              "      <th>Last_Interviewee__c</th>\n",
              "      <th>...</th>\n",
              "      <th>Project_Director__c</th>\n",
              "      <th>Project_Leader__c</th>\n",
              "      <th>Sector__c</th>\n",
              "      <th>Start_On_Site_Date__c</th>\n",
              "      <th>LastModifiedDate</th>\n",
              "      <th>Id</th>\n",
              "      <th>IsDeleted</th>\n",
              "      <th>Interview_being_scheduled_for__c</th>\n",
              "      <th>LoadId</th>\n",
              "      <th>LoadDate</th>\n",
              "    </tr>\n",
              "  </thead>\n",
              "  <tbody>\n",
              "    <tr>\n",
              "      <th>0</th>\n",
              "      <td>2024-04-07</td>\n",
              "      <td>2024-04-07</td>\n",
              "      <td>409485</td>\n",
              "      <td>Expanded</td>\n",
              "      <td>xxxx</td>\n",
              "      <td>xxxx</td>\n",
              "      <td>a0W3z00000dVdbEEAS</td>\n",
              "      <td>2022-12-06</td>\n",
              "      <td>2 - Delivery</td>\n",
              "      <td>xxxx</td>\n",
              "      <td>...</td>\n",
              "      <td>None</td>\n",
              "      <td>0033z00003BfGouAAF</td>\n",
              "      <td>Rail</td>\n",
              "      <td>2021-07-05</td>\n",
              "      <td>2022-12-15 12:58:15</td>\n",
              "      <td>a1P3z00000Fwvd3EAB</td>\n",
              "      <td>False</td>\n",
              "      <td>NaT</td>\n",
              "      <td>1641606</td>\n",
              "      <td>2024-04-08 08:04:08.447</td>\n",
              "    </tr>\n",
              "    <tr>\n",
              "      <th>1</th>\n",
              "      <td>2024-08-26</td>\n",
              "      <td>2024-08-26</td>\n",
              "      <td>1126298</td>\n",
              "      <td>Building</td>\n",
              "      <td>xxxx</td>\n",
              "      <td>xxxx</td>\n",
              "      <td>a0WN20000022o7dMAA</td>\n",
              "      <td>2024-07-30</td>\n",
              "      <td>PCSA/ Pre-Delivery</td>\n",
              "      <td>xxxx</td>\n",
              "      <td>...</td>\n",
              "      <td>003D000002HtCpxIAF</td>\n",
              "      <td>None</td>\n",
              "      <td>Healthcare</td>\n",
              "      <td>2025-10-21</td>\n",
              "      <td>2024-08-15 20:12:50</td>\n",
              "      <td>a1P3z00000Fwvm2EAB</td>\n",
              "      <td>False</td>\n",
              "      <td>2024-05-08</td>\n",
              "      <td>3697562</td>\n",
              "      <td>2024-08-27 07:14:42.347</td>\n",
              "    </tr>\n",
              "    <tr>\n",
              "      <th>2</th>\n",
              "      <td>2024-02-18</td>\n",
              "      <td>2024-02-18</td>\n",
              "      <td>165732</td>\n",
              "      <td>Residential</td>\n",
              "      <td>xxxx</td>\n",
              "      <td>xxxx</td>\n",
              "      <td>a0W3z00000V5rhaEAB</td>\n",
              "      <td>2021-02-23</td>\n",
              "      <td>2 - Delivery</td>\n",
              "      <td>xxxx</td>\n",
              "      <td>...</td>\n",
              "      <td>003D000001RYU4VIAX</td>\n",
              "      <td>None</td>\n",
              "      <td>Residential</td>\n",
              "      <td>2020-10-30</td>\n",
              "      <td>2024-01-30 14:35:15</td>\n",
              "      <td>a1P3z00000Fwvl3EAB</td>\n",
              "      <td>False</td>\n",
              "      <td>NaT</td>\n",
              "      <td>1454475</td>\n",
              "      <td>2024-02-19 07:10:29.783</td>\n",
              "    </tr>\n",
              "    <tr>\n",
              "      <th>3</th>\n",
              "      <td>2024-02-18</td>\n",
              "      <td>2024-02-18</td>\n",
              "      <td>165736</td>\n",
              "      <td>Building</td>\n",
              "      <td>xxxx</td>\n",
              "      <td>xxxx</td>\n",
              "      <td>a0W3z00000icqiEEAQ</td>\n",
              "      <td>2023-03-30</td>\n",
              "      <td>3 - Practical Completion</td>\n",
              "      <td>xxxx</td>\n",
              "      <td>...</td>\n",
              "      <td>None</td>\n",
              "      <td>0032000000RjxcMAAR</td>\n",
              "      <td>Healthcare</td>\n",
              "      <td>2018-11-05</td>\n",
              "      <td>2023-06-15 09:28:06</td>\n",
              "      <td>a1P3z00000Fwvl7EAB</td>\n",
              "      <td>False</td>\n",
              "      <td>NaT</td>\n",
              "      <td>1454475</td>\n",
              "      <td>2024-02-19 07:10:29.783</td>\n",
              "    </tr>\n",
              "    <tr>\n",
              "      <th>4</th>\n",
              "      <td>2024-04-25</td>\n",
              "      <td>2024-04-25</td>\n",
              "      <td>501819</td>\n",
              "      <td>Building</td>\n",
              "      <td>xxxx</td>\n",
              "      <td>xxxx</td>\n",
              "      <td>a0W3z00000W87mAEAR</td>\n",
              "      <td>2021-09-29</td>\n",
              "      <td>2 - Delivery</td>\n",
              "      <td>xxxx</td>\n",
              "      <td>...</td>\n",
              "      <td>None</td>\n",
              "      <td>003D000001y3PBjIAM</td>\n",
              "      <td>Sport &amp; Leisure</td>\n",
              "      <td>2021-05-03</td>\n",
              "      <td>2024-03-08 16:17:15</td>\n",
              "      <td>a1P3z00000FwvlDEAR</td>\n",
              "      <td>False</td>\n",
              "      <td>NaT</td>\n",
              "      <td>1705036</td>\n",
              "      <td>2024-04-26 08:39:01.363</td>\n",
              "    </tr>\n",
              "    <tr>\n",
              "      <th>5</th>\n",
              "      <td>2024-08-10</td>\n",
              "      <td>2024-08-10</td>\n",
              "      <td>1042802</td>\n",
              "      <td>Building</td>\n",
              "      <td>xxxx</td>\n",
              "      <td>xxxx</td>\n",
              "      <td>None</td>\n",
              "      <td>NaT</td>\n",
              "      <td>None</td>\n",
              "      <td>xxxx</td>\n",
              "      <td>...</td>\n",
              "      <td>003D000002HtCpxIAF</td>\n",
              "      <td>None</td>\n",
              "      <td>Healthcare</td>\n",
              "      <td>2025-03-31</td>\n",
              "      <td>2024-07-25 15:59:06</td>\n",
              "      <td>a1P3z00000FwvoDEAR</td>\n",
              "      <td>False</td>\n",
              "      <td>2024-05-08</td>\n",
              "      <td>3165063</td>\n",
              "      <td>2024-08-11 06:59:52.887</td>\n",
              "    </tr>\n",
              "    <tr>\n",
              "      <th>6</th>\n",
              "      <td>2024-01-18</td>\n",
              "      <td>2024-01-18</td>\n",
              "      <td>11104</td>\n",
              "      <td>Infrastructure</td>\n",
              "      <td>xxxx</td>\n",
              "      <td>xxxx</td>\n",
              "      <td>a0W3z00000icnHfEAI</td>\n",
              "      <td>2023-03-29</td>\n",
              "      <td>2 - Delivery</td>\n",
              "      <td>xxxx</td>\n",
              "      <td>...</td>\n",
              "      <td>0033z00002Ys04lAAB</td>\n",
              "      <td>None</td>\n",
              "      <td>Rail</td>\n",
              "      <td>2016-05-09</td>\n",
              "      <td>2023-06-01 17:06:33</td>\n",
              "      <td>a1P3z00000FwvkvEAB</td>\n",
              "      <td>False</td>\n",
              "      <td>NaT</td>\n",
              "      <td>1355938</td>\n",
              "      <td>2024-01-19 08:51:56.717</td>\n",
              "    </tr>\n",
              "    <tr>\n",
              "      <th>7</th>\n",
              "      <td>2024-05-08</td>\n",
              "      <td>2024-05-08</td>\n",
              "      <td>568587</td>\n",
              "      <td>Building</td>\n",
              "      <td>xxxx</td>\n",
              "      <td>xxxx</td>\n",
              "      <td>None</td>\n",
              "      <td>NaT</td>\n",
              "      <td>None</td>\n",
              "      <td>xxxx</td>\n",
              "      <td>...</td>\n",
              "      <td>None</td>\n",
              "      <td>None</td>\n",
              "      <td>Healthcare</td>\n",
              "      <td>2027-08-02</td>\n",
              "      <td>2024-04-24 08:46:25</td>\n",
              "      <td>a1P3z00000G8E9fEAF</td>\n",
              "      <td>False</td>\n",
              "      <td>2024-06-05</td>\n",
              "      <td>1821642</td>\n",
              "      <td>2024-05-09 05:52:44.190</td>\n",
              "    </tr>\n",
              "    <tr>\n",
              "      <th>8</th>\n",
              "      <td>2024-05-07</td>\n",
              "      <td>2024-05-07</td>\n",
              "      <td>563192</td>\n",
              "      <td>Expanded</td>\n",
              "      <td>xxxx</td>\n",
              "      <td>xxxx</td>\n",
              "      <td>a0W3z00000dVdbEEAS</td>\n",
              "      <td>2022-12-06</td>\n",
              "      <td>2 - Delivery</td>\n",
              "      <td>xxxx</td>\n",
              "      <td>...</td>\n",
              "      <td>None</td>\n",
              "      <td>0033z00003BfGouAAF</td>\n",
              "      <td>Rail</td>\n",
              "      <td>2021-07-05</td>\n",
              "      <td>2022-12-15 12:58:15</td>\n",
              "      <td>a1P3z00000Fwvd3EAB</td>\n",
              "      <td>False</td>\n",
              "      <td>NaT</td>\n",
              "      <td>1811307</td>\n",
              "      <td>2024-05-08 05:57:52.897</td>\n",
              "    </tr>\n",
              "    <tr>\n",
              "      <th>9</th>\n",
              "      <td>2024-01-16</td>\n",
              "      <td>2024-01-16</td>\n",
              "      <td>1705</td>\n",
              "      <td>Residential</td>\n",
              "      <td>xxxx</td>\n",
              "      <td>xxxx</td>\n",
              "      <td>a0W3z00000V5rhaEAB</td>\n",
              "      <td>2021-02-23</td>\n",
              "      <td>2 - Delivery</td>\n",
              "      <td>xxxx</td>\n",
              "      <td>...</td>\n",
              "      <td>003D000001RYU4VIAX</td>\n",
              "      <td>None</td>\n",
              "      <td>Residential</td>\n",
              "      <td>2020-10-30</td>\n",
              "      <td>2023-10-04 20:06:54</td>\n",
              "      <td>a1P3z00000Fwvl3EAB</td>\n",
              "      <td>False</td>\n",
              "      <td>NaT</td>\n",
              "      <td>1350853</td>\n",
              "      <td>2024-01-17 13:44:16.027</td>\n",
              "    </tr>\n",
              "  </tbody>\n",
              "</table>\n",
              "<p>10 rows × 31 columns</p>\n",
              "</div>"
            ],
            "text/plain": [
              "  SnapshotDate   TimeSlice  DataPlatformRowId Business_Unit__c  \\\n",
              "0   2024-04-07  2024-04-07             409485         Expanded   \n",
              "1   2024-08-26  2024-08-26            1126298         Building   \n",
              "2   2024-02-18  2024-02-18             165732      Residential   \n",
              "3   2024-02-18  2024-02-18             165736         Building   \n",
              "4   2024-04-25  2024-04-25             501819         Building   \n",
              "5   2024-08-10  2024-08-10            1042802         Building   \n",
              "6   2024-01-18  2024-01-18              11104   Infrastructure   \n",
              "7   2024-05-08  2024-05-08             568587         Building   \n",
              "8   2024-05-07  2024-05-07             563192         Expanded   \n",
              "9   2024-01-16  2024-01-16               1705      Residential   \n",
              "\n",
              "  Comments_Long__c Comments_Short__c Earliest_Project_Feedback__c  \\\n",
              "0             xxxx              xxxx           a0W3z00000dVdbEEAS   \n",
              "1             xxxx              xxxx           a0WN20000022o7dMAA   \n",
              "2             xxxx              xxxx           a0W3z00000V5rhaEAB   \n",
              "3             xxxx              xxxx           a0W3z00000icqiEEAQ   \n",
              "4             xxxx              xxxx           a0W3z00000W87mAEAR   \n",
              "5             xxxx              xxxx                         None   \n",
              "6             xxxx              xxxx           a0W3z00000icnHfEAI   \n",
              "7             xxxx              xxxx                         None   \n",
              "8             xxxx              xxxx           a0W3z00000dVdbEEAS   \n",
              "9             xxxx              xxxx           a0W3z00000V5rhaEAB   \n",
              "\n",
              "  Earliest_Project_Feedback_Date__c    Last_Interview_Type__c  \\\n",
              "0                        2022-12-06              2 - Delivery   \n",
              "1                        2024-07-30        PCSA/ Pre-Delivery   \n",
              "2                        2021-02-23              2 - Delivery   \n",
              "3                        2023-03-30  3 - Practical Completion   \n",
              "4                        2021-09-29              2 - Delivery   \n",
              "5                               NaT                      None   \n",
              "6                        2023-03-29              2 - Delivery   \n",
              "7                               NaT                      None   \n",
              "8                        2022-12-06              2 - Delivery   \n",
              "9                        2021-02-23              2 - Delivery   \n",
              "\n",
              "  Last_Interviewee__c  ... Project_Director__c   Project_Leader__c  \\\n",
              "0                xxxx  ...                None  0033z00003BfGouAAF   \n",
              "1                xxxx  ...  003D000002HtCpxIAF                None   \n",
              "2                xxxx  ...  003D000001RYU4VIAX                None   \n",
              "3                xxxx  ...                None  0032000000RjxcMAAR   \n",
              "4                xxxx  ...                None  003D000001y3PBjIAM   \n",
              "5                xxxx  ...  003D000002HtCpxIAF                None   \n",
              "6                xxxx  ...  0033z00002Ys04lAAB                None   \n",
              "7                xxxx  ...                None                None   \n",
              "8                xxxx  ...                None  0033z00003BfGouAAF   \n",
              "9                xxxx  ...  003D000001RYU4VIAX                None   \n",
              "\n",
              "         Sector__c Start_On_Site_Date__c    LastModifiedDate  \\\n",
              "0             Rail            2021-07-05 2022-12-15 12:58:15   \n",
              "1       Healthcare            2025-10-21 2024-08-15 20:12:50   \n",
              "2      Residential            2020-10-30 2024-01-30 14:35:15   \n",
              "3       Healthcare            2018-11-05 2023-06-15 09:28:06   \n",
              "4  Sport & Leisure            2021-05-03 2024-03-08 16:17:15   \n",
              "5       Healthcare            2025-03-31 2024-07-25 15:59:06   \n",
              "6             Rail            2016-05-09 2023-06-01 17:06:33   \n",
              "7       Healthcare            2027-08-02 2024-04-24 08:46:25   \n",
              "8             Rail            2021-07-05 2022-12-15 12:58:15   \n",
              "9      Residential            2020-10-30 2023-10-04 20:06:54   \n",
              "\n",
              "                   Id  IsDeleted Interview_being_scheduled_for__c   LoadId  \\\n",
              "0  a1P3z00000Fwvd3EAB      False                              NaT  1641606   \n",
              "1  a1P3z00000Fwvm2EAB      False                       2024-05-08  3697562   \n",
              "2  a1P3z00000Fwvl3EAB      False                              NaT  1454475   \n",
              "3  a1P3z00000Fwvl7EAB      False                              NaT  1454475   \n",
              "4  a1P3z00000FwvlDEAR      False                              NaT  1705036   \n",
              "5  a1P3z00000FwvoDEAR      False                       2024-05-08  3165063   \n",
              "6  a1P3z00000FwvkvEAB      False                              NaT  1355938   \n",
              "7  a1P3z00000G8E9fEAF      False                       2024-06-05  1821642   \n",
              "8  a1P3z00000Fwvd3EAB      False                              NaT  1811307   \n",
              "9  a1P3z00000Fwvl3EAB      False                              NaT  1350853   \n",
              "\n",
              "                 LoadDate  \n",
              "0 2024-04-08 08:04:08.447  \n",
              "1 2024-08-27 07:14:42.347  \n",
              "2 2024-02-19 07:10:29.783  \n",
              "3 2024-02-19 07:10:29.783  \n",
              "4 2024-04-26 08:39:01.363  \n",
              "5 2024-08-11 06:59:52.887  \n",
              "6 2024-01-19 08:51:56.717  \n",
              "7 2024-05-09 05:52:44.190  \n",
              "8 2024-05-08 05:57:52.897  \n",
              "9 2024-01-17 13:44:16.027  \n",
              "\n",
              "[10 rows x 31 columns]"
            ]
          },
          "execution_count": 10,
          "metadata": {},
          "output_type": "execute_result"
        }
      ],
      "source": [
        "\n",
        "sql_query = '''\n",
        "            select top 10 * from [BASE].[Salesforce_CM_Client_Interview_summary__c] \n",
        "            where Comments_Long__c is not null\n",
        "            '''\n",
        "\n",
        "pd.read_sql(sql_query, conn)"
      ]
    },
    {
      "cell_type": "code",
      "execution_count": null,
      "metadata": {
        "jupyter": {
          "outputs_hidden": false,
          "source_hidden": false
        },
        "nteract": {
          "transient": {
            "deleting": false
          }
        }
      },
      "outputs": [],
      "source": []
    },
    {
      "cell_type": "code",
      "execution_count": null,
      "metadata": {},
      "outputs": [],
      "source": []
    },
    {
      "cell_type": "code",
      "execution_count": null,
      "metadata": {},
      "outputs": [],
      "source": []
    }
  ],
  "metadata": {
    "kernel_info": {
      "name": "python38-azureml"
    },
    "kernelspec": {
      "display_name": "azureml_py38",
      "language": "python",
      "name": "python3"
    },
    "language_info": {
      "codemirror_mode": {
        "name": "ipython",
        "version": 3
      },
      "file_extension": ".py",
      "mimetype": "text/x-python",
      "name": "python",
      "nbconvert_exporter": "python",
      "pygments_lexer": "ipython3",
      "version": "3.8.5"
    },
    "microsoft": {
      "host": {
        "AzureML": {
          "notebookHasBeenCompleted": true
        }
      },
      "ms_spell_check": {
        "ms_spell_check_language": "en"
      }
    },
    "nteract": {
      "version": "nteract-front-end@1.0.0"
    }
  },
  "nbformat": 4,
  "nbformat_minor": 2
}
