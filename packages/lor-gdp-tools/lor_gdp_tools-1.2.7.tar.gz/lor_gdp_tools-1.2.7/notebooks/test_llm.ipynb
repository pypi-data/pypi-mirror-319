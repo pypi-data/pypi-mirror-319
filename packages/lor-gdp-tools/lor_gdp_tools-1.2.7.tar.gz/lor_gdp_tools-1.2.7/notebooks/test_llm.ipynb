{
 "cells": [
  {
   "cell_type": "code",
   "execution_count": 1,
   "id": "70150fa4",
   "metadata": {},
   "outputs": [],
   "source": [
    "import os\n",
    "os.chdir('/home/azureuser/cloudfiles/code/Users/DRumbleADMUK/lor-gdp-tools')\n",
    "\n",
    "\n",
    "from dotenv import load_dotenv\n",
    "from gdp_tools.lor_llm_tools import LORLargeLanguageModels\n",
    "\n",
    "load_dotenv()\n",
    "\n",
    "\n",
    "api_key = os.getenv(\"OPENAI_API_KEY\")\n",
    "azure_endpoint = os.getenv(\"AZURE_OPENAI_ENDPOINT\") \n",
    "\n",
    "llm = LORLargeLanguageModels(api_key,azure_endpoint)"
   ]
  },
  {
   "cell_type": "code",
   "execution_count": 3,
   "id": "d542358b",
   "metadata": {},
   "outputs": [
    {
     "data": {
      "text/html": [
       "<div>\n",
       "<style scoped>\n",
       "    .dataframe tbody tr th:only-of-type {\n",
       "        vertical-align: middle;\n",
       "    }\n",
       "\n",
       "    .dataframe tbody tr th {\n",
       "        vertical-align: top;\n",
       "    }\n",
       "\n",
       "    .dataframe thead th {\n",
       "        text-align: right;\n",
       "    }\n",
       "</style>\n",
       "<table border=\"1\" class=\"dataframe\">\n",
       "  <thead>\n",
       "    <tr style=\"text-align: right;\">\n",
       "      <th></th>\n",
       "      <th>token_rate_limit</th>\n",
       "      <th>request_rate_limit</th>\n",
       "      <th>input_cost_per_1000_token</th>\n",
       "      <th>output_cost_per_1000_token</th>\n",
       "      <th>accuracy</th>\n",
       "    </tr>\n",
       "  </thead>\n",
       "  <tbody>\n",
       "    <tr>\n",
       "      <th>gpt-4o-hi-rate</th>\n",
       "      <td>10000000</td>\n",
       "      <td>60000</td>\n",
       "      <td>0.00200</td>\n",
       "      <td>0.00800</td>\n",
       "      <td>92</td>\n",
       "    </tr>\n",
       "    <tr>\n",
       "      <th>gpt-4o-mini</th>\n",
       "      <td>100000000</td>\n",
       "      <td>1000000</td>\n",
       "      <td>0.00012</td>\n",
       "      <td>0.00048</td>\n",
       "      <td>90</td>\n",
       "    </tr>\n",
       "    <tr>\n",
       "      <th>gpt-35-turbo-16k</th>\n",
       "      <td>120000</td>\n",
       "      <td>720</td>\n",
       "      <td>0.00240</td>\n",
       "      <td>0.00320</td>\n",
       "      <td>88</td>\n",
       "    </tr>\n",
       "    <tr>\n",
       "      <th>gpt35turbo</th>\n",
       "      <td>120000</td>\n",
       "      <td>720</td>\n",
       "      <td>0.00120</td>\n",
       "      <td>0.00160</td>\n",
       "      <td>87</td>\n",
       "    </tr>\n",
       "    <tr>\n",
       "      <th>gpt4-32k</th>\n",
       "      <td>60000</td>\n",
       "      <td>360</td>\n",
       "      <td>0.04800</td>\n",
       "      <td>0.09600</td>\n",
       "      <td>89</td>\n",
       "    </tr>\n",
       "    <tr>\n",
       "      <th>gpt4</th>\n",
       "      <td>20000</td>\n",
       "      <td>120</td>\n",
       "      <td>0.02400</td>\n",
       "      <td>0.04800</td>\n",
       "      <td>90</td>\n",
       "    </tr>\n",
       "  </tbody>\n",
       "</table>\n",
       "</div>"
      ],
      "text/plain": [
       "                  token_rate_limit  request_rate_limit  \\\n",
       "gpt-4o-hi-rate            10000000               60000   \n",
       "gpt-4o-mini              100000000             1000000   \n",
       "gpt-35-turbo-16k            120000                 720   \n",
       "gpt35turbo                  120000                 720   \n",
       "gpt4-32k                     60000                 360   \n",
       "gpt4                         20000                 120   \n",
       "\n",
       "                  input_cost_per_1000_token  output_cost_per_1000_token  \\\n",
       "gpt-4o-hi-rate                      0.00200                     0.00800   \n",
       "gpt-4o-mini                         0.00012                     0.00048   \n",
       "gpt-35-turbo-16k                    0.00240                     0.00320   \n",
       "gpt35turbo                          0.00120                     0.00160   \n",
       "gpt4-32k                            0.04800                     0.09600   \n",
       "gpt4                                0.02400                     0.04800   \n",
       "\n",
       "                  accuracy  \n",
       "gpt-4o-hi-rate          92  \n",
       "gpt-4o-mini             90  \n",
       "gpt-35-turbo-16k        88  \n",
       "gpt35turbo              87  \n",
       "gpt4-32k                89  \n",
       "gpt4                    90  "
      ]
     },
     "execution_count": 3,
     "metadata": {},
     "output_type": "execute_result"
    }
   ],
   "source": [
    "llm.tell_me_about_the_models_that_are_available()"
   ]
  },
  {
   "cell_type": "code",
   "execution_count": 4,
   "id": "66a03be0",
   "metadata": {},
   "outputs": [
    {
     "name": "stdout",
     "output_type": "stream",
     "text": [
      "testing = 4o-mini\n",
      "4o-mini is incorrect or not built into the package\n"
     ]
    }
   ],
   "source": [
    "llm.test_llm('4o-mini')"
   ]
  },
  {
   "cell_type": "code",
   "execution_count": 5,
   "id": "376fed5e",
   "metadata": {},
   "outputs": [
    {
     "name": "stdout",
     "output_type": "stream",
     "text": [
      "testing = gpt-4o-hi-rate\n",
      "2+2 equals 4.\n"
     ]
    }
   ],
   "source": [
    "llm.test_llm('gpt-4o-hi-rate')"
   ]
  },
  {
   "cell_type": "code",
   "execution_count": 6,
   "id": "d4e252dc",
   "metadata": {},
   "outputs": [
    {
     "name": "stdout",
     "output_type": "stream",
     "text": [
      "testing = gpt-4o-mini\n",
      "2 + 2 equals 4.\n"
     ]
    }
   ],
   "source": [
    "llm.test_llm('gpt-4o-mini')"
   ]
  },
  {
   "cell_type": "code",
   "execution_count": 7,
   "id": "c01ab814",
   "metadata": {},
   "outputs": [
    {
     "name": "stdout",
     "output_type": "stream",
     "text": [
      "testing = gpt-35-turbo-16k\n",
      "The sum of 2+2 is 4.\n"
     ]
    }
   ],
   "source": [
    "llm.test_llm('gpt-35-turbo-16k')"
   ]
  },
  {
   "cell_type": "code",
   "execution_count": 8,
   "id": "5a17f95e",
   "metadata": {},
   "outputs": [
    {
     "name": "stdout",
     "output_type": "stream",
     "text": [
      "testing = gpt35turbo\n",
      "The sum of 2+2 is 4.\n"
     ]
    }
   ],
   "source": [
    "llm.test_llm('gpt35turbo')"
   ]
  },
  {
   "cell_type": "code",
   "execution_count": 9,
   "id": "a0695b5e",
   "metadata": {},
   "outputs": [
    {
     "name": "stdout",
     "output_type": "stream",
     "text": [
      "testing = gpt4-32k\n",
      "2+2 equals 4.\n"
     ]
    }
   ],
   "source": [
    "llm.test_llm('gpt4-32k')"
   ]
  },
  {
   "cell_type": "code",
   "execution_count": 10,
   "id": "e2216b48",
   "metadata": {},
   "outputs": [
    {
     "name": "stdout",
     "output_type": "stream",
     "text": [
      "testing = gpt4\n",
      "2 + 2 equals 4.\n"
     ]
    }
   ],
   "source": [
    "llm.test_llm('gpt4')"
   ]
  },
  {
   "cell_type": "code",
   "execution_count": null,
   "id": "db15009f",
   "metadata": {},
   "outputs": [],
   "source": []
  },
  {
   "cell_type": "code",
   "execution_count": null,
   "id": "54b18381",
   "metadata": {},
   "outputs": [],
   "source": []
  }
 ],
 "metadata": {
  "kernelspec": {
   "display_name": "Python 3.8 - AzureML",
   "language": "python",
   "name": "python38-azureml"
  },
  "language_info": {
   "codemirror_mode": {
    "name": "ipython",
    "version": 3
   },
   "file_extension": ".py",
   "mimetype": "text/x-python",
   "name": "python",
   "nbconvert_exporter": "python",
   "pygments_lexer": "ipython3",
   "version": "3.8.5"
  }
 },
 "nbformat": 4,
 "nbformat_minor": 5
}
