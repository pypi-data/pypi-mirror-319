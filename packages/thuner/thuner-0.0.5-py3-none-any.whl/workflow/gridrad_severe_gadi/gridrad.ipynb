{
 "cells": [
  {
   "cell_type": "code",
   "execution_count": null,
   "id": "ac5844a1-f110-4b26-be88-ecc9a623c542",
   "metadata": {
    "execution": {
     "iopub.execute_input": "2024-10-18T09:13:08.345086Z",
     "iopub.status.busy": "2024-10-18T09:13:08.344546Z",
     "iopub.status.idle": "2024-10-18T09:13:22.725426Z",
     "shell.execute_reply": "2024-10-18T09:13:22.723450Z",
     "shell.execute_reply.started": "2024-10-18T09:13:08.345027Z"
    }
   },
   "outputs": [],
   "source": [
    "%load_ext autoreload\n",
    "%autoreload 2\n",
    "from multiprocessing import get_context\n",
    "import os\n",
    "import time\n",
    "from pathlib import Path\n",
    "import shutil\n",
    "import numpy as np\n",
    "import thuner.data as data\n",
    "import thuner.data.dispatch as dispatch\n",
    "import thuner.grid as grid\n",
    "import thuner.option as option\n",
    "import thuner.track as track\n",
    "import thuner.analyze as analyze\n",
    "import thuner.parallel as parallel\n",
    "import thuner.visualize as visualize\n",
    "import thuner.log as log\n",
    "\n",
    "notebook_name = \"gridrad_severe_gadi_demo.ipynb\""
   ]
  },
  {
   "cell_type": "code",
   "execution_count": null,
   "id": "79237061-8c71-43f2-b7ab-12896d79d606",
   "metadata": {
    "execution": {
     "iopub.execute_input": "2024-10-18T09:13:27.239650Z",
     "iopub.status.busy": "2024-10-18T09:13:27.237379Z",
     "iopub.status.idle": "2024-10-18T09:13:27.841090Z",
     "shell.execute_reply": "2024-10-18T09:13:27.840363Z",
     "shell.execute_reply.started": "2024-10-18T09:13:27.239586Z"
    }
   },
   "outputs": [],
   "source": [
    "# Parent directory for saving outputs\n",
    "base_local = Path(\"/scratch/w40/esh563/THUNER_output\")\n",
    "year=2010\n",
    "event_directories = data.gridrad.get_event_directories(year)\n",
    "event_directory = event_directories[0]\n",
    "start, end, event_start = data.gridrad.get_event_times(event_directory)\n",
    "\n",
    "period = parallel.get_period(start, end)\n",
    "intervals = parallel.get_time_intervals(start, end, period=period)\n",
    "\n",
    "output_parent = base_local / f\"runs/dev/gridrad_{event_start.replace('-', '')}\"\n",
    "# if output_parent.exists():\n",
    "    # shutil.rmtree(output_parent)\n",
    "options_directory = output_parent / \"options\"\n",
    "\n",
    "# Create the data_options dictionary\n",
    "gridrad_parent = str(base_local / \"input_data/raw\")\n",
    "converted_options = {\"save\": True, \"load\": False, \"parent_converted\": None}\n",
    "gridrad_options = data.gridrad.gridrad_data_options(\n",
    "    start=start,\n",
    "    end=end,\n",
    "    converted_options=converted_options,\n",
    "    event_start=event_start,\n",
    "    parent_local=gridrad_parent,\n",
    ")\n",
    "era5_parent = \"/g/data/rt52\"\n",
    "era5_pl_options = data.era5.data_options(\n",
    "    start=start, end=end, parent_local=era5_parent\n",
    ")\n",
    "kwargs = {\"start\": start, \"end\": end, \"data_format\": \"single-levels\"}\n",
    "kwargs.update({\"parent_local\": era5_parent})\n",
    "era5_sl_options = data.era5.data_options(**kwargs)\n",
    "\n",
    "data_options = option.consolidate_options(\n",
    "    [gridrad_options, era5_pl_options, era5_sl_options]\n",
    ")\n",
    "dispatch.check_data_options(data_options)\n",
    "data.option.save_data_options(data_options, options_directory=options_directory)\n",
    "\n",
    "# Create the grid_options dictionary using the first file in the cpol dataset\n",
    "grid_options = grid.create_options(\n",
    "    name=\"geographic\", regrid=False, altitude_spacing=None, geographic_spacing=None\n",
    ")\n",
    "grid.check_options(grid_options)\n",
    "grid.save_grid_options(grid_options, options_directory=options_directory)\n",
    "\n",
    "# Create the track_options dictionary\n",
    "track_options = option.default_track_options(dataset=\"gridrad\")\n",
    "track_options.levels[1].objects[0].tracking.global_flow_margin = 70\n",
    "track_options.levels[1].objects[0].tracking.unique_global_flow = False\n",
    "track_options.to_yaml(options_directory / \"track.yml\")\n",
    "\n",
    "# Create the display_options dictionary\n",
    "visualize_options = None"
   ]
  },
  {
   "cell_type": "code",
   "execution_count": null,
   "id": "7d9365a1-57f1-407e-a8e7-3884331d9a0f",
   "metadata": {
    "execution": {
     "iopub.execute_input": "2024-10-18T06:20:02.712828Z",
     "iopub.status.busy": "2024-10-18T06:20:02.712503Z",
     "iopub.status.idle": "2024-10-18T06:29:11.557202Z",
     "shell.execute_reply": "2024-10-18T06:29:11.535468Z",
     "shell.execute_reply.started": "2024-10-18T06:20:02.712802Z"
    },
    "scrolled": true
   },
   "outputs": [],
   "source": [
    "times = data.utils.generate_times(data_options.dataset_by_name(\"cpol\"))\n",
    "tracks = track.simultaneous_track(\n",
    "    times,\n",
    "    data_options,\n",
    "    grid_options,\n",
    "    track_options,\n",
    "    visualize_options,\n",
    "    output_directory=output_parent\n",
    ")"
   ]
  },
  {
   "cell_type": "code",
   "execution_count": null,
   "id": "5b2a394d-42da-4e5b-96ae-4900076886e5",
   "metadata": {
    "execution": {
     "iopub.execute_input": "2024-10-18T05:18:01.725813Z",
     "iopub.status.busy": "2024-10-18T05:18:01.725195Z"
    },
    "scrolled": true
   },
   "outputs": [],
   "source": [
    "num_processes = int(os.cpu_count() * 0.5)\n",
    "num_processes = 6\n",
    "with log.logging_listener(), get_context(\"spawn\").Pool(\n",
    "    initializer=parallel.initialize_process, processes=num_processes\n",
    ") as pool:\n",
    "    results = []\n",
    "    for i, time_interval in enumerate(intervals):\n",
    "        args = [i, time_interval, data_options.model_copy(), grid_options.copy()]\n",
    "        args += [track_options.copy(), visualize_options]\n",
    "        args += [output_parent, \"gridrad\"]\n",
    "        args = tuple(args)\n",
    "        results.append(pool.apply_async(parallel.track_interval, args))\n",
    "    pool.close()\n",
    "    pool.join()\n",
    "    parallel.check_results(results)"
   ]
  },
  {
   "cell_type": "code",
   "execution_count": null,
   "id": "c13c76de-596e-45c3-ad3e-588e9a70dc98",
   "metadata": {
    "execution": {
     "iopub.execute_input": "2024-10-18T07:19:09.633996Z",
     "iopub.status.busy": "2024-10-18T07:19:09.633618Z",
     "iopub.status.idle": "2024-10-18T07:19:10.467450Z",
     "shell.execute_reply": "2024-10-18T07:19:10.465948Z",
     "shell.execute_reply.started": "2024-10-18T07:19:09.633967Z"
    }
   },
   "outputs": [],
   "source": [
    "parallel.stitch_run(output_parent, intervals, cleanup=True)"
   ]
  },
  {
   "cell_type": "code",
   "execution_count": null,
   "id": "ca2e1465-5ba8-4e4d-b853-e513395eabaa",
   "metadata": {
    "execution": {
     "iopub.execute_input": "2024-10-18T07:59:01.529483Z",
     "iopub.status.busy": "2024-10-18T07:59:01.528898Z",
     "iopub.status.idle": "2024-10-18T07:59:34.480387Z",
     "shell.execute_reply": "2024-10-18T07:59:34.478427Z",
     "shell.execute_reply.started": "2024-10-18T07:59:01.529428Z"
    },
    "scrolled": true
   },
   "outputs": [],
   "source": [
    "analysis_options = analyze.mcs.AnalysisOptions()\n",
    "analyze.mcs.process_velocities(output_parent)\n",
    "analyze.mcs.quality_control(output_parent, analysis_options)\n",
    "analyze.mcs.classify_all(output_parent)\n",
    "figure_options = visualize.option.horizontal_attribute_options(\n",
    "    \"mcs_velocity_analysis\", style=\"gadi\", attributes=[\"velocity\", \"offset\"]\n",
    ")\n",
    "start_time = np.datetime64(start)\n",
    "end_time = np.datetime64(end)\n",
    "args = [output_parent, start_time, end_time, figure_options]\n",
    "kwargs = {\"parallel_figure\": False, \"dt\": 7200, \"by_date\": False}\n",
    "visualize.attribute.mcs_series(*args, **kwargs)"
   ]
  }
 ],
 "metadata": {
  "kernelspec": {
   "display_name": "THOR",
   "language": "python",
   "name": "python3"
  },
  "language_info": {
   "codemirror_mode": {
    "name": "ipython",
    "version": 3
   },
   "file_extension": ".py",
   "mimetype": "text/x-python",
   "name": "python",
   "nbconvert_exporter": "python",
   "pygments_lexer": "ipython3",
   "version": "3.10.14"
  }
 },
 "nbformat": 4,
 "nbformat_minor": 5
}
