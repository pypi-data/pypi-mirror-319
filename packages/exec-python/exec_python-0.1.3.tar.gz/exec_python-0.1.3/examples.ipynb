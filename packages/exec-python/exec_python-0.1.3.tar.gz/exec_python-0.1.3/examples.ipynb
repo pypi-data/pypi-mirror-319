{
 "cells": [
  {
   "cell_type": "markdown",
   "metadata": {},
   "source": [
    "# exec-python examples\n",
    "\n",
    "There are many ways to use exec-python. Here are some examples:"
   ]
  },
  {
   "cell_type": "code",
   "execution_count": null,
   "metadata": {},
   "outputs": [],
   "source": [
    "from exec_python import execute_python_code\n",
    "\n",
    "def pair_sum(x: list[int], y: list[int]) -> list[int]:\n",
    "    assert isinstance(x, list)\n",
    "    assert isinstance(y, list)\n",
    "    assert len(x) == len(y)\n",
    "    return [x[i] + y[i] for i in range(len(x))]\n",
    "\n",
    "code = \"\"\"\n",
    "x = [1, 2]\n",
    "y = [2, 3]\n",
    "z = pair_sum(x, y)\n",
    "k = pair_sum(z, z)\n",
    "\"\"\"\n",
    "\n",
    "results = execute_python_code(\n",
    "    code = code,\n",
    "    functions=[pair_sum]\n",
    ")\n",
    "print(results)"
   ]
  }
 ],
 "metadata": {
  "language_info": {
   "name": "python"
  }
 },
 "nbformat": 4,
 "nbformat_minor": 2
}
