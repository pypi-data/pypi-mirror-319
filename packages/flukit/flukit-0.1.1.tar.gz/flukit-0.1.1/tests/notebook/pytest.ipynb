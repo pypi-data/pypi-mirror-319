{
 "cells": [
  {
   "cell_type": "code",
   "execution_count": 1,
   "id": "87657926-c321-4eb4-9c64-7b3744e5c3a6",
   "metadata": {},
   "outputs": [],
   "source": [
    "import pytest"
   ]
  },
  {
   "cell_type": "code",
   "execution_count": null,
   "id": "8c261bc0-2c7c-4807-877b-97ca91a242b8",
   "metadata": {},
   "outputs": [],
   "source": []
  }
 ],
 "metadata": {
  "kernelspec": {
   "display_name": "flukit_venv",
   "language": "python",
   "name": "flukit_venv"
  },
  "language_info": {
   "codemirror_mode": {
    "name": "ipython",
    "version": 3
   },
   "file_extension": ".py",
   "mimetype": "text/x-python",
   "name": "python",
   "nbconvert_exporter": "python",
   "pygments_lexer": "ipython3",
   "version": "3.10.14"
  }
 },
 "nbformat": 4,
 "nbformat_minor": 5
}
