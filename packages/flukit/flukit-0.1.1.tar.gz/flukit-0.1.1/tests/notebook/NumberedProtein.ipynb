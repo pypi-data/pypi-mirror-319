{
 "cells": [
  {
   "cell_type": "code",
   "execution_count": 19,
   "id": "b33ace1f-a98e-48ff-ae6f-c7ee6dff8ede",
   "metadata": {},
   "outputs": [],
   "source": [
    "from flukit import NumberedResidue\n",
    "from flukit.utils import ALLOWED_LETTERS\n",
    "import Bio.Seq as bs\n",
    "from typing import Dict, List, Union"
   ]
  },
  {
   "cell_type": "code",
   "execution_count": 83,
   "id": "881e246b-8f57-44a8-8ab6-8ccc43651343",
   "metadata": {},
   "outputs": [
    {
     "data": {
      "text/plain": [
       "['A', 'B']"
      ]
     },
     "execution_count": 83,
     "metadata": {},
     "output_type": "execute_result"
    }
   ],
   "source": [
    "[\"A\", \"B\"]"
   ]
  },
  {
   "cell_type": "code",
   "execution_count": 86,
   "id": "4d48f04c-99c6-4f5a-b94b-c414a126f28e",
   "metadata": {},
   "outputs": [
    {
     "data": {
      "text/plain": [
       "'sdsd'"
      ]
     },
     "execution_count": 86,
     "metadata": {},
     "output_type": "execute_result"
    }
   ],
   "source": [
    "'asdsad'.replace('a', '')"
   ]
  },
  {
   "cell_type": "code",
   "execution_count": 81,
   "id": "6549036f-e098-4952-a183-7b729d2ee093",
   "metadata": {},
   "outputs": [
    {
     "data": {
      "text/plain": [
       "True"
      ]
     },
     "execution_count": 81,
     "metadata": {},
     "output_type": "execute_result"
    }
   ],
   "source": [
    "set('ACSADW').issubset(ALLOWED_LETTERS)"
   ]
  },
  {
   "cell_type": "code",
   "execution_count": 13,
   "id": "4377b94a-b484-48eb-8112-de35a3ef9dfa",
   "metadata": {},
   "outputs": [],
   "source": [
    "class NumberedProtein(bs.MutableSeq):\n",
    "    def __init__(self, *args, **kwargs):\n",
    "        #todo: limit the amino acid letters\n",
    "        super().__init__(*args, **kwargs)"
   ]
  },
  {
   "cell_type": "code",
   "execution_count": 14,
   "id": "194c938f-57d6-46f0-97b1-5dcdd2acfc9d",
   "metadata": {},
   "outputs": [],
   "source": [
    "np = NumberedProtein('ATKC')"
   ]
  },
  {
   "cell_type": "code",
   "execution_count": 15,
   "id": "ae9acac2-924e-46e9-8002-c000180b3459",
   "metadata": {
    "scrolled": true
   },
   "outputs": [
    {
     "data": {
      "text/plain": [
       "['__abstractmethods__',\n",
       " '__add__',\n",
       " '__array_ufunc__',\n",
       " '__bytes__',\n",
       " '__class__',\n",
       " '__contains__',\n",
       " '__delattr__',\n",
       " '__delitem__',\n",
       " '__dict__',\n",
       " '__dir__',\n",
       " '__doc__',\n",
       " '__eq__',\n",
       " '__format__',\n",
       " '__ge__',\n",
       " '__getattribute__',\n",
       " '__getitem__',\n",
       " '__gt__',\n",
       " '__hash__',\n",
       " '__imul__',\n",
       " '__init__',\n",
       " '__init_subclass__',\n",
       " '__iter__',\n",
       " '__le__',\n",
       " '__len__',\n",
       " '__lt__',\n",
       " '__module__',\n",
       " '__mul__',\n",
       " '__ne__',\n",
       " '__new__',\n",
       " '__radd__',\n",
       " '__reduce__',\n",
       " '__reduce_ex__',\n",
       " '__repr__',\n",
       " '__rmul__',\n",
       " '__setattr__',\n",
       " '__setitem__',\n",
       " '__sizeof__',\n",
       " '__slots__',\n",
       " '__str__',\n",
       " '__subclasshook__',\n",
       " '__weakref__',\n",
       " '_abc_impl',\n",
       " '_data',\n",
       " 'append',\n",
       " 'back_transcribe',\n",
       " 'complement',\n",
       " 'complement_rna',\n",
       " 'count',\n",
       " 'count_overlap',\n",
       " 'defined',\n",
       " 'defined_ranges',\n",
       " 'endswith',\n",
       " 'extend',\n",
       " 'find',\n",
       " 'index',\n",
       " 'insert',\n",
       " 'islower',\n",
       " 'isupper',\n",
       " 'join',\n",
       " 'lower',\n",
       " 'lstrip',\n",
       " 'pop',\n",
       " 'remove',\n",
       " 'removeprefix',\n",
       " 'removesuffix',\n",
       " 'replace',\n",
       " 'reverse',\n",
       " 'reverse_complement',\n",
       " 'reverse_complement_rna',\n",
       " 'rfind',\n",
       " 'rindex',\n",
       " 'rsplit',\n",
       " 'rstrip',\n",
       " 'search',\n",
       " 'split',\n",
       " 'startswith',\n",
       " 'strip',\n",
       " 'transcribe',\n",
       " 'translate',\n",
       " 'upper']"
      ]
     },
     "execution_count": 15,
     "metadata": {},
     "output_type": "execute_result"
    }
   ],
   "source": [
    "dir(np)"
   ]
  },
  {
   "cell_type": "code",
   "execution_count": 17,
   "id": "a20e6e5c-c78d-48c4-8a10-29f9c3eebed1",
   "metadata": {},
   "outputs": [
    {
     "ename": "NameError",
     "evalue": "name 'Seq' is not defined",
     "output_type": "error",
     "traceback": [
      "\u001b[0;31m---------------------------------------------------------------------------\u001b[0m",
      "\u001b[0;31mNameError\u001b[0m                                 Traceback (most recent call last)",
      "Cell \u001b[0;32mIn[17], line 1\u001b[0m\n\u001b[0;32m----> 1\u001b[0m \u001b[43mSeq\u001b[49m(\u001b[38;5;124m'\u001b[39m\u001b[38;5;124masdsad\u001b[39m\u001b[38;5;124m'\u001b[39m)\n",
      "\u001b[0;31mNameError\u001b[0m: name 'Seq' is not defined"
     ]
    }
   ],
   "source": [
    "Seq('asdsad')"
   ]
  },
  {
   "cell_type": "code",
   "execution_count": 8,
   "id": "82d72048-aa19-46a2-be78-42c35896330e",
   "metadata": {},
   "outputs": [
    {
     "data": {
      "text/plain": [
       "b'ATKC'"
      ]
     },
     "execution_count": 8,
     "metadata": {},
     "output_type": "execute_result"
    }
   ],
   "source": [
    "np._data"
   ]
  },
  {
   "cell_type": "code",
   "execution_count": null,
   "id": "d54d5e7b-77a3-466d-9cec-97bc5137a69a",
   "metadata": {},
   "outputs": [],
   "source": []
  },
  {
   "cell_type": "code",
   "execution_count": 5,
   "id": "75a9b3d9-9e18-4918-9094-105a7a58716a",
   "metadata": {},
   "outputs": [
    {
     "data": {
      "text/plain": [
       "NumberedProtein('ATKC')"
      ]
     },
     "execution_count": 5,
     "metadata": {},
     "output_type": "execute_result"
    }
   ],
   "source": [
    "np"
   ]
  },
  {
   "cell_type": "code",
   "execution_count": 6,
   "id": "f6c9ec77-1df9-4a6a-b94c-89376cac0227",
   "metadata": {},
   "outputs": [
    {
     "data": {
      "text/plain": [
       "NumberedProtein('ATKC')"
      ]
     },
     "execution_count": 6,
     "metadata": {},
     "output_type": "execute_result"
    }
   ],
   "source": [
    "np"
   ]
  },
  {
   "cell_type": "code",
   "execution_count": 63,
   "id": "2b2ba3d2-84d6-49ff-b11f-8dba43ca7f1b",
   "metadata": {},
   "outputs": [],
   "source": [
    "\n",
    "\n",
    "class NumberedProtein:\n",
    "    def __init__(\n",
    "        self,\n",
    "        sequence: str,\n",
    "        numbering_schemas: Dict[str, List[str]] = None,\n",
    "        default_schema: str = \"orig\",\n",
    "    ) -> None:\n",
    "        self._raw_seq = bs.Seq(sequence)\n",
    "        self._current_seq = bs.MutableSeq(sequence)\n",
    "        self._numbering_schemas = {}\n",
    "        self._mutations = {}  # Dict to store current mutations by position\n",
    "\n",
    "        # Add original numbering schema (1-based indexing)\n",
    "        orig_schema = [str(i + 1) for i in range(len(sequence))]\n",
    "        self._numbering_schemas[\"orig\"] = orig_schema\n",
    "\n",
    "        # Add user-provided schemas\n",
    "        if numbering_schemas:\n",
    "            for schema_name, numbers in numbering_schemas.items():\n",
    "                if len(numbers) != len(sequence):\n",
    "                    raise ValueError(\n",
    "                        f\"Schema {schema_name} length doesn't match sequence length\"\n",
    "                    )\n",
    "                self._numbering_schemas[schema_name] = numbers\n",
    "\n",
    "        self.default_schema = default_schema\n",
    "\n",
    "    @property\n",
    "    def raw_sequence(self) -> str:\n",
    "        return str(self._raw_seq)\n",
    "\n",
    "    @property\n",
    "    def current_sequence(self) -> str:\n",
    "        return str(self._current_seq)\n",
    "\n",
    "    @property\n",
    "    def mutations(self) -> List[str]:\n",
    "        \"\"\"Get the list of mutations in the format 'X#Y' where:\n",
    "        X is the original residue\n",
    "        # is the position in default_schema\n",
    "        Y is the new residue\n",
    "        \n",
    "        Note: Reversion mutations are automatically removed. For example,\n",
    "        if K2P is followed by P2K, both mutations are removed as they cancel out.\n",
    "        \"\"\"\n",
    "        return list(self._mutations.values())\n",
    "\n",
    "    def get_residue(\n",
    "        self, schema: str = \"orig\", position: Union[str, int] = None\n",
    "    ) -> NumberedResidue:\n",
    "        if schema not in self._numbering_schemas:\n",
    "            raise ValueError(f\"Unknown schema: {schema}\")\n",
    "\n",
    "        if schema == \"orig\" and isinstance(position, int):\n",
    "            if position < 1 or position > len(self._current_seq):\n",
    "                raise ValueError(f\"Position {position} out of range\")\n",
    "            idx = position - 1\n",
    "        else:\n",
    "            # Convert position to string for comparison\n",
    "            position = str(position)\n",
    "            try:\n",
    "                idx = self._numbering_schemas[schema].index(position)\n",
    "            except ValueError:\n",
    "                raise ValueError(f\"Position {position} not found in schema {schema}\")\n",
    "\n",
    "        # Create number_dict for the residue\n",
    "        number_dict = {\n",
    "            schema_name: numbers[idx]\n",
    "            for schema_name, numbers in self._numbering_schemas.items()\n",
    "        }\n",
    "\n",
    "        return NumberedResidue(residue=self._current_seq[idx], number_dict=number_dict)\n",
    "\n",
    "    def replace_residue(\n",
    "        self,\n",
    "        schema: str = \"orig\",\n",
    "        position: Union[str, int] = None,\n",
    "        new_residue: str = None,\n",
    "    ) -> None:\n",
    "        if schema not in self._numbering_schemas:\n",
    "            raise ValueError(f\"Unknown schema: {schema}\")\n",
    "\n",
    "        if schema == \"orig\" and isinstance(position, int):\n",
    "            if position < 1 or position > len(self._current_seq):\n",
    "                raise ValueError(f\"Position {position} out of range\")\n",
    "            idx = position - 1\n",
    "        else:\n",
    "            # Convert position to string for comparison\n",
    "            position = str(position)\n",
    "            try:\n",
    "                idx = self._numbering_schemas[schema].index(position)\n",
    "            except ValueError:\n",
    "                raise ValueError(f\"Position {position} not found in schema {schema}\")\n",
    "\n",
    "        # Validate new_residue\n",
    "        if (\n",
    "            not new_residue\n",
    "            or len(new_residue) != 1\n",
    "            or new_residue not in ALLOWED_LETTERS\n",
    "        ):\n",
    "            raise ValueError(\"Invalid residue\")\n",
    "\n",
    "        # Record mutation in default schema format\n",
    "        old_residue = self._current_seq[idx]\n",
    "        default_pos = self._numbering_schemas[self.default_schema][idx]\n",
    "        mutation = f\"{old_residue}{default_pos}{new_residue}\"\n",
    "\n",
    "        # Check if this mutation reverts to the original sequence\n",
    "        orig_residue = self._raw_seq[idx]\n",
    "        if new_residue == orig_residue:\n",
    "            # If reverting to original, remove the mutation record\n",
    "            self._mutations.pop(default_pos, None)\n",
    "        else:\n",
    "            # Otherwise, record the current mutation\n",
    "            self._mutations[default_pos] = mutation\n",
    "\n",
    "        # Apply the mutation\n",
    "        self._current_seq[idx] = new_residue\n",
    "\n",
    "    def __len__(self) -> int:\n",
    "        \"\"\"Return the length of the sequence.\"\"\"\n",
    "        return len(self.current_sequence)\n",
    "\n",
    "    def __str__(self) -> str:\n",
    "        \"\"\"Return the current sequence as a string.\"\"\"\n",
    "        return self.current_sequence\n",
    "\n",
    "    def __repr__(self) -> str:\n",
    "        \"\"\"Return a detailed representation including schemas.\"\"\"\n",
    "        return f\"NumberedProtein(sequence='{self.current_sequence}', schemas={list(self._numbering_schemas.keys())})\"\n"
   ]
  },
  {
   "cell_type": "code",
   "execution_count": 64,
   "id": "eb5d533e-ad75-4bc7-bf09-2d576618f055",
   "metadata": {},
   "outputs": [],
   "source": [
    "np = NumberedProtein('MKTCY', {'H3':['1', '3', '4', '5', '6'], 'H5': ['1', '2', '3', '4', '6']})"
   ]
  },
  {
   "cell_type": "code",
   "execution_count": 47,
   "id": "2ad8e11f-e6a1-44c3-85b0-f21c4f446d09",
   "metadata": {},
   "outputs": [
    {
     "data": {
      "text/plain": [
       "NumberedProtein(sequence='MKTCY', schemas=['orig', 'H3', 'H5'])"
      ]
     },
     "execution_count": 47,
     "metadata": {},
     "output_type": "execute_result"
    }
   ],
   "source": [
    "np"
   ]
  },
  {
   "cell_type": "code",
   "execution_count": 57,
   "id": "9b10bbd5-16ce-4344-b2d4-6397c453702e",
   "metadata": {},
   "outputs": [
    {
     "data": {
      "text/plain": [
       "    |Y|\n",
       "orig|5|\n",
       "H3  |6|\n",
       "H5  |6|"
      ]
     },
     "execution_count": 57,
     "metadata": {},
     "output_type": "execute_result"
    }
   ],
   "source": [
    "np.get_residue('orig', 5)"
   ]
  },
  {
   "cell_type": "code",
   "execution_count": 49,
   "id": "e578c0a4-38d2-46c9-94c7-5a09113e4459",
   "metadata": {},
   "outputs": [
    {
     "data": {
      "text/plain": [
       "    |Y|\n",
       "orig|5|\n",
       "H3  |6|\n",
       "H5  |6|"
      ]
     },
     "execution_count": 49,
     "metadata": {},
     "output_type": "execute_result"
    }
   ],
   "source": [
    "np.get_residue('H5', 6)"
   ]
  },
  {
   "cell_type": "code",
   "execution_count": 65,
   "id": "d9980766-4a6b-4d38-8f30-b488e6952f66",
   "metadata": {},
   "outputs": [],
   "source": [
    "np.replace_residue('H3', '5', 'K')"
   ]
  },
  {
   "cell_type": "code",
   "execution_count": 66,
   "id": "712213dc-c3ce-458b-bc6b-f474262867ff",
   "metadata": {},
   "outputs": [],
   "source": [
    "np.replace_residue('H3', '3', 'C')"
   ]
  },
  {
   "cell_type": "code",
   "execution_count": 68,
   "id": "6cc12481-6344-4fbc-ac1a-ba3c9c69f083",
   "metadata": {},
   "outputs": [
    {
     "data": {
      "text/plain": [
       "['C4K', 'K2C']"
      ]
     },
     "execution_count": 68,
     "metadata": {},
     "output_type": "execute_result"
    }
   ],
   "source": [
    "np.mutations"
   ]
  },
  {
   "cell_type": "code",
   "execution_count": 61,
   "id": "e026c04f-03a5-4652-9bb7-3d063b7f3dd3",
   "metadata": {},
   "outputs": [
    {
     "data": {
      "text/plain": [
       "NumberedProtein(sequence='MKTCY', schemas=['orig', 'H3', 'H5'])"
      ]
     },
     "execution_count": 61,
     "metadata": {},
     "output_type": "execute_result"
    }
   ],
   "source": [
    "np"
   ]
  },
  {
   "cell_type": "code",
   "execution_count": 62,
   "id": "dc51496a-fc82-4392-bf93-e3efd0923ccf",
   "metadata": {},
   "outputs": [
    {
     "data": {
      "text/plain": [
       "NumberedProtein(sequence='MKTCY', schemas=['orig', 'H3', 'H5'])"
      ]
     },
     "execution_count": 62,
     "metadata": {},
     "output_type": "execute_result"
    }
   ],
   "source": [
    "np"
   ]
  }
 ],
 "metadata": {
  "kernelspec": {
   "display_name": "flukit_venv",
   "language": "python",
   "name": "flukit_venv"
  },
  "language_info": {
   "codemirror_mode": {
    "name": "ipython",
    "version": 3
   },
   "file_extension": ".py",
   "mimetype": "text/x-python",
   "name": "python",
   "nbconvert_exporter": "python",
   "pygments_lexer": "ipython3",
   "version": "3.10.14"
  }
 },
 "nbformat": 4,
 "nbformat_minor": 5
}
