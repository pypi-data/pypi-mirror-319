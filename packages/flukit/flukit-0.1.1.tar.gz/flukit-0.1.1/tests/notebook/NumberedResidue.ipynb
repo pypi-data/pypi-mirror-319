{
 "cells": [
  {
   "cell_type": "code",
   "execution_count": 1,
   "id": "e7eca023-0102-40cf-b36b-14b8cb06d681",
   "metadata": {},
   "outputs": [],
   "source": [
    "from flukit import NumberedResidue"
   ]
  },
  {
   "cell_type": "code",
   "execution_count": 4,
   "id": "fd81c73c-3dd4-4eec-b4a6-03824b93398f",
   "metadata": {},
   "outputs": [
    {
     "data": {
      "text/plain": [
       "        |        C         |\n",
       "Caa     |        1         |\n",
       "asdsadsa|123912931203810283|"
      ]
     },
     "execution_count": 4,
     "metadata": {},
     "output_type": "execute_result"
    }
   ],
   "source": [
    "NumberedResidue('C', {'Caa':1, 'asdsadsa':'123912931203810283'})"
   ]
  },
  {
   "cell_type": "code",
   "execution_count": 5,
   "id": "ffe8e46b-b1a6-4647-a5c9-6298b199eef9",
   "metadata": {},
   "outputs": [
    {
     "data": {
      "text/plain": [
       "  |Y |\n",
       "H3|98|"
      ]
     },
     "execution_count": 5,
     "metadata": {},
     "output_type": "execute_result"
    }
   ],
   "source": [
    "NumberedResidue(\"Y\", {\"H3\": \"98\"})"
   ]
  },
  {
   "cell_type": "code",
   "execution_count": 6,
   "id": "c45de075-da86-43d5-b561-0f497580622b",
   "metadata": {},
   "outputs": [
    {
     "data": {
      "text/plain": [
       "  | Y |\n",
       "H3| 98|\n",
       "H1|102|"
      ]
     },
     "execution_count": 6,
     "metadata": {},
     "output_type": "execute_result"
    }
   ],
   "source": [
    "NumberedResidue(\"Y\", {\"H3\": \"98\", \"H1\": \"102\"})"
   ]
  },
  {
   "cell_type": "code",
   "execution_count": null,
   "id": "409bdd64-49d8-4d13-9367-f69d78c59c98",
   "metadata": {},
   "outputs": [],
   "source": []
  }
 ],
 "metadata": {
  "kernelspec": {
   "display_name": "flukit_venv",
   "language": "python",
   "name": "flukit_venv"
  },
  "language_info": {
   "codemirror_mode": {
    "name": "ipython",
    "version": 3
   },
   "file_extension": ".py",
   "mimetype": "text/x-python",
   "name": "python",
   "nbconvert_exporter": "python",
   "pygments_lexer": "ipython3",
   "version": "3.10.14"
  }
 },
 "nbformat": 4,
 "nbformat_minor": 5
}
