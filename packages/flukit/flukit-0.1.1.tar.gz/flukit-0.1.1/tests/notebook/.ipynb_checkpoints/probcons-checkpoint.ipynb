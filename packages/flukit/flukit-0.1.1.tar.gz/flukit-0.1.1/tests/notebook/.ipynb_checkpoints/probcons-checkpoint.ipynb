{
 "cells": [
  {
   "cell_type": "code",
   "execution_count": 29,
   "id": "206411b5-b7ad-4a6e-b8ce-2ca25582a9d0",
   "metadata": {},
   "outputs": [],
   "source": [
    "import Bio\n",
    "from Bio.Align.Applications import ProbconsCommandline\n",
    "import os\n",
    "import tempfile\n",
    "import subprocess\n",
    "from typing import List"
   ]
  },
  {
   "cell_type": "code",
   "execution_count": 17,
   "id": "3c1478d5-cb7c-4ade-b161-d3f1af18c1ed",
   "metadata": {},
   "outputs": [
    {
     "data": {
      "text/plain": [
       "'>2022H3-MA\\nMKAIIA-LSNILCLVFAQKIPGNDNSTATLCLGHHAVPNGTIVKTITNDRIEVTNATELV\\nQNSSIGKICNSP-HQILDGGNCTLIDALLGDPQCDGFQN-KEWDLFVERSR-ANSSCYPY\\nDVPDYASLRSLVASSGTLE---FKNESFNWTGV-KQNGTSSACKRGSSSSFFSRLNWLTS\\nLNNIYPAQNVTMPNKEQFDKLYIWGVHHPDTDKNQFSLFAQSSGRITVSTKRSQQAVIPN\\nIGSRPRVRDIPSRISIYWTIVKPGDILLINSTGNLIAPRGYFKI-RSGKSSIMRSDAPIG\\nKCKSECITPNGSIPNDKPFQNVNRITYGACPRYVKQSTLKLATGMRNVPEKQ----TRGI\\nFGAIAGFIENGWEGMVDGWYGFRHQNSEGRGQAADLKSTQAAIDQISGKLNRLIGKTNEK\\nFHQIEKEFSEVEGRVQDLEKYVEDTKIDLWSYNAELLVALENQHTIDLTDSEMNKLFEKT\\nKKQLRENAEDMGNGCFKIYHKCDNACIGSIRNETYDHNVYRDEALNNRFQIKGVELKSGY\\nKDWILWISF-AMSCFLLCIALLGFIMWACQKGNIRCNICI\\n>1968H3-HK\\nMKTIIA-LSYIFCLALGQDLPGNDNSTATLCLGHHAVPNGTLVKTITDDQIEVTNATELV\\nQSSSTGKICNNP-HRILDGIDCTLIDALLGDPHCDVFQN-ETWDLFVERSK-AFSNCYPY\\nDVPDYASLRSLVASSGTLE---FITEGFTWTGV-TQNGGSNACKRGPGSGFFSRLNWLTK\\nSGSTYPVLNVTMPNNDNFDKLYIWGVHHPSTNQEQTSLYVQASGRVTVSTRRSQQTIIPN\\nIGSRPWVRGMSSRISIYWTIVKPGDVLVINSNGNLIAPRGYFKM-RTGKSSIMRSDAPID\\nTCISECITPNGSIPNDKPFQNVNKITYGACPKYVKQNTLKLATGMRNVPEKQ----TRGL\\nFGAIAGFIENGWEGMIDGWYGFRHQNSEGTGQAADLKSTQAAIDQINGKLNRVIEKTNEK\\nFHQIEKEFSEVEGRIQDLEKYVEDTKIDLWSYNAELLVALENQHTIDLTDSEMNKLFEKT\\nRRQLRENAEDMGNGCFKIYHKCDNACIESIRNGTYDHDVYRDEALNNRFQIKGVELKSGY\\nKDWILWISFAI-SCFLLCVVLLGFIMWACQRGNIRCNICI\\n>2022H1-WI\\nMKAILVVMLYTFTTA----------NADTLCIGYHANNSTDTVDTVLEKNVTVTHSVNLL\\nEDKHNGKLCKLRGVAPLHLGQCNIAGWILGNPECESLSTARSWSYIVETSNSDNGTCYPG\\nDFINYEELREQLSSVSSFERFEIFPKTSSWPNHDSDNGVTAACSHAGARSFYKNLIWLVK\\nKGKSYPKINQTYINDKGKEVLVLWGIHHPPTITDQESLYQNADAYVFVGTSRYSKKFKPE\\nIATRPKVRDQAGRMNYYWTLVEPGDKITFEATGNLVAPRYAFTMEKEAGSGIIISDTPVH\\nDCNATCQTPEGAINTSLPFQNVHPITIGKCPKYVRSTKLRLATGLRNVPSIQ----SRGL\\nFGAIAGFIEGGWTGMVDGWYGYHHQNDQGSGYAADLKSTQNAIDKITNKVNSVIEKMNTQ\\nFTAVGKEFNHLEKRIENLNKKVDDGFLDVWTYNAELLVLLENERTLDYHDSNVKNLYEKV\\nRHQLKNNAKEIGNGCFEFYHKCDNTCMESVKNGTYDYPKYSEEAKLNREKIDGVKLDSTR\\nIYQILAIYSTVASSLVLVVSLGAISFWMCSNGSLQCRICI\\n>2009H1-CA\\nMKAILVVLLYTFATA----------NADTLCIGYHANNSTDTVDTVLEKNVTVTHSVNLL\\nEDKHNGKLCKLRGVAPLHLGKCNIAGWILGNPECESLSTASSWSYIVETPSSDNGTCYPG\\nDFIDYEELREQLSSVSSFERFEIFPKTSSWPNHDSNKGVTAACPHAGAKSFYKNLIWLVK\\nKGNSYPKLSKSYINDKGKEVLVLWGIHHPSTSADQQSLYQNADAYVFVGSSRYSKTFKPE\\nIAIRPKVRDREGRMNYYWTLVEPGDKITFEATGNLVVPRYAFAMERNAGSGIIISDTPVH\\nDCNTTCQTPKGAINTSLPFQNIHPITIGKCPKYVKSTKLRLATGLRNIPSIQ----SRGL\\nFGAIAGFIEGGWTGMVDGWYGYHHQNEQGSGYAADLKSTQNAIDEITNKVNSVIEKMNTQ\\nFTAVGKEFNHLEKRIENLNKKVDDGFLDIWTYNAELLVLLENERTLDYHDSNVKNLYEKV\\nRSQLKNNAKEIGNGCFEFYHKCDNTCMESVKNGTYDYPKYSEEAKLNREEIDGVKLESTR\\nIYQILAIYSTVASSLVLVVSLGAISFWMCSNGSLQCRICI\\n>1918H1-SC\\nMEARLLVLLCAFAAT----------NADTICIGYHANNSTDTVDTVLEKNVTVTHSVNLL\\nEDSHNGKLCKLKGIAPLQLGKCNIAGWLLGNPECDLLLTASSWSYIVETSNSENGTCYPG\\nDFIDYEELREQLSSVSSFEKFEIFPKTSSWPNHETTKGVTAACSYAGASSFYRNLLWLTK\\nKGSSYPKLSKSYVNNKGKEVLVLWGVHHPPTGTDQQSLYQNADAYVSVGSSKYNRRFTPE\\nIAARPKVRDQAGRMNYYWTLLEPGDTITFEATGNLIAPWYAFALNRGSGSGIITSDAPVH\\nDCNTKCQTPHGAINSSLPFQNIHPVTIGECPKYVRSTKLRMATGLRNIPSIQ----SRGL\\nFGAIAGFIEGGWTGMIDGWYGYHHQNEQGSGYAADQKSTQNAIDGITNKVNSVIEKMNTQ\\nFTAVGKEFNNLERRIENLNKKVDDGFLDIWTYNAELLVLLENERTLDFHDSNVRNLYEKV\\nKSQLKNNAKEIGNGCFEFYHKCDDACMESVRNGTYDYPKYSEESKLNREEIDGVKLESMG\\nVYQILAIYSTVASSLVLLVSLGAISFWMCSNGSLQCRICI\\n>2024H5-TX\\nMENIVL-LLAIVSLV----------KSDQICIGYHANNSTEQVDTIMEKNVTVTHAQDIL\\nEKTHNGKLCDLNGVKPLILKDCSVAGWLLGNPMCDEFIRVPEWSYIVERANPANDLCYPG\\nSLNDYEELKHMLSRINHFEKIQIIPK-SSWPNHETSLGVSAACPYQGAPSFFRNVVWLIK\\nKNDAYPTIKISYNNTNREDLLILWGIHHSNNAEEQTNLYKNPITYISVGTSTLNQRLAPK\\nIATRSQVNGQRGRMDFFWTILKPDDAIHFESNGNFIAPEYAYKIVKKGDSTIMKSGVEYG\\nHCNTKCQTPVGAINSSMPFHNIHPLTIGECPKYVKSNKLVLATGLRNSPLREK-RRKRGL\\nFGAIAGFIEGGWQGMVDGWYGYHHSNEQGSGYAADKESTQKAIDGVTNKVNSIIDKMNTQ\\nFEAVGREFNNLERRIENLNKKMEDGFLDVWTYNAELLVLMENERTLDFHDSNVKNLYDKV\\nRLQLRDNAKELGNGCFEFYHKCDNECMESVRNGTYDYPQYSEEARLKREEISGVKLESVG\\nTYQILSIYSTAASSLALAIMMAGLSLWMCSNGSLQCRICI\\n>1997H5-HK\\nMEKIVL-LFAIVSLV----------KSDQICIGYHANNSTEQVDTIMEKNVTVTHAQDIL\\nERTHNGKLCDLNGVKPLILRDCSVAGWLLGNPMCDEFINVPEWSYIVEKASPANDLCYPG\\nNFNDYEELKHLLSRINHFEKIQIIPK-SSWSNHDASSGVSSACPYLGRSSFFRNVVWLIK\\nKNSAYPTIKRSYNNTNQEDLLVLWGIHHPNDAAEQTKLYQNPTTYISVGTSTLNQRLVPE\\nIATRPKVNGQSGRMEFFWTILKPNDAINFESNGNFIAPEYAYKIVKKGDSTIMKSELEYG\\nNCNTKCQTPMGAINSSMPFHNIHPLTIGECPKYVKSNRLVLATGLRNTPQRERRRKKRGL\\nFGAIAGFIEGGWQGMVDGWYGYHHSNEQGSGYAADKESTQKAIDGVTNKVNSIINKMNTQ\\nFEAVGREFNNLERRIENLNKKMEDGFLDVWTYNAELLVLMENERTLDFHDSNVKNLYDKV\\nRLQLRDNAKELGNGCFEFYHKCDNECMESVKNGTYDYPQYSEEARLNREEISGVKLESMG\\nTYQILSIYSTVASSLALAIMVAGLSLWMCSNGSLQCRICI\\n'"
      ]
     },
     "execution_count": 17,
     "metadata": {},
     "output_type": "execute_result"
    }
   ],
   "source": [
    "probcons_cline = ProbconsCommandline(input=\"exp.fa\")\n",
    "\n",
    "stdout, stderr = probcons_cline()\n",
    "stdout"
   ]
  },
  {
   "cell_type": "code",
   "execution_count": null,
   "id": "e1b09023-780f-4338-be40-d3672d08c41c",
   "metadata": {},
   "outputs": [],
   "source": []
  },
  {
   "cell_type": "code",
   "execution_count": 36,
   "id": "39e9c8db-9929-497c-b621-5d4696395b35",
   "metadata": {},
   "outputs": [
    {
     "data": {
      "text/plain": [
       "'>query\\nMK-CPQSFAAHG\\n>ref\\nMKDCPTSFAA--\\n'"
      ]
     },
     "execution_count": 36,
     "metadata": {},
     "output_type": "execute_result"
    }
   ],
   "source": [
    "probcons_cline = ProbconsCommandline(input=\"q1.fa\")\n",
    "\n",
    "stdout, stderr = probcons_cline()\n",
    "stdout"
   ]
  },
  {
   "cell_type": "code",
   "execution_count": 40,
   "id": "cb78a83f-38f7-43d4-b0cf-32a65ae809ee",
   "metadata": {},
   "outputs": [
    {
     "name": "stdout",
     "output_type": "stream",
     "text": [
      "['>query', 'MK-CPQSFAAHG', '>ref', 'MKDCPTSFAA--']\n"
     ]
    },
    {
     "data": {
      "text/plain": [
       "['1', '2', '4', '5', '6', '7', '8', '9', '10', '-', '-']"
      ]
     },
     "execution_count": 40,
     "metadata": {},
     "output_type": "execute_result"
    }
   ],
   "source": [
    "ref_numbering(\"MK-CPQSFAAHG\", \"MKDCPTSFAA--\", probcons_path= \"/home/william/miniforge3/envs/ab/bin/probcons\")"
   ]
  },
  {
   "cell_type": "code",
   "execution_count": 39,
   "id": "e507b1e2-ece6-4777-9e6e-e143a6dc587c",
   "metadata": {},
   "outputs": [],
   "source": [
    "def ref_numbering(query: str, ref: str, probcons_path: str = \"probcons\") -> List[str]:\n",
    "    if not query or not ref:\n",
    "        raise ValueError(\"Query and reference sequences cannot be empty\")\n",
    "\n",
    "    # Remove any existing gaps for clean alignment\n",
    "    query = query.replace(\"-\", \"\")\n",
    "    ref = ref.replace(\"-\", \"\")\n",
    "\n",
    "    # Create temporary fasta file for alignment\n",
    "    with tempfile.NamedTemporaryFile(mode=\"w\", suffix=\".fasta\", delete=False) as f:\n",
    "        f.write(\">query\\n{}\\n>ref\\n{}\\n\".format(query, ref))\n",
    "        temp_path = f.name\n",
    "\n",
    "    try:\n",
    "        # Run probcons alignment\n",
    "        result = subprocess.run(\n",
    "            [probcons_path, temp_path], capture_output=True, text=True, check=True\n",
    "        )\n",
    "        aligned = result.stdout.strip()\n",
    "    finally:\n",
    "        # Clean up temp file\n",
    "        os.unlink(temp_path)\n",
    "\n",
    "    # Parse alignment output\n",
    "    lines = aligned.split(\"\\n\")\n",
    "    if len(lines) < 4:\n",
    "        raise ValueError(\"Invalid alignment output\")\n",
    "\n",
    "    print(lines)\n",
    "    aligned_query = lines[1]  # Skip header line\n",
    "    aligned_ref = lines[3]  # Skip header line\n",
    "\n",
    "    if len(aligned_query) != len(aligned_ref):\n",
    "        raise ValueError(\"Alignment lengths do not match\")\n",
    "\n",
    "    # Generate numbering\n",
    "    ref_pos = 0\n",
    "    numbering = []\n",
    "\n",
    "    for q, r in zip(aligned_query, aligned_ref):\n",
    "        if q == \"-\":\n",
    "            ref_pos += 1\n",
    "            continue  # Skip gaps in query\n",
    "        if r == \"-\":\n",
    "            numbering.append(\"-\")  # Gap in reference\n",
    "        else:\n",
    "            ref_pos += 1\n",
    "            numbering.append(str(ref_pos))\n",
    "\n",
    "    return numbering\n"
   ]
  },
  {
   "cell_type": "code",
   "execution_count": null,
   "id": "555989b7-a128-4679-9aff-52573a131981",
   "metadata": {},
   "outputs": [],
   "source": []
  }
 ],
 "metadata": {
  "kernelspec": {
   "display_name": "Python [conda env:ab]",
   "language": "python",
   "name": "conda-env-ab-py"
  },
  "language_info": {
   "codemirror_mode": {
    "name": "ipython",
    "version": 3
   },
   "file_extension": ".py",
   "mimetype": "text/x-python",
   "name": "python",
   "nbconvert_exporter": "python",
   "pygments_lexer": "ipython3",
   "version": "3.12.3"
  }
 },
 "nbformat": 4,
 "nbformat_minor": 5
}
