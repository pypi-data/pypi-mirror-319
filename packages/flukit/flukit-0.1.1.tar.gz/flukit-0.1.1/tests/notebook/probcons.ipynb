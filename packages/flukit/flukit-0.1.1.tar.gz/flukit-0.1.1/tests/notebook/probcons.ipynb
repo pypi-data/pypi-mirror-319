{
 "cells": [
  {
   "cell_type": "code",
   "execution_count": 8,
   "id": "206411b5-b7ad-4a6e-b8ce-2ca25582a9d0",
   "metadata": {},
   "outputs": [],
   "source": [
    "import Bio\n",
    "import io\n",
    "from Bio.Align.Applications import ProbconsCommandline\n",
    "from Bio import SeqIO\n",
    "import os\n",
    "import tempfile\n",
    "import subprocess\n",
    "from typing import List"
   ]
  },
  {
   "cell_type": "code",
   "execution_count": 9,
   "id": "3c1478d5-cb7c-4ade-b161-d3f1af18c1ed",
   "metadata": {},
   "outputs": [
    {
     "data": {
      "text/plain": [
       "'>2022H3-MA\\nMKAIIA-LSNILCLVFAQKIPGNDNSTATLCLGHHAVPNGTIVKTITNDRIEVTNATELV\\nQNSSIGKICNSP-HQILDGGNCTLIDALLGDPQCDGFQN-KEWDLFVERSR-ANSSCYPY\\nDVPDYASLRSLVASSGTLE---FKNESFNWTGV-KQNGTSSACKRGSSSSFFSRLNWLTS\\nLNNIYPAQNVTMPNKEQFDKLYIWGVHHPDTDKNQFSLFAQSSGRITVSTKRSQQAVIPN\\nIGSRPRVRDIPSRISIYWTIVKPGDILLINSTGNLIAPRGYFKI-RSGKSSIMRSDAPIG\\nKCKSECITPNGSIPNDKPFQNVNRITYGACPRYVKQSTLKLATGMRNVPEKQ----TRGI\\nFGAIAGFIENGWEGMVDGWYGFRHQNSEGRGQAADLKSTQAAIDQISGKLNRLIGKTNEK\\nFHQIEKEFSEVEGRVQDLEKYVEDTKIDLWSYNAELLVALENQHTIDLTDSEMNKLFEKT\\nKKQLRENAEDMGNGCFKIYHKCDNACIGSIRNETYDHNVYRDEALNNRFQIKGVELKSGY\\nKDWILWISF-AMSCFLLCIALLGFIMWACQKGNIRCNICI\\n>1968H3-HK\\nMKTIIA-LSYIFCLALGQDLPGNDNSTATLCLGHHAVPNGTLVKTITDDQIEVTNATELV\\nQSSSTGKICNNP-HRILDGIDCTLIDALLGDPHCDVFQN-ETWDLFVERSK-AFSNCYPY\\nDVPDYASLRSLVASSGTLE---FITEGFTWTGV-TQNGGSNACKRGPGSGFFSRLNWLTK\\nSGSTYPVLNVTMPNNDNFDKLYIWGVHHPSTNQEQTSLYVQASGRVTVSTRRSQQTIIPN\\nIGSRPWVRGMSSRISIYWTIVKPGDVLVINSNGNLIAPRGYFKM-RTGKSSIMRSDAPID\\nTCISECITPNGSIPNDKPFQNVNKITYGACPKYVKQNTLKLATGMRNVPEKQ----TRGL\\nFGAIAGFIENGWEGMIDGWYGFRHQNSEGTGQAADLKSTQAAIDQINGKLNRVIEKTNEK\\nFHQIEKEFSEVEGRIQDLEKYVEDTKIDLWSYNAELLVALENQHTIDLTDSEMNKLFEKT\\nRRQLRENAEDMGNGCFKIYHKCDNACIESIRNGTYDHDVYRDEALNNRFQIKGVELKSGY\\nKDWILWISFAI-SCFLLCVVLLGFIMWACQRGNIRCNICI\\n>2022H1-WI\\nMKAILVVMLYTFTTA----------NADTLCIGYHANNSTDTVDTVLEKNVTVTHSVNLL\\nEDKHNGKLCKLRGVAPLHLGQCNIAGWILGNPECESLSTARSWSYIVETSNSDNGTCYPG\\nDFINYEELREQLSSVSSFERFEIFPKTSSWPNHDSDNGVTAACSHAGARSFYKNLIWLVK\\nKGKSYPKINQTYINDKGKEVLVLWGIHHPPTITDQESLYQNADAYVFVGTSRYSKKFKPE\\nIATRPKVRDQAGRMNYYWTLVEPGDKITFEATGNLVAPRYAFTMEKEAGSGIIISDTPVH\\nDCNATCQTPEGAINTSLPFQNVHPITIGKCPKYVRSTKLRLATGLRNVPSIQ----SRGL\\nFGAIAGFIEGGWTGMVDGWYGYHHQNDQGSGYAADLKSTQNAIDKITNKVNSVIEKMNTQ\\nFTAVGKEFNHLEKRIENLNKKVDDGFLDVWTYNAELLVLLENERTLDYHDSNVKNLYEKV\\nRHQLKNNAKEIGNGCFEFYHKCDNTCMESVKNGTYDYPKYSEEAKLNREKIDGVKLDSTR\\nIYQILAIYSTVASSLVLVVSLGAISFWMCSNGSLQCRICI\\n>2009H1-CA\\nMKAILVVLLYTFATA----------NADTLCIGYHANNSTDTVDTVLEKNVTVTHSVNLL\\nEDKHNGKLCKLRGVAPLHLGKCNIAGWILGNPECESLSTASSWSYIVETPSSDNGTCYPG\\nDFIDYEELREQLSSVSSFERFEIFPKTSSWPNHDSNKGVTAACPHAGAKSFYKNLIWLVK\\nKGNSYPKLSKSYINDKGKEVLVLWGIHHPSTSADQQSLYQNADAYVFVGSSRYSKTFKPE\\nIAIRPKVRDREGRMNYYWTLVEPGDKITFEATGNLVVPRYAFAMERNAGSGIIISDTPVH\\nDCNTTCQTPKGAINTSLPFQNIHPITIGKCPKYVKSTKLRLATGLRNIPSIQ----SRGL\\nFGAIAGFIEGGWTGMVDGWYGYHHQNEQGSGYAADLKSTQNAIDEITNKVNSVIEKMNTQ\\nFTAVGKEFNHLEKRIENLNKKVDDGFLDIWTYNAELLVLLENERTLDYHDSNVKNLYEKV\\nRSQLKNNAKEIGNGCFEFYHKCDNTCMESVKNGTYDYPKYSEEAKLNREEIDGVKLESTR\\nIYQILAIYSTVASSLVLVVSLGAISFWMCSNGSLQCRICI\\n>1918H1-SC\\nMEARLLVLLCAFAAT----------NADTICIGYHANNSTDTVDTVLEKNVTVTHSVNLL\\nEDSHNGKLCKLKGIAPLQLGKCNIAGWLLGNPECDLLLTASSWSYIVETSNSENGTCYPG\\nDFIDYEELREQLSSVSSFEKFEIFPKTSSWPNHETTKGVTAACSYAGASSFYRNLLWLTK\\nKGSSYPKLSKSYVNNKGKEVLVLWGVHHPPTGTDQQSLYQNADAYVSVGSSKYNRRFTPE\\nIAARPKVRDQAGRMNYYWTLLEPGDTITFEATGNLIAPWYAFALNRGSGSGIITSDAPVH\\nDCNTKCQTPHGAINSSLPFQNIHPVTIGECPKYVRSTKLRMATGLRNIPSIQ----SRGL\\nFGAIAGFIEGGWTGMIDGWYGYHHQNEQGSGYAADQKSTQNAIDGITNKVNSVIEKMNTQ\\nFTAVGKEFNNLERRIENLNKKVDDGFLDIWTYNAELLVLLENERTLDFHDSNVRNLYEKV\\nKSQLKNNAKEIGNGCFEFYHKCDDACMESVRNGTYDYPKYSEESKLNREEIDGVKLESMG\\nVYQILAIYSTVASSLVLLVSLGAISFWMCSNGSLQCRICI\\n>2024H5-TX\\nMENIVL-LLAIVSLV----------KSDQICIGYHANNSTEQVDTIMEKNVTVTHAQDIL\\nEKTHNGKLCDLNGVKPLILKDCSVAGWLLGNPMCDEFIRVPEWSYIVERANPANDLCYPG\\nSLNDYEELKHMLSRINHFEKIQIIPK-SSWPNHETSLGVSAACPYQGAPSFFRNVVWLIK\\nKNDAYPTIKISYNNTNREDLLILWGIHHSNNAEEQTNLYKNPITYISVGTSTLNQRLAPK\\nIATRSQVNGQRGRMDFFWTILKPDDAIHFESNGNFIAPEYAYKIVKKGDSTIMKSGVEYG\\nHCNTKCQTPVGAINSSMPFHNIHPLTIGECPKYVKSNKLVLATGLRNSPLREK-RRKRGL\\nFGAIAGFIEGGWQGMVDGWYGYHHSNEQGSGYAADKESTQKAIDGVTNKVNSIIDKMNTQ\\nFEAVGREFNNLERRIENLNKKMEDGFLDVWTYNAELLVLMENERTLDFHDSNVKNLYDKV\\nRLQLRDNAKELGNGCFEFYHKCDNECMESVRNGTYDYPQYSEEARLKREEISGVKLESVG\\nTYQILSIYSTAASSLALAIMMAGLSLWMCSNGSLQCRICI\\n>1997H5-HK\\nMEKIVL-LFAIVSLV----------KSDQICIGYHANNSTEQVDTIMEKNVTVTHAQDIL\\nERTHNGKLCDLNGVKPLILRDCSVAGWLLGNPMCDEFINVPEWSYIVEKASPANDLCYPG\\nNFNDYEELKHLLSRINHFEKIQIIPK-SSWSNHDASSGVSSACPYLGRSSFFRNVVWLIK\\nKNSAYPTIKRSYNNTNQEDLLVLWGIHHPNDAAEQTKLYQNPTTYISVGTSTLNQRLVPE\\nIATRPKVNGQSGRMEFFWTILKPNDAINFESNGNFIAPEYAYKIVKKGDSTIMKSELEYG\\nNCNTKCQTPMGAINSSMPFHNIHPLTIGECPKYVKSNRLVLATGLRNTPQRERRRKKRGL\\nFGAIAGFIEGGWQGMVDGWYGYHHSNEQGSGYAADKESTQKAIDGVTNKVNSIINKMNTQ\\nFEAVGREFNNLERRIENLNKKMEDGFLDVWTYNAELLVLMENERTLDFHDSNVKNLYDKV\\nRLQLRDNAKELGNGCFEFYHKCDNECMESVKNGTYDYPQYSEEARLNREEISGVKLESMG\\nTYQILSIYSTVASSLALAIMVAGLSLWMCSNGSLQCRICI\\n'"
      ]
     },
     "execution_count": 9,
     "metadata": {},
     "output_type": "execute_result"
    }
   ],
   "source": [
    "probcons_cline = ProbconsCommandline(input=\"exp.fa\")\n",
    "\n",
    "stdout, stderr = probcons_cline()\n",
    "stdout"
   ]
  },
  {
   "cell_type": "code",
   "execution_count": 5,
   "id": "f258a238-b977-4efb-9c27-c398cc2f1237",
   "metadata": {},
   "outputs": [],
   "source": [
    "fake_file = io.StringIO(stdout)\n",
    "\n",
    "records = SeqIO.parse(fake_file, \"fasta\")"
   ]
  },
  {
   "cell_type": "code",
   "execution_count": 53,
   "id": "bf4e2e7d-a0fd-49b0-b266-340322d9bf14",
   "metadata": {
    "scrolled": true
   },
   "outputs": [
    {
     "data": {
      "text/plain": [
       "['__abstractmethods__',\n",
       " '__annotations__',\n",
       " '__class__',\n",
       " '__class_getitem__',\n",
       " '__delattr__',\n",
       " '__dict__',\n",
       " '__dir__',\n",
       " '__doc__',\n",
       " '__eq__',\n",
       " '__format__',\n",
       " '__ge__',\n",
       " '__getattribute__',\n",
       " '__getstate__',\n",
       " '__gt__',\n",
       " '__hash__',\n",
       " '__init__',\n",
       " '__init_subclass__',\n",
       " '__iter__',\n",
       " '__le__',\n",
       " '__lt__',\n",
       " '__module__',\n",
       " '__ne__',\n",
       " '__new__',\n",
       " '__next__',\n",
       " '__orig_bases__',\n",
       " '__parameters__',\n",
       " '__reduce__',\n",
       " '__reduce_ex__',\n",
       " '__repr__',\n",
       " '__setattr__',\n",
       " '__sizeof__',\n",
       " '__slots__',\n",
       " '__str__',\n",
       " '__subclasshook__',\n",
       " '__weakref__',\n",
       " '_abc_impl',\n",
       " 'iterate',\n",
       " 'parse',\n",
       " 'records',\n",
       " 'should_close_stream',\n",
       " 'stream']"
      ]
     },
     "execution_count": 53,
     "metadata": {},
     "output_type": "execute_result"
    }
   ],
   "source": [
    "dir(records)"
   ]
  },
  {
   "cell_type": "code",
   "execution_count": null,
   "id": "c730f6dd-740f-44bd-a9ea-9038fa3d2b99",
   "metadata": {},
   "outputs": [],
   "source": []
  },
  {
   "cell_type": "code",
   "execution_count": null,
   "id": "e1b09023-780f-4338-be40-d3672d08c41c",
   "metadata": {},
   "outputs": [],
   "source": []
  },
  {
   "cell_type": "code",
   "execution_count": 11,
   "id": "39e9c8db-9929-497c-b621-5d4696395b35",
   "metadata": {},
   "outputs": [
    {
     "name": "stdout",
     "output_type": "stream",
     "text": [
      ">query\n",
      "MKAILVVMLYTFTTANADTLCIGYHANNSTDTVDTVLEKNVTVTHSVNLLEDKHNGKLCK\n",
      "LRGVAPLHLGQCNIAGWILGNPECESLSTARSWSYIVETSNSDNGTCYPGDFINYEELRE\n",
      "QLSSVSSFERFEIFPKTSSWPNHDSDNGVTAACSHAGARSFYKNLIWLVKKGKSYPKINQ\n",
      "TYINDKGKEVLVLWGIHHPPTITDQESLYQNADAYVFVGTSRYSKKFKPEIATRPKVRDQ\n",
      "AGRMNYYWTLVEPGDKITFEATGNLVAPRYAFTMEKEAGSGIIISDTPVHDCNATCQTPE\n",
      "GAINTSLPFQNVHPITIGKCPKYVRSTKLRLATGLRNVPSIQSRGLFGAIAGFIEGGWTG\n",
      "MVDGWYGYHHQNDQGSGYAADLKSTQNAIDKITNKVNSVIEKMNTQFTAVGKEFNHLEKR\n",
      "IENLNKKVDDGFLDVWTYNAELLVLLENERTLDYHDSNVKNLYEKVRHQLKNNAKEIGNG\n",
      "CFEFYHKCDNTCMESVKNGTYDYPKYSEEAKLNREKIDGVKLDSTRIYQILAIYSTVASS\n",
      "LVLVVSLGAISFWMCSNGSLQCRICI\n",
      ">ref\n",
      "-------QDLPGNDNSTATLCLGHHAVPNGTLVKTITDDQIEVTNATELVQSSSTGKICN\n",
      "NPH-RILDGIDCTLIDALLGDPHCDVFQN-ETWDLFVERSKAF-SNCYPYDVPDYASLRS\n",
      "LVASSGT---LEFITEGFTWTGV-TQNGGSNACKRGPGSGFFSRLNWLTKSGSTYPVLNV\n",
      "TMPNNDNFDKLYIWGIHHPSTNQEQTSLYVQASGRVTVSTRRSQQTIIPNIGSRPWVRGQ\n",
      "SSRISIYWTIVKPGDVLVINSNGNLIAPRGYFKMR-TGKSSIMRSDAPIDTCISECITPN\n",
      "GSIPNDKPFQNVNKITYGACPKYVKQNTLKLATGMRNVPEKQTRGLFGAIAGFIENGWEG\n",
      "MIDGWYGFRHQNSEGTGQAADLKSTQAAIDQINGKLNRVIEKTNEKFHQIEKEFSEVEGR\n",
      "IQDLEKYVEDTKIDLWSYNAELLVALENQHTIDLTDSEMNKLFEKTRRQLRENAEEMGNG\n",
      "CFKIYHKCDNACIESIRNGTYDHDVYRDEALNNRFQIKGVELKSGYKDWILWISFAISCF\n",
      "LLCVVLLGFI-MWACQRGNIRCNICI\n",
      "\n"
     ]
    }
   ],
   "source": [
    "probcons_cline = ProbconsCommandline(input=\"q2.fa\")\n",
    "\n",
    "stdout, stderr = probcons_cline()\n",
    "print(stdout)"
   ]
  },
  {
   "cell_type": "code",
   "execution_count": 41,
   "id": "f688dea4-4484-4bd5-b1c1-1d45994e2a5c",
   "metadata": {},
   "outputs": [
    {
     "ename": "ApplicationError",
     "evalue": "Non-zero return code 1 from 'probcons q2.fa', message 'PROBCONS version 1.12 - align multiple protein sequences and print to standard output'",
     "output_type": "error",
     "traceback": [
      "\u001b[0;31m---------------------------------------------------------------------------\u001b[0m",
      "\u001b[0;31mApplicationError\u001b[0m                          Traceback (most recent call last)",
      "Cell \u001b[0;32mIn[41], line 3\u001b[0m\n\u001b[1;32m      1\u001b[0m probcons_cline \u001b[38;5;241m=\u001b[39m ProbconsCommandline(\u001b[38;5;28minput\u001b[39m\u001b[38;5;241m=\u001b[39m\u001b[38;5;124m\"\u001b[39m\u001b[38;5;124mq2.fa\u001b[39m\u001b[38;5;124m\"\u001b[39m)\n\u001b[0;32m----> 3\u001b[0m stdout, stderr \u001b[38;5;241m=\u001b[39m \u001b[43mprobcons_cline\u001b[49m\u001b[43m(\u001b[49m\u001b[43m)\u001b[49m\n\u001b[1;32m      4\u001b[0m stdout\n",
      "File \u001b[0;32m~/miniforge3/envs/ab/lib/python3.12/site-packages/Bio/Application/__init__.py:591\u001b[0m, in \u001b[0;36mAbstractCommandline.__call__\u001b[0;34m(self, stdin, stdout, stderr, cwd, env)\u001b[0m\n\u001b[1;32m    588\u001b[0m     stderr_arg\u001b[38;5;241m.\u001b[39mclose()\n\u001b[1;32m    590\u001b[0m \u001b[38;5;28;01mif\u001b[39;00m return_code:\n\u001b[0;32m--> 591\u001b[0m     \u001b[38;5;28;01mraise\u001b[39;00m ApplicationError(return_code, \u001b[38;5;28mstr\u001b[39m(\u001b[38;5;28mself\u001b[39m), stdout_str, stderr_str)\n\u001b[1;32m    592\u001b[0m \u001b[38;5;28;01mreturn\u001b[39;00m stdout_str, stderr_str\n",
      "\u001b[0;31mApplicationError\u001b[0m: Non-zero return code 1 from 'probcons q2.fa', message 'PROBCONS version 1.12 - align multiple protein sequences and print to standard output'"
     ]
    }
   ],
   "source": [
    "probcons_cline = ProbconsCommandline(input=\"q2.fa\")\n",
    "\n",
    "stdout, stderr = probcons_cline()\n",
    "stdout"
   ]
  },
  {
   "cell_type": "code",
   "execution_count": 40,
   "id": "cb78a83f-38f7-43d4-b0cf-32a65ae809ee",
   "metadata": {},
   "outputs": [
    {
     "name": "stdout",
     "output_type": "stream",
     "text": [
      "['>query', 'MK-CPQSFAAHG', '>ref', 'MKDCPTSFAA--']\n"
     ]
    },
    {
     "data": {
      "text/plain": [
       "['1', '2', '4', '5', '6', '7', '8', '9', '10', '-', '-']"
      ]
     },
     "execution_count": 40,
     "metadata": {},
     "output_type": "execute_result"
    }
   ],
   "source": [
    "ref_numbering(\"MK-CPQSFAAHG\", \"MKDCPTSFAA--\", probcons_path= \"/home/william/miniforge3/envs/ab/bin/probcons\")"
   ]
  },
  {
   "cell_type": "code",
   "execution_count": 39,
   "id": "e507b1e2-ece6-4777-9e6e-e143a6dc587c",
   "metadata": {},
   "outputs": [],
   "source": [
    "def ref_numbering(query: str, ref: str, probcons_path: str = \"probcons\") -> List[str]:\n",
    "    if not query or not ref:\n",
    "        raise ValueError(\"Query and reference sequences cannot be empty\")\n",
    "\n",
    "    # Remove any existing gaps for clean alignment\n",
    "    query = query.replace(\"-\", \"\")\n",
    "    ref = ref.replace(\"-\", \"\")\n",
    "\n",
    "    # Create temporary fasta file for alignment\n",
    "    with tempfile.NamedTemporaryFile(mode=\"w\", suffix=\".fasta\", delete=False) as f:\n",
    "        f.write(\">query\\n{}\\n>ref\\n{}\\n\".format(query, ref))\n",
    "        temp_path = f.name\n",
    "\n",
    "    try:\n",
    "        # Run probcons alignment\n",
    "        result = subprocess.run(\n",
    "            [probcons_path, temp_path], capture_output=True, text=True, check=True\n",
    "        )\n",
    "        aligned = result.stdout.strip()\n",
    "    finally:\n",
    "        # Clean up temp file\n",
    "        os.unlink(temp_path)\n",
    "\n",
    "    # Parse alignment output\n",
    "    lines = aligned.split(\"\\n\")\n",
    "    if len(lines) < 4:\n",
    "        raise ValueError(\"Invalid alignment output\")\n",
    "\n",
    "    print(lines)\n",
    "    aligned_query = lines[1]  # Skip header line\n",
    "    aligned_ref = lines[3]  # Skip header line\n",
    "\n",
    "    if len(aligned_query) != len(aligned_ref):\n",
    "        raise ValueError(\"Alignment lengths do not match\")\n",
    "\n",
    "    # Generate numbering\n",
    "    ref_pos = 0\n",
    "    numbering = []\n",
    "\n",
    "    for q, r in zip(aligned_query, aligned_ref):\n",
    "        if q == \"-\":\n",
    "            ref_pos += 1\n",
    "            continue  # Skip gaps in query\n",
    "        if r == \"-\":\n",
    "            numbering.append(\"-\")  # Gap in reference\n",
    "        else:\n",
    "            ref_pos += 1\n",
    "            numbering.append(str(ref_pos))\n",
    "\n",
    "    return numbering"
   ]
  },
  {
   "cell_type": "code",
   "execution_count": null,
   "id": "555989b7-a128-4679-9aff-52573a131981",
   "metadata": {},
   "outputs": [],
   "source": []
  }
 ],
 "metadata": {
  "kernelspec": {
   "display_name": "Python [conda env:ab]",
   "language": "python",
   "name": "conda-env-ab-py"
  },
  "language_info": {
   "codemirror_mode": {
    "name": "ipython",
    "version": 3
   },
   "file_extension": ".py",
   "mimetype": "text/x-python",
   "name": "python",
   "nbconvert_exporter": "python",
   "pygments_lexer": "ipython3",
   "version": "3.12.3"
  }
 },
 "nbformat": 4,
 "nbformat_minor": 5
}
