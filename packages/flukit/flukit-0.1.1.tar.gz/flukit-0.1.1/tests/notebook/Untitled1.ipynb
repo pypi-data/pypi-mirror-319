{
 "cells": [
  {
   "cell_type": "code",
   "execution_count": 14,
   "id": "5a8e8b1d-eebe-4e48-a219-1d9e40f8aa72",
   "metadata": {},
   "outputs": [
    {
     "name": "stderr",
     "output_type": "stream",
     "text": [
      "warning log\n",
      "error log\n",
      "critical\n"
     ]
    }
   ],
   "source": [
    "import logging\n",
    "logger = logging.getLogger()\n",
    "logger.debug('debug log')\n",
    "logger.info('info log')\n",
    "logger.warning('warning log')\n",
    "logger.error('error log')\n",
    "logger.critical('critical')"
   ]
  }
 ],
 "metadata": {
  "kernelspec": {
   "display_name": "Python [conda env:c1b40d980dbdb05c29dc5536b67d6956_]",
   "language": "python",
   "name": "conda-env-c1b40d980dbdb05c29dc5536b67d6956_-py"
  },
  "language_info": {
   "codemirror_mode": {
    "name": "ipython",
    "version": 3
   },
   "file_extension": ".py",
   "mimetype": "text/x-python",
   "name": "python",
   "nbconvert_exporter": "python",
   "pygments_lexer": "ipython3",
   "version": "3.8.20"
  }
 },
 "nbformat": 4,
 "nbformat_minor": 5
}
