{
 "cells": [
  {
   "cell_type": "code",
   "execution_count": 307,
   "id": "b1039190-0123-41d5-949f-4b66c4ac310a",
   "metadata": {},
   "outputs": [],
   "source": [
    "import Bio.Seq as bs\n",
    "from Bio.Data import IUPACData\n",
    "\n",
    "ALLOWED_LETTERS = set(IUPACData.protein_letters + \"X-*\")"
   ]
  },
  {
   "cell_type": "code",
   "execution_count": 308,
   "id": "ffb56367-38e1-48b2-9b72-02a388844ef8",
   "metadata": {},
   "outputs": [],
   "source": [
    "aa_seq = bs.Seq(\"ATKC-TTCMK*\")"
   ]
  },
  {
   "cell_type": "code",
   "execution_count": 309,
   "id": "134fc208-e4ec-4f1f-a599-6658648a20ae",
   "metadata": {},
   "outputs": [
    {
     "data": {
      "text/plain": [
       "Seq('ATKC-TTCMK*')"
      ]
     },
     "execution_count": 309,
     "metadata": {},
     "output_type": "execute_result"
    }
   ],
   "source": [
    "aa_seq"
   ]
  },
  {
   "cell_type": "code",
   "execution_count": 310,
   "id": "5ab62ef7-bb9e-4324-bc31-ba467143bf3e",
   "metadata": {},
   "outputs": [
    {
     "ename": "TypeError",
     "evalue": "'Seq' object does not support item assignment",
     "output_type": "error",
     "traceback": [
      "\u001b[0;31m---------------------------------------------------------------------------\u001b[0m",
      "\u001b[0;31mTypeError\u001b[0m                                 Traceback (most recent call last)",
      "Cell \u001b[0;32mIn[310], line 1\u001b[0m\n\u001b[0;32m----> 1\u001b[0m \u001b[43maa_seq\u001b[49m\u001b[43m[\u001b[49m\u001b[38;5;241;43m2\u001b[39;49m\u001b[43m]\u001b[49m \u001b[38;5;241m=\u001b[39m \u001b[38;5;124m'\u001b[39m\u001b[38;5;124mc\u001b[39m\u001b[38;5;124m'\u001b[39m\n",
      "\u001b[0;31mTypeError\u001b[0m: 'Seq' object does not support item assignment"
     ]
    }
   ],
   "source": [
    "aa_seq[2] = 'c'"
   ]
  },
  {
   "cell_type": "code",
   "execution_count": 311,
   "id": "db180900-23f2-446c-9f4c-5b21a8fb0b1b",
   "metadata": {},
   "outputs": [],
   "source": [
    "m_seq = bs.MutableSeq(aa_seq)"
   ]
  },
  {
   "cell_type": "code",
   "execution_count": 312,
   "id": "d5c44c75-f32a-4d3f-a57a-fece2fe5681d",
   "metadata": {},
   "outputs": [],
   "source": [
    "m_seq[2] = 'C'"
   ]
  },
  {
   "cell_type": "code",
   "execution_count": 313,
   "id": "6f3e270e-203d-4e3a-bbfa-91fadebb2678",
   "metadata": {},
   "outputs": [
    {
     "data": {
      "text/plain": [
       "MutableSeq('ATCC-TTCMK*')"
      ]
     },
     "execution_count": 313,
     "metadata": {},
     "output_type": "execute_result"
    }
   ],
   "source": [
    "m_seq"
   ]
  },
  {
   "cell_type": "code",
   "execution_count": 314,
   "id": "ec76b198-e9bf-4675-ba30-642ab76475fd",
   "metadata": {},
   "outputs": [
    {
     "data": {
      "text/plain": [
       "Seq('ATCC-TTCMK*')"
      ]
     },
     "execution_count": 314,
     "metadata": {},
     "output_type": "execute_result"
    }
   ],
   "source": [
    "bs.Seq(m_seq)"
   ]
  },
  {
   "cell_type": "markdown",
   "id": "5df13021-4a7e-429d-8d44-b1f47a5359a9",
   "metadata": {},
   "source": [
    "# NumberedProtein Class"
   ]
  },
  {
   "cell_type": "code",
   "execution_count": 41,
   "id": "9568a7d5-786b-4159-bbaf-0900e8e6e7a1",
   "metadata": {},
   "outputs": [],
   "source": [
    "class NumberedProtein(bs.Seq):\n",
    "    def __init__(self, *args, **kwargs):\n",
    "        #todo: limit the amino acid letters\n",
    "        super().__init__(*args, **kwargs)"
   ]
  },
  {
   "cell_type": "code",
   "execution_count": 42,
   "id": "3fd7c320-52b1-42ba-bad3-b532f2bad476",
   "metadata": {},
   "outputs": [],
   "source": [
    "ns = NumberedProtein('ATKC')"
   ]
  },
  {
   "cell_type": "code",
   "execution_count": 44,
   "id": "74c5b7ff-c516-4efc-a5fd-5ba7595c54ba",
   "metadata": {},
   "outputs": [
    {
     "data": {
      "text/plain": [
       "NumberedProtein('ATKC')"
      ]
     },
     "execution_count": 44,
     "metadata": {},
     "output_type": "execute_result"
    }
   ],
   "source": [
    "ns"
   ]
  }
 ],
 "metadata": {
  "kernelspec": {
   "display_name": "Python [conda env:ab]",
   "language": "python",
   "name": "conda-env-ab-py"
  },
  "language_info": {
   "codemirror_mode": {
    "name": "ipython",
    "version": 3
   },
   "file_extension": ".py",
   "mimetype": "text/x-python",
   "name": "python",
   "nbconvert_exporter": "python",
   "pygments_lexer": "ipython3",
   "version": "3.12.3"
  }
 },
 "nbformat": 4,
 "nbformat_minor": 5
}
