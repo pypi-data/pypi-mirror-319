{
 "cells": [
  {
   "cell_type": "code",
   "execution_count": 1,
   "id": "0bbf1a2a-5bfb-4bb4-a42b-2340cb7b4429",
   "metadata": {},
   "outputs": [],
   "source": [
    "import flukit as fk\n",
    "import pandas as pd"
   ]
  },
  {
   "cell_type": "code",
   "execution_count": 2,
   "id": "1a737f89-e305-4f0d-b1cd-f30599f931e2",
   "metadata": {},
   "outputs": [],
   "source": [
    "from flukit.align import ref_numbering\n",
    "from Bio.Data import IUPACData\n",
    "from flukit.utils import NumberedResidue, NumberedProtein\n",
    "from flukit.refseq import H3ref, H1ref, H5ref"
   ]
  },
  {
   "cell_type": "code",
   "execution_count": 4,
   "id": "9fb80503-2058-4346-84dd-70991b818141",
   "metadata": {},
   "outputs": [],
   "source": [
    "fk.log()"
   ]
  },
  {
   "cell_type": "code",
   "execution_count": 5,
   "id": "2f170dd3-dbdd-4106-98ff-ab1c41497610",
   "metadata": {
    "scrolled": true
   },
   "outputs": [
    {
     "name": "stderr",
     "output_type": "stream",
     "text": [
      "2025-01-09 14:58:04,973 - flukit.align - INFO - \n",
      "PROBCONS version 1.12 - align multiple protein sequences and print to standard output\n",
      "Written by Chuong Do\n",
      "\n",
      "Using parameter set:\n",
      "    initDistrib[] = { 0.6814756989 8.615339902e-05 8.615339902e-05 0.1591759622 0.1591759622 }\n",
      "        gapOpen[] = { 0.0119511066 0.0119511066 0.008008334786 0.008008334786 }\n",
      "      gapExtend[] = { 0.3965826333 0.3965826333 0.8988758326 0.8988758326 }\n",
      "\n",
      "Loading sequence file: /tmp/tmp_8xf1uo6.fasta\n",
      "Alignment tree: (query ref)\n",
      "\n",
      "\n",
      "\n",
      "2025-01-09 14:58:05,092 - flukit.align - INFO - \n",
      "PROBCONS version 1.12 - align multiple protein sequences and print to standard output\n",
      "Written by Chuong Do\n",
      "\n",
      "Using parameter set:\n",
      "    initDistrib[] = { 0.6814756989 8.615339902e-05 8.615339902e-05 0.1591759622 0.1591759622 }\n",
      "        gapOpen[] = { 0.0119511066 0.0119511066 0.008008334786 0.008008334786 }\n",
      "      gapExtend[] = { 0.3965826333 0.3965826333 0.8988758326 0.8988758326 }\n",
      "\n",
      "Loading sequence file: /tmp/tmpb_xnd8sx.fasta\n",
      "Alignment tree: (query ref)\n",
      "\n",
      "\n",
      "\n",
      "2025-01-09 14:58:05,211 - flukit.align - INFO - \n",
      "PROBCONS version 1.12 - align multiple protein sequences and print to standard output\n",
      "Written by Chuong Do\n",
      "\n",
      "Using parameter set:\n",
      "    initDistrib[] = { 0.6814756989 8.615339902e-05 8.615339902e-05 0.1591759622 0.1591759622 }\n",
      "        gapOpen[] = { 0.0119511066 0.0119511066 0.008008334786 0.008008334786 }\n",
      "      gapExtend[] = { 0.3965826333 0.3965826333 0.8988758326 0.8988758326 }\n",
      "\n",
      "Loading sequence file: /tmp/tmpx62u0_91.fasta\n",
      "Alignment tree: (query ref)\n",
      "\n",
      "\n",
      "\n"
     ]
    }
   ],
   "source": [
    "ma_seq = \"MENIVLLLAIVSLVKSDQICIGYHANNSTEQVDTIMEKNVTVTHAQDILEKTHNGKLCDLNGVKPLILKDCSVAGWLLGNPMCDEFIRVPEWSYIVERANPANDLCYPGSLNDYEELKHMLSRINHFEKIQIIPKSSWPNHETSLGVSAACPYQGAPSFFRNVVWLIKKNDAYPTIKISYNNTNREDLLILWGIHHSNNAEEQTNLYKNPITYISVGTSTLNQRLAPKIATRSQVNGQRGRMDFFWTILKPDDAIHFESNGNFIAPEYAYKIVKKGDSTIMKSGVEYGHCNTKCQTPVGAINSSMPFHNIHPLTIGECPKYVKSNKLVLATGLRNSPLREKRRKRGLFGAIAGFIEGGWQGMVDGWYGYHHSNEQGSGYAADKESTQKAIDGVTNKVNSIIDKMNTQFEAVGREFNNLERRIENLNKKMEDGFLDVWTYNAELLVLMENERTLDFHDSNVKNLYDKVRLQLRDNAKELGNGCFEFYHKCDNECMESVRNGTYDYPQYSEEARLKREEISGVKLESVGTYQILSIYSTAASSLALAIMMAGLSLWMCSNGSLQCRICI\"\n",
    "nump = NumberedProtein(ma_seq, {\"H3\": ref_numbering(query=ma_seq, ref=H3ref, probcons_path=\"/home/william/miniforge3/envs/ab/bin/probcons\"), \n",
    "                                \"H1\": ref_numbering(query=ma_seq, ref=H1ref, probcons_path=\"/home/william/miniforge3/envs/ab/bin/probcons\"),\n",
    "                                \"H5\": ref_numbering(query=ma_seq, ref=H5ref, probcons_path=\"/home/william/miniforge3/envs/ab/bin/probcons\")\n",
    "                               }, \n",
    "                       default_schema=\"H3\")"
   ]
  },
  {
   "cell_type": "code",
   "execution_count": 4,
   "id": "0a1b4c81-64b8-4499-b52c-d393335086fa",
   "metadata": {},
   "outputs": [
    {
     "data": {
      "text/plain": [
       "NumberedProtein(sequence='MENIVLLLAIVSLVKSDQICIGYHANNSTEQVDTIMEKNVTVTHAQDILEKTHNGKLCDLNGVKPLILKDCSVAGWLLGNPMCDEFIRVPEWSYIVERANPANDLCYPGSLNDYEELKHMLSRINHFEKIQIIPKSSWPNHETSLGVSAACPYQGAPSFFRNVVWLIKKNDAYPTIKISYNNTNREDLLILWGIHHSNNAEEQTNLYKNPITYISVGTSTLNQRLAPKIATRSQVNGQRGRMDFFWTILKPDDAIHFESNGNFIAPEYAYKIVKKGDSTIMKSGVEYGHCNTKCQTPVGAINSSMPFHNIHPLTIGECPKYVKSNKLVLATGLRNSPLREKRRKRGLFGAIAGFIEGGWQGMVDGWYGYHHSNEQGSGYAADKESTQKAIDGVTNKVNSIIDKMNTQFEAVGREFNNLERRIENLNKKMEDGFLDVWTYNAELLVLMENERTLDFHDSNVKNLYDKVRLQLRDNAKELGNGCFEFYHKCDNECMESVRNGTYDYPQYSEEARLKREEISGVKLESVGTYQILSIYSTAASSLALAIMMAGLSLWMCSNGSLQCRICI', schemas=['orig', 'H3', 'H1', 'H5'])"
      ]
     },
     "execution_count": 4,
     "metadata": {},
     "output_type": "execute_result"
    }
   ],
   "source": [
    "nump"
   ]
  },
  {
   "cell_type": "code",
   "execution_count": 5,
   "id": "1eadc3d2-0a48-42b6-94a4-4a981a06989f",
   "metadata": {},
   "outputs": [
    {
     "data": {
      "text/plain": [
       "    | Y |\n",
       "orig|107|\n",
       "H3  | 98|\n",
       "H1  | 91|\n",
       "H5  | 91|"
      ]
     },
     "execution_count": 5,
     "metadata": {},
     "output_type": "execute_result"
    }
   ],
   "source": [
    "nump.get_residue('H3', 98)"
   ]
  },
  {
   "cell_type": "code",
   "execution_count": null,
   "id": "a7fb1b2b-dbba-49c1-9f7b-9a63d07de7da",
   "metadata": {},
   "outputs": [],
   "source": []
  },
  {
   "cell_type": "code",
   "execution_count": 6,
   "id": "25ff59db-7e86-41ae-a3a1-6517f71c29fd",
   "metadata": {},
   "outputs": [],
   "source": [
    "nump.replace_residue(\"H3\", 329, \"A\")\n",
    "nump.replace_residue(\"H3\", 330, \"A\")\n",
    "nump.replace_residue(\"H3\", 355, \"W\")\n",
    "nump.replace_residue(\"H3\", 380, \"I\")\n",
    "nump.replace_residue(\"H3\", 432, \"I\")\n",
    "\n",
    "assert nump.mutations == [\"R329A\", \"G330A\", \"H355W\", \"K380I\", \"E432I\"]"
   ]
  },
  {
   "cell_type": "code",
   "execution_count": 7,
   "id": "76ab1863-a80f-42c8-86e3-b10d209ab1d0",
   "metadata": {},
   "outputs": [
    {
     "data": {
      "text/plain": [
       "['R329A', 'G330A', 'H355W', 'K380I', 'E432I']"
      ]
     },
     "execution_count": 7,
     "metadata": {},
     "output_type": "execute_result"
    }
   ],
   "source": [
    "nump.mutations"
   ]
  },
  {
   "cell_type": "code",
   "execution_count": 8,
   "id": "fa822fe3-c5de-4205-9348-dc8e1cde736a",
   "metadata": {},
   "outputs": [
    {
     "data": {
      "text/plain": [
       "    |L|\n",
       "orig|8|\n",
       "H3  |-|\n",
       "H1  |-|\n",
       "H5  |-|"
      ]
     },
     "execution_count": 8,
     "metadata": {},
     "output_type": "execute_result"
    }
   ],
   "source": [
    "nump.get_residue('orig', 8)"
   ]
  },
  {
   "cell_type": "code",
   "execution_count": 9,
   "id": "4a1fb7db-2d2c-471e-88fd-82dc225275df",
   "metadata": {},
   "outputs": [
    {
     "data": {
      "text/plain": [
       "'DQICIGYHANNSTEQVDTIMEKNVTVTHAQDILEKTHNGKLCDLNGVKPLILKDCSVAGWLLGNPMCDEFIRVPEWSYIVERANPANDLCYPGSLNDYEELKHMLSRINHFEKIQIIPKSSWPNHETSLGVSAACPYQGAPSFFRNVVWLIKKNDAYPTIKISYNNTNREDLLILWGIHHSNNAEEQTNLYKNPITYISVGTSTLNQRLAPKIATRSQVNGQRGRMDFFWTILKPDDAIHFESNGNFIAPEYAYKIVKKGDSTIMKSGVEYGHCNTKCQTPVGAINSSMPFHNIHPLTIGECPKYVKSNKLVLATGLRNSPLREKRRKAALFGAIAGFIEGGWQGMVDGWYGYHWSNEQGSGYAADKESTQKAIDGVTNIVNSIIDKMNTQFEAVGREFNNLERRIENLNKKMEDGFLDVWTYNAELLVLMINERTLDFHDSNVKNLYDKVRLQLRDNAKELGNGCFEFYHKCDNECMESVRNGTYDYPQYSEEARLKREEISGV'"
      ]
     },
     "execution_count": 9,
     "metadata": {},
     "output_type": "execute_result"
    }
   ],
   "source": [
    "nump.slice(11, 505, schema=\"H3\").seq"
   ]
  },
  {
   "cell_type": "code",
   "execution_count": null,
   "id": "add39e2e-1f84-437d-809d-9a7b90a11514",
   "metadata": {},
   "outputs": [],
   "source": []
  },
  {
   "cell_type": "code",
   "execution_count": 14,
   "id": "bb9543d6-79c8-4ee7-8551-7cbeabf45daf",
   "metadata": {},
   "outputs": [
    {
     "data": {
      "text/plain": [
       "'DQICIGYHANNSTEQVDTIMEKNVTVTHAQDILEKTHNGKLCDLNGVKPLILKDCSVAGWLLGNPMCDEFIRVPEWSYIVERANPANDLCYPGSLNDYEELKHMLSRINHFEKIQIIPKSSWPNHETSLGVSAACPYQGAPSFFRNVVWLIKKNDAYPTIKISYNNTNREDLLILWGIHHSNNAEEQTNLYKNPITYISVGTSTLNQRLAPKIATRSQVNGQRGRMDFFWTILKPDDAIHFESNGNFIAPEYAYKIVKKGDSTIMKSGVEYGHCNTKCQTPVGAINSSMPFHNIHPLTIGECPKYVKSNKLVLATGLRNSPLREKRRKAALFGAIAGFIEGGWQGMVDGWYGYHWSNEQGSGYAADKESTQKAIDGVTNIVNSIIDKMNTQFEAVGREFNNLERRIENLNKKMEDGFLDVWTYNAELLVLMINERTLDFHDSNVKNLYDKVRLQLRDNAKELGNGCFEFYHKCDNECMESVRNGTYDYPQYSEEARLKREEISGV'"
      ]
     },
     "execution_count": 14,
     "metadata": {},
     "output_type": "execute_result"
    }
   ],
   "source": [
    "nump.slice(11, 505, schema=\"H3\").raw_seq"
   ]
  },
  {
   "cell_type": "code",
   "execution_count": null,
   "id": "99775d31-f9e6-43fc-8bdd-e9fb866402a6",
   "metadata": {},
   "outputs": [],
   "source": []
  },
  {
   "cell_type": "code",
   "execution_count": null,
   "id": "fa4750bd-a132-47de-854d-08ba0f878f9a",
   "metadata": {},
   "outputs": [],
   "source": []
  },
  {
   "cell_type": "code",
   "execution_count": 10,
   "id": "9ac0901b-d646-4bf3-8226-c71851b88081",
   "metadata": {
    "scrolled": true
   },
   "outputs": [],
   "source": [
    "df = pd.DataFrame(nump._numbering_schemas).T"
   ]
  },
  {
   "cell_type": "code",
   "execution_count": 11,
   "id": "37729489-e9d1-4816-ada0-bbb1b7c4664b",
   "metadata": {},
   "outputs": [],
   "source": [
    "df.columns = list(nump.seq)"
   ]
  },
  {
   "cell_type": "code",
   "execution_count": 12,
   "id": "2e6df1c9-a2b9-41d2-a85d-b2c37d018d92",
   "metadata": {},
   "outputs": [],
   "source": [
    "df.to_csv('t.csv')"
   ]
  },
  {
   "cell_type": "code",
   "execution_count": null,
   "id": "c0291a53-5cb4-4e22-86bd-5156cdd35add",
   "metadata": {},
   "outputs": [],
   "source": []
  },
  {
   "cell_type": "code",
   "execution_count": null,
   "id": "13f94009-ff4c-45c6-a68b-b765b027a770",
   "metadata": {},
   "outputs": [],
   "source": []
  }
 ],
 "metadata": {
  "kernelspec": {
   "display_name": "flukit_venv",
   "language": "python",
   "name": "flukit_venv"
  },
  "language_info": {
   "codemirror_mode": {
    "name": "ipython",
    "version": 3
   },
   "file_extension": ".py",
   "mimetype": "text/x-python",
   "name": "python",
   "nbconvert_exporter": "python",
   "pygments_lexer": "ipython3",
   "version": "3.10.14"
  }
 },
 "nbformat": 4,
 "nbformat_minor": 5
}
